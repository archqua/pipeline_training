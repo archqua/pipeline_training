{
  "nbformat": 4,
  "nbformat_minor": 0,
  "metadata": {
    "colab": {
      "provenance": [],
      "authorship_tag": "ABX9TyOIy2Qfs7S7PQaqHUJ7Ckmj",
      "include_colab_link": true
    },
    "kernelspec": {
      "name": "python3",
      "display_name": "Python 3"
    },
    "language_info": {
      "name": "python"
    },
    "widgets": {
      "application/vnd.jupyter.widget-state+json": {
        "e8c5022a74a4493da890129494803dfb": {
          "model_module": "@jupyter-widgets/controls",
          "model_name": "HTMLMathModel",
          "model_module_version": "1.5.0",
          "state": {
            "_dom_classes": [],
            "_model_module": "@jupyter-widgets/controls",
            "_model_module_version": "1.5.0",
            "_model_name": "HTMLMathModel",
            "_view_count": null,
            "_view_module": "@jupyter-widgets/controls",
            "_view_module_version": "1.5.0",
            "_view_name": "HTMLMathView",
            "description": "Validation --",
            "description_tooltip": null,
            "layout": "IPY_MODEL_c5231f8b2ca84ed58342f00e307d8b90",
            "placeholder": "HTMLM",
            "style": "IPY_MODEL_297b2900038f4118bffd62684ea8273b",
            "value": "\tlogit_accuracy: 0.0998;\tfactor_accuracy: 0.4917;"
          }
        },
        "c5231f8b2ca84ed58342f00e307d8b90": {
          "model_module": "@jupyter-widgets/base",
          "model_name": "LayoutModel",
          "model_module_version": "1.2.0",
          "state": {
            "_model_module": "@jupyter-widgets/base",
            "_model_module_version": "1.2.0",
            "_model_name": "LayoutModel",
            "_view_count": null,
            "_view_module": "@jupyter-widgets/base",
            "_view_module_version": "1.2.0",
            "_view_name": "LayoutView",
            "align_content": null,
            "align_items": null,
            "align_self": null,
            "border": null,
            "bottom": null,
            "display": null,
            "flex": null,
            "flex_flow": null,
            "grid_area": null,
            "grid_auto_columns": null,
            "grid_auto_flow": null,
            "grid_auto_rows": null,
            "grid_column": null,
            "grid_gap": null,
            "grid_row": null,
            "grid_template_areas": null,
            "grid_template_columns": null,
            "grid_template_rows": null,
            "height": null,
            "justify_content": null,
            "justify_items": null,
            "left": null,
            "margin": null,
            "max_height": null,
            "max_width": null,
            "min_height": null,
            "min_width": null,
            "object_fit": null,
            "object_position": null,
            "order": null,
            "overflow": null,
            "overflow_x": null,
            "overflow_y": null,
            "padding": null,
            "right": null,
            "top": null,
            "visibility": null,
            "width": "67%"
          }
        },
        "297b2900038f4118bffd62684ea8273b": {
          "model_module": "@jupyter-widgets/controls",
          "model_name": "DescriptionStyleModel",
          "model_module_version": "1.5.0",
          "state": {
            "_model_module": "@jupyter-widgets/controls",
            "_model_module_version": "1.5.0",
            "_model_name": "DescriptionStyleModel",
            "_view_count": null,
            "_view_module": "@jupyter-widgets/base",
            "_view_module_version": "1.2.0",
            "_view_name": "StyleView",
            "description_width": "23%"
          }
        },
        "57262c0456a9430289a4adeff7849437": {
          "model_module": "@jupyter-widgets/controls",
          "model_name": "IntProgressModel",
          "model_module_version": "1.5.0",
          "state": {
            "_dom_classes": [],
            "_model_module": "@jupyter-widgets/controls",
            "_model_module_version": "1.5.0",
            "_model_name": "IntProgressModel",
            "_view_count": null,
            "_view_module": "@jupyter-widgets/controls",
            "_view_module_version": "1.5.0",
            "_view_name": "ProgressView",
            "bar_style": "",
            "description": "Batch 469/469, 27.8s passed",
            "description_tooltip": null,
            "layout": "IPY_MODEL_35cd1bf69a8642cfb173c8d3c1e477c2",
            "max": 469,
            "min": 0,
            "orientation": "horizontal",
            "style": "IPY_MODEL_a9c33cb938744706b731bec695d5bc30",
            "value": 469
          }
        },
        "35cd1bf69a8642cfb173c8d3c1e477c2": {
          "model_module": "@jupyter-widgets/base",
          "model_name": "LayoutModel",
          "model_module_version": "1.2.0",
          "state": {
            "_model_module": "@jupyter-widgets/base",
            "_model_module_version": "1.2.0",
            "_model_name": "LayoutModel",
            "_view_count": null,
            "_view_module": "@jupyter-widgets/base",
            "_view_module_version": "1.2.0",
            "_view_name": "LayoutView",
            "align_content": null,
            "align_items": null,
            "align_self": null,
            "border": null,
            "bottom": null,
            "display": null,
            "flex": null,
            "flex_flow": null,
            "grid_area": null,
            "grid_auto_columns": null,
            "grid_auto_flow": null,
            "grid_auto_rows": null,
            "grid_column": null,
            "grid_gap": null,
            "grid_row": null,
            "grid_template_areas": null,
            "grid_template_columns": null,
            "grid_template_rows": null,
            "height": null,
            "justify_content": null,
            "justify_items": null,
            "left": null,
            "margin": null,
            "max_height": null,
            "max_width": null,
            "min_height": null,
            "min_width": null,
            "object_fit": null,
            "object_position": null,
            "order": null,
            "overflow": null,
            "overflow_x": null,
            "overflow_y": null,
            "padding": null,
            "right": null,
            "top": null,
            "visibility": null,
            "width": "67%"
          }
        },
        "a9c33cb938744706b731bec695d5bc30": {
          "model_module": "@jupyter-widgets/controls",
          "model_name": "ProgressStyleModel",
          "model_module_version": "1.5.0",
          "state": {
            "_model_module": "@jupyter-widgets/controls",
            "_model_module_version": "1.5.0",
            "_model_name": "ProgressStyleModel",
            "_view_count": null,
            "_view_module": "@jupyter-widgets/base",
            "_view_module_version": "1.2.0",
            "_view_name": "StyleView",
            "bar_color": null,
            "description_width": "23%"
          }
        },
        "6e29bbd2d98c47989c56280ae4b04b63": {
          "model_module": "@jupyter-widgets/controls",
          "model_name": "HTMLMathModel",
          "model_module_version": "1.5.0",
          "state": {
            "_dom_classes": [],
            "_model_module": "@jupyter-widgets/controls",
            "_model_module_version": "1.5.0",
            "_model_name": "HTMLMathModel",
            "_view_count": null,
            "_view_module": "@jupyter-widgets/controls",
            "_view_module_version": "1.5.0",
            "_view_name": "HTMLMathView",
            "description": "Validation --",
            "description_tooltip": null,
            "layout": "IPY_MODEL_ad8fc234140c4b42bab1de5b8ddcaa82",
            "placeholder": "HTMLM",
            "style": "IPY_MODEL_ae1c1b24958c4287aeb3540d9d7ed7c8",
            "value": "\tlogit_accuracy: 0.1002;\tfactor_accuracy: 0.4919;"
          }
        },
        "ad8fc234140c4b42bab1de5b8ddcaa82": {
          "model_module": "@jupyter-widgets/base",
          "model_name": "LayoutModel",
          "model_module_version": "1.2.0",
          "state": {
            "_model_module": "@jupyter-widgets/base",
            "_model_module_version": "1.2.0",
            "_model_name": "LayoutModel",
            "_view_count": null,
            "_view_module": "@jupyter-widgets/base",
            "_view_module_version": "1.2.0",
            "_view_name": "LayoutView",
            "align_content": null,
            "align_items": null,
            "align_self": null,
            "border": null,
            "bottom": null,
            "display": null,
            "flex": null,
            "flex_flow": null,
            "grid_area": null,
            "grid_auto_columns": null,
            "grid_auto_flow": null,
            "grid_auto_rows": null,
            "grid_column": null,
            "grid_gap": null,
            "grid_row": null,
            "grid_template_areas": null,
            "grid_template_columns": null,
            "grid_template_rows": null,
            "height": null,
            "justify_content": null,
            "justify_items": null,
            "left": null,
            "margin": null,
            "max_height": null,
            "max_width": null,
            "min_height": null,
            "min_width": null,
            "object_fit": null,
            "object_position": null,
            "order": null,
            "overflow": null,
            "overflow_x": null,
            "overflow_y": null,
            "padding": null,
            "right": null,
            "top": null,
            "visibility": null,
            "width": "67%"
          }
        },
        "ae1c1b24958c4287aeb3540d9d7ed7c8": {
          "model_module": "@jupyter-widgets/controls",
          "model_name": "DescriptionStyleModel",
          "model_module_version": "1.5.0",
          "state": {
            "_model_module": "@jupyter-widgets/controls",
            "_model_module_version": "1.5.0",
            "_model_name": "DescriptionStyleModel",
            "_view_count": null,
            "_view_module": "@jupyter-widgets/base",
            "_view_module_version": "1.2.0",
            "_view_name": "StyleView",
            "description_width": "23%"
          }
        },
        "1f9aaa0de8db415eab0240a3847e3234": {
          "model_module": "@jupyter-widgets/controls",
          "model_name": "IntProgressModel",
          "model_module_version": "1.5.0",
          "state": {
            "_dom_classes": [],
            "_model_module": "@jupyter-widgets/controls",
            "_model_module_version": "1.5.0",
            "_model_name": "IntProgressModel",
            "_view_count": null,
            "_view_module": "@jupyter-widgets/controls",
            "_view_module_version": "1.5.0",
            "_view_name": "ProgressView",
            "bar_style": "",
            "description": "Batch 79/79, 3.6s passed",
            "description_tooltip": null,
            "layout": "IPY_MODEL_6fb8cd265bb440a0a318f30a5ee41352",
            "max": 79,
            "min": 0,
            "orientation": "horizontal",
            "style": "IPY_MODEL_8e4e55c0678c4404a495b2feca916e55",
            "value": 79
          }
        },
        "6fb8cd265bb440a0a318f30a5ee41352": {
          "model_module": "@jupyter-widgets/base",
          "model_name": "LayoutModel",
          "model_module_version": "1.2.0",
          "state": {
            "_model_module": "@jupyter-widgets/base",
            "_model_module_version": "1.2.0",
            "_model_name": "LayoutModel",
            "_view_count": null,
            "_view_module": "@jupyter-widgets/base",
            "_view_module_version": "1.2.0",
            "_view_name": "LayoutView",
            "align_content": null,
            "align_items": null,
            "align_self": null,
            "border": null,
            "bottom": null,
            "display": null,
            "flex": null,
            "flex_flow": null,
            "grid_area": null,
            "grid_auto_columns": null,
            "grid_auto_flow": null,
            "grid_auto_rows": null,
            "grid_column": null,
            "grid_gap": null,
            "grid_row": null,
            "grid_template_areas": null,
            "grid_template_columns": null,
            "grid_template_rows": null,
            "height": null,
            "justify_content": null,
            "justify_items": null,
            "left": null,
            "margin": null,
            "max_height": null,
            "max_width": null,
            "min_height": null,
            "min_width": null,
            "object_fit": null,
            "object_position": null,
            "order": null,
            "overflow": null,
            "overflow_x": null,
            "overflow_y": null,
            "padding": null,
            "right": null,
            "top": null,
            "visibility": null,
            "width": "67%"
          }
        },
        "8e4e55c0678c4404a495b2feca916e55": {
          "model_module": "@jupyter-widgets/controls",
          "model_name": "ProgressStyleModel",
          "model_module_version": "1.5.0",
          "state": {
            "_model_module": "@jupyter-widgets/controls",
            "_model_module_version": "1.5.0",
            "_model_name": "ProgressStyleModel",
            "_view_count": null,
            "_view_module": "@jupyter-widgets/base",
            "_view_module_version": "1.2.0",
            "_view_name": "StyleView",
            "bar_color": null,
            "description_width": "23%"
          }
        },
        "ea0608c9e86a44f393929baff1f6ec29": {
          "model_module": "@jupyter-widgets/controls",
          "model_name": "IntProgressModel",
          "model_module_version": "1.5.0",
          "state": {
            "_dom_classes": [],
            "_model_module": "@jupyter-widgets/controls",
            "_model_module_version": "1.5.0",
            "_model_name": "IntProgressModel",
            "_view_count": null,
            "_view_module": "@jupyter-widgets/controls",
            "_view_module_version": "1.5.0",
            "_view_name": "ProgressView",
            "bar_style": "",
            "description": "Epoch 2/2, 152.3s passed",
            "description_tooltip": null,
            "layout": "IPY_MODEL_f8b9835e9d694759aeaeffb7da034d06",
            "max": 2,
            "min": 0,
            "orientation": "horizontal",
            "style": "IPY_MODEL_6f9cf66ed3714c098807a5c6c694bad6",
            "value": 2
          }
        },
        "f8b9835e9d694759aeaeffb7da034d06": {
          "model_module": "@jupyter-widgets/base",
          "model_name": "LayoutModel",
          "model_module_version": "1.2.0",
          "state": {
            "_model_module": "@jupyter-widgets/base",
            "_model_module_version": "1.2.0",
            "_model_name": "LayoutModel",
            "_view_count": null,
            "_view_module": "@jupyter-widgets/base",
            "_view_module_version": "1.2.0",
            "_view_name": "LayoutView",
            "align_content": null,
            "align_items": null,
            "align_self": null,
            "border": null,
            "bottom": null,
            "display": null,
            "flex": null,
            "flex_flow": null,
            "grid_area": null,
            "grid_auto_columns": null,
            "grid_auto_flow": null,
            "grid_auto_rows": null,
            "grid_column": null,
            "grid_gap": null,
            "grid_row": null,
            "grid_template_areas": null,
            "grid_template_columns": null,
            "grid_template_rows": null,
            "height": null,
            "justify_content": null,
            "justify_items": null,
            "left": null,
            "margin": null,
            "max_height": null,
            "max_width": null,
            "min_height": null,
            "min_width": null,
            "object_fit": null,
            "object_position": null,
            "order": null,
            "overflow": null,
            "overflow_x": null,
            "overflow_y": null,
            "padding": null,
            "right": null,
            "top": null,
            "visibility": null,
            "width": "67%"
          }
        },
        "6f9cf66ed3714c098807a5c6c694bad6": {
          "model_module": "@jupyter-widgets/controls",
          "model_name": "ProgressStyleModel",
          "model_module_version": "1.5.0",
          "state": {
            "_model_module": "@jupyter-widgets/controls",
            "_model_module_version": "1.5.0",
            "_model_name": "ProgressStyleModel",
            "_view_count": null,
            "_view_module": "@jupyter-widgets/base",
            "_view_module_version": "1.2.0",
            "_view_name": "StyleView",
            "bar_color": null,
            "description_width": "23%"
          }
        },
        "68683ed24724499facdfa5643395253a": {
          "model_module": "@jupyter-widgets/controls",
          "model_name": "HTMLMathModel",
          "model_module_version": "1.5.0",
          "state": {
            "_dom_classes": [],
            "_model_module": "@jupyter-widgets/controls",
            "_model_module_version": "1.5.0",
            "_model_name": "HTMLMathModel",
            "_view_count": null,
            "_view_module": "@jupyter-widgets/controls",
            "_view_module_version": "1.5.0",
            "_view_name": "HTMLMathView",
            "description": "Epoch 1/2 train --",
            "description_tooltip": null,
            "layout": "IPY_MODEL_8fd1744fa59b4961a9f6a196a00a8496",
            "placeholder": "HTMLM",
            "style": "IPY_MODEL_710548da940346cb848899589ed18dd9",
            "value": "\tlogit_accuracy: 0.6924;\tfactor_accuracy: 0.8308;"
          }
        },
        "8fd1744fa59b4961a9f6a196a00a8496": {
          "model_module": "@jupyter-widgets/base",
          "model_name": "LayoutModel",
          "model_module_version": "1.2.0",
          "state": {
            "_model_module": "@jupyter-widgets/base",
            "_model_module_version": "1.2.0",
            "_model_name": "LayoutModel",
            "_view_count": null,
            "_view_module": "@jupyter-widgets/base",
            "_view_module_version": "1.2.0",
            "_view_name": "LayoutView",
            "align_content": null,
            "align_items": null,
            "align_self": null,
            "border": null,
            "bottom": null,
            "display": null,
            "flex": null,
            "flex_flow": null,
            "grid_area": null,
            "grid_auto_columns": null,
            "grid_auto_flow": null,
            "grid_auto_rows": null,
            "grid_column": null,
            "grid_gap": null,
            "grid_row": null,
            "grid_template_areas": null,
            "grid_template_columns": null,
            "grid_template_rows": null,
            "height": null,
            "justify_content": null,
            "justify_items": null,
            "left": null,
            "margin": null,
            "max_height": null,
            "max_width": null,
            "min_height": null,
            "min_width": null,
            "object_fit": null,
            "object_position": null,
            "order": null,
            "overflow": null,
            "overflow_x": null,
            "overflow_y": null,
            "padding": null,
            "right": null,
            "top": null,
            "visibility": null,
            "width": "67%"
          }
        },
        "710548da940346cb848899589ed18dd9": {
          "model_module": "@jupyter-widgets/controls",
          "model_name": "DescriptionStyleModel",
          "model_module_version": "1.5.0",
          "state": {
            "_model_module": "@jupyter-widgets/controls",
            "_model_module_version": "1.5.0",
            "_model_name": "DescriptionStyleModel",
            "_view_count": null,
            "_view_module": "@jupyter-widgets/base",
            "_view_module_version": "1.2.0",
            "_view_name": "StyleView",
            "description_width": "23%"
          }
        },
        "bca1ad80eaa441bba046af49d7b17462": {
          "model_module": "@jupyter-widgets/controls",
          "model_name": "IntProgressModel",
          "model_module_version": "1.5.0",
          "state": {
            "_dom_classes": [],
            "_model_module": "@jupyter-widgets/controls",
            "_model_module_version": "1.5.0",
            "_model_name": "IntProgressModel",
            "_view_count": null,
            "_view_module": "@jupyter-widgets/controls",
            "_view_module_version": "1.5.0",
            "_view_name": "ProgressView",
            "bar_style": "",
            "description": "Batch 469/469, 60.6s passed",
            "description_tooltip": null,
            "layout": "IPY_MODEL_c97725918a1b4b62bc3aa181b16aca19",
            "max": 469,
            "min": 0,
            "orientation": "horizontal",
            "style": "IPY_MODEL_e17a4717137f49dba9015d4c22517179",
            "value": 469
          }
        },
        "c97725918a1b4b62bc3aa181b16aca19": {
          "model_module": "@jupyter-widgets/base",
          "model_name": "LayoutModel",
          "model_module_version": "1.2.0",
          "state": {
            "_model_module": "@jupyter-widgets/base",
            "_model_module_version": "1.2.0",
            "_model_name": "LayoutModel",
            "_view_count": null,
            "_view_module": "@jupyter-widgets/base",
            "_view_module_version": "1.2.0",
            "_view_name": "LayoutView",
            "align_content": null,
            "align_items": null,
            "align_self": null,
            "border": null,
            "bottom": null,
            "display": null,
            "flex": null,
            "flex_flow": null,
            "grid_area": null,
            "grid_auto_columns": null,
            "grid_auto_flow": null,
            "grid_auto_rows": null,
            "grid_column": null,
            "grid_gap": null,
            "grid_row": null,
            "grid_template_areas": null,
            "grid_template_columns": null,
            "grid_template_rows": null,
            "height": null,
            "justify_content": null,
            "justify_items": null,
            "left": null,
            "margin": null,
            "max_height": null,
            "max_width": null,
            "min_height": null,
            "min_width": null,
            "object_fit": null,
            "object_position": null,
            "order": null,
            "overflow": null,
            "overflow_x": null,
            "overflow_y": null,
            "padding": null,
            "right": null,
            "top": null,
            "visibility": null,
            "width": "67%"
          }
        },
        "e17a4717137f49dba9015d4c22517179": {
          "model_module": "@jupyter-widgets/controls",
          "model_name": "ProgressStyleModel",
          "model_module_version": "1.5.0",
          "state": {
            "_model_module": "@jupyter-widgets/controls",
            "_model_module_version": "1.5.0",
            "_model_name": "ProgressStyleModel",
            "_view_count": null,
            "_view_module": "@jupyter-widgets/base",
            "_view_module_version": "1.2.0",
            "_view_name": "StyleView",
            "bar_color": null,
            "description_width": "23%"
          }
        },
        "c36dc1168b294e90acae08f50603c68e": {
          "model_module": "@jupyter-widgets/controls",
          "model_name": "HTMLMathModel",
          "model_module_version": "1.5.0",
          "state": {
            "_dom_classes": [],
            "_model_module": "@jupyter-widgets/controls",
            "_model_module_version": "1.5.0",
            "_model_name": "HTMLMathModel",
            "_view_count": null,
            "_view_module": "@jupyter-widgets/controls",
            "_view_module_version": "1.5.0",
            "_view_name": "HTMLMathView",
            "description": "Validation --",
            "description_tooltip": null,
            "layout": "IPY_MODEL_fc4c984882584249b61f959ff73570d8",
            "placeholder": "HTMLM",
            "style": "IPY_MODEL_350de05d1a8e439ab8b066d28eab96b0",
            "value": "\tlogit_accuracy: 0.9127;\tfactor_accuracy: 0.9508;"
          }
        },
        "fc4c984882584249b61f959ff73570d8": {
          "model_module": "@jupyter-widgets/base",
          "model_name": "LayoutModel",
          "model_module_version": "1.2.0",
          "state": {
            "_model_module": "@jupyter-widgets/base",
            "_model_module_version": "1.2.0",
            "_model_name": "LayoutModel",
            "_view_count": null,
            "_view_module": "@jupyter-widgets/base",
            "_view_module_version": "1.2.0",
            "_view_name": "LayoutView",
            "align_content": null,
            "align_items": null,
            "align_self": null,
            "border": null,
            "bottom": null,
            "display": null,
            "flex": null,
            "flex_flow": null,
            "grid_area": null,
            "grid_auto_columns": null,
            "grid_auto_flow": null,
            "grid_auto_rows": null,
            "grid_column": null,
            "grid_gap": null,
            "grid_row": null,
            "grid_template_areas": null,
            "grid_template_columns": null,
            "grid_template_rows": null,
            "height": null,
            "justify_content": null,
            "justify_items": null,
            "left": null,
            "margin": null,
            "max_height": null,
            "max_width": null,
            "min_height": null,
            "min_width": null,
            "object_fit": null,
            "object_position": null,
            "order": null,
            "overflow": null,
            "overflow_x": null,
            "overflow_y": null,
            "padding": null,
            "right": null,
            "top": null,
            "visibility": null,
            "width": "67%"
          }
        },
        "350de05d1a8e439ab8b066d28eab96b0": {
          "model_module": "@jupyter-widgets/controls",
          "model_name": "DescriptionStyleModel",
          "model_module_version": "1.5.0",
          "state": {
            "_model_module": "@jupyter-widgets/controls",
            "_model_module_version": "1.5.0",
            "_model_name": "DescriptionStyleModel",
            "_view_count": null,
            "_view_module": "@jupyter-widgets/base",
            "_view_module_version": "1.2.0",
            "_view_name": "StyleView",
            "description_width": "23%"
          }
        },
        "454514da7bdb49c59ca9298a1d572738": {
          "model_module": "@jupyter-widgets/controls",
          "model_name": "IntProgressModel",
          "model_module_version": "1.5.0",
          "state": {
            "_dom_classes": [],
            "_model_module": "@jupyter-widgets/controls",
            "_model_module_version": "1.5.0",
            "_model_name": "IntProgressModel",
            "_view_count": null,
            "_view_module": "@jupyter-widgets/controls",
            "_view_module_version": "1.5.0",
            "_view_name": "ProgressView",
            "bar_style": "",
            "description": "Batch 79/79, 2.9s passed",
            "description_tooltip": null,
            "layout": "IPY_MODEL_1b802e20b8c34f16aad8b8504a8f287e",
            "max": 79,
            "min": 0,
            "orientation": "horizontal",
            "style": "IPY_MODEL_8363f5329e3542338f8bfa8565ebdea8",
            "value": 79
          }
        },
        "1b802e20b8c34f16aad8b8504a8f287e": {
          "model_module": "@jupyter-widgets/base",
          "model_name": "LayoutModel",
          "model_module_version": "1.2.0",
          "state": {
            "_model_module": "@jupyter-widgets/base",
            "_model_module_version": "1.2.0",
            "_model_name": "LayoutModel",
            "_view_count": null,
            "_view_module": "@jupyter-widgets/base",
            "_view_module_version": "1.2.0",
            "_view_name": "LayoutView",
            "align_content": null,
            "align_items": null,
            "align_self": null,
            "border": null,
            "bottom": null,
            "display": null,
            "flex": null,
            "flex_flow": null,
            "grid_area": null,
            "grid_auto_columns": null,
            "grid_auto_flow": null,
            "grid_auto_rows": null,
            "grid_column": null,
            "grid_gap": null,
            "grid_row": null,
            "grid_template_areas": null,
            "grid_template_columns": null,
            "grid_template_rows": null,
            "height": null,
            "justify_content": null,
            "justify_items": null,
            "left": null,
            "margin": null,
            "max_height": null,
            "max_width": null,
            "min_height": null,
            "min_width": null,
            "object_fit": null,
            "object_position": null,
            "order": null,
            "overflow": null,
            "overflow_x": null,
            "overflow_y": null,
            "padding": null,
            "right": null,
            "top": null,
            "visibility": null,
            "width": "67%"
          }
        },
        "8363f5329e3542338f8bfa8565ebdea8": {
          "model_module": "@jupyter-widgets/controls",
          "model_name": "ProgressStyleModel",
          "model_module_version": "1.5.0",
          "state": {
            "_model_module": "@jupyter-widgets/controls",
            "_model_module_version": "1.5.0",
            "_model_name": "ProgressStyleModel",
            "_view_count": null,
            "_view_module": "@jupyter-widgets/base",
            "_view_module_version": "1.2.0",
            "_view_name": "StyleView",
            "bar_color": null,
            "description_width": "23%"
          }
        },
        "212060218776488dbeb01b9be00120ef": {
          "model_module": "@jupyter-widgets/controls",
          "model_name": "HTMLMathModel",
          "model_module_version": "1.5.0",
          "state": {
            "_dom_classes": [],
            "_model_module": "@jupyter-widgets/controls",
            "_model_module_version": "1.5.0",
            "_model_name": "HTMLMathModel",
            "_view_count": null,
            "_view_module": "@jupyter-widgets/controls",
            "_view_module_version": "1.5.0",
            "_view_name": "HTMLMathView",
            "description": "Epoch 2/2 train --",
            "description_tooltip": null,
            "layout": "IPY_MODEL_e912c75f267942a1b254f3acd185491b",
            "placeholder": "HTMLM",
            "style": "IPY_MODEL_e9609c1cd7ec4a33a91170f42b6e9515",
            "value": "\tlogit_accuracy: 0.9193;\tfactor_accuracy: 0.9549;"
          }
        },
        "e912c75f267942a1b254f3acd185491b": {
          "model_module": "@jupyter-widgets/base",
          "model_name": "LayoutModel",
          "model_module_version": "1.2.0",
          "state": {
            "_model_module": "@jupyter-widgets/base",
            "_model_module_version": "1.2.0",
            "_model_name": "LayoutModel",
            "_view_count": null,
            "_view_module": "@jupyter-widgets/base",
            "_view_module_version": "1.2.0",
            "_view_name": "LayoutView",
            "align_content": null,
            "align_items": null,
            "align_self": null,
            "border": null,
            "bottom": null,
            "display": null,
            "flex": null,
            "flex_flow": null,
            "grid_area": null,
            "grid_auto_columns": null,
            "grid_auto_flow": null,
            "grid_auto_rows": null,
            "grid_column": null,
            "grid_gap": null,
            "grid_row": null,
            "grid_template_areas": null,
            "grid_template_columns": null,
            "grid_template_rows": null,
            "height": null,
            "justify_content": null,
            "justify_items": null,
            "left": null,
            "margin": null,
            "max_height": null,
            "max_width": null,
            "min_height": null,
            "min_width": null,
            "object_fit": null,
            "object_position": null,
            "order": null,
            "overflow": null,
            "overflow_x": null,
            "overflow_y": null,
            "padding": null,
            "right": null,
            "top": null,
            "visibility": null,
            "width": "67%"
          }
        },
        "e9609c1cd7ec4a33a91170f42b6e9515": {
          "model_module": "@jupyter-widgets/controls",
          "model_name": "DescriptionStyleModel",
          "model_module_version": "1.5.0",
          "state": {
            "_model_module": "@jupyter-widgets/controls",
            "_model_module_version": "1.5.0",
            "_model_name": "DescriptionStyleModel",
            "_view_count": null,
            "_view_module": "@jupyter-widgets/base",
            "_view_module_version": "1.2.0",
            "_view_name": "StyleView",
            "description_width": "23%"
          }
        },
        "ee91687ac6a141ceaa1177cfdee37c43": {
          "model_module": "@jupyter-widgets/controls",
          "model_name": "IntProgressModel",
          "model_module_version": "1.5.0",
          "state": {
            "_dom_classes": [],
            "_model_module": "@jupyter-widgets/controls",
            "_model_module_version": "1.5.0",
            "_model_name": "IntProgressModel",
            "_view_count": null,
            "_view_module": "@jupyter-widgets/controls",
            "_view_module_version": "1.5.0",
            "_view_name": "ProgressView",
            "bar_style": "",
            "description": "Batch 469/469, 60.1s passed",
            "description_tooltip": null,
            "layout": "IPY_MODEL_2295b0972cc34ae89e4633da7dfe59c7",
            "max": 469,
            "min": 0,
            "orientation": "horizontal",
            "style": "IPY_MODEL_3cd1caa34c884cb3923f2c771924a846",
            "value": 469
          }
        },
        "2295b0972cc34ae89e4633da7dfe59c7": {
          "model_module": "@jupyter-widgets/base",
          "model_name": "LayoutModel",
          "model_module_version": "1.2.0",
          "state": {
            "_model_module": "@jupyter-widgets/base",
            "_model_module_version": "1.2.0",
            "_model_name": "LayoutModel",
            "_view_count": null,
            "_view_module": "@jupyter-widgets/base",
            "_view_module_version": "1.2.0",
            "_view_name": "LayoutView",
            "align_content": null,
            "align_items": null,
            "align_self": null,
            "border": null,
            "bottom": null,
            "display": null,
            "flex": null,
            "flex_flow": null,
            "grid_area": null,
            "grid_auto_columns": null,
            "grid_auto_flow": null,
            "grid_auto_rows": null,
            "grid_column": null,
            "grid_gap": null,
            "grid_row": null,
            "grid_template_areas": null,
            "grid_template_columns": null,
            "grid_template_rows": null,
            "height": null,
            "justify_content": null,
            "justify_items": null,
            "left": null,
            "margin": null,
            "max_height": null,
            "max_width": null,
            "min_height": null,
            "min_width": null,
            "object_fit": null,
            "object_position": null,
            "order": null,
            "overflow": null,
            "overflow_x": null,
            "overflow_y": null,
            "padding": null,
            "right": null,
            "top": null,
            "visibility": null,
            "width": "67%"
          }
        },
        "3cd1caa34c884cb3923f2c771924a846": {
          "model_module": "@jupyter-widgets/controls",
          "model_name": "ProgressStyleModel",
          "model_module_version": "1.5.0",
          "state": {
            "_model_module": "@jupyter-widgets/controls",
            "_model_module_version": "1.5.0",
            "_model_name": "ProgressStyleModel",
            "_view_count": null,
            "_view_module": "@jupyter-widgets/base",
            "_view_module_version": "1.2.0",
            "_view_name": "StyleView",
            "bar_color": null,
            "description_width": "23%"
          }
        },
        "6ac645431366475a86b92aa9938b7a5c": {
          "model_module": "@jupyter-widgets/controls",
          "model_name": "HTMLMathModel",
          "model_module_version": "1.5.0",
          "state": {
            "_dom_classes": [],
            "_model_module": "@jupyter-widgets/controls",
            "_model_module_version": "1.5.0",
            "_model_name": "HTMLMathModel",
            "_view_count": null,
            "_view_module": "@jupyter-widgets/controls",
            "_view_module_version": "1.5.0",
            "_view_name": "HTMLMathView",
            "description": "Validation --",
            "description_tooltip": null,
            "layout": "IPY_MODEL_24fd29541d6d426fbddfea8693a0b57b",
            "placeholder": "HTMLM",
            "style": "IPY_MODEL_2333961e2095413384da343d9c23ab56",
            "value": "\tlogit_accuracy: 0.9367;\tfactor_accuracy: 0.9663;"
          }
        },
        "24fd29541d6d426fbddfea8693a0b57b": {
          "model_module": "@jupyter-widgets/base",
          "model_name": "LayoutModel",
          "model_module_version": "1.2.0",
          "state": {
            "_model_module": "@jupyter-widgets/base",
            "_model_module_version": "1.2.0",
            "_model_name": "LayoutModel",
            "_view_count": null,
            "_view_module": "@jupyter-widgets/base",
            "_view_module_version": "1.2.0",
            "_view_name": "LayoutView",
            "align_content": null,
            "align_items": null,
            "align_self": null,
            "border": null,
            "bottom": null,
            "display": null,
            "flex": null,
            "flex_flow": null,
            "grid_area": null,
            "grid_auto_columns": null,
            "grid_auto_flow": null,
            "grid_auto_rows": null,
            "grid_column": null,
            "grid_gap": null,
            "grid_row": null,
            "grid_template_areas": null,
            "grid_template_columns": null,
            "grid_template_rows": null,
            "height": null,
            "justify_content": null,
            "justify_items": null,
            "left": null,
            "margin": null,
            "max_height": null,
            "max_width": null,
            "min_height": null,
            "min_width": null,
            "object_fit": null,
            "object_position": null,
            "order": null,
            "overflow": null,
            "overflow_x": null,
            "overflow_y": null,
            "padding": null,
            "right": null,
            "top": null,
            "visibility": null,
            "width": "67%"
          }
        },
        "2333961e2095413384da343d9c23ab56": {
          "model_module": "@jupyter-widgets/controls",
          "model_name": "DescriptionStyleModel",
          "model_module_version": "1.5.0",
          "state": {
            "_model_module": "@jupyter-widgets/controls",
            "_model_module_version": "1.5.0",
            "_model_name": "DescriptionStyleModel",
            "_view_count": null,
            "_view_module": "@jupyter-widgets/base",
            "_view_module_version": "1.2.0",
            "_view_name": "StyleView",
            "description_width": "23%"
          }
        },
        "3c3e5ab71b3d4d25be10fc79bad2e343": {
          "model_module": "@jupyter-widgets/controls",
          "model_name": "IntProgressModel",
          "model_module_version": "1.5.0",
          "state": {
            "_dom_classes": [],
            "_model_module": "@jupyter-widgets/controls",
            "_model_module_version": "1.5.0",
            "_model_name": "IntProgressModel",
            "_view_count": null,
            "_view_module": "@jupyter-widgets/controls",
            "_view_module_version": "1.5.0",
            "_view_name": "ProgressView",
            "bar_style": "",
            "description": "Batch 79/79, 3.0s passed",
            "description_tooltip": null,
            "layout": "IPY_MODEL_8540e6820e1d4c56ad13b52f9323ea3c",
            "max": 79,
            "min": 0,
            "orientation": "horizontal",
            "style": "IPY_MODEL_5139ac93bb254e86870558e7eba8566c",
            "value": 79
          }
        },
        "8540e6820e1d4c56ad13b52f9323ea3c": {
          "model_module": "@jupyter-widgets/base",
          "model_name": "LayoutModel",
          "model_module_version": "1.2.0",
          "state": {
            "_model_module": "@jupyter-widgets/base",
            "_model_module_version": "1.2.0",
            "_model_name": "LayoutModel",
            "_view_count": null,
            "_view_module": "@jupyter-widgets/base",
            "_view_module_version": "1.2.0",
            "_view_name": "LayoutView",
            "align_content": null,
            "align_items": null,
            "align_self": null,
            "border": null,
            "bottom": null,
            "display": null,
            "flex": null,
            "flex_flow": null,
            "grid_area": null,
            "grid_auto_columns": null,
            "grid_auto_flow": null,
            "grid_auto_rows": null,
            "grid_column": null,
            "grid_gap": null,
            "grid_row": null,
            "grid_template_areas": null,
            "grid_template_columns": null,
            "grid_template_rows": null,
            "height": null,
            "justify_content": null,
            "justify_items": null,
            "left": null,
            "margin": null,
            "max_height": null,
            "max_width": null,
            "min_height": null,
            "min_width": null,
            "object_fit": null,
            "object_position": null,
            "order": null,
            "overflow": null,
            "overflow_x": null,
            "overflow_y": null,
            "padding": null,
            "right": null,
            "top": null,
            "visibility": null,
            "width": "67%"
          }
        },
        "5139ac93bb254e86870558e7eba8566c": {
          "model_module": "@jupyter-widgets/controls",
          "model_name": "ProgressStyleModel",
          "model_module_version": "1.5.0",
          "state": {
            "_model_module": "@jupyter-widgets/controls",
            "_model_module_version": "1.5.0",
            "_model_name": "ProgressStyleModel",
            "_view_count": null,
            "_view_module": "@jupyter-widgets/base",
            "_view_module_version": "1.2.0",
            "_view_name": "StyleView",
            "bar_color": null,
            "description_width": "23%"
          }
        },
        "08dacf6a9bf04fb78e8baf08a84bfa4a": {
          "model_module": "@jupyter-widgets/controls",
          "model_name": "HTMLMathModel",
          "model_module_version": "1.5.0",
          "state": {
            "_dom_classes": [],
            "_model_module": "@jupyter-widgets/controls",
            "_model_module_version": "1.5.0",
            "_model_name": "HTMLMathModel",
            "_view_count": null,
            "_view_module": "@jupyter-widgets/controls",
            "_view_module_version": "1.5.0",
            "_view_name": "HTMLMathView",
            "description": "Validation --",
            "description_tooltip": null,
            "layout": "IPY_MODEL_290fcac86bed476db225e0cb959e02ca",
            "placeholder": "HTMLM",
            "style": "IPY_MODEL_9a1b71424abe4ab9abea896f1ce871d1",
            "value": "\tlogit_accuracy: 0.5895;\tfactor_accuracy: 0.7625;"
          }
        },
        "290fcac86bed476db225e0cb959e02ca": {
          "model_module": "@jupyter-widgets/base",
          "model_name": "LayoutModel",
          "model_module_version": "1.2.0",
          "state": {
            "_model_module": "@jupyter-widgets/base",
            "_model_module_version": "1.2.0",
            "_model_name": "LayoutModel",
            "_view_count": null,
            "_view_module": "@jupyter-widgets/base",
            "_view_module_version": "1.2.0",
            "_view_name": "LayoutView",
            "align_content": null,
            "align_items": null,
            "align_self": null,
            "border": null,
            "bottom": null,
            "display": null,
            "flex": null,
            "flex_flow": null,
            "grid_area": null,
            "grid_auto_columns": null,
            "grid_auto_flow": null,
            "grid_auto_rows": null,
            "grid_column": null,
            "grid_gap": null,
            "grid_row": null,
            "grid_template_areas": null,
            "grid_template_columns": null,
            "grid_template_rows": null,
            "height": null,
            "justify_content": null,
            "justify_items": null,
            "left": null,
            "margin": null,
            "max_height": null,
            "max_width": null,
            "min_height": null,
            "min_width": null,
            "object_fit": null,
            "object_position": null,
            "order": null,
            "overflow": null,
            "overflow_x": null,
            "overflow_y": null,
            "padding": null,
            "right": null,
            "top": null,
            "visibility": null,
            "width": "67%"
          }
        },
        "9a1b71424abe4ab9abea896f1ce871d1": {
          "model_module": "@jupyter-widgets/controls",
          "model_name": "DescriptionStyleModel",
          "model_module_version": "1.5.0",
          "state": {
            "_model_module": "@jupyter-widgets/controls",
            "_model_module_version": "1.5.0",
            "_model_name": "DescriptionStyleModel",
            "_view_count": null,
            "_view_module": "@jupyter-widgets/base",
            "_view_module_version": "1.2.0",
            "_view_name": "StyleView",
            "description_width": "23%"
          }
        },
        "0fe66c7bd0bc46b983fc9951bb29f08c": {
          "model_module": "@jupyter-widgets/controls",
          "model_name": "IntProgressModel",
          "model_module_version": "1.5.0",
          "state": {
            "_dom_classes": [],
            "_model_module": "@jupyter-widgets/controls",
            "_model_module_version": "1.5.0",
            "_model_name": "IntProgressModel",
            "_view_count": null,
            "_view_module": "@jupyter-widgets/controls",
            "_view_module_version": "1.5.0",
            "_view_name": "ProgressView",
            "bar_style": "",
            "description": "Batch 469/469, 19.3s passed",
            "description_tooltip": null,
            "layout": "IPY_MODEL_965d04a700724315affeed07e12c3dcd",
            "max": 469,
            "min": 0,
            "orientation": "horizontal",
            "style": "IPY_MODEL_842fdaeae50e45ffa3ebaa6d52fc41ed",
            "value": 469
          }
        },
        "965d04a700724315affeed07e12c3dcd": {
          "model_module": "@jupyter-widgets/base",
          "model_name": "LayoutModel",
          "model_module_version": "1.2.0",
          "state": {
            "_model_module": "@jupyter-widgets/base",
            "_model_module_version": "1.2.0",
            "_model_name": "LayoutModel",
            "_view_count": null,
            "_view_module": "@jupyter-widgets/base",
            "_view_module_version": "1.2.0",
            "_view_name": "LayoutView",
            "align_content": null,
            "align_items": null,
            "align_self": null,
            "border": null,
            "bottom": null,
            "display": null,
            "flex": null,
            "flex_flow": null,
            "grid_area": null,
            "grid_auto_columns": null,
            "grid_auto_flow": null,
            "grid_auto_rows": null,
            "grid_column": null,
            "grid_gap": null,
            "grid_row": null,
            "grid_template_areas": null,
            "grid_template_columns": null,
            "grid_template_rows": null,
            "height": null,
            "justify_content": null,
            "justify_items": null,
            "left": null,
            "margin": null,
            "max_height": null,
            "max_width": null,
            "min_height": null,
            "min_width": null,
            "object_fit": null,
            "object_position": null,
            "order": null,
            "overflow": null,
            "overflow_x": null,
            "overflow_y": null,
            "padding": null,
            "right": null,
            "top": null,
            "visibility": null,
            "width": "67%"
          }
        },
        "842fdaeae50e45ffa3ebaa6d52fc41ed": {
          "model_module": "@jupyter-widgets/controls",
          "model_name": "ProgressStyleModel",
          "model_module_version": "1.5.0",
          "state": {
            "_model_module": "@jupyter-widgets/controls",
            "_model_module_version": "1.5.0",
            "_model_name": "ProgressStyleModel",
            "_view_count": null,
            "_view_module": "@jupyter-widgets/base",
            "_view_module_version": "1.2.0",
            "_view_name": "StyleView",
            "bar_color": null,
            "description_width": "23%"
          }
        },
        "3452dfd1a7324640ab5a013f3fa04f95": {
          "model_module": "@jupyter-widgets/controls",
          "model_name": "HTMLMathModel",
          "model_module_version": "1.5.0",
          "state": {
            "_dom_classes": [],
            "_model_module": "@jupyter-widgets/controls",
            "_model_module_version": "1.5.0",
            "_model_name": "HTMLMathModel",
            "_view_count": null,
            "_view_module": "@jupyter-widgets/controls",
            "_view_module_version": "1.5.0",
            "_view_name": "HTMLMathView",
            "description": "Validation --",
            "description_tooltip": null,
            "layout": "IPY_MODEL_cd2edde006144188a44c0c08e542a4d7",
            "placeholder": "HTMLM",
            "style": "IPY_MODEL_7776c6d4fd774220b62184bd602dc22c",
            "value": "\tlogit_accuracy: 0.6145;\tfactor_accuracy: 0.7737;"
          }
        },
        "cd2edde006144188a44c0c08e542a4d7": {
          "model_module": "@jupyter-widgets/base",
          "model_name": "LayoutModel",
          "model_module_version": "1.2.0",
          "state": {
            "_model_module": "@jupyter-widgets/base",
            "_model_module_version": "1.2.0",
            "_model_name": "LayoutModel",
            "_view_count": null,
            "_view_module": "@jupyter-widgets/base",
            "_view_module_version": "1.2.0",
            "_view_name": "LayoutView",
            "align_content": null,
            "align_items": null,
            "align_self": null,
            "border": null,
            "bottom": null,
            "display": null,
            "flex": null,
            "flex_flow": null,
            "grid_area": null,
            "grid_auto_columns": null,
            "grid_auto_flow": null,
            "grid_auto_rows": null,
            "grid_column": null,
            "grid_gap": null,
            "grid_row": null,
            "grid_template_areas": null,
            "grid_template_columns": null,
            "grid_template_rows": null,
            "height": null,
            "justify_content": null,
            "justify_items": null,
            "left": null,
            "margin": null,
            "max_height": null,
            "max_width": null,
            "min_height": null,
            "min_width": null,
            "object_fit": null,
            "object_position": null,
            "order": null,
            "overflow": null,
            "overflow_x": null,
            "overflow_y": null,
            "padding": null,
            "right": null,
            "top": null,
            "visibility": null,
            "width": "67%"
          }
        },
        "7776c6d4fd774220b62184bd602dc22c": {
          "model_module": "@jupyter-widgets/controls",
          "model_name": "DescriptionStyleModel",
          "model_module_version": "1.5.0",
          "state": {
            "_model_module": "@jupyter-widgets/controls",
            "_model_module_version": "1.5.0",
            "_model_name": "DescriptionStyleModel",
            "_view_count": null,
            "_view_module": "@jupyter-widgets/base",
            "_view_module_version": "1.2.0",
            "_view_name": "StyleView",
            "description_width": "23%"
          }
        },
        "daac73f825a54ed9a1c5a9040c0f5eea": {
          "model_module": "@jupyter-widgets/controls",
          "model_name": "IntProgressModel",
          "model_module_version": "1.5.0",
          "state": {
            "_dom_classes": [],
            "_model_module": "@jupyter-widgets/controls",
            "_model_module_version": "1.5.0",
            "_model_name": "IntProgressModel",
            "_view_count": null,
            "_view_module": "@jupyter-widgets/controls",
            "_view_module_version": "1.5.0",
            "_view_name": "ProgressView",
            "bar_style": "",
            "description": "Batch 79/79, 3.3s passed",
            "description_tooltip": null,
            "layout": "IPY_MODEL_3f29054fa39e470484f6d7c020921ec9",
            "max": 79,
            "min": 0,
            "orientation": "horizontal",
            "style": "IPY_MODEL_820f005662ee4e7580592d409eb80380",
            "value": 79
          }
        },
        "3f29054fa39e470484f6d7c020921ec9": {
          "model_module": "@jupyter-widgets/base",
          "model_name": "LayoutModel",
          "model_module_version": "1.2.0",
          "state": {
            "_model_module": "@jupyter-widgets/base",
            "_model_module_version": "1.2.0",
            "_model_name": "LayoutModel",
            "_view_count": null,
            "_view_module": "@jupyter-widgets/base",
            "_view_module_version": "1.2.0",
            "_view_name": "LayoutView",
            "align_content": null,
            "align_items": null,
            "align_self": null,
            "border": null,
            "bottom": null,
            "display": null,
            "flex": null,
            "flex_flow": null,
            "grid_area": null,
            "grid_auto_columns": null,
            "grid_auto_flow": null,
            "grid_auto_rows": null,
            "grid_column": null,
            "grid_gap": null,
            "grid_row": null,
            "grid_template_areas": null,
            "grid_template_columns": null,
            "grid_template_rows": null,
            "height": null,
            "justify_content": null,
            "justify_items": null,
            "left": null,
            "margin": null,
            "max_height": null,
            "max_width": null,
            "min_height": null,
            "min_width": null,
            "object_fit": null,
            "object_position": null,
            "order": null,
            "overflow": null,
            "overflow_x": null,
            "overflow_y": null,
            "padding": null,
            "right": null,
            "top": null,
            "visibility": null,
            "width": "67%"
          }
        },
        "820f005662ee4e7580592d409eb80380": {
          "model_module": "@jupyter-widgets/controls",
          "model_name": "ProgressStyleModel",
          "model_module_version": "1.5.0",
          "state": {
            "_model_module": "@jupyter-widgets/controls",
            "_model_module_version": "1.5.0",
            "_model_name": "ProgressStyleModel",
            "_view_count": null,
            "_view_module": "@jupyter-widgets/base",
            "_view_module_version": "1.2.0",
            "_view_name": "StyleView",
            "bar_color": null,
            "description_width": "23%"
          }
        },
        "56e91700dc0b43cca80e0d795682cab7": {
          "model_module": "@jupyter-widgets/controls",
          "model_name": "IntProgressModel",
          "model_module_version": "1.5.0",
          "state": {
            "_dom_classes": [],
            "_model_module": "@jupyter-widgets/controls",
            "_model_module_version": "1.5.0",
            "_model_name": "IntProgressModel",
            "_view_count": null,
            "_view_module": "@jupyter-widgets/controls",
            "_view_module_version": "1.5.0",
            "_view_name": "ProgressView",
            "bar_style": "",
            "description": "Epoch 5/5, 429.6s passed",
            "description_tooltip": null,
            "layout": "IPY_MODEL_704e974327e843288a8b8cd0799f1f11",
            "max": 5,
            "min": 0,
            "orientation": "horizontal",
            "style": "IPY_MODEL_c36e5a9feb9246659813eebd6c8b86a2",
            "value": 5
          }
        },
        "704e974327e843288a8b8cd0799f1f11": {
          "model_module": "@jupyter-widgets/base",
          "model_name": "LayoutModel",
          "model_module_version": "1.2.0",
          "state": {
            "_model_module": "@jupyter-widgets/base",
            "_model_module_version": "1.2.0",
            "_model_name": "LayoutModel",
            "_view_count": null,
            "_view_module": "@jupyter-widgets/base",
            "_view_module_version": "1.2.0",
            "_view_name": "LayoutView",
            "align_content": null,
            "align_items": null,
            "align_self": null,
            "border": null,
            "bottom": null,
            "display": null,
            "flex": null,
            "flex_flow": null,
            "grid_area": null,
            "grid_auto_columns": null,
            "grid_auto_flow": null,
            "grid_auto_rows": null,
            "grid_column": null,
            "grid_gap": null,
            "grid_row": null,
            "grid_template_areas": null,
            "grid_template_columns": null,
            "grid_template_rows": null,
            "height": null,
            "justify_content": null,
            "justify_items": null,
            "left": null,
            "margin": null,
            "max_height": null,
            "max_width": null,
            "min_height": null,
            "min_width": null,
            "object_fit": null,
            "object_position": null,
            "order": null,
            "overflow": null,
            "overflow_x": null,
            "overflow_y": null,
            "padding": null,
            "right": null,
            "top": null,
            "visibility": null,
            "width": "67%"
          }
        },
        "c36e5a9feb9246659813eebd6c8b86a2": {
          "model_module": "@jupyter-widgets/controls",
          "model_name": "ProgressStyleModel",
          "model_module_version": "1.5.0",
          "state": {
            "_model_module": "@jupyter-widgets/controls",
            "_model_module_version": "1.5.0",
            "_model_name": "ProgressStyleModel",
            "_view_count": null,
            "_view_module": "@jupyter-widgets/base",
            "_view_module_version": "1.2.0",
            "_view_name": "StyleView",
            "bar_color": null,
            "description_width": "23%"
          }
        },
        "3690546ff45a4b8b8238be9e23d6273e": {
          "model_module": "@jupyter-widgets/controls",
          "model_name": "HTMLMathModel",
          "model_module_version": "1.5.0",
          "state": {
            "_dom_classes": [],
            "_model_module": "@jupyter-widgets/controls",
            "_model_module_version": "1.5.0",
            "_model_name": "HTMLMathModel",
            "_view_count": null,
            "_view_module": "@jupyter-widgets/controls",
            "_view_module_version": "1.5.0",
            "_view_name": "HTMLMathView",
            "description": "Epoch 1/5 train --",
            "description_tooltip": null,
            "layout": "IPY_MODEL_9007f58b553f4c5794b2ebe08080c1e7",
            "placeholder": "HTMLM",
            "style": "IPY_MODEL_dc1f5bd411fe460d860751b1e4ce57e3",
            "value": "\tlogit_accuracy: 0.5869;\tfactor_accuracy: 0.8832;"
          }
        },
        "9007f58b553f4c5794b2ebe08080c1e7": {
          "model_module": "@jupyter-widgets/base",
          "model_name": "LayoutModel",
          "model_module_version": "1.2.0",
          "state": {
            "_model_module": "@jupyter-widgets/base",
            "_model_module_version": "1.2.0",
            "_model_name": "LayoutModel",
            "_view_count": null,
            "_view_module": "@jupyter-widgets/base",
            "_view_module_version": "1.2.0",
            "_view_name": "LayoutView",
            "align_content": null,
            "align_items": null,
            "align_self": null,
            "border": null,
            "bottom": null,
            "display": null,
            "flex": null,
            "flex_flow": null,
            "grid_area": null,
            "grid_auto_columns": null,
            "grid_auto_flow": null,
            "grid_auto_rows": null,
            "grid_column": null,
            "grid_gap": null,
            "grid_row": null,
            "grid_template_areas": null,
            "grid_template_columns": null,
            "grid_template_rows": null,
            "height": null,
            "justify_content": null,
            "justify_items": null,
            "left": null,
            "margin": null,
            "max_height": null,
            "max_width": null,
            "min_height": null,
            "min_width": null,
            "object_fit": null,
            "object_position": null,
            "order": null,
            "overflow": null,
            "overflow_x": null,
            "overflow_y": null,
            "padding": null,
            "right": null,
            "top": null,
            "visibility": null,
            "width": "67%"
          }
        },
        "dc1f5bd411fe460d860751b1e4ce57e3": {
          "model_module": "@jupyter-widgets/controls",
          "model_name": "DescriptionStyleModel",
          "model_module_version": "1.5.0",
          "state": {
            "_model_module": "@jupyter-widgets/controls",
            "_model_module_version": "1.5.0",
            "_model_name": "DescriptionStyleModel",
            "_view_count": null,
            "_view_module": "@jupyter-widgets/base",
            "_view_module_version": "1.2.0",
            "_view_name": "StyleView",
            "description_width": "23%"
          }
        },
        "c42c894eb192478d9c21fc41d0fa4b0d": {
          "model_module": "@jupyter-widgets/controls",
          "model_name": "IntProgressModel",
          "model_module_version": "1.5.0",
          "state": {
            "_dom_classes": [],
            "_model_module": "@jupyter-widgets/controls",
            "_model_module_version": "1.5.0",
            "_model_name": "IntProgressModel",
            "_view_count": null,
            "_view_module": "@jupyter-widgets/controls",
            "_view_module_version": "1.5.0",
            "_view_name": "ProgressView",
            "bar_style": "",
            "description": "Batch 469/469, 65.5s passed",
            "description_tooltip": null,
            "layout": "IPY_MODEL_e7a396e7fd65457aa0f36bbc06ad7032",
            "max": 469,
            "min": 0,
            "orientation": "horizontal",
            "style": "IPY_MODEL_d4b54a5761ac450b8fb39ba413f425be",
            "value": 469
          }
        },
        "e7a396e7fd65457aa0f36bbc06ad7032": {
          "model_module": "@jupyter-widgets/base",
          "model_name": "LayoutModel",
          "model_module_version": "1.2.0",
          "state": {
            "_model_module": "@jupyter-widgets/base",
            "_model_module_version": "1.2.0",
            "_model_name": "LayoutModel",
            "_view_count": null,
            "_view_module": "@jupyter-widgets/base",
            "_view_module_version": "1.2.0",
            "_view_name": "LayoutView",
            "align_content": null,
            "align_items": null,
            "align_self": null,
            "border": null,
            "bottom": null,
            "display": null,
            "flex": null,
            "flex_flow": null,
            "grid_area": null,
            "grid_auto_columns": null,
            "grid_auto_flow": null,
            "grid_auto_rows": null,
            "grid_column": null,
            "grid_gap": null,
            "grid_row": null,
            "grid_template_areas": null,
            "grid_template_columns": null,
            "grid_template_rows": null,
            "height": null,
            "justify_content": null,
            "justify_items": null,
            "left": null,
            "margin": null,
            "max_height": null,
            "max_width": null,
            "min_height": null,
            "min_width": null,
            "object_fit": null,
            "object_position": null,
            "order": null,
            "overflow": null,
            "overflow_x": null,
            "overflow_y": null,
            "padding": null,
            "right": null,
            "top": null,
            "visibility": null,
            "width": "67%"
          }
        },
        "d4b54a5761ac450b8fb39ba413f425be": {
          "model_module": "@jupyter-widgets/controls",
          "model_name": "ProgressStyleModel",
          "model_module_version": "1.5.0",
          "state": {
            "_model_module": "@jupyter-widgets/controls",
            "_model_module_version": "1.5.0",
            "_model_name": "ProgressStyleModel",
            "_view_count": null,
            "_view_module": "@jupyter-widgets/base",
            "_view_module_version": "1.2.0",
            "_view_name": "StyleView",
            "bar_color": null,
            "description_width": "23%"
          }
        },
        "bbb69bf1d9b74e57a39ba56835565c2b": {
          "model_module": "@jupyter-widgets/controls",
          "model_name": "HTMLMathModel",
          "model_module_version": "1.5.0",
          "state": {
            "_dom_classes": [],
            "_model_module": "@jupyter-widgets/controls",
            "_model_module_version": "1.5.0",
            "_model_name": "HTMLMathModel",
            "_view_count": null,
            "_view_module": "@jupyter-widgets/controls",
            "_view_module_version": "1.5.0",
            "_view_name": "HTMLMathView",
            "description": "Validation --",
            "description_tooltip": null,
            "layout": "IPY_MODEL_96eaecf150b147cab924a83659757dc3",
            "placeholder": "HTMLM",
            "style": "IPY_MODEL_b6259354cebe4d2ba66ef1793cbfdd16",
            "value": "\tlogit_accuracy: 0.6067;\tfactor_accuracy: 0.9094;"
          }
        },
        "96eaecf150b147cab924a83659757dc3": {
          "model_module": "@jupyter-widgets/base",
          "model_name": "LayoutModel",
          "model_module_version": "1.2.0",
          "state": {
            "_model_module": "@jupyter-widgets/base",
            "_model_module_version": "1.2.0",
            "_model_name": "LayoutModel",
            "_view_count": null,
            "_view_module": "@jupyter-widgets/base",
            "_view_module_version": "1.2.0",
            "_view_name": "LayoutView",
            "align_content": null,
            "align_items": null,
            "align_self": null,
            "border": null,
            "bottom": null,
            "display": null,
            "flex": null,
            "flex_flow": null,
            "grid_area": null,
            "grid_auto_columns": null,
            "grid_auto_flow": null,
            "grid_auto_rows": null,
            "grid_column": null,
            "grid_gap": null,
            "grid_row": null,
            "grid_template_areas": null,
            "grid_template_columns": null,
            "grid_template_rows": null,
            "height": null,
            "justify_content": null,
            "justify_items": null,
            "left": null,
            "margin": null,
            "max_height": null,
            "max_width": null,
            "min_height": null,
            "min_width": null,
            "object_fit": null,
            "object_position": null,
            "order": null,
            "overflow": null,
            "overflow_x": null,
            "overflow_y": null,
            "padding": null,
            "right": null,
            "top": null,
            "visibility": null,
            "width": "67%"
          }
        },
        "b6259354cebe4d2ba66ef1793cbfdd16": {
          "model_module": "@jupyter-widgets/controls",
          "model_name": "DescriptionStyleModel",
          "model_module_version": "1.5.0",
          "state": {
            "_model_module": "@jupyter-widgets/controls",
            "_model_module_version": "1.5.0",
            "_model_name": "DescriptionStyleModel",
            "_view_count": null,
            "_view_module": "@jupyter-widgets/base",
            "_view_module_version": "1.2.0",
            "_view_name": "StyleView",
            "description_width": "23%"
          }
        },
        "5c2067c17b9d48a0ab6e16f19bcd0f9a": {
          "model_module": "@jupyter-widgets/controls",
          "model_name": "IntProgressModel",
          "model_module_version": "1.5.0",
          "state": {
            "_dom_classes": [],
            "_model_module": "@jupyter-widgets/controls",
            "_model_module_version": "1.5.0",
            "_model_name": "IntProgressModel",
            "_view_count": null,
            "_view_module": "@jupyter-widgets/controls",
            "_view_module_version": "1.5.0",
            "_view_name": "ProgressView",
            "bar_style": "",
            "description": "Batch 79/79, 2.9s passed",
            "description_tooltip": null,
            "layout": "IPY_MODEL_df5db832e49b47f6979735deff7a0ef3",
            "max": 79,
            "min": 0,
            "orientation": "horizontal",
            "style": "IPY_MODEL_d8e664824e464b9bb553df2836c72bfc",
            "value": 79
          }
        },
        "df5db832e49b47f6979735deff7a0ef3": {
          "model_module": "@jupyter-widgets/base",
          "model_name": "LayoutModel",
          "model_module_version": "1.2.0",
          "state": {
            "_model_module": "@jupyter-widgets/base",
            "_model_module_version": "1.2.0",
            "_model_name": "LayoutModel",
            "_view_count": null,
            "_view_module": "@jupyter-widgets/base",
            "_view_module_version": "1.2.0",
            "_view_name": "LayoutView",
            "align_content": null,
            "align_items": null,
            "align_self": null,
            "border": null,
            "bottom": null,
            "display": null,
            "flex": null,
            "flex_flow": null,
            "grid_area": null,
            "grid_auto_columns": null,
            "grid_auto_flow": null,
            "grid_auto_rows": null,
            "grid_column": null,
            "grid_gap": null,
            "grid_row": null,
            "grid_template_areas": null,
            "grid_template_columns": null,
            "grid_template_rows": null,
            "height": null,
            "justify_content": null,
            "justify_items": null,
            "left": null,
            "margin": null,
            "max_height": null,
            "max_width": null,
            "min_height": null,
            "min_width": null,
            "object_fit": null,
            "object_position": null,
            "order": null,
            "overflow": null,
            "overflow_x": null,
            "overflow_y": null,
            "padding": null,
            "right": null,
            "top": null,
            "visibility": null,
            "width": "67%"
          }
        },
        "d8e664824e464b9bb553df2836c72bfc": {
          "model_module": "@jupyter-widgets/controls",
          "model_name": "ProgressStyleModel",
          "model_module_version": "1.5.0",
          "state": {
            "_model_module": "@jupyter-widgets/controls",
            "_model_module_version": "1.5.0",
            "_model_name": "ProgressStyleModel",
            "_view_count": null,
            "_view_module": "@jupyter-widgets/base",
            "_view_module_version": "1.2.0",
            "_view_name": "StyleView",
            "bar_color": null,
            "description_width": "23%"
          }
        },
        "4579ba6bdecb447fa73f7fd570de6c2d": {
          "model_module": "@jupyter-widgets/controls",
          "model_name": "HTMLMathModel",
          "model_module_version": "1.5.0",
          "state": {
            "_dom_classes": [],
            "_model_module": "@jupyter-widgets/controls",
            "_model_module_version": "1.5.0",
            "_model_name": "HTMLMathModel",
            "_view_count": null,
            "_view_module": "@jupyter-widgets/controls",
            "_view_module_version": "1.5.0",
            "_view_name": "HTMLMathView",
            "description": "Epoch 2/5 train --",
            "description_tooltip": null,
            "layout": "IPY_MODEL_925bde4fdc7e479ba6c74eb49948201a",
            "placeholder": "HTMLM",
            "style": "IPY_MODEL_14db94fcb3c74bfb8e83b952e4087221",
            "value": "\tlogit_accuracy: 0.5938;\tfactor_accuracy: 0.9142;"
          }
        },
        "925bde4fdc7e479ba6c74eb49948201a": {
          "model_module": "@jupyter-widgets/base",
          "model_name": "LayoutModel",
          "model_module_version": "1.2.0",
          "state": {
            "_model_module": "@jupyter-widgets/base",
            "_model_module_version": "1.2.0",
            "_model_name": "LayoutModel",
            "_view_count": null,
            "_view_module": "@jupyter-widgets/base",
            "_view_module_version": "1.2.0",
            "_view_name": "LayoutView",
            "align_content": null,
            "align_items": null,
            "align_self": null,
            "border": null,
            "bottom": null,
            "display": null,
            "flex": null,
            "flex_flow": null,
            "grid_area": null,
            "grid_auto_columns": null,
            "grid_auto_flow": null,
            "grid_auto_rows": null,
            "grid_column": null,
            "grid_gap": null,
            "grid_row": null,
            "grid_template_areas": null,
            "grid_template_columns": null,
            "grid_template_rows": null,
            "height": null,
            "justify_content": null,
            "justify_items": null,
            "left": null,
            "margin": null,
            "max_height": null,
            "max_width": null,
            "min_height": null,
            "min_width": null,
            "object_fit": null,
            "object_position": null,
            "order": null,
            "overflow": null,
            "overflow_x": null,
            "overflow_y": null,
            "padding": null,
            "right": null,
            "top": null,
            "visibility": null,
            "width": "67%"
          }
        },
        "14db94fcb3c74bfb8e83b952e4087221": {
          "model_module": "@jupyter-widgets/controls",
          "model_name": "DescriptionStyleModel",
          "model_module_version": "1.5.0",
          "state": {
            "_model_module": "@jupyter-widgets/controls",
            "_model_module_version": "1.5.0",
            "_model_name": "DescriptionStyleModel",
            "_view_count": null,
            "_view_module": "@jupyter-widgets/base",
            "_view_module_version": "1.2.0",
            "_view_name": "StyleView",
            "description_width": "23%"
          }
        },
        "d3de58d419be4497ada55499032b8652": {
          "model_module": "@jupyter-widgets/controls",
          "model_name": "IntProgressModel",
          "model_module_version": "1.5.0",
          "state": {
            "_dom_classes": [],
            "_model_module": "@jupyter-widgets/controls",
            "_model_module_version": "1.5.0",
            "_model_name": "IntProgressModel",
            "_view_count": null,
            "_view_module": "@jupyter-widgets/controls",
            "_view_module_version": "1.5.0",
            "_view_name": "ProgressView",
            "bar_style": "",
            "description": "Batch 469/469, 64.0s passed",
            "description_tooltip": null,
            "layout": "IPY_MODEL_41c7147e4e6a44a5a05969dc7132c4e8",
            "max": 469,
            "min": 0,
            "orientation": "horizontal",
            "style": "IPY_MODEL_19db673e9ec54c058e1c14e5195b4fc1",
            "value": 469
          }
        },
        "41c7147e4e6a44a5a05969dc7132c4e8": {
          "model_module": "@jupyter-widgets/base",
          "model_name": "LayoutModel",
          "model_module_version": "1.2.0",
          "state": {
            "_model_module": "@jupyter-widgets/base",
            "_model_module_version": "1.2.0",
            "_model_name": "LayoutModel",
            "_view_count": null,
            "_view_module": "@jupyter-widgets/base",
            "_view_module_version": "1.2.0",
            "_view_name": "LayoutView",
            "align_content": null,
            "align_items": null,
            "align_self": null,
            "border": null,
            "bottom": null,
            "display": null,
            "flex": null,
            "flex_flow": null,
            "grid_area": null,
            "grid_auto_columns": null,
            "grid_auto_flow": null,
            "grid_auto_rows": null,
            "grid_column": null,
            "grid_gap": null,
            "grid_row": null,
            "grid_template_areas": null,
            "grid_template_columns": null,
            "grid_template_rows": null,
            "height": null,
            "justify_content": null,
            "justify_items": null,
            "left": null,
            "margin": null,
            "max_height": null,
            "max_width": null,
            "min_height": null,
            "min_width": null,
            "object_fit": null,
            "object_position": null,
            "order": null,
            "overflow": null,
            "overflow_x": null,
            "overflow_y": null,
            "padding": null,
            "right": null,
            "top": null,
            "visibility": null,
            "width": "67%"
          }
        },
        "19db673e9ec54c058e1c14e5195b4fc1": {
          "model_module": "@jupyter-widgets/controls",
          "model_name": "ProgressStyleModel",
          "model_module_version": "1.5.0",
          "state": {
            "_model_module": "@jupyter-widgets/controls",
            "_model_module_version": "1.5.0",
            "_model_name": "ProgressStyleModel",
            "_view_count": null,
            "_view_module": "@jupyter-widgets/base",
            "_view_module_version": "1.2.0",
            "_view_name": "StyleView",
            "bar_color": null,
            "description_width": "23%"
          }
        },
        "ca309d817e0a40538ad8a3ec30b925da": {
          "model_module": "@jupyter-widgets/controls",
          "model_name": "HTMLMathModel",
          "model_module_version": "1.5.0",
          "state": {
            "_dom_classes": [],
            "_model_module": "@jupyter-widgets/controls",
            "_model_module_version": "1.5.0",
            "_model_name": "HTMLMathModel",
            "_view_count": null,
            "_view_module": "@jupyter-widgets/controls",
            "_view_module_version": "1.5.0",
            "_view_name": "HTMLMathView",
            "description": "Validation --",
            "description_tooltip": null,
            "layout": "IPY_MODEL_e822746435e347b2be5c8000bc8c4c6b",
            "placeholder": "HTMLM",
            "style": "IPY_MODEL_ad09f390874b420bb4bc7c90f05c6c88",
            "value": "\tlogit_accuracy: 0.6103;\tfactor_accuracy: 0.9229;"
          }
        },
        "e822746435e347b2be5c8000bc8c4c6b": {
          "model_module": "@jupyter-widgets/base",
          "model_name": "LayoutModel",
          "model_module_version": "1.2.0",
          "state": {
            "_model_module": "@jupyter-widgets/base",
            "_model_module_version": "1.2.0",
            "_model_name": "LayoutModel",
            "_view_count": null,
            "_view_module": "@jupyter-widgets/base",
            "_view_module_version": "1.2.0",
            "_view_name": "LayoutView",
            "align_content": null,
            "align_items": null,
            "align_self": null,
            "border": null,
            "bottom": null,
            "display": null,
            "flex": null,
            "flex_flow": null,
            "grid_area": null,
            "grid_auto_columns": null,
            "grid_auto_flow": null,
            "grid_auto_rows": null,
            "grid_column": null,
            "grid_gap": null,
            "grid_row": null,
            "grid_template_areas": null,
            "grid_template_columns": null,
            "grid_template_rows": null,
            "height": null,
            "justify_content": null,
            "justify_items": null,
            "left": null,
            "margin": null,
            "max_height": null,
            "max_width": null,
            "min_height": null,
            "min_width": null,
            "object_fit": null,
            "object_position": null,
            "order": null,
            "overflow": null,
            "overflow_x": null,
            "overflow_y": null,
            "padding": null,
            "right": null,
            "top": null,
            "visibility": null,
            "width": "67%"
          }
        },
        "ad09f390874b420bb4bc7c90f05c6c88": {
          "model_module": "@jupyter-widgets/controls",
          "model_name": "DescriptionStyleModel",
          "model_module_version": "1.5.0",
          "state": {
            "_model_module": "@jupyter-widgets/controls",
            "_model_module_version": "1.5.0",
            "_model_name": "DescriptionStyleModel",
            "_view_count": null,
            "_view_module": "@jupyter-widgets/base",
            "_view_module_version": "1.2.0",
            "_view_name": "StyleView",
            "description_width": "23%"
          }
        },
        "7ea3a3a93be440abad4a10a7cc68ffc4": {
          "model_module": "@jupyter-widgets/controls",
          "model_name": "IntProgressModel",
          "model_module_version": "1.5.0",
          "state": {
            "_dom_classes": [],
            "_model_module": "@jupyter-widgets/controls",
            "_model_module_version": "1.5.0",
            "_model_name": "IntProgressModel",
            "_view_count": null,
            "_view_module": "@jupyter-widgets/controls",
            "_view_module_version": "1.5.0",
            "_view_name": "ProgressView",
            "bar_style": "",
            "description": "Batch 79/79, 3.3s passed",
            "description_tooltip": null,
            "layout": "IPY_MODEL_1a808f22abc94dda989b37e7b6ef6ef2",
            "max": 79,
            "min": 0,
            "orientation": "horizontal",
            "style": "IPY_MODEL_8d54f895f7324c6f9f6be45bdbf914ad",
            "value": 79
          }
        },
        "1a808f22abc94dda989b37e7b6ef6ef2": {
          "model_module": "@jupyter-widgets/base",
          "model_name": "LayoutModel",
          "model_module_version": "1.2.0",
          "state": {
            "_model_module": "@jupyter-widgets/base",
            "_model_module_version": "1.2.0",
            "_model_name": "LayoutModel",
            "_view_count": null,
            "_view_module": "@jupyter-widgets/base",
            "_view_module_version": "1.2.0",
            "_view_name": "LayoutView",
            "align_content": null,
            "align_items": null,
            "align_self": null,
            "border": null,
            "bottom": null,
            "display": null,
            "flex": null,
            "flex_flow": null,
            "grid_area": null,
            "grid_auto_columns": null,
            "grid_auto_flow": null,
            "grid_auto_rows": null,
            "grid_column": null,
            "grid_gap": null,
            "grid_row": null,
            "grid_template_areas": null,
            "grid_template_columns": null,
            "grid_template_rows": null,
            "height": null,
            "justify_content": null,
            "justify_items": null,
            "left": null,
            "margin": null,
            "max_height": null,
            "max_width": null,
            "min_height": null,
            "min_width": null,
            "object_fit": null,
            "object_position": null,
            "order": null,
            "overflow": null,
            "overflow_x": null,
            "overflow_y": null,
            "padding": null,
            "right": null,
            "top": null,
            "visibility": null,
            "width": "67%"
          }
        },
        "8d54f895f7324c6f9f6be45bdbf914ad": {
          "model_module": "@jupyter-widgets/controls",
          "model_name": "ProgressStyleModel",
          "model_module_version": "1.5.0",
          "state": {
            "_model_module": "@jupyter-widgets/controls",
            "_model_module_version": "1.5.0",
            "_model_name": "ProgressStyleModel",
            "_view_count": null,
            "_view_module": "@jupyter-widgets/base",
            "_view_module_version": "1.2.0",
            "_view_name": "StyleView",
            "bar_color": null,
            "description_width": "23%"
          }
        },
        "51b55b58da074098bd705a894608b23d": {
          "model_module": "@jupyter-widgets/controls",
          "model_name": "HTMLMathModel",
          "model_module_version": "1.5.0",
          "state": {
            "_dom_classes": [],
            "_model_module": "@jupyter-widgets/controls",
            "_model_module_version": "1.5.0",
            "_model_name": "HTMLMathModel",
            "_view_count": null,
            "_view_module": "@jupyter-widgets/controls",
            "_view_module_version": "1.5.0",
            "_view_name": "HTMLMathView",
            "description": "Epoch 3/5 train --",
            "description_tooltip": null,
            "layout": "IPY_MODEL_7b5cbef607a947f29247ec1241798728",
            "placeholder": "HTMLM",
            "style": "IPY_MODEL_9a44a776b91d4ac586c9b9c160709e4d",
            "value": "\tlogit_accuracy: 0.5995;\tfactor_accuracy: 0.9249;"
          }
        },
        "7b5cbef607a947f29247ec1241798728": {
          "model_module": "@jupyter-widgets/base",
          "model_name": "LayoutModel",
          "model_module_version": "1.2.0",
          "state": {
            "_model_module": "@jupyter-widgets/base",
            "_model_module_version": "1.2.0",
            "_model_name": "LayoutModel",
            "_view_count": null,
            "_view_module": "@jupyter-widgets/base",
            "_view_module_version": "1.2.0",
            "_view_name": "LayoutView",
            "align_content": null,
            "align_items": null,
            "align_self": null,
            "border": null,
            "bottom": null,
            "display": null,
            "flex": null,
            "flex_flow": null,
            "grid_area": null,
            "grid_auto_columns": null,
            "grid_auto_flow": null,
            "grid_auto_rows": null,
            "grid_column": null,
            "grid_gap": null,
            "grid_row": null,
            "grid_template_areas": null,
            "grid_template_columns": null,
            "grid_template_rows": null,
            "height": null,
            "justify_content": null,
            "justify_items": null,
            "left": null,
            "margin": null,
            "max_height": null,
            "max_width": null,
            "min_height": null,
            "min_width": null,
            "object_fit": null,
            "object_position": null,
            "order": null,
            "overflow": null,
            "overflow_x": null,
            "overflow_y": null,
            "padding": null,
            "right": null,
            "top": null,
            "visibility": null,
            "width": "67%"
          }
        },
        "9a44a776b91d4ac586c9b9c160709e4d": {
          "model_module": "@jupyter-widgets/controls",
          "model_name": "DescriptionStyleModel",
          "model_module_version": "1.5.0",
          "state": {
            "_model_module": "@jupyter-widgets/controls",
            "_model_module_version": "1.5.0",
            "_model_name": "DescriptionStyleModel",
            "_view_count": null,
            "_view_module": "@jupyter-widgets/base",
            "_view_module_version": "1.2.0",
            "_view_name": "StyleView",
            "description_width": "23%"
          }
        },
        "9ce9df86baa94d27886c4e6e434ef396": {
          "model_module": "@jupyter-widgets/controls",
          "model_name": "IntProgressModel",
          "model_module_version": "1.5.0",
          "state": {
            "_dom_classes": [],
            "_model_module": "@jupyter-widgets/controls",
            "_model_module_version": "1.5.0",
            "_model_name": "IntProgressModel",
            "_view_count": null,
            "_view_module": "@jupyter-widgets/controls",
            "_view_module_version": "1.5.0",
            "_view_name": "ProgressView",
            "bar_style": "",
            "description": "Batch 469/469, 65.5s passed",
            "description_tooltip": null,
            "layout": "IPY_MODEL_d2c1272fa4094f68b76c08ecaf64550f",
            "max": 469,
            "min": 0,
            "orientation": "horizontal",
            "style": "IPY_MODEL_4e7f7ed7ad1c4209847d52eec723b43c",
            "value": 469
          }
        },
        "d2c1272fa4094f68b76c08ecaf64550f": {
          "model_module": "@jupyter-widgets/base",
          "model_name": "LayoutModel",
          "model_module_version": "1.2.0",
          "state": {
            "_model_module": "@jupyter-widgets/base",
            "_model_module_version": "1.2.0",
            "_model_name": "LayoutModel",
            "_view_count": null,
            "_view_module": "@jupyter-widgets/base",
            "_view_module_version": "1.2.0",
            "_view_name": "LayoutView",
            "align_content": null,
            "align_items": null,
            "align_self": null,
            "border": null,
            "bottom": null,
            "display": null,
            "flex": null,
            "flex_flow": null,
            "grid_area": null,
            "grid_auto_columns": null,
            "grid_auto_flow": null,
            "grid_auto_rows": null,
            "grid_column": null,
            "grid_gap": null,
            "grid_row": null,
            "grid_template_areas": null,
            "grid_template_columns": null,
            "grid_template_rows": null,
            "height": null,
            "justify_content": null,
            "justify_items": null,
            "left": null,
            "margin": null,
            "max_height": null,
            "max_width": null,
            "min_height": null,
            "min_width": null,
            "object_fit": null,
            "object_position": null,
            "order": null,
            "overflow": null,
            "overflow_x": null,
            "overflow_y": null,
            "padding": null,
            "right": null,
            "top": null,
            "visibility": null,
            "width": "67%"
          }
        },
        "4e7f7ed7ad1c4209847d52eec723b43c": {
          "model_module": "@jupyter-widgets/controls",
          "model_name": "ProgressStyleModel",
          "model_module_version": "1.5.0",
          "state": {
            "_model_module": "@jupyter-widgets/controls",
            "_model_module_version": "1.5.0",
            "_model_name": "ProgressStyleModel",
            "_view_count": null,
            "_view_module": "@jupyter-widgets/base",
            "_view_module_version": "1.2.0",
            "_view_name": "StyleView",
            "bar_color": null,
            "description_width": "23%"
          }
        },
        "e27bbdbbe09441699b3e415fb408d32b": {
          "model_module": "@jupyter-widgets/controls",
          "model_name": "HTMLMathModel",
          "model_module_version": "1.5.0",
          "state": {
            "_dom_classes": [],
            "_model_module": "@jupyter-widgets/controls",
            "_model_module_version": "1.5.0",
            "_model_name": "HTMLMathModel",
            "_view_count": null,
            "_view_module": "@jupyter-widgets/controls",
            "_view_module_version": "1.5.0",
            "_view_name": "HTMLMathView",
            "description": "Validation --",
            "description_tooltip": null,
            "layout": "IPY_MODEL_78df58a60ecd4890865da5f15b0dcdc5",
            "placeholder": "HTMLM",
            "style": "IPY_MODEL_bf577f42ce164220b83d280dc8029c09",
            "value": "\tlogit_accuracy: 0.6064;\tfactor_accuracy: 0.9231;"
          }
        },
        "78df58a60ecd4890865da5f15b0dcdc5": {
          "model_module": "@jupyter-widgets/base",
          "model_name": "LayoutModel",
          "model_module_version": "1.2.0",
          "state": {
            "_model_module": "@jupyter-widgets/base",
            "_model_module_version": "1.2.0",
            "_model_name": "LayoutModel",
            "_view_count": null,
            "_view_module": "@jupyter-widgets/base",
            "_view_module_version": "1.2.0",
            "_view_name": "LayoutView",
            "align_content": null,
            "align_items": null,
            "align_self": null,
            "border": null,
            "bottom": null,
            "display": null,
            "flex": null,
            "flex_flow": null,
            "grid_area": null,
            "grid_auto_columns": null,
            "grid_auto_flow": null,
            "grid_auto_rows": null,
            "grid_column": null,
            "grid_gap": null,
            "grid_row": null,
            "grid_template_areas": null,
            "grid_template_columns": null,
            "grid_template_rows": null,
            "height": null,
            "justify_content": null,
            "justify_items": null,
            "left": null,
            "margin": null,
            "max_height": null,
            "max_width": null,
            "min_height": null,
            "min_width": null,
            "object_fit": null,
            "object_position": null,
            "order": null,
            "overflow": null,
            "overflow_x": null,
            "overflow_y": null,
            "padding": null,
            "right": null,
            "top": null,
            "visibility": null,
            "width": "67%"
          }
        },
        "bf577f42ce164220b83d280dc8029c09": {
          "model_module": "@jupyter-widgets/controls",
          "model_name": "DescriptionStyleModel",
          "model_module_version": "1.5.0",
          "state": {
            "_model_module": "@jupyter-widgets/controls",
            "_model_module_version": "1.5.0",
            "_model_name": "DescriptionStyleModel",
            "_view_count": null,
            "_view_module": "@jupyter-widgets/base",
            "_view_module_version": "1.2.0",
            "_view_name": "StyleView",
            "description_width": "23%"
          }
        },
        "5d3f8de5f1644e7eb37687e28a4decc5": {
          "model_module": "@jupyter-widgets/controls",
          "model_name": "IntProgressModel",
          "model_module_version": "1.5.0",
          "state": {
            "_dom_classes": [],
            "_model_module": "@jupyter-widgets/controls",
            "_model_module_version": "1.5.0",
            "_model_name": "IntProgressModel",
            "_view_count": null,
            "_view_module": "@jupyter-widgets/controls",
            "_view_module_version": "1.5.0",
            "_view_name": "ProgressView",
            "bar_style": "",
            "description": "Batch 79/79, 3.0s passed",
            "description_tooltip": null,
            "layout": "IPY_MODEL_97263c8c61fb41189b0fa5a95d6b9200",
            "max": 79,
            "min": 0,
            "orientation": "horizontal",
            "style": "IPY_MODEL_ea323029e3ed4069bcb32bc546611b07",
            "value": 79
          }
        },
        "97263c8c61fb41189b0fa5a95d6b9200": {
          "model_module": "@jupyter-widgets/base",
          "model_name": "LayoutModel",
          "model_module_version": "1.2.0",
          "state": {
            "_model_module": "@jupyter-widgets/base",
            "_model_module_version": "1.2.0",
            "_model_name": "LayoutModel",
            "_view_count": null,
            "_view_module": "@jupyter-widgets/base",
            "_view_module_version": "1.2.0",
            "_view_name": "LayoutView",
            "align_content": null,
            "align_items": null,
            "align_self": null,
            "border": null,
            "bottom": null,
            "display": null,
            "flex": null,
            "flex_flow": null,
            "grid_area": null,
            "grid_auto_columns": null,
            "grid_auto_flow": null,
            "grid_auto_rows": null,
            "grid_column": null,
            "grid_gap": null,
            "grid_row": null,
            "grid_template_areas": null,
            "grid_template_columns": null,
            "grid_template_rows": null,
            "height": null,
            "justify_content": null,
            "justify_items": null,
            "left": null,
            "margin": null,
            "max_height": null,
            "max_width": null,
            "min_height": null,
            "min_width": null,
            "object_fit": null,
            "object_position": null,
            "order": null,
            "overflow": null,
            "overflow_x": null,
            "overflow_y": null,
            "padding": null,
            "right": null,
            "top": null,
            "visibility": null,
            "width": "67%"
          }
        },
        "ea323029e3ed4069bcb32bc546611b07": {
          "model_module": "@jupyter-widgets/controls",
          "model_name": "ProgressStyleModel",
          "model_module_version": "1.5.0",
          "state": {
            "_model_module": "@jupyter-widgets/controls",
            "_model_module_version": "1.5.0",
            "_model_name": "ProgressStyleModel",
            "_view_count": null,
            "_view_module": "@jupyter-widgets/base",
            "_view_module_version": "1.2.0",
            "_view_name": "StyleView",
            "bar_color": null,
            "description_width": "23%"
          }
        },
        "a349dcf66a2e40749e8cb1c5afe46380": {
          "model_module": "@jupyter-widgets/controls",
          "model_name": "HTMLMathModel",
          "model_module_version": "1.5.0",
          "state": {
            "_dom_classes": [],
            "_model_module": "@jupyter-widgets/controls",
            "_model_module_version": "1.5.0",
            "_model_name": "HTMLMathModel",
            "_view_count": null,
            "_view_module": "@jupyter-widgets/controls",
            "_view_module_version": "1.5.0",
            "_view_name": "HTMLMathView",
            "description": "Epoch 4/5 train --",
            "description_tooltip": null,
            "layout": "IPY_MODEL_bbeb2f5da921444490aca859a87b260b",
            "placeholder": "HTMLM",
            "style": "IPY_MODEL_dd204522a09a42b3bc0ac9b4df293d2f",
            "value": "\tlogit_accuracy: 0.5971;\tfactor_accuracy: 0.9303;"
          }
        },
        "bbeb2f5da921444490aca859a87b260b": {
          "model_module": "@jupyter-widgets/base",
          "model_name": "LayoutModel",
          "model_module_version": "1.2.0",
          "state": {
            "_model_module": "@jupyter-widgets/base",
            "_model_module_version": "1.2.0",
            "_model_name": "LayoutModel",
            "_view_count": null,
            "_view_module": "@jupyter-widgets/base",
            "_view_module_version": "1.2.0",
            "_view_name": "LayoutView",
            "align_content": null,
            "align_items": null,
            "align_self": null,
            "border": null,
            "bottom": null,
            "display": null,
            "flex": null,
            "flex_flow": null,
            "grid_area": null,
            "grid_auto_columns": null,
            "grid_auto_flow": null,
            "grid_auto_rows": null,
            "grid_column": null,
            "grid_gap": null,
            "grid_row": null,
            "grid_template_areas": null,
            "grid_template_columns": null,
            "grid_template_rows": null,
            "height": null,
            "justify_content": null,
            "justify_items": null,
            "left": null,
            "margin": null,
            "max_height": null,
            "max_width": null,
            "min_height": null,
            "min_width": null,
            "object_fit": null,
            "object_position": null,
            "order": null,
            "overflow": null,
            "overflow_x": null,
            "overflow_y": null,
            "padding": null,
            "right": null,
            "top": null,
            "visibility": null,
            "width": "67%"
          }
        },
        "dd204522a09a42b3bc0ac9b4df293d2f": {
          "model_module": "@jupyter-widgets/controls",
          "model_name": "DescriptionStyleModel",
          "model_module_version": "1.5.0",
          "state": {
            "_model_module": "@jupyter-widgets/controls",
            "_model_module_version": "1.5.0",
            "_model_name": "DescriptionStyleModel",
            "_view_count": null,
            "_view_module": "@jupyter-widgets/base",
            "_view_module_version": "1.2.0",
            "_view_name": "StyleView",
            "description_width": "23%"
          }
        },
        "00f0c0673f314a77a2c1c15ad4bcd10e": {
          "model_module": "@jupyter-widgets/controls",
          "model_name": "IntProgressModel",
          "model_module_version": "1.5.0",
          "state": {
            "_dom_classes": [],
            "_model_module": "@jupyter-widgets/controls",
            "_model_module_version": "1.5.0",
            "_model_name": "IntProgressModel",
            "_view_count": null,
            "_view_module": "@jupyter-widgets/controls",
            "_view_module_version": "1.5.0",
            "_view_name": "ProgressView",
            "bar_style": "",
            "description": "Batch 469/469, 63.0s passed",
            "description_tooltip": null,
            "layout": "IPY_MODEL_2d4097aed82d431c88b136288a71f07e",
            "max": 469,
            "min": 0,
            "orientation": "horizontal",
            "style": "IPY_MODEL_995c9c4307e9498fa0e21c35fd5ef654",
            "value": 469
          }
        },
        "2d4097aed82d431c88b136288a71f07e": {
          "model_module": "@jupyter-widgets/base",
          "model_name": "LayoutModel",
          "model_module_version": "1.2.0",
          "state": {
            "_model_module": "@jupyter-widgets/base",
            "_model_module_version": "1.2.0",
            "_model_name": "LayoutModel",
            "_view_count": null,
            "_view_module": "@jupyter-widgets/base",
            "_view_module_version": "1.2.0",
            "_view_name": "LayoutView",
            "align_content": null,
            "align_items": null,
            "align_self": null,
            "border": null,
            "bottom": null,
            "display": null,
            "flex": null,
            "flex_flow": null,
            "grid_area": null,
            "grid_auto_columns": null,
            "grid_auto_flow": null,
            "grid_auto_rows": null,
            "grid_column": null,
            "grid_gap": null,
            "grid_row": null,
            "grid_template_areas": null,
            "grid_template_columns": null,
            "grid_template_rows": null,
            "height": null,
            "justify_content": null,
            "justify_items": null,
            "left": null,
            "margin": null,
            "max_height": null,
            "max_width": null,
            "min_height": null,
            "min_width": null,
            "object_fit": null,
            "object_position": null,
            "order": null,
            "overflow": null,
            "overflow_x": null,
            "overflow_y": null,
            "padding": null,
            "right": null,
            "top": null,
            "visibility": null,
            "width": "67%"
          }
        },
        "995c9c4307e9498fa0e21c35fd5ef654": {
          "model_module": "@jupyter-widgets/controls",
          "model_name": "ProgressStyleModel",
          "model_module_version": "1.5.0",
          "state": {
            "_model_module": "@jupyter-widgets/controls",
            "_model_module_version": "1.5.0",
            "_model_name": "ProgressStyleModel",
            "_view_count": null,
            "_view_module": "@jupyter-widgets/base",
            "_view_module_version": "1.2.0",
            "_view_name": "StyleView",
            "bar_color": null,
            "description_width": "23%"
          }
        },
        "483ba0d0ca2240efaa68fe2d5dc8c6c7": {
          "model_module": "@jupyter-widgets/controls",
          "model_name": "HTMLMathModel",
          "model_module_version": "1.5.0",
          "state": {
            "_dom_classes": [],
            "_model_module": "@jupyter-widgets/controls",
            "_model_module_version": "1.5.0",
            "_model_name": "HTMLMathModel",
            "_view_count": null,
            "_view_module": "@jupyter-widgets/controls",
            "_view_module_version": "1.5.0",
            "_view_name": "HTMLMathView",
            "description": "Validation --",
            "description_tooltip": null,
            "layout": "IPY_MODEL_23ab35386d1d44eab77858f664f4a48a",
            "placeholder": "HTMLM",
            "style": "IPY_MODEL_49c9dcfc129a4b53a6cda1427bb125d3",
            "value": "\tlogit_accuracy: 0.6222;\tfactor_accuracy: 0.9335;"
          }
        },
        "23ab35386d1d44eab77858f664f4a48a": {
          "model_module": "@jupyter-widgets/base",
          "model_name": "LayoutModel",
          "model_module_version": "1.2.0",
          "state": {
            "_model_module": "@jupyter-widgets/base",
            "_model_module_version": "1.2.0",
            "_model_name": "LayoutModel",
            "_view_count": null,
            "_view_module": "@jupyter-widgets/base",
            "_view_module_version": "1.2.0",
            "_view_name": "LayoutView",
            "align_content": null,
            "align_items": null,
            "align_self": null,
            "border": null,
            "bottom": null,
            "display": null,
            "flex": null,
            "flex_flow": null,
            "grid_area": null,
            "grid_auto_columns": null,
            "grid_auto_flow": null,
            "grid_auto_rows": null,
            "grid_column": null,
            "grid_gap": null,
            "grid_row": null,
            "grid_template_areas": null,
            "grid_template_columns": null,
            "grid_template_rows": null,
            "height": null,
            "justify_content": null,
            "justify_items": null,
            "left": null,
            "margin": null,
            "max_height": null,
            "max_width": null,
            "min_height": null,
            "min_width": null,
            "object_fit": null,
            "object_position": null,
            "order": null,
            "overflow": null,
            "overflow_x": null,
            "overflow_y": null,
            "padding": null,
            "right": null,
            "top": null,
            "visibility": null,
            "width": "67%"
          }
        },
        "49c9dcfc129a4b53a6cda1427bb125d3": {
          "model_module": "@jupyter-widgets/controls",
          "model_name": "DescriptionStyleModel",
          "model_module_version": "1.5.0",
          "state": {
            "_model_module": "@jupyter-widgets/controls",
            "_model_module_version": "1.5.0",
            "_model_name": "DescriptionStyleModel",
            "_view_count": null,
            "_view_module": "@jupyter-widgets/base",
            "_view_module_version": "1.2.0",
            "_view_name": "StyleView",
            "description_width": "23%"
          }
        },
        "b73cc1b836ae4ccf97aba7f961989c61": {
          "model_module": "@jupyter-widgets/controls",
          "model_name": "IntProgressModel",
          "model_module_version": "1.5.0",
          "state": {
            "_dom_classes": [],
            "_model_module": "@jupyter-widgets/controls",
            "_model_module_version": "1.5.0",
            "_model_name": "IntProgressModel",
            "_view_count": null,
            "_view_module": "@jupyter-widgets/controls",
            "_view_module_version": "1.5.0",
            "_view_name": "ProgressView",
            "bar_style": "",
            "description": "Batch 79/79, 3.9s passed",
            "description_tooltip": null,
            "layout": "IPY_MODEL_7cd84ba9adfb40bd9080bfb1ed2f21d0",
            "max": 79,
            "min": 0,
            "orientation": "horizontal",
            "style": "IPY_MODEL_35426609de1b4305a969e8f0cdcf5552",
            "value": 79
          }
        },
        "7cd84ba9adfb40bd9080bfb1ed2f21d0": {
          "model_module": "@jupyter-widgets/base",
          "model_name": "LayoutModel",
          "model_module_version": "1.2.0",
          "state": {
            "_model_module": "@jupyter-widgets/base",
            "_model_module_version": "1.2.0",
            "_model_name": "LayoutModel",
            "_view_count": null,
            "_view_module": "@jupyter-widgets/base",
            "_view_module_version": "1.2.0",
            "_view_name": "LayoutView",
            "align_content": null,
            "align_items": null,
            "align_self": null,
            "border": null,
            "bottom": null,
            "display": null,
            "flex": null,
            "flex_flow": null,
            "grid_area": null,
            "grid_auto_columns": null,
            "grid_auto_flow": null,
            "grid_auto_rows": null,
            "grid_column": null,
            "grid_gap": null,
            "grid_row": null,
            "grid_template_areas": null,
            "grid_template_columns": null,
            "grid_template_rows": null,
            "height": null,
            "justify_content": null,
            "justify_items": null,
            "left": null,
            "margin": null,
            "max_height": null,
            "max_width": null,
            "min_height": null,
            "min_width": null,
            "object_fit": null,
            "object_position": null,
            "order": null,
            "overflow": null,
            "overflow_x": null,
            "overflow_y": null,
            "padding": null,
            "right": null,
            "top": null,
            "visibility": null,
            "width": "67%"
          }
        },
        "35426609de1b4305a969e8f0cdcf5552": {
          "model_module": "@jupyter-widgets/controls",
          "model_name": "ProgressStyleModel",
          "model_module_version": "1.5.0",
          "state": {
            "_model_module": "@jupyter-widgets/controls",
            "_model_module_version": "1.5.0",
            "_model_name": "ProgressStyleModel",
            "_view_count": null,
            "_view_module": "@jupyter-widgets/base",
            "_view_module_version": "1.2.0",
            "_view_name": "StyleView",
            "bar_color": null,
            "description_width": "23%"
          }
        },
        "c0101769682842e5976b704dfb277021": {
          "model_module": "@jupyter-widgets/controls",
          "model_name": "HTMLMathModel",
          "model_module_version": "1.5.0",
          "state": {
            "_dom_classes": [],
            "_model_module": "@jupyter-widgets/controls",
            "_model_module_version": "1.5.0",
            "_model_name": "HTMLMathModel",
            "_view_count": null,
            "_view_module": "@jupyter-widgets/controls",
            "_view_module_version": "1.5.0",
            "_view_name": "HTMLMathView",
            "description": "Epoch 5/5 train --",
            "description_tooltip": null,
            "layout": "IPY_MODEL_7ab4464b722a4120ae59c59a36b58001",
            "placeholder": "HTMLM",
            "style": "IPY_MODEL_a6879c8fca484cb9bf4b5f4e6e036e01",
            "value": "\tlogit_accuracy: 0.6012;\tfactor_accuracy: 0.9337;"
          }
        },
        "7ab4464b722a4120ae59c59a36b58001": {
          "model_module": "@jupyter-widgets/base",
          "model_name": "LayoutModel",
          "model_module_version": "1.2.0",
          "state": {
            "_model_module": "@jupyter-widgets/base",
            "_model_module_version": "1.2.0",
            "_model_name": "LayoutModel",
            "_view_count": null,
            "_view_module": "@jupyter-widgets/base",
            "_view_module_version": "1.2.0",
            "_view_name": "LayoutView",
            "align_content": null,
            "align_items": null,
            "align_self": null,
            "border": null,
            "bottom": null,
            "display": null,
            "flex": null,
            "flex_flow": null,
            "grid_area": null,
            "grid_auto_columns": null,
            "grid_auto_flow": null,
            "grid_auto_rows": null,
            "grid_column": null,
            "grid_gap": null,
            "grid_row": null,
            "grid_template_areas": null,
            "grid_template_columns": null,
            "grid_template_rows": null,
            "height": null,
            "justify_content": null,
            "justify_items": null,
            "left": null,
            "margin": null,
            "max_height": null,
            "max_width": null,
            "min_height": null,
            "min_width": null,
            "object_fit": null,
            "object_position": null,
            "order": null,
            "overflow": null,
            "overflow_x": null,
            "overflow_y": null,
            "padding": null,
            "right": null,
            "top": null,
            "visibility": null,
            "width": "67%"
          }
        },
        "a6879c8fca484cb9bf4b5f4e6e036e01": {
          "model_module": "@jupyter-widgets/controls",
          "model_name": "DescriptionStyleModel",
          "model_module_version": "1.5.0",
          "state": {
            "_model_module": "@jupyter-widgets/controls",
            "_model_module_version": "1.5.0",
            "_model_name": "DescriptionStyleModel",
            "_view_count": null,
            "_view_module": "@jupyter-widgets/base",
            "_view_module_version": "1.2.0",
            "_view_name": "StyleView",
            "description_width": "23%"
          }
        },
        "789309941383432d83dda7c82461ed0c": {
          "model_module": "@jupyter-widgets/controls",
          "model_name": "IntProgressModel",
          "model_module_version": "1.5.0",
          "state": {
            "_dom_classes": [],
            "_model_module": "@jupyter-widgets/controls",
            "_model_module_version": "1.5.0",
            "_model_name": "IntProgressModel",
            "_view_count": null,
            "_view_module": "@jupyter-widgets/controls",
            "_view_module_version": "1.5.0",
            "_view_name": "ProgressView",
            "bar_style": "",
            "description": "Batch 469/469, 69.8s passed",
            "description_tooltip": null,
            "layout": "IPY_MODEL_7642e9a68b8847bdbf7067ca27110ea8",
            "max": 469,
            "min": 0,
            "orientation": "horizontal",
            "style": "IPY_MODEL_372dd932927a40cdaab51f2d42c899d1",
            "value": 469
          }
        },
        "7642e9a68b8847bdbf7067ca27110ea8": {
          "model_module": "@jupyter-widgets/base",
          "model_name": "LayoutModel",
          "model_module_version": "1.2.0",
          "state": {
            "_model_module": "@jupyter-widgets/base",
            "_model_module_version": "1.2.0",
            "_model_name": "LayoutModel",
            "_view_count": null,
            "_view_module": "@jupyter-widgets/base",
            "_view_module_version": "1.2.0",
            "_view_name": "LayoutView",
            "align_content": null,
            "align_items": null,
            "align_self": null,
            "border": null,
            "bottom": null,
            "display": null,
            "flex": null,
            "flex_flow": null,
            "grid_area": null,
            "grid_auto_columns": null,
            "grid_auto_flow": null,
            "grid_auto_rows": null,
            "grid_column": null,
            "grid_gap": null,
            "grid_row": null,
            "grid_template_areas": null,
            "grid_template_columns": null,
            "grid_template_rows": null,
            "height": null,
            "justify_content": null,
            "justify_items": null,
            "left": null,
            "margin": null,
            "max_height": null,
            "max_width": null,
            "min_height": null,
            "min_width": null,
            "object_fit": null,
            "object_position": null,
            "order": null,
            "overflow": null,
            "overflow_x": null,
            "overflow_y": null,
            "padding": null,
            "right": null,
            "top": null,
            "visibility": null,
            "width": "67%"
          }
        },
        "372dd932927a40cdaab51f2d42c899d1": {
          "model_module": "@jupyter-widgets/controls",
          "model_name": "ProgressStyleModel",
          "model_module_version": "1.5.0",
          "state": {
            "_model_module": "@jupyter-widgets/controls",
            "_model_module_version": "1.5.0",
            "_model_name": "ProgressStyleModel",
            "_view_count": null,
            "_view_module": "@jupyter-widgets/base",
            "_view_module_version": "1.2.0",
            "_view_name": "StyleView",
            "bar_color": null,
            "description_width": "23%"
          }
        },
        "833f9cbe537c4096ad3a678c86f052a1": {
          "model_module": "@jupyter-widgets/controls",
          "model_name": "HTMLMathModel",
          "model_module_version": "1.5.0",
          "state": {
            "_dom_classes": [],
            "_model_module": "@jupyter-widgets/controls",
            "_model_module_version": "1.5.0",
            "_model_name": "HTMLMathModel",
            "_view_count": null,
            "_view_module": "@jupyter-widgets/controls",
            "_view_module_version": "1.5.0",
            "_view_name": "HTMLMathView",
            "description": "Validation --",
            "description_tooltip": null,
            "layout": "IPY_MODEL_6f986e2040674039b63eb6c2c8b9cb31",
            "placeholder": "HTMLM",
            "style": "IPY_MODEL_84fbab0fa08146f9b970915f58e28f86",
            "value": "\tlogit_accuracy: 0.6247;\tfactor_accuracy: 0.9357;"
          }
        },
        "6f986e2040674039b63eb6c2c8b9cb31": {
          "model_module": "@jupyter-widgets/base",
          "model_name": "LayoutModel",
          "model_module_version": "1.2.0",
          "state": {
            "_model_module": "@jupyter-widgets/base",
            "_model_module_version": "1.2.0",
            "_model_name": "LayoutModel",
            "_view_count": null,
            "_view_module": "@jupyter-widgets/base",
            "_view_module_version": "1.2.0",
            "_view_name": "LayoutView",
            "align_content": null,
            "align_items": null,
            "align_self": null,
            "border": null,
            "bottom": null,
            "display": null,
            "flex": null,
            "flex_flow": null,
            "grid_area": null,
            "grid_auto_columns": null,
            "grid_auto_flow": null,
            "grid_auto_rows": null,
            "grid_column": null,
            "grid_gap": null,
            "grid_row": null,
            "grid_template_areas": null,
            "grid_template_columns": null,
            "grid_template_rows": null,
            "height": null,
            "justify_content": null,
            "justify_items": null,
            "left": null,
            "margin": null,
            "max_height": null,
            "max_width": null,
            "min_height": null,
            "min_width": null,
            "object_fit": null,
            "object_position": null,
            "order": null,
            "overflow": null,
            "overflow_x": null,
            "overflow_y": null,
            "padding": null,
            "right": null,
            "top": null,
            "visibility": null,
            "width": "67%"
          }
        },
        "84fbab0fa08146f9b970915f58e28f86": {
          "model_module": "@jupyter-widgets/controls",
          "model_name": "DescriptionStyleModel",
          "model_module_version": "1.5.0",
          "state": {
            "_model_module": "@jupyter-widgets/controls",
            "_model_module_version": "1.5.0",
            "_model_name": "DescriptionStyleModel",
            "_view_count": null,
            "_view_module": "@jupyter-widgets/base",
            "_view_module_version": "1.2.0",
            "_view_name": "StyleView",
            "description_width": "23%"
          }
        },
        "82f7d5bc5ea3418db24324a1d32d8191": {
          "model_module": "@jupyter-widgets/controls",
          "model_name": "IntProgressModel",
          "model_module_version": "1.5.0",
          "state": {
            "_dom_classes": [],
            "_model_module": "@jupyter-widgets/controls",
            "_model_module_version": "1.5.0",
            "_model_name": "IntProgressModel",
            "_view_count": null,
            "_view_module": "@jupyter-widgets/controls",
            "_view_module_version": "1.5.0",
            "_view_name": "ProgressView",
            "bar_style": "",
            "description": "Batch 79/79, 3.1s passed",
            "description_tooltip": null,
            "layout": "IPY_MODEL_faee7822926e4e3a89a1ee3bf7594d86",
            "max": 79,
            "min": 0,
            "orientation": "horizontal",
            "style": "IPY_MODEL_bdae10f618fa4916bb0fad24c2e6610e",
            "value": 79
          }
        },
        "faee7822926e4e3a89a1ee3bf7594d86": {
          "model_module": "@jupyter-widgets/base",
          "model_name": "LayoutModel",
          "model_module_version": "1.2.0",
          "state": {
            "_model_module": "@jupyter-widgets/base",
            "_model_module_version": "1.2.0",
            "_model_name": "LayoutModel",
            "_view_count": null,
            "_view_module": "@jupyter-widgets/base",
            "_view_module_version": "1.2.0",
            "_view_name": "LayoutView",
            "align_content": null,
            "align_items": null,
            "align_self": null,
            "border": null,
            "bottom": null,
            "display": null,
            "flex": null,
            "flex_flow": null,
            "grid_area": null,
            "grid_auto_columns": null,
            "grid_auto_flow": null,
            "grid_auto_rows": null,
            "grid_column": null,
            "grid_gap": null,
            "grid_row": null,
            "grid_template_areas": null,
            "grid_template_columns": null,
            "grid_template_rows": null,
            "height": null,
            "justify_content": null,
            "justify_items": null,
            "left": null,
            "margin": null,
            "max_height": null,
            "max_width": null,
            "min_height": null,
            "min_width": null,
            "object_fit": null,
            "object_position": null,
            "order": null,
            "overflow": null,
            "overflow_x": null,
            "overflow_y": null,
            "padding": null,
            "right": null,
            "top": null,
            "visibility": null,
            "width": "67%"
          }
        },
        "bdae10f618fa4916bb0fad24c2e6610e": {
          "model_module": "@jupyter-widgets/controls",
          "model_name": "ProgressStyleModel",
          "model_module_version": "1.5.0",
          "state": {
            "_model_module": "@jupyter-widgets/controls",
            "_model_module_version": "1.5.0",
            "_model_name": "ProgressStyleModel",
            "_view_count": null,
            "_view_module": "@jupyter-widgets/base",
            "_view_module_version": "1.2.0",
            "_view_name": "StyleView",
            "bar_color": null,
            "description_width": "23%"
          }
        },
        "ee2754e2b9b245c6a5ae82fa20aea639": {
          "model_module": "@jupyter-widgets/controls",
          "model_name": "HTMLMathModel",
          "model_module_version": "1.5.0",
          "state": {
            "_dom_classes": [],
            "_model_module": "@jupyter-widgets/controls",
            "_model_module_version": "1.5.0",
            "_model_name": "HTMLMathModel",
            "_view_count": null,
            "_view_module": "@jupyter-widgets/controls",
            "_view_module_version": "1.5.0",
            "_view_name": "HTMLMathView",
            "description": "Validation --",
            "description_tooltip": null,
            "layout": "IPY_MODEL_51db1b8f8aa3476f88d4162cdf37dd3d",
            "placeholder": "HTMLM",
            "style": "IPY_MODEL_824084a76ef346a4bdcc785436ad389a",
            "value": "\tlogit_accuracy: 0.8832;\tfactor_accuracy: 0.9374;"
          }
        },
        "51db1b8f8aa3476f88d4162cdf37dd3d": {
          "model_module": "@jupyter-widgets/base",
          "model_name": "LayoutModel",
          "model_module_version": "1.2.0",
          "state": {
            "_model_module": "@jupyter-widgets/base",
            "_model_module_version": "1.2.0",
            "_model_name": "LayoutModel",
            "_view_count": null,
            "_view_module": "@jupyter-widgets/base",
            "_view_module_version": "1.2.0",
            "_view_name": "LayoutView",
            "align_content": null,
            "align_items": null,
            "align_self": null,
            "border": null,
            "bottom": null,
            "display": null,
            "flex": null,
            "flex_flow": null,
            "grid_area": null,
            "grid_auto_columns": null,
            "grid_auto_flow": null,
            "grid_auto_rows": null,
            "grid_column": null,
            "grid_gap": null,
            "grid_row": null,
            "grid_template_areas": null,
            "grid_template_columns": null,
            "grid_template_rows": null,
            "height": null,
            "justify_content": null,
            "justify_items": null,
            "left": null,
            "margin": null,
            "max_height": null,
            "max_width": null,
            "min_height": null,
            "min_width": null,
            "object_fit": null,
            "object_position": null,
            "order": null,
            "overflow": null,
            "overflow_x": null,
            "overflow_y": null,
            "padding": null,
            "right": null,
            "top": null,
            "visibility": null,
            "width": "67%"
          }
        },
        "824084a76ef346a4bdcc785436ad389a": {
          "model_module": "@jupyter-widgets/controls",
          "model_name": "DescriptionStyleModel",
          "model_module_version": "1.5.0",
          "state": {
            "_model_module": "@jupyter-widgets/controls",
            "_model_module_version": "1.5.0",
            "_model_name": "DescriptionStyleModel",
            "_view_count": null,
            "_view_module": "@jupyter-widgets/base",
            "_view_module_version": "1.2.0",
            "_view_name": "StyleView",
            "description_width": "23%"
          }
        },
        "8cf5ea2d9f73491aa8def04c9e52abcd": {
          "model_module": "@jupyter-widgets/controls",
          "model_name": "IntProgressModel",
          "model_module_version": "1.5.0",
          "state": {
            "_dom_classes": [],
            "_model_module": "@jupyter-widgets/controls",
            "_model_module_version": "1.5.0",
            "_model_name": "IntProgressModel",
            "_view_count": null,
            "_view_module": "@jupyter-widgets/controls",
            "_view_module_version": "1.5.0",
            "_view_name": "ProgressView",
            "bar_style": "",
            "description": "Batch 469/469, 19.3s passed",
            "description_tooltip": null,
            "layout": "IPY_MODEL_b90e9f0d69754d56b757595cfac84486",
            "max": 469,
            "min": 0,
            "orientation": "horizontal",
            "style": "IPY_MODEL_6d1860a99f404a6dbbb41df9e90534a9",
            "value": 469
          }
        },
        "b90e9f0d69754d56b757595cfac84486": {
          "model_module": "@jupyter-widgets/base",
          "model_name": "LayoutModel",
          "model_module_version": "1.2.0",
          "state": {
            "_model_module": "@jupyter-widgets/base",
            "_model_module_version": "1.2.0",
            "_model_name": "LayoutModel",
            "_view_count": null,
            "_view_module": "@jupyter-widgets/base",
            "_view_module_version": "1.2.0",
            "_view_name": "LayoutView",
            "align_content": null,
            "align_items": null,
            "align_self": null,
            "border": null,
            "bottom": null,
            "display": null,
            "flex": null,
            "flex_flow": null,
            "grid_area": null,
            "grid_auto_columns": null,
            "grid_auto_flow": null,
            "grid_auto_rows": null,
            "grid_column": null,
            "grid_gap": null,
            "grid_row": null,
            "grid_template_areas": null,
            "grid_template_columns": null,
            "grid_template_rows": null,
            "height": null,
            "justify_content": null,
            "justify_items": null,
            "left": null,
            "margin": null,
            "max_height": null,
            "max_width": null,
            "min_height": null,
            "min_width": null,
            "object_fit": null,
            "object_position": null,
            "order": null,
            "overflow": null,
            "overflow_x": null,
            "overflow_y": null,
            "padding": null,
            "right": null,
            "top": null,
            "visibility": null,
            "width": "67%"
          }
        },
        "6d1860a99f404a6dbbb41df9e90534a9": {
          "model_module": "@jupyter-widgets/controls",
          "model_name": "ProgressStyleModel",
          "model_module_version": "1.5.0",
          "state": {
            "_model_module": "@jupyter-widgets/controls",
            "_model_module_version": "1.5.0",
            "_model_name": "ProgressStyleModel",
            "_view_count": null,
            "_view_module": "@jupyter-widgets/base",
            "_view_module_version": "1.2.0",
            "_view_name": "StyleView",
            "bar_color": null,
            "description_width": "23%"
          }
        },
        "635e40dc05db4db4b3d22ed7f89b972e": {
          "model_module": "@jupyter-widgets/controls",
          "model_name": "HTMLMathModel",
          "model_module_version": "1.5.0",
          "state": {
            "_dom_classes": [],
            "_model_module": "@jupyter-widgets/controls",
            "_model_module_version": "1.5.0",
            "_model_name": "HTMLMathModel",
            "_view_count": null,
            "_view_module": "@jupyter-widgets/controls",
            "_view_module_version": "1.5.0",
            "_view_name": "HTMLMathView",
            "description": "Validation --",
            "description_tooltip": null,
            "layout": "IPY_MODEL_3a39cf74b43941dfa8c3a15ef037bc7e",
            "placeholder": "HTMLM",
            "style": "IPY_MODEL_65cc0c00cb644afea67ab0fd457d6656",
            "value": "\tlogit_accuracy: 0.8879;\tfactor_accuracy: 0.9355;"
          }
        },
        "3a39cf74b43941dfa8c3a15ef037bc7e": {
          "model_module": "@jupyter-widgets/base",
          "model_name": "LayoutModel",
          "model_module_version": "1.2.0",
          "state": {
            "_model_module": "@jupyter-widgets/base",
            "_model_module_version": "1.2.0",
            "_model_name": "LayoutModel",
            "_view_count": null,
            "_view_module": "@jupyter-widgets/base",
            "_view_module_version": "1.2.0",
            "_view_name": "LayoutView",
            "align_content": null,
            "align_items": null,
            "align_self": null,
            "border": null,
            "bottom": null,
            "display": null,
            "flex": null,
            "flex_flow": null,
            "grid_area": null,
            "grid_auto_columns": null,
            "grid_auto_flow": null,
            "grid_auto_rows": null,
            "grid_column": null,
            "grid_gap": null,
            "grid_row": null,
            "grid_template_areas": null,
            "grid_template_columns": null,
            "grid_template_rows": null,
            "height": null,
            "justify_content": null,
            "justify_items": null,
            "left": null,
            "margin": null,
            "max_height": null,
            "max_width": null,
            "min_height": null,
            "min_width": null,
            "object_fit": null,
            "object_position": null,
            "order": null,
            "overflow": null,
            "overflow_x": null,
            "overflow_y": null,
            "padding": null,
            "right": null,
            "top": null,
            "visibility": null,
            "width": "67%"
          }
        },
        "65cc0c00cb644afea67ab0fd457d6656": {
          "model_module": "@jupyter-widgets/controls",
          "model_name": "DescriptionStyleModel",
          "model_module_version": "1.5.0",
          "state": {
            "_model_module": "@jupyter-widgets/controls",
            "_model_module_version": "1.5.0",
            "_model_name": "DescriptionStyleModel",
            "_view_count": null,
            "_view_module": "@jupyter-widgets/base",
            "_view_module_version": "1.2.0",
            "_view_name": "StyleView",
            "description_width": "23%"
          }
        },
        "e2d9c50943d345c98b78fa0a81945718": {
          "model_module": "@jupyter-widgets/controls",
          "model_name": "IntProgressModel",
          "model_module_version": "1.5.0",
          "state": {
            "_dom_classes": [],
            "_model_module": "@jupyter-widgets/controls",
            "_model_module_version": "1.5.0",
            "_model_name": "IntProgressModel",
            "_view_count": null,
            "_view_module": "@jupyter-widgets/controls",
            "_view_module_version": "1.5.0",
            "_view_name": "ProgressView",
            "bar_style": "",
            "description": "Batch 79/79, 2.9s passed",
            "description_tooltip": null,
            "layout": "IPY_MODEL_e08b007b8dfe49008de3e8dee44177d8",
            "max": 79,
            "min": 0,
            "orientation": "horizontal",
            "style": "IPY_MODEL_a30d9903ed58491394da4617e0fc3b98",
            "value": 79
          }
        },
        "e08b007b8dfe49008de3e8dee44177d8": {
          "model_module": "@jupyter-widgets/base",
          "model_name": "LayoutModel",
          "model_module_version": "1.2.0",
          "state": {
            "_model_module": "@jupyter-widgets/base",
            "_model_module_version": "1.2.0",
            "_model_name": "LayoutModel",
            "_view_count": null,
            "_view_module": "@jupyter-widgets/base",
            "_view_module_version": "1.2.0",
            "_view_name": "LayoutView",
            "align_content": null,
            "align_items": null,
            "align_self": null,
            "border": null,
            "bottom": null,
            "display": null,
            "flex": null,
            "flex_flow": null,
            "grid_area": null,
            "grid_auto_columns": null,
            "grid_auto_flow": null,
            "grid_auto_rows": null,
            "grid_column": null,
            "grid_gap": null,
            "grid_row": null,
            "grid_template_areas": null,
            "grid_template_columns": null,
            "grid_template_rows": null,
            "height": null,
            "justify_content": null,
            "justify_items": null,
            "left": null,
            "margin": null,
            "max_height": null,
            "max_width": null,
            "min_height": null,
            "min_width": null,
            "object_fit": null,
            "object_position": null,
            "order": null,
            "overflow": null,
            "overflow_x": null,
            "overflow_y": null,
            "padding": null,
            "right": null,
            "top": null,
            "visibility": null,
            "width": "67%"
          }
        },
        "a30d9903ed58491394da4617e0fc3b98": {
          "model_module": "@jupyter-widgets/controls",
          "model_name": "ProgressStyleModel",
          "model_module_version": "1.5.0",
          "state": {
            "_model_module": "@jupyter-widgets/controls",
            "_model_module_version": "1.5.0",
            "_model_name": "ProgressStyleModel",
            "_view_count": null,
            "_view_module": "@jupyter-widgets/base",
            "_view_module_version": "1.2.0",
            "_view_name": "StyleView",
            "bar_color": null,
            "description_width": "23%"
          }
        }
      }
    }
  },
  "cells": [
    {
      "cell_type": "markdown",
      "metadata": {
        "id": "view-in-github",
        "colab_type": "text"
      },
      "source": [
        "<a href=\"https://colab.research.google.com/github/archqua/pipeline_training/blob/master/mnist_experiment.ipynb\" target=\"_parent\"><img src=\"https://colab.research.google.com/assets/colab-badge.svg\" alt=\"Open In Colab\"/></a>"
      ]
    },
    {
      "cell_type": "code",
      "source": [
        "parameters = dict(\n",
        "    pretrain_epochs = 2,\n",
        "    train_epochs = 5,\n",
        "    base = 2,\n",
        "    patience = 1,\n",
        "    batch = 128,\n",
        "    metrics = [\"accuracy\",],\n",
        "    drift = \"flip\",\n",
        "    alg = \"greedy\",\n",
        "    seed  = 12309,\n",
        ")\n",
        "for p in parameters:\n",
        "    if p not in locals():\n",
        "        v = parameters[p]\n",
        "        if isinstance(v, str):\n",
        "            exec(f\"{p} = '{v}'\")\n",
        "        else:\n",
        "            exec(f\"{p} = {v}\")\n"
      ],
      "metadata": {
        "id": "5gUZQMp_P7QE"
      },
      "execution_count": 1,
      "outputs": []
    },
    {
      "cell_type": "code",
      "execution_count": 2,
      "metadata": {
        "id": "qorioEycH-oF"
      },
      "outputs": [],
      "source": [
        "import json\n",
        "from pprint import pp as ppr\n",
        "\n",
        "from matplotlib import pyplot as plt\n",
        "import tensorflow as tf\n",
        "from tensorflow.keras import datasets, layers, models\n",
        "\n",
        "tf.random.set_seed(seed)\n"
      ]
    },
    {
      "cell_type": "code",
      "source": [
        "def printeval(evvals, evkeys=[\"loss\"] + metrics):\n",
        "    for k, v in zip(evkeys, evvals):\n",
        "        print(f\"{k}:\\t{v:.4f}\")\n",
        "\n",
        "def flipaug(img, lbl):\n",
        "    return tf.image.random_flip_left_right(img), lbl\n",
        "\n",
        "\n",
        "def drifted(dataset, seed=seed, drift=drift):\n",
        "    drift = drift.lower()\n",
        "    if drift == \"flip\":\n",
        "        return dataset.map(flipaug)\n",
        "    else:\n",
        "        raise ValueError(f\"Drift {drift} is unknown\")\n"
      ],
      "metadata": {
        "id": "y1-z_Du2YLW9"
      },
      "execution_count": 3,
      "outputs": []
    },
    {
      "cell_type": "code",
      "source": [
        "mnist = datasets.mnist\n",
        "\n",
        "Xy_train, Xy_val = mnist.load_data()\n",
        "def mapimg(img, label):\n",
        "    return tf.image.convert_image_dtype(img, dtype=tf.float32), label\n",
        "\n",
        "train_ref = (\n",
        "    tf.data.Dataset.from_tensor_slices(Xy_train)\n",
        "    .shuffle(Xy_train[0].shape[0])\n",
        "    .batch(batch)\n",
        "    .map(mapimg)\n",
        ")\n",
        "val_ref = (\n",
        "    tf.data.Dataset.from_tensor_slices(Xy_val)\n",
        "    .shuffle(Xy_val[0].shape[0])\n",
        "    .batch(batch)\n",
        "    .map(mapimg)\n",
        ")\n",
        "train_drifted = drifted(train_ref)\n",
        "val_drifted = drifted(val_ref)\n"
      ],
      "metadata": {
        "id": "-pi_Y9rlJURe"
      },
      "execution_count": 4,
      "outputs": []
    },
    {
      "cell_type": "code",
      "source": [
        "def greedy_loss_fn(\n",
        "    model,\n",
        "    loss=tf.keras.losses.SparseCategoricalCrossentropy(from_logits=True),\n",
        "    patience=None,\n",
        "    factoring_layer=\"factor\",\n",
        "):\n",
        "    factoring_layer = model.get_layer(factoring_layer)\n",
        "    def wrapped(trg, logits):\n",
        "        inferred_lbls, miss_mask, diff_mask = factoring_layer.greedy_lblprop(\n",
        "            tf.stop_gradient(logits), trg, patience=patience,\n",
        "        )\n",
        "        match_mask = ~miss_mask\n",
        "        return loss(\n",
        "            tf.boolean_mask(inferred_lbls, match_mask),\n",
        "            tf.boolean_mask(logits, match_mask),\n",
        "        )\n",
        "    return wrapped\n",
        "\n",
        "class Factor(layers.Layer):\n",
        "    def __init__(self, base=base, patience=patience, name=None):\n",
        "        super().__init__(name=name)\n",
        "        self.base = tf.constant(base, dtype=tf.int32, shape=())\n",
        "        self.patience = patience\n",
        "\n",
        "    def call(self, logits):\n",
        "        return self.factor(tf.argmax(logits, axis=-1))\n",
        "\n",
        "    def factor(self, labels):\n",
        "        return tf.cast(tf.keras.ops.mod(labels, self.base), tf.int32)\n",
        "\n",
        "    def refactor(self, logits, miss_mask, ninf=-1.0e+06):\n",
        "        am = tf.argmax(logits, axis=-1, output_type=tf.int32)\n",
        "        mask = am[:, tf.newaxis] == tf.range(logits.shape[-1], dtype=tf.int32)[tf.newaxis, :]\n",
        "        mask &= miss_mask[:, tf.newaxis]\n",
        "        logits = tf.where(mask, ninf, logits)\n",
        "        return self(logits), logits\n",
        "\n",
        "    def greedy_lblprop(self, logits, trg, patience=None):\n",
        "        # this line is entirely to satisfy tf static checker\n",
        "        trg = tf.cast(trg, tf.int32)\n",
        "        if patience is None:\n",
        "            patience = self.patience\n",
        "        assert patience >= 0, f\"for greedy label propagation specify patience >= 0, not {patience}\"\n",
        "        guess = self(logits)\n",
        "        first_miss_mask = guess != trg\n",
        "        miss_mask = first_miss_mask\n",
        "        # this implementation is suboptimal\n",
        "        # because it recomputes good values\n",
        "        for d in range(patience):\n",
        "            guess, logits = self.refactor(logits, miss_mask)\n",
        "            miss_mask = guess != trg\n",
        "        diff_mask = first_miss_mask ^ miss_mask\n",
        "        # we could smooth over miss_mask, not simply argmax\n",
        "        return tf.argmax(logits, axis=-1, output_type=tf.int32), miss_mask, diff_mask\n",
        "\n",
        "# input\n",
        "inp = tf.keras.Input((28, 28, 1), name=\"img\")\n",
        "# cnn\n",
        "cnn = tf.keras.Sequential([\n",
        "    layers.InputLayer((28, 28, 1), name=\"inp\"),\n",
        "    layers.Conv2D(2, (5, 5), activation='relu', name=\"conv1\"),  # 24x24x2\n",
        "    layers.MaxPooling2D((2, 2), name=\"pool1\"),  # 12x12x2\n",
        "    layers.Conv2D(4, (5, 5), activation='relu', name=\"conv2\"),  # 8x8x4\n",
        "    layers.MaxPooling2D((2, 2), name=\"pool2\"),  # 4x4x4\n",
        "    layers.Conv2D(10, (4, 4), activation='relu', name=\"conv3\"),  # 1x1x10\n",
        "    layers.Flatten(name=\"flatten\"),\n",
        "    layers.Dense(10, name=\"logit\"),\n",
        "], name=\"logit\")\n",
        "# outputs\n",
        "logit = cnn(inp)\n",
        "factor = Factor(base=base, name=\"factor\")(logit)\n",
        "\n",
        "pp = tf.keras.Model(inp, [factor, logit], name=\"Pipeline\")\n",
        "pp.summary()\n",
        "\n"
      ],
      "metadata": {
        "colab": {
          "base_uri": "https://localhost:8080/",
          "height": 225
        },
        "id": "oK9qdgVSLLLK",
        "outputId": "e549a7a6-1aca-4cdb-eee8-20d6a9c08877"
      },
      "execution_count": 5,
      "outputs": [
        {
          "output_type": "display_data",
          "data": {
            "text/plain": [
              "\u001b[1mModel: \"Pipeline\"\u001b[0m\n"
            ],
            "text/html": [
              "<pre style=\"white-space:pre;overflow-x:auto;line-height:normal;font-family:Menlo,'DejaVu Sans Mono',consolas,'Courier New',monospace\"><span style=\"font-weight: bold\">Model: \"Pipeline\"</span>\n",
              "</pre>\n"
            ]
          },
          "metadata": {}
        },
        {
          "output_type": "display_data",
          "data": {
            "text/plain": [
              "┏━━━━━━━━━━━━━━━━━━━━━━━━━━━━━━━━━━━━━━┳━━━━━━━━━━━━━━━━━━━━━━━━━━━━━┳━━━━━━━━━━━━━━━━━┓\n",
              "┃\u001b[1m \u001b[0m\u001b[1mLayer (type)                        \u001b[0m\u001b[1m \u001b[0m┃\u001b[1m \u001b[0m\u001b[1mOutput Shape               \u001b[0m\u001b[1m \u001b[0m┃\u001b[1m \u001b[0m\u001b[1m        Param #\u001b[0m\u001b[1m \u001b[0m┃\n",
              "┡━━━━━━━━━━━━━━━━━━━━━━━━━━━━━━━━━━━━━━╇━━━━━━━━━━━━━━━━━━━━━━━━━━━━━╇━━━━━━━━━━━━━━━━━┩\n",
              "│ img (\u001b[38;5;33mInputLayer\u001b[0m)                     │ (\u001b[38;5;45mNone\u001b[0m, \u001b[38;5;34m28\u001b[0m, \u001b[38;5;34m28\u001b[0m, \u001b[38;5;34m1\u001b[0m)           │               \u001b[38;5;34m0\u001b[0m │\n",
              "├──────────────────────────────────────┼─────────────────────────────┼─────────────────┤\n",
              "│ logit (\u001b[38;5;33mSequential\u001b[0m)                   │ (\u001b[38;5;45mNone\u001b[0m, \u001b[38;5;34m10\u001b[0m)                  │           \u001b[38;5;34m1,016\u001b[0m │\n",
              "├──────────────────────────────────────┼─────────────────────────────┼─────────────────┤\n",
              "│ factor (\u001b[38;5;33mFactor\u001b[0m)                      │ (\u001b[38;5;45mNone\u001b[0m)                      │               \u001b[38;5;34m0\u001b[0m │\n",
              "└──────────────────────────────────────┴─────────────────────────────┴─────────────────┘\n"
            ],
            "text/html": [
              "<pre style=\"white-space:pre;overflow-x:auto;line-height:normal;font-family:Menlo,'DejaVu Sans Mono',consolas,'Courier New',monospace\">┏━━━━━━━━━━━━━━━━━━━━━━━━━━━━━━━━━━━━━━┳━━━━━━━━━━━━━━━━━━━━━━━━━━━━━┳━━━━━━━━━━━━━━━━━┓\n",
              "┃<span style=\"font-weight: bold\"> Layer (type)                         </span>┃<span style=\"font-weight: bold\"> Output Shape                </span>┃<span style=\"font-weight: bold\">         Param # </span>┃\n",
              "┡━━━━━━━━━━━━━━━━━━━━━━━━━━━━━━━━━━━━━━╇━━━━━━━━━━━━━━━━━━━━━━━━━━━━━╇━━━━━━━━━━━━━━━━━┩\n",
              "│ img (<span style=\"color: #0087ff; text-decoration-color: #0087ff\">InputLayer</span>)                     │ (<span style=\"color: #00d7ff; text-decoration-color: #00d7ff\">None</span>, <span style=\"color: #00af00; text-decoration-color: #00af00\">28</span>, <span style=\"color: #00af00; text-decoration-color: #00af00\">28</span>, <span style=\"color: #00af00; text-decoration-color: #00af00\">1</span>)           │               <span style=\"color: #00af00; text-decoration-color: #00af00\">0</span> │\n",
              "├──────────────────────────────────────┼─────────────────────────────┼─────────────────┤\n",
              "│ logit (<span style=\"color: #0087ff; text-decoration-color: #0087ff\">Sequential</span>)                   │ (<span style=\"color: #00d7ff; text-decoration-color: #00d7ff\">None</span>, <span style=\"color: #00af00; text-decoration-color: #00af00\">10</span>)                  │           <span style=\"color: #00af00; text-decoration-color: #00af00\">1,016</span> │\n",
              "├──────────────────────────────────────┼─────────────────────────────┼─────────────────┤\n",
              "│ factor (<span style=\"color: #0087ff; text-decoration-color: #0087ff\">Factor</span>)                      │ (<span style=\"color: #00d7ff; text-decoration-color: #00d7ff\">None</span>)                      │               <span style=\"color: #00af00; text-decoration-color: #00af00\">0</span> │\n",
              "└──────────────────────────────────────┴─────────────────────────────┴─────────────────┘\n",
              "</pre>\n"
            ]
          },
          "metadata": {}
        },
        {
          "output_type": "display_data",
          "data": {
            "text/plain": [
              "\u001b[1m Total params: \u001b[0m\u001b[38;5;34m1,016\u001b[0m (3.97 KB)\n"
            ],
            "text/html": [
              "<pre style=\"white-space:pre;overflow-x:auto;line-height:normal;font-family:Menlo,'DejaVu Sans Mono',consolas,'Courier New',monospace\"><span style=\"font-weight: bold\"> Total params: </span><span style=\"color: #00af00; text-decoration-color: #00af00\">1,016</span> (3.97 KB)\n",
              "</pre>\n"
            ]
          },
          "metadata": {}
        },
        {
          "output_type": "display_data",
          "data": {
            "text/plain": [
              "\u001b[1m Trainable params: \u001b[0m\u001b[38;5;34m1,016\u001b[0m (3.97 KB)\n"
            ],
            "text/html": [
              "<pre style=\"white-space:pre;overflow-x:auto;line-height:normal;font-family:Menlo,'DejaVu Sans Mono',consolas,'Courier New',monospace\"><span style=\"font-weight: bold\"> Trainable params: </span><span style=\"color: #00af00; text-decoration-color: #00af00\">1,016</span> (3.97 KB)\n",
              "</pre>\n"
            ]
          },
          "metadata": {}
        },
        {
          "output_type": "display_data",
          "data": {
            "text/plain": [
              "\u001b[1m Non-trainable params: \u001b[0m\u001b[38;5;34m0\u001b[0m (0.00 B)\n"
            ],
            "text/html": [
              "<pre style=\"white-space:pre;overflow-x:auto;line-height:normal;font-family:Menlo,'DejaVu Sans Mono',consolas,'Courier New',monospace\"><span style=\"font-weight: bold\"> Non-trainable params: </span><span style=\"color: #00af00; text-decoration-color: #00af00\">0</span> (0.00 B)\n",
              "</pre>\n"
            ]
          },
          "metadata": {}
        }
      ]
    },
    {
      "cell_type": "code",
      "source": [
        "tf.keras.utils.plot_model(\n",
        "    pp, show_layer_names=True, show_shapes=True, show_dtype=True,\n",
        ")"
      ],
      "metadata": {
        "colab": {
          "base_uri": "https://localhost:8080/",
          "height": 825
        },
        "id": "cDzw8c-M8RN5",
        "outputId": "511401be-4410-4625-92ec-d62366bad4a2"
      },
      "execution_count": 6,
      "outputs": [
        {
          "output_type": "execute_result",
          "data": {
            "image/png": "[encoded data removed]",
            "text/plain": [
              "<IPython.core.display.Image object>"
            ]
          },
          "metadata": {},
          "execution_count": 6
        }
      ]
    },
    {
      "cell_type": "code",
      "source": [
        "def factor_labels(model, factoring_layer=\"factor\", duplicate=True):\n",
        "    factoring_layer = model.get_layer(factoring_layer)\n",
        "    # @tf.function\n",
        "    def wrapped(img, lbl):\n",
        "        if duplicate:\n",
        "            return img, factoring_layer.factor(lbl), lbl\n",
        "        return img, factoring_layer.factor(lbl)\n",
        "    return wrapped\n",
        "\n",
        "train_ref_factored = train_ref.map(factor_labels(pp))\n",
        "val_ref_factored = val_ref.map(factor_labels(pp))\n",
        "train_drifted_factored = train_drifted.map(factor_labels(pp))\n",
        "val_drifted_factored = val_drifted.map(factor_labels(pp))\n"
      ],
      "metadata": {
        "id": "1dK7zkxrJa6_"
      },
      "execution_count": 7,
      "outputs": []
    },
    {
      "cell_type": "code",
      "source": [
        "from types import NoneType\n",
        "import ipywidgets as widgets\n",
        "from IPython.display import display\n",
        "import time\n",
        "\n",
        "\n",
        "def pretty_iterator(to_wrap=None, n=None, track_time=True, desc=\"\", width=\"67%\", desc_width=\"23%\"):\n",
        "    if to_wrap is None:\n",
        "        if n is None:\n",
        "            n = 1\n",
        "        to_wrap = range(n)\n",
        "    if n is None:\n",
        "        try:\n",
        "            n = len(to_wrap)\n",
        "        except:\n",
        "            pass\n",
        "\n",
        "    if track_time:\n",
        "        start_time = time.time()\n",
        "        passed = 0.0\n",
        "    def sdesc(j):\n",
        "        res = \" \".join([desc, f\"{j}/{n}\"])\n",
        "        if track_time:\n",
        "            passed = time.time() - start_time\n",
        "            res = \", \".join([res, f\"{passed:.1f}s passed\"])\n",
        "        return res\n",
        "    progress = widgets.IntProgress(\n",
        "        value=0, min=0, max=n,\n",
        "        description=sdesc(0),\n",
        "        layout={\"width\": width},\n",
        "        style={\"description_width\": desc_width if len(desc) > 0 or track_time else \"0px\"},\n",
        "    )\n",
        "    display(progress)\n",
        "    for i, item in enumerate(to_wrap):\n",
        "        yield item\n",
        "        passed = time.time() - start_time\n",
        "        progress.value += 1\n",
        "        progress.description = sdesc(i+1)\n",
        "\n",
        "\n",
        "def epochs_iterator(n_epochs=1):\n",
        "    return pretty_iterator(n=n_epochs, desc=\"Epoch\")\n",
        "\n",
        "def data_iterator(dataset):\n",
        "    return pretty_iterator(dataset, desc=\"Batch\")\n",
        "\n",
        "def cheet_train_step(\n",
        "    pipeline, data, optimizer, loss, Metrics={\"logit\": [], \"factor\": []},\n",
        "):\n",
        "    img, trg, lbl = data\n",
        "    with tf.GradientTape() as tape:\n",
        "        factors, logits = pipeline(img, training=True)\n",
        "        loss_value = loss(lbl, logits)\n",
        "        for M in Metrics[\"logit\"]:\n",
        "            M.update_state(lbl, tf.argmax(logits, axis=-1))\n",
        "        for M in Metrics[\"factor\"]:\n",
        "            M.update_state(trg, factors)\n",
        "    grads = tape.gradient(loss_value, pipeline.trainable_weights)\n",
        "    optimizer.apply_gradients(zip(grads, pipeline.trainable_weights))\n",
        "\n",
        "\n",
        "def greedy_train_step(\n",
        "    pipeline, data, optimizer, loss, Metrics={\"logit\": [], \"factor\": []},\n",
        "):\n",
        "    img, trg, lbl = data\n",
        "    with tf.GradientTape() as tape:\n",
        "        factors, logits = pipeline(img, training=True)\n",
        "        loss_value = greedy_loss_fn(pipeline, loss)(trg, logits)\n",
        "        for M in Metrics[\"logit\"]:\n",
        "            M.update_state(lbl, tf.argmax(logits, axis=-1))\n",
        "        for M in Metrics[\"factor\"]:\n",
        "            M.update_state(trg, factors)\n",
        "    grads = tape.gradient(loss_value, pipeline.trainable_weights)\n",
        "    optimizer.apply_gradients(zip(grads, pipeline.trainable_weights))\n",
        "\n",
        "_train_steps = {\n",
        "    \"cheet\": cheet_train_step,\n",
        "    \"greedy\": greedy_train_step,\n",
        "}\n",
        "\n",
        "def get_train_step(step):\n",
        "    return _train_steps[step.lower()]\n",
        "\n",
        "def pipeline_train_loop(\n",
        "    pipeline,\n",
        "    train_dataset,\n",
        "    optimizer,\n",
        "    step = \"greedy\",\n",
        "    loss=tf.keras.losses.SparseCategoricalCrossentropy(from_logits=True),\n",
        "    metrics=metrics,\n",
        "    epochs=1,\n",
        "    val_dataset=None,\n",
        "    pretty=True,\n",
        "):\n",
        "    train_step = get_train_step(step)\n",
        "    if val_dataset is not None:\n",
        "        val_metrics = []\n",
        "    train_metrics = []\n",
        "    Metrics = {\"logit\": [], \"factor\": []}\n",
        "    for m in metrics:\n",
        "        for k in Metrics:\n",
        "            Metrics[k].append(tf.keras.metrics.get(m.capitalize()))\n",
        "    def smetrics() -> str:\n",
        "        res = \"\"\n",
        "        for k in Metrics:\n",
        "            for M in Metrics[k]:\n",
        "                res += f\"\\t{k}_{M.name}: {M.result():.4f};\"\n",
        "        return res\n",
        "    eit = epochs_iterator(epochs) if pretty else range(epochs)\n",
        "    for e in eit:\n",
        "        for k in Metrics:\n",
        "            for M in Metrics[k]:\n",
        "                M.reset_state()\n",
        "        tdit = data_iterator(train_dataset) if pretty else train_dataset\n",
        "        metrics_html = widgets.HTMLMath(\n",
        "            value = smetrics(),\n",
        "            placeholder=\"HTMLM\",\n",
        "            description=f\"Epoch {e+1}/{epochs} train --\",\n",
        "            style = {\"description_width\": \"23%\"},\n",
        "            layout={\"width\": \"67%\"},\n",
        "        )\n",
        "        display(metrics_html)\n",
        "        for data in tdit:\n",
        "            train_step(pipeline, data, optimizer, loss, Metrics)\n",
        "            metrics_html.value = smetrics()\n",
        "        train_metrics.append({\n",
        "            k: {\n",
        "                M.name: M.result() for M in Metrics[k]\n",
        "            } for k in Metrics\n",
        "        })\n",
        "        if val_dataset is not None:\n",
        "            vM = pipeline_eval_loop(\n",
        "                pipeline=pipeline,\n",
        "                val_dataset=val_dataset,\n",
        "                loss=loss,\n",
        "                metrics=metrics,\n",
        "                pretty=pretty\n",
        "            )\n",
        "            val_metrics.append(vM)\n",
        "\n",
        "    if val_dataset is not None:\n",
        "        return train_metrics, val_metrics\n",
        "    return train_metrics\n",
        "\n",
        "\n",
        "def pipeline_eval_loop(\n",
        "    pipeline,\n",
        "    val_dataset,\n",
        "    loss=tf.keras.losses.SparseCategoricalCrossentropy(from_logits=True),\n",
        "    metrics=metrics,\n",
        "    pretty=True,\n",
        "    confusion_matrix=False,\n",
        "):\n",
        "    if confusion_matrix:\n",
        "        print(\"Confusion matrices are not implemented T_T\")\n",
        "    Metrics = {\"logit\": [], \"factor\": []}\n",
        "    for m in metrics:\n",
        "        for k in Metrics:\n",
        "            Metrics[k].append(tf.keras.metrics.get(m.capitalize()))\n",
        "    def smetrics() -> str:\n",
        "        res = \"\"\n",
        "        for k in Metrics:\n",
        "            for M in Metrics[k]:\n",
        "                res += f\"\\t{k}_{M.name}: {M.result():.4f};\"\n",
        "        return res\n",
        "    vdit = data_iterator(val_dataset) if pretty else val_dataset\n",
        "    metrics_html = widgets.HTMLMath(\n",
        "        value = smetrics(),\n",
        "        placeholder=\"HTMLM\",\n",
        "        description=f\"Validation --\",\n",
        "        style = {\"description_width\": \"23%\"},\n",
        "        layout={\"width\": \"67%\"},\n",
        "    )\n",
        "    display(metrics_html)\n",
        "\n",
        "    for data in data_iterator(val_dataset):\n",
        "        img, trg, lbl = data\n",
        "        factors, logits = pipeline(img, training=True)\n",
        "        for M in Metrics[\"logit\"]:\n",
        "            M.update_state(lbl, tf.argmax(logits, axis=-1))\n",
        "        for M in Metrics[\"factor\"]:\n",
        "            M.update_state(trg, factors)\n",
        "        metrics_html.value = smetrics()\n",
        "\n",
        "    return {\n",
        "        k: {\n",
        "            M.name: M.result() for M in Metrics[k]\n",
        "        } for k in Metrics\n",
        "    }\n",
        "\n",
        "from collections import defaultdict\n",
        "def pipeline_metrics_as_curves(metrics):\n",
        "    res = defaultdict(list)\n",
        "    for mdict in metrics:\n",
        "        for k in mdict:\n",
        "            for m, v in mdict[k].items():\n",
        "                key = \"_\".join([k, m])\n",
        "                res[key].append(v.numpy())\n",
        "    return dict(res)\n",
        "\n",
        "def plot_pipeline_history(metrics_history, title=None):\n",
        "    metrics_curves = pipeline_metrics_as_curves(metrics_history)\n",
        "    for key, curve in metrics_curves.items():\n",
        "        label = key.replace(\"_\", \" \")\n",
        "        plt.plot(list(range(len(curve))), curve, label=label)\n",
        "    plt.title(title, fontsize=14)\n",
        "    plt.xlabel(\"Epoch\", fontsize=14)\n",
        "    plt.ylabel(\"Metric value\", fontsize=14)\n",
        "    plt.legend(loc=\"upper left\", fontsize=12)\n",
        "\n"
      ],
      "metadata": {
        "id": "v65Td8UtxyuJ"
      },
      "execution_count": 8,
      "outputs": []
    },
    {
      "cell_type": "code",
      "source": [
        "pretrain_init_metrics = pipeline_eval_loop(pp, train_ref_factored)\n",
        "preval_init_metrics = pipeline_eval_loop(pp, val_ref_factored)\n",
        "pretrain_metrics, preval_metrics = pipeline_train_loop(\n",
        "    pp,\n",
        "    train_ref_factored,\n",
        "    val_dataset=val_ref_factored,\n",
        "    optimizer=tf.keras.optimizers.Adam(),\n",
        "    step=\"cheet\",\n",
        "    epochs=pretrain_epochs,\n",
        ")\n",
        "pretrain_metrics = [pretrain_init_metrics] + pretrain_metrics\n",
        "preval_metrics = [preval_init_metrics] + preval_metrics\n",
        "pretrain_final_metrics = pipeline_eval_loop(pp, train_ref_factored)\n",
        "preval_final_metrics = pipeline_eval_loop(pp, val_ref_factored)\n"
      ],
      "metadata": {
        "colab": {
          "base_uri": "https://localhost:8080/",
          "height": 409,
          "referenced_widgets": [
            "e8c5022a74a4493da890129494803dfb",
            "c5231f8b2ca84ed58342f00e307d8b90",
            "297b2900038f4118bffd62684ea8273b",
            "57262c0456a9430289a4adeff7849437",
            "35cd1bf69a8642cfb173c8d3c1e477c2",
            "a9c33cb938744706b731bec695d5bc30",
            "6e29bbd2d98c47989c56280ae4b04b63",
            "ad8fc234140c4b42bab1de5b8ddcaa82",
            "ae1c1b24958c4287aeb3540d9d7ed7c8",
            "1f9aaa0de8db415eab0240a3847e3234",
            "6fb8cd265bb440a0a318f30a5ee41352",
            "8e4e55c0678c4404a495b2feca916e55",
            "ea0608c9e86a44f393929baff1f6ec29",
            "f8b9835e9d694759aeaeffb7da034d06",
            "6f9cf66ed3714c098807a5c6c694bad6",
            "68683ed24724499facdfa5643395253a",
            "8fd1744fa59b4961a9f6a196a00a8496",
            "710548da940346cb848899589ed18dd9",
            "bca1ad80eaa441bba046af49d7b17462",
            "c97725918a1b4b62bc3aa181b16aca19",
            "e17a4717137f49dba9015d4c22517179",
            "c36dc1168b294e90acae08f50603c68e",
            "fc4c984882584249b61f959ff73570d8",
            "350de05d1a8e439ab8b066d28eab96b0",
            "454514da7bdb49c59ca9298a1d572738",
            "1b802e20b8c34f16aad8b8504a8f287e",
            "8363f5329e3542338f8bfa8565ebdea8",
            "212060218776488dbeb01b9be00120ef",
            "e912c75f267942a1b254f3acd185491b",
            "e9609c1cd7ec4a33a91170f42b6e9515",
            "ee91687ac6a141ceaa1177cfdee37c43",
            "2295b0972cc34ae89e4633da7dfe59c7",
            "3cd1caa34c884cb3923f2c771924a846",
            "6ac645431366475a86b92aa9938b7a5c",
            "24fd29541d6d426fbddfea8693a0b57b",
            "2333961e2095413384da343d9c23ab56",
            "3c3e5ab71b3d4d25be10fc79bad2e343",
            "8540e6820e1d4c56ad13b52f9323ea3c",
            "5139ac93bb254e86870558e7eba8566c"
          ]
        },
        "id": "4-VATBZYLo8l",
        "outputId": "a9623936-4077-4dc1-aa00-a30ad24c276a"
      },
      "execution_count": 9,
      "outputs": [
        {
          "output_type": "display_data",
          "data": {
            "text/plain": [
              "HTMLMath(value='\\tlogit_accuracy: 0.0000;\\tfactor_accuracy: 0.0000;', description='Validation --', layout=Layo…"
            ],
            "application/vnd.jupyter.widget-view+json": {
              "version_major": 2,
              "version_minor": 0,
              "model_id": "e8c5022a74a4493da890129494803dfb"
            }
          },
          "metadata": {}
        },
        {
          "output_type": "display_data",
          "data": {
            "text/plain": [
              "IntProgress(value=0, description='Batch 0/469, 0.0s passed', layout=Layout(width='67%'), max=469, style=Progre…"
            ],
            "application/vnd.jupyter.widget-view+json": {
              "version_major": 2,
              "version_minor": 0,
              "model_id": "57262c0456a9430289a4adeff7849437"
            }
          },
          "metadata": {}
        },
        {
          "output_type": "display_data",
          "data": {
            "text/plain": [
              "HTMLMath(value='\\tlogit_accuracy: 0.0000;\\tfactor_accuracy: 0.0000;', description='Validation --', layout=Layo…"
            ],
            "application/vnd.jupyter.widget-view+json": {
              "version_major": 2,
              "version_minor": 0,
              "model_id": "6e29bbd2d98c47989c56280ae4b04b63"
            }
          },
          "metadata": {}
        },
        {
          "output_type": "display_data",
          "data": {
            "text/plain": [
              "IntProgress(value=0, description='Batch 0/79, 0.0s passed', layout=Layout(width='67%'), max=79, style=Progress…"
            ],
            "application/vnd.jupyter.widget-view+json": {
              "version_major": 2,
              "version_minor": 0,
              "model_id": "1f9aaa0de8db415eab0240a3847e3234"
            }
          },
          "metadata": {}
        },
        {
          "output_type": "display_data",
          "data": {
            "text/plain": [
              "IntProgress(value=0, description='Epoch 0/2, 0.0s passed', layout=Layout(width='67%'), max=2, style=ProgressSt…"
            ],
            "application/vnd.jupyter.widget-view+json": {
              "version_major": 2,
              "version_minor": 0,
              "model_id": "ea0608c9e86a44f393929baff1f6ec29"
            }
          },
          "metadata": {}
        },
        {
          "output_type": "display_data",
          "data": {
            "text/plain": [
              "HTMLMath(value='\\tlogit_accuracy: 0.0000;\\tfactor_accuracy: 0.0000;', description='Epoch 1/2 train --', layout…"
            ],
            "application/vnd.jupyter.widget-view+json": {
              "version_major": 2,
              "version_minor": 0,
              "model_id": "68683ed24724499facdfa5643395253a"
            }
          },
          "metadata": {}
        },
        {
          "output_type": "display_data",
          "data": {
            "text/plain": [
              "IntProgress(value=0, description='Batch 0/469, 0.0s passed', layout=Layout(width='67%'), max=469, style=Progre…"
            ],
            "application/vnd.jupyter.widget-view+json": {
              "version_major": 2,
              "version_minor": 0,
              "model_id": "bca1ad80eaa441bba046af49d7b17462"
            }
          },
          "metadata": {}
        },
        {
          "output_type": "display_data",
          "data": {
            "text/plain": [
              "HTMLMath(value='\\tlogit_accuracy: 0.0000;\\tfactor_accuracy: 0.0000;', description='Validation --', layout=Layo…"
            ],
            "application/vnd.jupyter.widget-view+json": {
              "version_major": 2,
              "version_minor": 0,
              "model_id": "c36dc1168b294e90acae08f50603c68e"
            }
          },
          "metadata": {}
        },
        {
          "output_type": "display_data",
          "data": {
            "text/plain": [
              "IntProgress(value=0, description='Batch 0/79, 0.0s passed', layout=Layout(width='67%'), max=79, style=Progress…"
            ],
            "application/vnd.jupyter.widget-view+json": {
              "version_major": 2,
              "version_minor": 0,
              "model_id": "454514da7bdb49c59ca9298a1d572738"
            }
          },
          "metadata": {}
        },
        {
          "output_type": "display_data",
          "data": {
            "text/plain": [
              "HTMLMath(value='\\tlogit_accuracy: 0.0000;\\tfactor_accuracy: 0.0000;', description='Epoch 2/2 train --', layout…"
            ],
            "application/vnd.jupyter.widget-view+json": {
              "version_major": 2,
              "version_minor": 0,
              "model_id": "212060218776488dbeb01b9be00120ef"
            }
          },
          "metadata": {}
        },
        {
          "output_type": "display_data",
          "data": {
            "text/plain": [
              "IntProgress(value=0, description='Batch 0/469, 0.0s passed', layout=Layout(width='67%'), max=469, style=Progre…"
            ],
            "application/vnd.jupyter.widget-view+json": {
              "version_major": 2,
              "version_minor": 0,
              "model_id": "ee91687ac6a141ceaa1177cfdee37c43"
            }
          },
          "metadata": {}
        },
        {
          "output_type": "display_data",
          "data": {
            "text/plain": [
              "HTMLMath(value='\\tlogit_accuracy: 0.0000;\\tfactor_accuracy: 0.0000;', description='Validation --', layout=Layo…"
            ],
            "application/vnd.jupyter.widget-view+json": {
              "version_major": 2,
              "version_minor": 0,
              "model_id": "6ac645431366475a86b92aa9938b7a5c"
            }
          },
          "metadata": {}
        },
        {
          "output_type": "display_data",
          "data": {
            "text/plain": [
              "IntProgress(value=0, description='Batch 0/79, 0.0s passed', layout=Layout(width='67%'), max=79, style=Progress…"
            ],
            "application/vnd.jupyter.widget-view+json": {
              "version_major": 2,
              "version_minor": 0,
              "model_id": "3c3e5ab71b3d4d25be10fc79bad2e343"
            }
          },
          "metadata": {}
        }
      ]
    },
    {
      "cell_type": "code",
      "source": [
        "plot_pipeline_history(pretrain_metrics, title=\"Pretrain, train data\")\n",
        "plt.show()\n",
        "plot_pipeline_history(preval_metrics, title=\"Pretrain, validation data\")\n",
        "plt.show()\n",
        "# TODO store\n"
      ],
      "metadata": {
        "colab": {
          "base_uri": "https://localhost:8080/",
          "height": 939
        },
        "id": "k0HakmkUOAdG",
        "outputId": "7272825a-1385-4f6f-a990-36355edc3fd3"
      },
      "execution_count": 10,
      "outputs": [
        {
          "output_type": "display_data",
          "data": {
            "text/plain": [
              "<Figure size 640x480 with 1 Axes>"
            ],
            "image/png": "[encoded data removed]"
          },
          "metadata": {}
        },
        {
          "output_type": "display_data",
          "data": {
            "text/plain": [
              "<Figure size 640x480 with 1 Axes>"
            ],
            "image/png": "[encoded data removed]"
          },
          "metadata": {}
        }
      ]
    },
    {
      "cell_type": "code",
      "source": [
        "train_drifted_metrics = pipeline_eval_loop(pp, train_drifted_factored)\n",
        "val_drifted_metrics = pipeline_eval_loop(pp, val_drifted_factored)\n",
        "train_metrics, val_metrics = pipeline_train_loop(\n",
        "    pp,\n",
        "    train_drifted_factored,\n",
        "    val_dataset=val_drifted_factored,\n",
        "    optimizer=tf.keras.optimizers.Adam(),\n",
        "    step=alg,\n",
        "    epochs=train_epochs,\n",
        ")\n",
        "train_metrics = [train_drifted_metrics] + train_metrics\n",
        "val_metrics = [val_drifted_metrics] + val_metrics"
      ],
      "metadata": {
        "colab": {
          "base_uri": "https://localhost:8080/",
          "height": 769,
          "referenced_widgets": [
            "08dacf6a9bf04fb78e8baf08a84bfa4a",
            "290fcac86bed476db225e0cb959e02ca",
            "9a1b71424abe4ab9abea896f1ce871d1",
            "0fe66c7bd0bc46b983fc9951bb29f08c",
            "965d04a700724315affeed07e12c3dcd",
            "842fdaeae50e45ffa3ebaa6d52fc41ed",
            "3452dfd1a7324640ab5a013f3fa04f95",
            "cd2edde006144188a44c0c08e542a4d7",
            "7776c6d4fd774220b62184bd602dc22c",
            "daac73f825a54ed9a1c5a9040c0f5eea",
            "3f29054fa39e470484f6d7c020921ec9",
            "820f005662ee4e7580592d409eb80380",
            "56e91700dc0b43cca80e0d795682cab7",
            "704e974327e843288a8b8cd0799f1f11",
            "c36e5a9feb9246659813eebd6c8b86a2",
            "3690546ff45a4b8b8238be9e23d6273e",
            "9007f58b553f4c5794b2ebe08080c1e7",
            "dc1f5bd411fe460d860751b1e4ce57e3",
            "c42c894eb192478d9c21fc41d0fa4b0d",
            "e7a396e7fd65457aa0f36bbc06ad7032",
            "d4b54a5761ac450b8fb39ba413f425be",
            "bbb69bf1d9b74e57a39ba56835565c2b",
            "96eaecf150b147cab924a83659757dc3",
            "b6259354cebe4d2ba66ef1793cbfdd16",
            "5c2067c17b9d48a0ab6e16f19bcd0f9a",
            "df5db832e49b47f6979735deff7a0ef3",
            "d8e664824e464b9bb553df2836c72bfc",
            "4579ba6bdecb447fa73f7fd570de6c2d",
            "925bde4fdc7e479ba6c74eb49948201a",
            "14db94fcb3c74bfb8e83b952e4087221",
            "d3de58d419be4497ada55499032b8652",
            "41c7147e4e6a44a5a05969dc7132c4e8",
            "19db673e9ec54c058e1c14e5195b4fc1",
            "ca309d817e0a40538ad8a3ec30b925da",
            "e822746435e347b2be5c8000bc8c4c6b",
            "ad09f390874b420bb4bc7c90f05c6c88",
            "7ea3a3a93be440abad4a10a7cc68ffc4",
            "1a808f22abc94dda989b37e7b6ef6ef2",
            "8d54f895f7324c6f9f6be45bdbf914ad",
            "51b55b58da074098bd705a894608b23d",
            "7b5cbef607a947f29247ec1241798728",
            "9a44a776b91d4ac586c9b9c160709e4d",
            "9ce9df86baa94d27886c4e6e434ef396",
            "d2c1272fa4094f68b76c08ecaf64550f",
            "4e7f7ed7ad1c4209847d52eec723b43c",
            "e27bbdbbe09441699b3e415fb408d32b",
            "78df58a60ecd4890865da5f15b0dcdc5",
            "bf577f42ce164220b83d280dc8029c09",
            "5d3f8de5f1644e7eb37687e28a4decc5",
            "97263c8c61fb41189b0fa5a95d6b9200",
            "ea323029e3ed4069bcb32bc546611b07",
            "a349dcf66a2e40749e8cb1c5afe46380",
            "bbeb2f5da921444490aca859a87b260b",
            "dd204522a09a42b3bc0ac9b4df293d2f",
            "00f0c0673f314a77a2c1c15ad4bcd10e",
            "2d4097aed82d431c88b136288a71f07e",
            "995c9c4307e9498fa0e21c35fd5ef654",
            "483ba0d0ca2240efaa68fe2d5dc8c6c7",
            "23ab35386d1d44eab77858f664f4a48a",
            "49c9dcfc129a4b53a6cda1427bb125d3",
            "b73cc1b836ae4ccf97aba7f961989c61",
            "7cd84ba9adfb40bd9080bfb1ed2f21d0",
            "35426609de1b4305a969e8f0cdcf5552",
            "c0101769682842e5976b704dfb277021",
            "7ab4464b722a4120ae59c59a36b58001",
            "a6879c8fca484cb9bf4b5f4e6e036e01",
            "789309941383432d83dda7c82461ed0c",
            "7642e9a68b8847bdbf7067ca27110ea8",
            "372dd932927a40cdaab51f2d42c899d1",
            "833f9cbe537c4096ad3a678c86f052a1",
            "6f986e2040674039b63eb6c2c8b9cb31",
            "84fbab0fa08146f9b970915f58e28f86",
            "82f7d5bc5ea3418db24324a1d32d8191",
            "faee7822926e4e3a89a1ee3bf7594d86",
            "bdae10f618fa4916bb0fad24c2e6610e"
          ]
        },
        "id": "FtHUtr08oFpd",
        "outputId": "90b87939-be1a-4c7a-cd14-6aa4e62099e7"
      },
      "execution_count": 11,
      "outputs": [
        {
          "output_type": "display_data",
          "data": {
            "text/plain": [
              "HTMLMath(value='\\tlogit_accuracy: 0.0000;\\tfactor_accuracy: 0.0000;', description='Validation --', layout=Layo…"
            ],
            "application/vnd.jupyter.widget-view+json": {
              "version_major": 2,
              "version_minor": 0,
              "model_id": "08dacf6a9bf04fb78e8baf08a84bfa4a"
            }
          },
          "metadata": {}
        },
        {
          "output_type": "display_data",
          "data": {
            "text/plain": [
              "IntProgress(value=0, description='Batch 0/469, 0.0s passed', layout=Layout(width='67%'), max=469, style=Progre…"
            ],
            "application/vnd.jupyter.widget-view+json": {
              "version_major": 2,
              "version_minor": 0,
              "model_id": "0fe66c7bd0bc46b983fc9951bb29f08c"
            }
          },
          "metadata": {}
        },
        {
          "output_type": "display_data",
          "data": {
            "text/plain": [
              "HTMLMath(value='\\tlogit_accuracy: 0.0000;\\tfactor_accuracy: 0.0000;', description='Validation --', layout=Layo…"
            ],
            "application/vnd.jupyter.widget-view+json": {
              "version_major": 2,
              "version_minor": 0,
              "model_id": "3452dfd1a7324640ab5a013f3fa04f95"
            }
          },
          "metadata": {}
        },
        {
          "output_type": "display_data",
          "data": {
            "text/plain": [
              "IntProgress(value=0, description='Batch 0/79, 0.0s passed', layout=Layout(width='67%'), max=79, style=Progress…"
            ],
            "application/vnd.jupyter.widget-view+json": {
              "version_major": 2,
              "version_minor": 0,
              "model_id": "daac73f825a54ed9a1c5a9040c0f5eea"
            }
          },
          "metadata": {}
        },
        {
          "output_type": "display_data",
          "data": {
            "text/plain": [
              "IntProgress(value=0, description='Epoch 0/5, 0.0s passed', layout=Layout(width='67%'), max=5, style=ProgressSt…"
            ],
            "application/vnd.jupyter.widget-view+json": {
              "version_major": 2,
              "version_minor": 0,
              "model_id": "56e91700dc0b43cca80e0d795682cab7"
            }
          },
          "metadata": {}
        },
        {
          "output_type": "display_data",
          "data": {
            "text/plain": [
              "HTMLMath(value='\\tlogit_accuracy: 0.0000;\\tfactor_accuracy: 0.0000;', description='Epoch 1/5 train --', layout…"
            ],
            "application/vnd.jupyter.widget-view+json": {
              "version_major": 2,
              "version_minor": 0,
              "model_id": "3690546ff45a4b8b8238be9e23d6273e"
            }
          },
          "metadata": {}
        },
        {
          "output_type": "display_data",
          "data": {
            "text/plain": [
              "IntProgress(value=0, description='Batch 0/469, 0.0s passed', layout=Layout(width='67%'), max=469, style=Progre…"
            ],
            "application/vnd.jupyter.widget-view+json": {
              "version_major": 2,
              "version_minor": 0,
              "model_id": "c42c894eb192478d9c21fc41d0fa4b0d"
            }
          },
          "metadata": {}
        },
        {
          "output_type": "display_data",
          "data": {
            "text/plain": [
              "HTMLMath(value='\\tlogit_accuracy: 0.0000;\\tfactor_accuracy: 0.0000;', description='Validation --', layout=Layo…"
            ],
            "application/vnd.jupyter.widget-view+json": {
              "version_major": 2,
              "version_minor": 0,
              "model_id": "bbb69bf1d9b74e57a39ba56835565c2b"
            }
          },
          "metadata": {}
        },
        {
          "output_type": "display_data",
          "data": {
            "text/plain": [
              "IntProgress(value=0, description='Batch 0/79, 0.0s passed', layout=Layout(width='67%'), max=79, style=Progress…"
            ],
            "application/vnd.jupyter.widget-view+json": {
              "version_major": 2,
              "version_minor": 0,
              "model_id": "5c2067c17b9d48a0ab6e16f19bcd0f9a"
            }
          },
          "metadata": {}
        },
        {
          "output_type": "display_data",
          "data": {
            "text/plain": [
              "HTMLMath(value='\\tlogit_accuracy: 0.0000;\\tfactor_accuracy: 0.0000;', description='Epoch 2/5 train --', layout…"
            ],
            "application/vnd.jupyter.widget-view+json": {
              "version_major": 2,
              "version_minor": 0,
              "model_id": "4579ba6bdecb447fa73f7fd570de6c2d"
            }
          },
          "metadata": {}
        },
        {
          "output_type": "display_data",
          "data": {
            "text/plain": [
              "IntProgress(value=0, description='Batch 0/469, 0.0s passed', layout=Layout(width='67%'), max=469, style=Progre…"
            ],
            "application/vnd.jupyter.widget-view+json": {
              "version_major": 2,
              "version_minor": 0,
              "model_id": "d3de58d419be4497ada55499032b8652"
            }
          },
          "metadata": {}
        },
        {
          "output_type": "display_data",
          "data": {
            "text/plain": [
              "HTMLMath(value='\\tlogit_accuracy: 0.0000;\\tfactor_accuracy: 0.0000;', description='Validation --', layout=Layo…"
            ],
            "application/vnd.jupyter.widget-view+json": {
              "version_major": 2,
              "version_minor": 0,
              "model_id": "ca309d817e0a40538ad8a3ec30b925da"
            }
          },
          "metadata": {}
        },
        {
          "output_type": "display_data",
          "data": {
            "text/plain": [
              "IntProgress(value=0, description='Batch 0/79, 0.0s passed', layout=Layout(width='67%'), max=79, style=Progress…"
            ],
            "application/vnd.jupyter.widget-view+json": {
              "version_major": 2,
              "version_minor": 0,
              "model_id": "7ea3a3a93be440abad4a10a7cc68ffc4"
            }
          },
          "metadata": {}
        },
        {
          "output_type": "display_data",
          "data": {
            "text/plain": [
              "HTMLMath(value='\\tlogit_accuracy: 0.0000;\\tfactor_accuracy: 0.0000;', description='Epoch 3/5 train --', layout…"
            ],
            "application/vnd.jupyter.widget-view+json": {
              "version_major": 2,
              "version_minor": 0,
              "model_id": "51b55b58da074098bd705a894608b23d"
            }
          },
          "metadata": {}
        },
        {
          "output_type": "display_data",
          "data": {
            "text/plain": [
              "IntProgress(value=0, description='Batch 0/469, 0.0s passed', layout=Layout(width='67%'), max=469, style=Progre…"
            ],
            "application/vnd.jupyter.widget-view+json": {
              "version_major": 2,
              "version_minor": 0,
              "model_id": "9ce9df86baa94d27886c4e6e434ef396"
            }
          },
          "metadata": {}
        },
        {
          "output_type": "display_data",
          "data": {
            "text/plain": [
              "HTMLMath(value='\\tlogit_accuracy: 0.0000;\\tfactor_accuracy: 0.0000;', description='Validation --', layout=Layo…"
            ],
            "application/vnd.jupyter.widget-view+json": {
              "version_major": 2,
              "version_minor": 0,
              "model_id": "e27bbdbbe09441699b3e415fb408d32b"
            }
          },
          "metadata": {}
        },
        {
          "output_type": "display_data",
          "data": {
            "text/plain": [
              "IntProgress(value=0, description='Batch 0/79, 0.0s passed', layout=Layout(width='67%'), max=79, style=Progress…"
            ],
            "application/vnd.jupyter.widget-view+json": {
              "version_major": 2,
              "version_minor": 0,
              "model_id": "5d3f8de5f1644e7eb37687e28a4decc5"
            }
          },
          "metadata": {}
        },
        {
          "output_type": "display_data",
          "data": {
            "text/plain": [
              "HTMLMath(value='\\tlogit_accuracy: 0.0000;\\tfactor_accuracy: 0.0000;', description='Epoch 4/5 train --', layout…"
            ],
            "application/vnd.jupyter.widget-view+json": {
              "version_major": 2,
              "version_minor": 0,
              "model_id": "a349dcf66a2e40749e8cb1c5afe46380"
            }
          },
          "metadata": {}
        },
        {
          "output_type": "display_data",
          "data": {
            "text/plain": [
              "IntProgress(value=0, description='Batch 0/469, 0.0s passed', layout=Layout(width='67%'), max=469, style=Progre…"
            ],
            "application/vnd.jupyter.widget-view+json": {
              "version_major": 2,
              "version_minor": 0,
              "model_id": "00f0c0673f314a77a2c1c15ad4bcd10e"
            }
          },
          "metadata": {}
        },
        {
          "output_type": "display_data",
          "data": {
            "text/plain": [
              "HTMLMath(value='\\tlogit_accuracy: 0.0000;\\tfactor_accuracy: 0.0000;', description='Validation --', layout=Layo…"
            ],
            "application/vnd.jupyter.widget-view+json": {
              "version_major": 2,
              "version_minor": 0,
              "model_id": "483ba0d0ca2240efaa68fe2d5dc8c6c7"
            }
          },
          "metadata": {}
        },
        {
          "output_type": "display_data",
          "data": {
            "text/plain": [
              "IntProgress(value=0, description='Batch 0/79, 0.0s passed', layout=Layout(width='67%'), max=79, style=Progress…"
            ],
            "application/vnd.jupyter.widget-view+json": {
              "version_major": 2,
              "version_minor": 0,
              "model_id": "b73cc1b836ae4ccf97aba7f961989c61"
            }
          },
          "metadata": {}
        },
        {
          "output_type": "display_data",
          "data": {
            "text/plain": [
              "HTMLMath(value='\\tlogit_accuracy: 0.0000;\\tfactor_accuracy: 0.0000;', description='Epoch 5/5 train --', layout…"
            ],
            "application/vnd.jupyter.widget-view+json": {
              "version_major": 2,
              "version_minor": 0,
              "model_id": "c0101769682842e5976b704dfb277021"
            }
          },
          "metadata": {}
        },
        {
          "output_type": "display_data",
          "data": {
            "text/plain": [
              "IntProgress(value=0, description='Batch 0/469, 0.0s passed', layout=Layout(width='67%'), max=469, style=Progre…"
            ],
            "application/vnd.jupyter.widget-view+json": {
              "version_major": 2,
              "version_minor": 0,
              "model_id": "789309941383432d83dda7c82461ed0c"
            }
          },
          "metadata": {}
        },
        {
          "output_type": "display_data",
          "data": {
            "text/plain": [
              "HTMLMath(value='\\tlogit_accuracy: 0.0000;\\tfactor_accuracy: 0.0000;', description='Validation --', layout=Layo…"
            ],
            "application/vnd.jupyter.widget-view+json": {
              "version_major": 2,
              "version_minor": 0,
              "model_id": "833f9cbe537c4096ad3a678c86f052a1"
            }
          },
          "metadata": {}
        },
        {
          "output_type": "display_data",
          "data": {
            "text/plain": [
              "IntProgress(value=0, description='Batch 0/79, 0.0s passed', layout=Layout(width='67%'), max=79, style=Progress…"
            ],
            "application/vnd.jupyter.widget-view+json": {
              "version_major": 2,
              "version_minor": 0,
              "model_id": "82f7d5bc5ea3418db24324a1d32d8191"
            }
          },
          "metadata": {}
        }
      ]
    },
    {
      "cell_type": "code",
      "source": [
        "plot_pipeline_history(\n",
        "    train_metrics,\n",
        "    title=f\"Train data, step = {alg}, base = {base}, patience = {patience}\",\n",
        ")\n",
        "plt.show()\n",
        "plot_pipeline_history(\n",
        "    val_metrics,\n",
        "    title=f\"Validation data, step = {alg}, base = {base}, patience = {patience}\",\n",
        ")\n",
        "plt.show()\n",
        "# TODO store\n"
      ],
      "metadata": {
        "colab": {
          "base_uri": "https://localhost:8080/",
          "height": 939
        },
        "id": "i772mSJCPBiS",
        "outputId": "95a12d7a-6e6c-491a-8620-d36754397753"
      },
      "execution_count": 12,
      "outputs": [
        {
          "output_type": "display_data",
          "data": {
            "text/plain": [
              "<Figure size 640x480 with 1 Axes>"
            ],
            "image/png": "[encoded data removed]"
          },
          "metadata": {}
        },
        {
          "output_type": "display_data",
          "data": {
            "text/plain": [
              "<Figure size 640x480 with 1 Axes>"
            ],
            "image/png": "[encoded data removed]"
          },
          "metadata": {}
        }
      ]
    },
    {
      "cell_type": "code",
      "source": [
        "posttrain_metrics = pipeline_eval_loop(pp, train_ref_factored)\n",
        "postval_metrics = pipeline_eval_loop(pp, val_ref_factored)\n"
      ],
      "metadata": {
        "colab": {
          "base_uri": "https://localhost:8080/",
          "height": 139,
          "referenced_widgets": [
            "ee2754e2b9b245c6a5ae82fa20aea639",
            "51db1b8f8aa3476f88d4162cdf37dd3d",
            "824084a76ef346a4bdcc785436ad389a",
            "8cf5ea2d9f73491aa8def04c9e52abcd",
            "b90e9f0d69754d56b757595cfac84486",
            "6d1860a99f404a6dbbb41df9e90534a9",
            "635e40dc05db4db4b3d22ed7f89b972e",
            "3a39cf74b43941dfa8c3a15ef037bc7e",
            "65cc0c00cb644afea67ab0fd457d6656",
            "e2d9c50943d345c98b78fa0a81945718",
            "e08b007b8dfe49008de3e8dee44177d8",
            "a30d9903ed58491394da4617e0fc3b98"
          ]
        },
        "id": "rwGATfuhSWlV",
        "outputId": "90b4dd4c-22d4-41f7-fb59-a8fa0dfb5ae3"
      },
      "execution_count": 13,
      "outputs": [
        {
          "output_type": "display_data",
          "data": {
            "text/plain": [
              "HTMLMath(value='\\tlogit_accuracy: 0.0000;\\tfactor_accuracy: 0.0000;', description='Validation --', layout=Layo…"
            ],
            "application/vnd.jupyter.widget-view+json": {
              "version_major": 2,
              "version_minor": 0,
              "model_id": "ee2754e2b9b245c6a5ae82fa20aea639"
            }
          },
          "metadata": {}
        },
        {
          "output_type": "display_data",
          "data": {
            "text/plain": [
              "IntProgress(value=0, description='Batch 0/469, 0.0s passed', layout=Layout(width='67%'), max=469, style=Progre…"
            ],
            "application/vnd.jupyter.widget-view+json": {
              "version_major": 2,
              "version_minor": 0,
              "model_id": "8cf5ea2d9f73491aa8def04c9e52abcd"
            }
          },
          "metadata": {}
        },
        {
          "output_type": "display_data",
          "data": {
            "text/plain": [
              "HTMLMath(value='\\tlogit_accuracy: 0.0000;\\tfactor_accuracy: 0.0000;', description='Validation --', layout=Layo…"
            ],
            "application/vnd.jupyter.widget-view+json": {
              "version_major": 2,
              "version_minor": 0,
              "model_id": "635e40dc05db4db4b3d22ed7f89b972e"
            }
          },
          "metadata": {}
        },
        {
          "output_type": "display_data",
          "data": {
            "text/plain": [
              "IntProgress(value=0, description='Batch 0/79, 0.0s passed', layout=Layout(width='67%'), max=79, style=Progress…"
            ],
            "application/vnd.jupyter.widget-view+json": {
              "version_major": 2,
              "version_minor": 0,
              "model_id": "e2d9c50943d345c98b78fa0a81945718"
            }
          },
          "metadata": {}
        }
      ]
    },
    {
      "cell_type": "code",
      "source": [
        "compare_train_metrics = [pretrain_final_metrics, posttrain_metrics]\n",
        "compare_val_metrics = [preval_final_metrics, postval_metrics]\n",
        "plot_pipeline_history(compare_train_metrics, title=\"Comparison on initial train data\")\n",
        "plt.show()\n",
        "plot_pipeline_history(compare_train_metrics, title=\"Comparison on initial validation data\")\n",
        "plt.show()\n",
        "# TODO store"
      ],
      "metadata": {
        "colab": {
          "base_uri": "https://localhost:8080/",
          "height": 939
        },
        "id": "5AOdn1WaTeu0",
        "outputId": "84abab6f-6c26-4909-9d08-959bc464473f"
      },
      "execution_count": 14,
      "outputs": [
        {
          "output_type": "display_data",
          "data": {
            "text/plain": [
              "<Figure size 640x480 with 1 Axes>"
            ],
            "image/png": "[encoded data removed]"
          },
          "metadata": {}
        },
        {
          "output_type": "display_data",
          "data": {
            "text/plain": [
              "<Figure size 640x480 with 1 Axes>"
            ],
            "image/png": "[encoded data removed]"
          },
          "metadata": {}
        }
      ]
    },
    {
      "cell_type": "code",
      "source": [
        "# TODO store numerical results"
      ],
      "metadata": {
        "id": "RmabO9kVE7Si"
      },
      "execution_count": 15,
      "outputs": []
    },
    {
      "cell_type": "code",
      "source": [],
      "metadata": {
        "id": "xR4NcWDtRawP"
      },
      "execution_count": 15,
      "outputs": []
    }
  ]
}