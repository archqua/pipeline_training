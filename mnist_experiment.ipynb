{
  "cells": [
    {
      "cell_type": "markdown",
      "metadata": {
        "id": "view-in-github",
        "colab_type": "text"
      },
      "source": [
        "<a href=\"https://colab.research.google.com/github/archqua/pipeline_training/blob/master/mnist_experiment.ipynb\" target=\"_parent\"><img src=\"https://colab.research.google.com/assets/colab-badge.svg\" alt=\"Open In Colab\"/></a>"
      ]
    },
    {
      "cell_type": "code",
      "execution_count": 1,
      "metadata": {
        "id": "5gUZQMp_P7QE"
      },
      "outputs": [],
      "source": [
        "parameters = dict(\n",
        "    pretrain_epochs = 1,\n",
        "    train_epochs = 1,\n",
        "    base = 2,\n",
        "    patience = 1,\n",
        "    batch = 128,\n",
        "    metrics = [\"accuracy\",],\n",
        "    drift = \"flip\",\n",
        "    alg = \"greedy\",\n",
        "    seed  = 12309,\n",
        "    logp = \"mnist_artifacts\",\n",
        ")\n",
        "for p in parameters:\n",
        "    if p not in locals():\n",
        "        v = parameters[p]\n",
        "        if isinstance(v, str):\n",
        "            exec(f\"{p} = '{v}'\")\n",
        "        else:\n",
        "            exec(f\"{p} = {v}\")\n"
      ]
    },
    {
      "cell_type": "code",
      "execution_count": 2,
      "metadata": {
        "id": "qorioEycH-oF",
        "colab": {
          "base_uri": "https://localhost:8080/"
        },
        "outputId": "f32c7db7-c9b7-495b-ffc2-7362332a021f"
      },
      "outputs": [
        {
          "output_type": "stream",
          "name": "stdout",
          "text": [
            "{'started': '2024-10-12T12:49:59.007138',\n",
            " 'parameters': {'pretrain_epochs': 1,\n",
            "                'train_epochs': 1,\n",
            "                'base': 2,\n",
            "                'patience': 1,\n",
            "                'batch': 128,\n",
            "                'metrics': ['accuracy'],\n",
            "                'drift': 'flip',\n",
            "                'alg': 'greedy',\n",
            "                'seed': 12309,\n",
            "                'logp': 'mnist_artifacts'}}\n"
          ]
        }
      ],
      "source": [
        "from datetime import datetime\n",
        "import json\n",
        "import os\n",
        "from pprint import pp as ppr\n",
        "\n",
        "from matplotlib import pyplot as plt\n",
        "import tensorflow as tf\n",
        "from tensorflow.keras import datasets, layers, models\n",
        "\n",
        "tf.random.set_seed(seed)\n",
        "logpath = os.path.join(\n",
        "    logp,\n",
        "    f\"pe{pretrain_epochs}_te{train_epochs}_b{base}_p{patience}_{drift}_{alg}\",\n",
        ")\n",
        "os.makedirs(logpath, exist_ok=True)\n",
        "logjs = {\n",
        "    \"started\": datetime.now().isoformat(),\n",
        "    \"parameters\": parameters.copy(),\n",
        "}\n",
        "ppr(logjs)\n"
      ]
    },
    {
      "cell_type": "code",
      "execution_count": 3,
      "metadata": {
        "id": "y1-z_Du2YLW9"
      },
      "outputs": [],
      "source": [
        "def printeval(evvals, evkeys=[\"loss\"] + metrics):\n",
        "    for k, v in zip(evkeys, evvals):\n",
        "        print(f\"{k}:\\t{v:.4f}\")\n",
        "\n",
        "def flipaug(img, lbl):\n",
        "    return tf.image.random_flip_left_right(img), lbl\n",
        "\n",
        "\n",
        "def drifted(dataset, seed=seed, drift=drift):\n",
        "    drift = drift.lower()\n",
        "    if drift == \"flip\":\n",
        "        return dataset.map(flipaug)\n",
        "    else:\n",
        "        raise ValueError(f\"Drift {drift} is unknown\")\n"
      ]
    },
    {
      "cell_type": "code",
      "execution_count": 4,
      "metadata": {
        "id": "-pi_Y9rlJURe"
      },
      "outputs": [],
      "source": [
        "mnist = datasets.mnist\n",
        "\n",
        "Xy_train, Xy_val = mnist.load_data()\n",
        "def mapimg(img, label):\n",
        "    return tf.image.convert_image_dtype(img, dtype=tf.float32), label\n",
        "\n",
        "train_ref = (\n",
        "    tf.data.Dataset.from_tensor_slices(Xy_train)\n",
        "    .shuffle(Xy_train[0].shape[0])\n",
        "    .batch(batch)\n",
        "    .map(mapimg)\n",
        ")\n",
        "val_ref = (\n",
        "    tf.data.Dataset.from_tensor_slices(Xy_val)\n",
        "    .shuffle(Xy_val[0].shape[0])\n",
        "    .batch(batch)\n",
        "    .map(mapimg)\n",
        ")\n",
        "train_drifted = drifted(train_ref)\n",
        "val_drifted = drifted(val_ref)\n"
      ]
    },
    {
      "cell_type": "code",
      "execution_count": 5,
      "metadata": {
        "colab": {
          "base_uri": "https://localhost:8080/",
          "height": 225
        },
        "id": "oK9qdgVSLLLK",
        "outputId": "d82065f0-c678-4202-b9e9-30398f2bce3b"
      },
      "outputs": [
        {
          "output_type": "display_data",
          "data": {
            "text/plain": [
              "\u001b[1mModel: \"Pipeline\"\u001b[0m\n"
            ],
            "text/html": [
              "<pre style=\"white-space:pre;overflow-x:auto;line-height:normal;font-family:Menlo,'DejaVu Sans Mono',consolas,'Courier New',monospace\"><span style=\"font-weight: bold\">Model: \"Pipeline\"</span>\n",
              "</pre>\n"
            ]
          },
          "metadata": {}
        },
        {
          "output_type": "display_data",
          "data": {
            "text/plain": [
              "┏━━━━━━━━━━━━━━━━━━━━━━━━━━━━━━━━━━━━━━┳━━━━━━━━━━━━━━━━━━━━━━━━━━━━━┳━━━━━━━━━━━━━━━━━┓\n",
              "┃\u001b[1m \u001b[0m\u001b[1mLayer (type)                        \u001b[0m\u001b[1m \u001b[0m┃\u001b[1m \u001b[0m\u001b[1mOutput Shape               \u001b[0m\u001b[1m \u001b[0m┃\u001b[1m \u001b[0m\u001b[1m        Param #\u001b[0m\u001b[1m \u001b[0m┃\n",
              "┡━━━━━━━━━━━━━━━━━━━━━━━━━━━━━━━━━━━━━━╇━━━━━━━━━━━━━━━━━━━━━━━━━━━━━╇━━━━━━━━━━━━━━━━━┩\n",
              "│ img (\u001b[38;5;33mInputLayer\u001b[0m)                     │ (\u001b[38;5;45mNone\u001b[0m, \u001b[38;5;34m28\u001b[0m, \u001b[38;5;34m28\u001b[0m, \u001b[38;5;34m1\u001b[0m)           │               \u001b[38;5;34m0\u001b[0m │\n",
              "├──────────────────────────────────────┼─────────────────────────────┼─────────────────┤\n",
              "│ logit (\u001b[38;5;33mSequential\u001b[0m)                   │ (\u001b[38;5;45mNone\u001b[0m, \u001b[38;5;34m10\u001b[0m)                  │           \u001b[38;5;34m1,016\u001b[0m │\n",
              "├──────────────────────────────────────┼─────────────────────────────┼─────────────────┤\n",
              "│ factor (\u001b[38;5;33mFactor\u001b[0m)                      │ (\u001b[38;5;45mNone\u001b[0m)                      │               \u001b[38;5;34m0\u001b[0m │\n",
              "└──────────────────────────────────────┴─────────────────────────────┴─────────────────┘\n"
            ],
            "text/html": [
              "<pre style=\"white-space:pre;overflow-x:auto;line-height:normal;font-family:Menlo,'DejaVu Sans Mono',consolas,'Courier New',monospace\">┏━━━━━━━━━━━━━━━━━━━━━━━━━━━━━━━━━━━━━━┳━━━━━━━━━━━━━━━━━━━━━━━━━━━━━┳━━━━━━━━━━━━━━━━━┓\n",
              "┃<span style=\"font-weight: bold\"> Layer (type)                         </span>┃<span style=\"font-weight: bold\"> Output Shape                </span>┃<span style=\"font-weight: bold\">         Param # </span>┃\n",
              "┡━━━━━━━━━━━━━━━━━━━━━━━━━━━━━━━━━━━━━━╇━━━━━━━━━━━━━━━━━━━━━━━━━━━━━╇━━━━━━━━━━━━━━━━━┩\n",
              "│ img (<span style=\"color: #0087ff; text-decoration-color: #0087ff\">InputLayer</span>)                     │ (<span style=\"color: #00d7ff; text-decoration-color: #00d7ff\">None</span>, <span style=\"color: #00af00; text-decoration-color: #00af00\">28</span>, <span style=\"color: #00af00; text-decoration-color: #00af00\">28</span>, <span style=\"color: #00af00; text-decoration-color: #00af00\">1</span>)           │               <span style=\"color: #00af00; text-decoration-color: #00af00\">0</span> │\n",
              "├──────────────────────────────────────┼─────────────────────────────┼─────────────────┤\n",
              "│ logit (<span style=\"color: #0087ff; text-decoration-color: #0087ff\">Sequential</span>)                   │ (<span style=\"color: #00d7ff; text-decoration-color: #00d7ff\">None</span>, <span style=\"color: #00af00; text-decoration-color: #00af00\">10</span>)                  │           <span style=\"color: #00af00; text-decoration-color: #00af00\">1,016</span> │\n",
              "├──────────────────────────────────────┼─────────────────────────────┼─────────────────┤\n",
              "│ factor (<span style=\"color: #0087ff; text-decoration-color: #0087ff\">Factor</span>)                      │ (<span style=\"color: #00d7ff; text-decoration-color: #00d7ff\">None</span>)                      │               <span style=\"color: #00af00; text-decoration-color: #00af00\">0</span> │\n",
              "└──────────────────────────────────────┴─────────────────────────────┴─────────────────┘\n",
              "</pre>\n"
            ]
          },
          "metadata": {}
        },
        {
          "output_type": "display_data",
          "data": {
            "text/plain": [
              "\u001b[1m Total params: \u001b[0m\u001b[38;5;34m1,016\u001b[0m (3.97 KB)\n"
            ],
            "text/html": [
              "<pre style=\"white-space:pre;overflow-x:auto;line-height:normal;font-family:Menlo,'DejaVu Sans Mono',consolas,'Courier New',monospace\"><span style=\"font-weight: bold\"> Total params: </span><span style=\"color: #00af00; text-decoration-color: #00af00\">1,016</span> (3.97 KB)\n",
              "</pre>\n"
            ]
          },
          "metadata": {}
        },
        {
          "output_type": "display_data",
          "data": {
            "text/plain": [
              "\u001b[1m Trainable params: \u001b[0m\u001b[38;5;34m1,016\u001b[0m (3.97 KB)\n"
            ],
            "text/html": [
              "<pre style=\"white-space:pre;overflow-x:auto;line-height:normal;font-family:Menlo,'DejaVu Sans Mono',consolas,'Courier New',monospace\"><span style=\"font-weight: bold\"> Trainable params: </span><span style=\"color: #00af00; text-decoration-color: #00af00\">1,016</span> (3.97 KB)\n",
              "</pre>\n"
            ]
          },
          "metadata": {}
        },
        {
          "output_type": "display_data",
          "data": {
            "text/plain": [
              "\u001b[1m Non-trainable params: \u001b[0m\u001b[38;5;34m0\u001b[0m (0.00 B)\n"
            ],
            "text/html": [
              "<pre style=\"white-space:pre;overflow-x:auto;line-height:normal;font-family:Menlo,'DejaVu Sans Mono',consolas,'Courier New',monospace\"><span style=\"font-weight: bold\"> Non-trainable params: </span><span style=\"color: #00af00; text-decoration-color: #00af00\">0</span> (0.00 B)\n",
              "</pre>\n"
            ]
          },
          "metadata": {}
        }
      ],
      "source": [
        "def greedy_loss_fn(\n",
        "    model,\n",
        "    loss=tf.keras.losses.SparseCategoricalCrossentropy(from_logits=True),\n",
        "    patience=None,\n",
        "    factoring_layer=\"factor\",\n",
        "):\n",
        "    factoring_layer = model.get_layer(factoring_layer)\n",
        "    def wrapped(trg, logits):\n",
        "        inferred_lbls, miss_mask, diff_mask = factoring_layer.greedy_lblprop(\n",
        "            tf.stop_gradient(logits), trg, patience=patience,\n",
        "        )\n",
        "        match_mask = ~miss_mask\n",
        "        return loss(\n",
        "            tf.boolean_mask(inferred_lbls, match_mask),\n",
        "            tf.boolean_mask(logits, match_mask),\n",
        "        )\n",
        "    return wrapped\n",
        "\n",
        "class Factor(layers.Layer):\n",
        "    def __init__(self, base=base, patience=patience, name=None, **kwargs):\n",
        "        super().__init__(name=name, **kwargs)\n",
        "        self.base = tf.constant(base, dtype=tf.int32, shape=())\n",
        "        self.patience = patience\n",
        "\n",
        "    def call(self, logits):\n",
        "        return self.factor(tf.argmax(logits, axis=-1))\n",
        "\n",
        "    def factor(self, labels):\n",
        "        return tf.cast(tf.keras.ops.mod(labels, self.base), tf.int32)\n",
        "\n",
        "    def refactor(self, logits, miss_mask, ninf=-1.0e+06):\n",
        "        am = tf.argmax(logits, axis=-1, output_type=tf.int32)\n",
        "        mask = am[:, tf.newaxis] == tf.range(logits.shape[-1], dtype=tf.int32)[tf.newaxis, :]\n",
        "        mask &= miss_mask[:, tf.newaxis]\n",
        "        logits = tf.where(mask, ninf, logits)\n",
        "        return self(logits), logits\n",
        "\n",
        "    def greedy_lblprop(self, logits, trg, patience=None):\n",
        "        # this line is entirely to satisfy tf static checker\n",
        "        trg = tf.cast(trg, tf.int32)\n",
        "        if patience is None:\n",
        "            patience = self.patience\n",
        "        assert patience >= 0, f\"for greedy label propagation specify patience >= 0, not {patience}\"\n",
        "        guess = self(logits)\n",
        "        first_miss_mask = guess != trg\n",
        "        miss_mask = first_miss_mask\n",
        "        # this implementation is suboptimal\n",
        "        # because it recomputes good values\n",
        "        for d in range(patience):\n",
        "            guess, logits = self.refactor(logits, miss_mask)\n",
        "            miss_mask = guess != trg\n",
        "        diff_mask = first_miss_mask ^ miss_mask\n",
        "        # we could smooth over miss_mask, not simply argmax\n",
        "        return tf.argmax(logits, axis=-1, output_type=tf.int32), miss_mask, diff_mask\n",
        "\n",
        "# input\n",
        "inp = tf.keras.Input((28, 28, 1), name=\"img\")\n",
        "# cnn\n",
        "cnn = tf.keras.Sequential([\n",
        "    layers.InputLayer((28, 28, 1), name=\"inp\"),\n",
        "    layers.Conv2D(2, (5, 5), activation='relu', name=\"conv1\"),  # 24x24x2\n",
        "    layers.MaxPooling2D((2, 2), name=\"pool1\"),  # 12x12x2\n",
        "    layers.Conv2D(4, (5, 5), activation='relu', name=\"conv2\"),  # 8x8x4\n",
        "    layers.MaxPooling2D((2, 2), name=\"pool2\"),  # 4x4x4\n",
        "    layers.Conv2D(10, (4, 4), activation='relu', name=\"conv3\"),  # 1x1x10\n",
        "    layers.Flatten(name=\"flatten\"),\n",
        "    layers.Dense(10, name=\"logit\"),\n",
        "], name=\"logit\")\n",
        "# outputs\n",
        "logit = cnn(inp)\n",
        "factor = Factor(base=base, name=\"factor\")(logit)\n",
        "\n",
        "pp = tf.keras.Model(inp, [factor, logit], name=\"Pipeline\")\n",
        "pp.summary()\n",
        "\n"
      ]
    },
    {
      "cell_type": "code",
      "execution_count": 6,
      "metadata": {
        "colab": {
          "base_uri": "https://localhost:8080/",
          "height": 825
        },
        "id": "cDzw8c-M8RN5",
        "outputId": "2e3e03b2-e5a5-4999-be96-3acddd52c2ab"
      },
      "outputs": [
        {
          "output_type": "execute_result",
          "data": {
            "image/png": "[encoded data removed]",
            "text/plain": [
              "<IPython.core.display.Image object>"
            ]
          },
          "metadata": {},
          "execution_count": 6
        }
      ],
      "source": [
        "tf.keras.utils.plot_model(\n",
        "    pp, show_layer_names=True, show_shapes=True, show_dtype=True,\n",
        "    to_file=os.path.join(logpath, \"pipeline.png\"),\n",
        ")"
      ]
    },
    {
      "cell_type": "code",
      "execution_count": 7,
      "metadata": {
        "id": "1dK7zkxrJa6_"
      },
      "outputs": [],
      "source": [
        "def factor_labels(model, factoring_layer=\"factor\", duplicate=True):\n",
        "    factoring_layer = model.get_layer(factoring_layer)\n",
        "    # @tf.function\n",
        "    def wrapped(img, lbl):\n",
        "        if duplicate:\n",
        "            return img, factoring_layer.factor(lbl), lbl\n",
        "        return img, factoring_layer.factor(lbl)\n",
        "    return wrapped\n",
        "\n",
        "train_ref_factored = train_ref.map(factor_labels(pp))\n",
        "val_ref_factored = val_ref.map(factor_labels(pp))\n",
        "train_drifted_factored = train_drifted.map(factor_labels(pp))\n",
        "val_drifted_factored = val_drifted.map(factor_labels(pp))\n"
      ]
    },
    {
      "cell_type": "code",
      "execution_count": 8,
      "metadata": {
        "id": "v65Td8UtxyuJ"
      },
      "outputs": [],
      "source": [
        "from types import NoneType\n",
        "import ipywidgets as widgets\n",
        "from IPython.display import display\n",
        "import time\n",
        "\n",
        "\n",
        "class BatchMeanMetricWrapper(tf.keras.Metric):\n",
        "    def __init__(self, fn, normalize=100, name=None, dtype=None, **kwargs):\n",
        "        super().__init__(name=name, dtype=dtype)\n",
        "        self._fn = fn\n",
        "        self._kwargs = kwargs\n",
        "        self._normalize = normalize\n",
        "        self._counter = 0\n",
        "        self._data = None\n",
        "        if dtype is None:\n",
        "            dtype = tf.float32\n",
        "        self._dtype = dtype\n",
        "\n",
        "    def reset_state(self, *args, **kwargs):\n",
        "        self._counter = 0\n",
        "        self._data = None\n",
        "\n",
        "    def update_state(self, y_true, y_pred, *args, **kwargs):\n",
        "        batchsize = y_true.shape[0]\n",
        "        upd = tf.cast(self._fn(y_true, y_pred, **self._kwargs), self._dtype)\n",
        "        if self._normalize is not None:\n",
        "            upd *= float(self._normalize) / batchsize\n",
        "        self._counter += batchsize\n",
        "        if self._data is None:\n",
        "            self._data = upd\n",
        "        else:\n",
        "            self._data *= (self._counter - batchsize) / self._counter\n",
        "            self._data += batchsize * upd / self._counter\n",
        "\n",
        "    def result(self, *args, **kwargs):\n",
        "        return self._data\n",
        "\n",
        "\n",
        "def pretty_iterator(to_wrap=None, n=None, track_time=True, desc=\"\", width=\"67%\", desc_width=\"23%\"):\n",
        "    if to_wrap is None:\n",
        "        if n is None:\n",
        "            n = 1\n",
        "        to_wrap = range(n)\n",
        "    if n is None:\n",
        "        try:\n",
        "            n = len(to_wrap)\n",
        "        except:\n",
        "            pass\n",
        "\n",
        "    if track_time:\n",
        "        start_time = time.time()\n",
        "        passed = 0.0\n",
        "    def sdesc(j):\n",
        "        res = \" \".join([desc, f\"{j}/{n}\"])\n",
        "        if track_time:\n",
        "            passed = time.time() - start_time\n",
        "            res = \", \".join([res, f\"{passed:.1f}s passed\"])\n",
        "        return res\n",
        "    progress = widgets.IntProgress(\n",
        "        value=0, min=0, max=n,\n",
        "        description=sdesc(0),\n",
        "        layout={\"width\": width},\n",
        "        style={\"description_width\": desc_width if len(desc) > 0 or track_time else \"0px\"},\n",
        "    )\n",
        "    display(progress)\n",
        "    for i, item in enumerate(to_wrap):\n",
        "        yield item\n",
        "        passed = time.time() - start_time\n",
        "        progress.value += 1\n",
        "        progress.description = sdesc(i+1)\n",
        "\n",
        "\n",
        "def epochs_iterator(n_epochs=1):\n",
        "    return pretty_iterator(n=n_epochs, desc=\"Epoch\")\n",
        "\n",
        "def data_iterator(dataset):\n",
        "    return pretty_iterator(dataset, desc=\"Batch\")\n",
        "\n",
        "def cheet_train_step(\n",
        "    pipeline, data, optimizer, loss, Metrics={\"logit\": [], \"factor\": []},\n",
        "):\n",
        "    img, trg, lbl = data\n",
        "    with tf.GradientTape() as tape:\n",
        "        factors, logits = pipeline(img, training=True)\n",
        "        loss_value = loss(lbl, logits)\n",
        "        for M in Metrics[\"logit\"]:\n",
        "            M.update_state(lbl, tf.argmax(logits, axis=-1))\n",
        "        for M in Metrics[\"factor\"]:\n",
        "            M.update_state(trg, factors)\n",
        "    grads = tape.gradient(loss_value, pipeline.trainable_weights)\n",
        "    optimizer.apply_gradients(zip(grads, pipeline.trainable_weights))\n",
        "\n",
        "\n",
        "def greedy_train_step(\n",
        "    pipeline, data, optimizer, loss, Metrics={\"logit\": [], \"factor\": []},\n",
        "):\n",
        "    img, trg, lbl = data\n",
        "    with tf.GradientTape() as tape:\n",
        "        factors, logits = pipeline(img, training=True)\n",
        "        loss_value = greedy_loss_fn(pipeline, loss)(trg, logits)\n",
        "        for M in Metrics[\"logit\"]:\n",
        "            M.update_state(lbl, tf.argmax(logits, axis=-1))\n",
        "        for M in Metrics[\"factor\"]:\n",
        "            M.update_state(trg, factors)\n",
        "    grads = tape.gradient(loss_value, pipeline.trainable_weights)\n",
        "    optimizer.apply_gradients(zip(grads, pipeline.trainable_weights))\n",
        "\n",
        "_train_steps = {\n",
        "    \"cheet\": cheet_train_step,\n",
        "    \"greedy\": greedy_train_step,\n",
        "}\n",
        "\n",
        "def get_train_step(step):\n",
        "    return _train_steps[step.lower()]\n",
        "\n",
        "def pipeline_train_loop(\n",
        "    pipeline,\n",
        "    train_dataset,\n",
        "    optimizer,\n",
        "    step = \"greedy\",\n",
        "    loss=tf.keras.losses.SparseCategoricalCrossentropy(from_logits=True),\n",
        "    metrics=metrics,\n",
        "    epochs=1,\n",
        "    val_dataset=None,\n",
        "    pretty=True,\n",
        "):\n",
        "    train_step = get_train_step(step)\n",
        "    if val_dataset is not None:\n",
        "        val_metrics = []\n",
        "    train_metrics = []\n",
        "    Metrics = {\"logit\": [], \"factor\": []}\n",
        "    for m in metrics:\n",
        "        for k in Metrics:\n",
        "            Metrics[k].append(tf.keras.metrics.get(m.capitalize()))\n",
        "    def smetrics() -> str:\n",
        "        res = \"\"\n",
        "        for k in Metrics:\n",
        "            for M in Metrics[k]:\n",
        "                Mresult = M.result()\n",
        "                if Mresult is not None and len(Mresult.shape) < 2:\n",
        "                    res += f\"\\t{k}_{M.name}: {Mresult:.4f};\"\n",
        "        return res\n",
        "    eit = epochs_iterator(epochs) if pretty else range(epochs)\n",
        "    for e in eit:\n",
        "        for k in Metrics:\n",
        "            for M in Metrics[k]:\n",
        "                M.reset_state()\n",
        "        tdit = data_iterator(train_dataset) if pretty else train_dataset\n",
        "        metrics_html = widgets.HTMLMath(\n",
        "            value = smetrics(),\n",
        "            placeholder=\"HTMLM\",\n",
        "            description=f\"Epoch {e+1}/{epochs} train --\",\n",
        "            style = {\"description_width\": \"23%\"},\n",
        "            layout={\"width\": \"67%\"},\n",
        "        )\n",
        "        display(metrics_html)\n",
        "        for data in tdit:\n",
        "            train_step(pipeline, data, optimizer, loss, Metrics)\n",
        "            metrics_html.value = smetrics()\n",
        "        train_metrics.append({\n",
        "            k: {\n",
        "                M.name: M.result() for M in Metrics[k]\n",
        "            } for k in Metrics\n",
        "        })\n",
        "        if val_dataset is not None:\n",
        "            vM = pipeline_eval_loop(\n",
        "                pipeline=pipeline,\n",
        "                val_dataset=val_dataset,\n",
        "                loss=loss,\n",
        "                metrics=metrics,\n",
        "                pretty=pretty\n",
        "            )\n",
        "            val_metrics.append(vM)\n",
        "\n",
        "    if val_dataset is not None:\n",
        "        return train_metrics, val_metrics\n",
        "    return train_metrics\n",
        "\n",
        "\n",
        "def pipeline_eval_loop(\n",
        "    pipeline,\n",
        "    val_dataset,\n",
        "    loss=tf.keras.losses.SparseCategoricalCrossentropy(from_logits=True),\n",
        "    metrics=metrics,\n",
        "    pretty=True,\n",
        "    confusion_matrix=True,\n",
        "):\n",
        "    Metrics = {\"logit\": [], \"factor\": []}\n",
        "    if confusion_matrix:\n",
        "        Metrics[\"logit\"].append(\n",
        "            BatchMeanMetricWrapper(\n",
        "                tf.math.confusion_matrix,\n",
        "                name=\"confusion\",\n",
        "                dtype=tf.float32,\n",
        "                num_classes=10,\n",
        "            )\n",
        "        )\n",
        "    for m in metrics:\n",
        "        for k in Metrics:\n",
        "            Metrics[k].append(tf.keras.metrics.get(m.capitalize()))\n",
        "    def smetrics() -> str:\n",
        "        res = \"\"\n",
        "        for k in Metrics:\n",
        "            for M in Metrics[k]:\n",
        "                Mresult = M.result()\n",
        "                if Mresult is not None and len(Mresult.shape) < 2:\n",
        "                    res += f\"\\t{k}_{M.name}: {Mresult:.4f};\"\n",
        "        return res\n",
        "    vdit = data_iterator(val_dataset) if pretty else val_dataset\n",
        "    metrics_html = widgets.HTMLMath(\n",
        "        value = smetrics(),\n",
        "        placeholder=\"HTMLM\",\n",
        "        description=f\"Validation --\",\n",
        "        style = {\"description_width\": \"23%\"},\n",
        "        layout={\"width\": \"67%\"},\n",
        "    )\n",
        "    display(metrics_html)\n",
        "\n",
        "    for data in data_iterator(val_dataset):\n",
        "        img, trg, lbl = data\n",
        "        factors, logits = pipeline(img, training=True)\n",
        "        for M in Metrics[\"logit\"]:\n",
        "            M.update_state(lbl, tf.argmax(logits, axis=-1))\n",
        "        for M in Metrics[\"factor\"]:\n",
        "            M.update_state(trg, factors)\n",
        "        metrics_html.value = smetrics()\n",
        "\n",
        "    return {\n",
        "        k: {\n",
        "            M.name: M.result() for M in Metrics[k]\n",
        "        } for k in Metrics\n",
        "    }\n",
        "\n",
        "from collections import defaultdict\n",
        "def pipeline_metrics_as_curves(metrics):\n",
        "    res = defaultdict(list)\n",
        "    for mdict in metrics:\n",
        "        for k in mdict:\n",
        "            for m, v in mdict[k].items():\n",
        "                key = \"_\".join([k, m])\n",
        "                res[key].append(v.numpy())\n",
        "    return dict(res)\n",
        "\n",
        "def plot_pipeline_history(metrics_history, title=None, lognm=None, logjs=logjs):\n",
        "    metrics_curves = pipeline_metrics_as_curves(metrics_history)\n",
        "    if lognm is not None and isinstance(logjs, dict):\n",
        "        logjs[lognm] = {\n",
        "            key: [\n",
        "                item if len(item.shape) < 2 else item.tolist()\n",
        "                for item in curve\n",
        "            ] for key, curve in metrics_curves.items()\n",
        "        }\n",
        "    for key, curve in metrics_curves.items():\n",
        "        notacurve = False\n",
        "        for item in curve:\n",
        "            if hasattr(item, \"shape\") and len(item.shape) > 1:\n",
        "                notacurve = True\n",
        "            break\n",
        "        if not notacurve:\n",
        "            label = key.replace(\"_\", \" \")\n",
        "            plt.plot(list(range(len(curve))), curve, label=label)\n",
        "    plt.title(title, fontsize=14)\n",
        "    plt.xlabel(\"Epoch\", fontsize=14)\n",
        "    plt.ylabel(\"Metric value\", fontsize=14)\n",
        "    plt.legend(loc=\"upper left\", fontsize=12)\n",
        "\n",
        "def plot_conf_matrix(conf_mx, title=None):\n",
        "    if isinstance(conf_mx, tf.Tensor):\n",
        "        conf_mx = conf_mx.numpy()\n",
        "    plt.figure(figsize=tuple(0.7*s for s in conf_mx.shape))\n",
        "    plt.imshow(conf_mx)\n",
        "    plt.title(title, fontsize=14)\n",
        "    plt.ylabel(\"True label\", fontsize=14)\n",
        "    plt.xlabel(\"Predicted label\", fontsize=14)\n",
        "    plt.xticks(list(range(conf_mx.shape[0])))\n",
        "    plt.yticks(list(range(conf_mx.shape[1])))\n",
        "    for i in range(conf_mx.shape[0]):\n",
        "        for j in range(conf_mx.shape[1]):\n",
        "            plt.text(\n",
        "                j, i, f\"{conf_mx[i, j]:.1f}\",\n",
        "                color=\"white\", ha=\"center\", va=\"center\", fontsize=12, fontweight=\"bold\",\n",
        "            )\n",
        "\n"
      ]
    },
    {
      "cell_type": "code",
      "execution_count": 9,
      "metadata": {
        "colab": {
          "base_uri": "https://localhost:8080/",
          "height": 409,
          "referenced_widgets": [
            "0477ee933fc849ffa64a2db472e80746",
            "6ccd041f1ae34398a320a165b1cf2234",
            "c2895a354cfa40c79bfc273b67093314",
            "ad056d16f0b148e79ff44bb5aa5d35f0",
            "fe99be7c9e7a4036890e3fe093faf97d",
            "68ace99d2f4a4b63bb59e6224ac91c7c",
            "8b83113421674a60aeccc937114449fd",
            "216e4d8ae48d438abf4157099bea8447",
            "e104991fe9cb497da9c9e44107144b6e",
            "f155d1f701ea4c31a9a67de5ebc35c03",
            "8974f966e5494eea9f0b0b33d355e50e",
            "6e00230fd6b143938b55fb48572a3889",
            "d487f7c7e63c4fa2af29d7d4e9049728",
            "cedf48374c0644ccbaa0ab9d30436e95",
            "3a70a565ccdd4d74a8581382d30bc0ee",
            "0fcd612ed84a44ba889aa922a2528c2c",
            "d001fc9a0c8e41eda715500cef27820d",
            "18cac630f9da410aa853eb487ce7e4c6",
            "afdaca1eab964ec2889761e2a67173df",
            "e9de8670d1de4db0806b7f0b30e83c1c",
            "8800c24b2ae943f394d4de10d106a641",
            "4f49784bd9a544169b54c92d96e4ec62",
            "f619abd2934c4c64bb7cc1f18d3741eb",
            "3f29c9c9008244c7ac5a583b27a54ab8",
            "7fe0b16842584f1688174fc90102326f",
            "41ab1e8b843d45e4887497151d3dc0ce",
            "cfb11a7c69a54f8cb22b00776e0ef0cb",
            "8274a78d947d4d8ca47265105f9962be",
            "ce2bed24c17b4a95b86977b479a8f863",
            "2801428696ef47c69d788f8e83cc3a53",
            "08794f19453144e9b7b674796efcd273",
            "40fc8cbf4aab482d92256e6059df6f89",
            "f1e9ee130a3345b6b1a3a09372d9594e",
            "8c7818ab78c74a28860203841459319e",
            "e7b2f1ae2955473e8809ec34c180895e",
            "06b6f7a2c28a46f986e28fbb1b8dfa1f",
            "f779efdb6e8b45f0bd23b2fd4aa0ace7",
            "469df119ba44476185d866a137cc30b3",
            "92e2ed021a4c46e1bec1613a3298b3b6"
          ]
        },
        "id": "4-VATBZYLo8l",
        "outputId": "f111e7bd-2088-440d-aeaf-4180dcec909f"
      },
      "outputs": [
        {
          "output_type": "display_data",
          "data": {
            "text/plain": [
              "HTMLMath(value='\\tlogit_accuracy: 0.0000;\\tfactor_accuracy: 0.0000;', description='Validation --', layout=Layo…"
            ],
            "application/vnd.jupyter.widget-view+json": {
              "version_major": 2,
              "version_minor": 0,
              "model_id": "0477ee933fc849ffa64a2db472e80746"
            }
          },
          "metadata": {}
        },
        {
          "output_type": "display_data",
          "data": {
            "text/plain": [
              "IntProgress(value=0, description='Batch 0/469, 0.0s passed', layout=Layout(width='67%'), max=469, style=Progre…"
            ],
            "application/vnd.jupyter.widget-view+json": {
              "version_major": 2,
              "version_minor": 0,
              "model_id": "ad056d16f0b148e79ff44bb5aa5d35f0"
            }
          },
          "metadata": {}
        },
        {
          "output_type": "display_data",
          "data": {
            "text/plain": [
              "HTMLMath(value='\\tlogit_accuracy: 0.0000;\\tfactor_accuracy: 0.0000;', description='Validation --', layout=Layo…"
            ],
            "application/vnd.jupyter.widget-view+json": {
              "version_major": 2,
              "version_minor": 0,
              "model_id": "8b83113421674a60aeccc937114449fd"
            }
          },
          "metadata": {}
        },
        {
          "output_type": "display_data",
          "data": {
            "text/plain": [
              "IntProgress(value=0, description='Batch 0/79, 0.0s passed', layout=Layout(width='67%'), max=79, style=Progress…"
            ],
            "application/vnd.jupyter.widget-view+json": {
              "version_major": 2,
              "version_minor": 0,
              "model_id": "f155d1f701ea4c31a9a67de5ebc35c03"
            }
          },
          "metadata": {}
        },
        {
          "output_type": "display_data",
          "data": {
            "text/plain": [
              "IntProgress(value=0, description='Epoch 0/1, 0.0s passed', layout=Layout(width='67%'), max=1, style=ProgressSt…"
            ],
            "application/vnd.jupyter.widget-view+json": {
              "version_major": 2,
              "version_minor": 0,
              "model_id": "d487f7c7e63c4fa2af29d7d4e9049728"
            }
          },
          "metadata": {}
        },
        {
          "output_type": "display_data",
          "data": {
            "text/plain": [
              "HTMLMath(value='\\tlogit_accuracy: 0.0000;\\tfactor_accuracy: 0.0000;', description='Epoch 1/1 train --', layout…"
            ],
            "application/vnd.jupyter.widget-view+json": {
              "version_major": 2,
              "version_minor": 0,
              "model_id": "0fcd612ed84a44ba889aa922a2528c2c"
            }
          },
          "metadata": {}
        },
        {
          "output_type": "display_data",
          "data": {
            "text/plain": [
              "IntProgress(value=0, description='Batch 0/469, 0.0s passed', layout=Layout(width='67%'), max=469, style=Progre…"
            ],
            "application/vnd.jupyter.widget-view+json": {
              "version_major": 2,
              "version_minor": 0,
              "model_id": "afdaca1eab964ec2889761e2a67173df"
            }
          },
          "metadata": {}
        },
        {
          "output_type": "display_data",
          "data": {
            "text/plain": [
              "HTMLMath(value='\\tlogit_accuracy: 0.0000;\\tfactor_accuracy: 0.0000;', description='Validation --', layout=Layo…"
            ],
            "application/vnd.jupyter.widget-view+json": {
              "version_major": 2,
              "version_minor": 0,
              "model_id": "4f49784bd9a544169b54c92d96e4ec62"
            }
          },
          "metadata": {}
        },
        {
          "output_type": "display_data",
          "data": {
            "text/plain": [
              "IntProgress(value=0, description='Batch 0/79, 0.0s passed', layout=Layout(width='67%'), max=79, style=Progress…"
            ],
            "application/vnd.jupyter.widget-view+json": {
              "version_major": 2,
              "version_minor": 0,
              "model_id": "7fe0b16842584f1688174fc90102326f"
            }
          },
          "metadata": {}
        },
        {
          "output_type": "display_data",
          "data": {
            "text/plain": [
              "HTMLMath(value='\\tlogit_accuracy: 0.0000;\\tfactor_accuracy: 0.0000;', description='Validation --', layout=Layo…"
            ],
            "application/vnd.jupyter.widget-view+json": {
              "version_major": 2,
              "version_minor": 0,
              "model_id": "8274a78d947d4d8ca47265105f9962be"
            }
          },
          "metadata": {}
        },
        {
          "output_type": "display_data",
          "data": {
            "text/plain": [
              "IntProgress(value=0, description='Batch 0/469, 0.0s passed', layout=Layout(width='67%'), max=469, style=Progre…"
            ],
            "application/vnd.jupyter.widget-view+json": {
              "version_major": 2,
              "version_minor": 0,
              "model_id": "08794f19453144e9b7b674796efcd273"
            }
          },
          "metadata": {}
        },
        {
          "output_type": "display_data",
          "data": {
            "text/plain": [
              "HTMLMath(value='\\tlogit_accuracy: 0.0000;\\tfactor_accuracy: 0.0000;', description='Validation --', layout=Layo…"
            ],
            "application/vnd.jupyter.widget-view+json": {
              "version_major": 2,
              "version_minor": 0,
              "model_id": "8c7818ab78c74a28860203841459319e"
            }
          },
          "metadata": {}
        },
        {
          "output_type": "display_data",
          "data": {
            "text/plain": [
              "IntProgress(value=0, description='Batch 0/79, 0.0s passed', layout=Layout(width='67%'), max=79, style=Progress…"
            ],
            "application/vnd.jupyter.widget-view+json": {
              "version_major": 2,
              "version_minor": 0,
              "model_id": "f779efdb6e8b45f0bd23b2fd4aa0ace7"
            }
          },
          "metadata": {}
        }
      ],
      "source": [
        "pretrain_init_metrics = pipeline_eval_loop(pp, train_ref_factored)\n",
        "preval_init_metrics = pipeline_eval_loop(pp, val_ref_factored)\n",
        "pretrain_metrics, preval_metrics = pipeline_train_loop(\n",
        "    pp,\n",
        "    train_ref_factored,\n",
        "    val_dataset=val_ref_factored,\n",
        "    optimizer=tf.keras.optimizers.Adam(),\n",
        "    step=\"cheet\",\n",
        "    epochs=pretrain_epochs,\n",
        ")\n",
        "pp_virg = tf.keras.models.clone_model(pp)\n",
        "pretrain_metrics = [pretrain_init_metrics] + pretrain_metrics\n",
        "preval_metrics = [preval_init_metrics] + preval_metrics\n",
        "pretrain_final_metrics = pipeline_eval_loop(pp, train_ref_factored)\n",
        "preval_final_metrics = pipeline_eval_loop(pp, val_ref_factored)\n"
      ]
    },
    {
      "cell_type": "code",
      "execution_count": 10,
      "metadata": {
        "colab": {
          "base_uri": "https://localhost:8080/",
          "height": 1000
        },
        "id": "k0HakmkUOAdG",
        "outputId": "50e371cf-a650-4a07-96d6-8ec3a2c0c497"
      },
      "outputs": [
        {
          "output_type": "display_data",
          "data": {
            "text/plain": [
              "<Figure size 640x480 with 1 Axes>"
            ],
            "image/png": "[encoded data removed]"
          },
          "metadata": {}
        },
        {
          "output_type": "display_data",
          "data": {
            "text/plain": [
              "<Figure size 640x480 with 1 Axes>"
            ],
            "image/png": "[encoded data removed]"
          },
          "metadata": {}
        },
        {
          "output_type": "display_data",
          "data": {
            "text/plain": [
              "<Figure size 700x700 with 1 Axes>"
            ],
            "image/png": "[encoded data removed]"
          },
          "metadata": {}
        }
      ],
      "source": [
        "plot_pipeline_history(pretrain_metrics, title=\"Pretrain, train data\", lognm=\"pertain_history_train_data\")\n",
        "plt.savefig(os.path.join(logpath, \"pretrain_history_train_data.png\"))\n",
        "plt.show()\n",
        "plot_pipeline_history(preval_metrics, title=\"Pretrain, validation data\", lognm=\"pretrain_history_val_data\")\n",
        "plt.savefig(os.path.join(logpath, \"pretrain_history_val_data.png\"))\n",
        "plt.show()\n",
        "\n",
        "plot_conf_matrix(preval_metrics[-1][\"logit\"][\"confusion\"], \"Pretrain confusion matrix\")\n",
        "plt.savefig(os.path.join(logpath, \"pretrain_confusion_matrix_val_data.png\"))\n",
        "plt.show()"
      ]
    },
    {
      "cell_type": "code",
      "execution_count": 11,
      "metadata": {
        "colab": {
          "base_uri": "https://localhost:8080/",
          "height": 289,
          "referenced_widgets": [
            "4833d9bbd9e34d13a1175a82b85412ce",
            "5974e7c719a44c36ab9f004d813e009c",
            "b53fd7e8b6fe4c1d90e7619a546f087d",
            "d3e9e97531f04509bae726f8df8aa4ad",
            "c130ba1131d7436a857c52c39a4c4793",
            "91e5ec4e899449418d809abddea8997b",
            "a3db6052df474ad1afbef1a6e50639b0",
            "ba9cf57632e840a28be2f24ffbc0c391",
            "8027e38e83704455979fcce321f19c47",
            "c40196a2e1f9496bad9e103f19325ac7",
            "503a4b8595d64389bf160c6d37ec8ab2",
            "6bca62576ac94b60be24bb350a7ff804",
            "1ae02826b40e4c7e9c5cfba6186402ff",
            "2f390e9d5761424582a93322b15334c2",
            "35375425772746b5aadcf4bb4dbe7b82",
            "9f8fdb7251f7437f8d637c7bfda6fb22",
            "e8743e59e12240bf84763bfb1c28c786",
            "320183fca1894552bfd60f773702c05e",
            "2edabc5b87d84afdbfa914b8b00811c7",
            "96d51e401c8d40e085e1e5218e27ba5f",
            "3866b8b9fa6a4203a32a72ffea68264b",
            "cbcf5d4e79d14d20a5c9747f3287f5e0",
            "b2f5a401410141d2b1580fcda32d7776",
            "c5b399c3488d4a42b94101c1fb90cfcc",
            "d4752880deae4a028bdabfca7b71bacc",
            "11716054507f48bd8fca2649b765a473",
            "d082e385cb7542c083f0756ba827ab48"
          ]
        },
        "id": "FtHUtr08oFpd",
        "outputId": "28c225bd-d583-40d0-cdb6-79720c95d5db"
      },
      "outputs": [
        {
          "output_type": "display_data",
          "data": {
            "text/plain": [
              "HTMLMath(value='\\tlogit_accuracy: 0.0000;\\tfactor_accuracy: 0.0000;', description='Validation --', layout=Layo…"
            ],
            "application/vnd.jupyter.widget-view+json": {
              "version_major": 2,
              "version_minor": 0,
              "model_id": "4833d9bbd9e34d13a1175a82b85412ce"
            }
          },
          "metadata": {}
        },
        {
          "output_type": "display_data",
          "data": {
            "text/plain": [
              "IntProgress(value=0, description='Batch 0/469, 0.0s passed', layout=Layout(width='67%'), max=469, style=Progre…"
            ],
            "application/vnd.jupyter.widget-view+json": {
              "version_major": 2,
              "version_minor": 0,
              "model_id": "d3e9e97531f04509bae726f8df8aa4ad"
            }
          },
          "metadata": {}
        },
        {
          "output_type": "display_data",
          "data": {
            "text/plain": [
              "HTMLMath(value='\\tlogit_accuracy: 0.0000;\\tfactor_accuracy: 0.0000;', description='Validation --', layout=Layo…"
            ],
            "application/vnd.jupyter.widget-view+json": {
              "version_major": 2,
              "version_minor": 0,
              "model_id": "a3db6052df474ad1afbef1a6e50639b0"
            }
          },
          "metadata": {}
        },
        {
          "output_type": "display_data",
          "data": {
            "text/plain": [
              "IntProgress(value=0, description='Batch 0/79, 0.0s passed', layout=Layout(width='67%'), max=79, style=Progress…"
            ],
            "application/vnd.jupyter.widget-view+json": {
              "version_major": 2,
              "version_minor": 0,
              "model_id": "c40196a2e1f9496bad9e103f19325ac7"
            }
          },
          "metadata": {}
        },
        {
          "output_type": "display_data",
          "data": {
            "text/plain": [
              "IntProgress(value=0, description='Epoch 0/1, 0.0s passed', layout=Layout(width='67%'), max=1, style=ProgressSt…"
            ],
            "application/vnd.jupyter.widget-view+json": {
              "version_major": 2,
              "version_minor": 0,
              "model_id": "1ae02826b40e4c7e9c5cfba6186402ff"
            }
          },
          "metadata": {}
        },
        {
          "output_type": "display_data",
          "data": {
            "text/plain": [
              "HTMLMath(value='\\tlogit_accuracy: 0.0000;\\tfactor_accuracy: 0.0000;', description='Epoch 1/1 train --', layout…"
            ],
            "application/vnd.jupyter.widget-view+json": {
              "version_major": 2,
              "version_minor": 0,
              "model_id": "9f8fdb7251f7437f8d637c7bfda6fb22"
            }
          },
          "metadata": {}
        },
        {
          "output_type": "display_data",
          "data": {
            "text/plain": [
              "IntProgress(value=0, description='Batch 0/469, 0.0s passed', layout=Layout(width='67%'), max=469, style=Progre…"
            ],
            "application/vnd.jupyter.widget-view+json": {
              "version_major": 2,
              "version_minor": 0,
              "model_id": "2edabc5b87d84afdbfa914b8b00811c7"
            }
          },
          "metadata": {}
        },
        {
          "output_type": "display_data",
          "data": {
            "text/plain": [
              "HTMLMath(value='\\tlogit_accuracy: 0.0000;\\tfactor_accuracy: 0.0000;', description='Validation --', layout=Layo…"
            ],
            "application/vnd.jupyter.widget-view+json": {
              "version_major": 2,
              "version_minor": 0,
              "model_id": "cbcf5d4e79d14d20a5c9747f3287f5e0"
            }
          },
          "metadata": {}
        },
        {
          "output_type": "display_data",
          "data": {
            "text/plain": [
              "IntProgress(value=0, description='Batch 0/79, 0.0s passed', layout=Layout(width='67%'), max=79, style=Progress…"
            ],
            "application/vnd.jupyter.widget-view+json": {
              "version_major": 2,
              "version_minor": 0,
              "model_id": "d4752880deae4a028bdabfca7b71bacc"
            }
          },
          "metadata": {}
        }
      ],
      "source": [
        "train_drifted_metrics = pipeline_eval_loop(pp, train_drifted_factored)\n",
        "val_drifted_metrics = pipeline_eval_loop(pp, val_drifted_factored)\n",
        "train_metrics, val_metrics = pipeline_train_loop(\n",
        "    pp,\n",
        "    train_drifted_factored,\n",
        "    val_dataset=val_drifted_factored,\n",
        "    optimizer=tf.keras.optimizers.Adam(),\n",
        "    step=alg,\n",
        "    epochs=train_epochs,\n",
        ")\n",
        "train_metrics = [train_drifted_metrics] + train_metrics\n",
        "val_metrics = [val_drifted_metrics] + val_metrics"
      ]
    },
    {
      "cell_type": "code",
      "execution_count": 12,
      "metadata": {
        "colab": {
          "base_uri": "https://localhost:8080/",
          "height": 1000
        },
        "id": "i772mSJCPBiS",
        "outputId": "bb935fb7-efdb-45c2-e9e8-f68f48b77630"
      },
      "outputs": [
        {
          "output_type": "display_data",
          "data": {
            "text/plain": [
              "<Figure size 640x480 with 1 Axes>"
            ],
            "image/png": "[encoded data removed]"
          },
          "metadata": {}
        },
        {
          "output_type": "display_data",
          "data": {
            "text/plain": [
              "<Figure size 640x480 with 1 Axes>"
            ],
            "image/png": "[encoded data removed]"
          },
          "metadata": {}
        },
        {
          "output_type": "display_data",
          "data": {
            "text/plain": [
              "<Figure size 700x700 with 1 Axes>"
            ],
            "image/png": "[encoded data removed]"
          },
          "metadata": {}
        }
      ],
      "source": [
        "plot_pipeline_history(\n",
        "    train_metrics,\n",
        "    title=f\"Train data, step = {alg}, base = {base}, patience = {patience}\",\n",
        "    lognm=f\"{alg}_train_history_train_data\",\n",
        ")\n",
        "plt.savefig(os.path.join(logpath, f\"{alg}_train_history_train_data.png\"))\n",
        "plt.show()\n",
        "plot_pipeline_history(\n",
        "    val_metrics,\n",
        "    title=f\"Validation data, step = {alg}, base = {base}, patience = {patience}\",\n",
        "    lognm=f\"{alg}_train_history_val_data\",\n",
        ")\n",
        "plt.savefig(os.path.join(logpath, f\"{alg}_train_history_val_data.png\"))\n",
        "plt.show()\n",
        "\n",
        "plot_conf_matrix(\n",
        "    val_metrics[-1][\"logit\"][\"confusion\"],\n",
        "    f\"Validation data, step = {alg}, base = {base}, patience = {patience}\",\n",
        ")\n",
        "plt.savefig(os.path.join(logpath, f\"{alg}_confusion_matrix_val_data.png\"))\n",
        "plt.show()\n"
      ]
    },
    {
      "cell_type": "code",
      "execution_count": 13,
      "metadata": {
        "id": "BzJXQQRb0Zi1",
        "colab": {
          "base_uri": "https://localhost:8080/",
          "height": 169,
          "referenced_widgets": [
            "2c47cbbf536d4816bc6c6c47e2cca1ba",
            "ca85b82821de40b5b1f0c3bdf55e15dc",
            "4ba2ea2158334dc889d374dd8c4e059e",
            "9823f012db0a48de8b13a8ad3dfa4ad0",
            "00d278a2dce24a2e97b4976ea328993a",
            "b879c1820c6c4505a0ef1574d0d5a0bd",
            "6bd0f073a5ce4ee7a7e3749dc5bd37b6",
            "5644c1590c5c4130a011bc08b02e8d45",
            "682a6afd253a402bb6f0f38694761f1a",
            "e6c18a6fd44742d68060b5c66e06fcea",
            "9025ab4139d34f418a60eb869755fb81",
            "b773b7fd008f4ad9b6bbc04d313be037",
            "dd2a439b74704b8cbe726acf6ba851bf",
            "f50e902f888b45d78b3141bdd930f5af",
            "5da3cadf85d147e38ea0465c900604cc"
          ]
        },
        "outputId": "06afa3c6-fa0f-43ff-bafc-8db3a95da093"
      },
      "outputs": [
        {
          "output_type": "display_data",
          "data": {
            "text/plain": [
              "IntProgress(value=0, description='Epoch 0/1, 0.0s passed', layout=Layout(width='67%'), max=1, style=ProgressSt…"
            ],
            "application/vnd.jupyter.widget-view+json": {
              "version_major": 2,
              "version_minor": 0,
              "model_id": "2c47cbbf536d4816bc6c6c47e2cca1ba"
            }
          },
          "metadata": {}
        },
        {
          "output_type": "display_data",
          "data": {
            "text/plain": [
              "HTMLMath(value='\\tlogit_accuracy: 0.0000;\\tfactor_accuracy: 0.0000;', description='Epoch 1/1 train --', layout…"
            ],
            "application/vnd.jupyter.widget-view+json": {
              "version_major": 2,
              "version_minor": 0,
              "model_id": "9823f012db0a48de8b13a8ad3dfa4ad0"
            }
          },
          "metadata": {}
        },
        {
          "output_type": "display_data",
          "data": {
            "text/plain": [
              "IntProgress(value=0, description='Batch 0/469, 0.0s passed', layout=Layout(width='67%'), max=469, style=Progre…"
            ],
            "application/vnd.jupyter.widget-view+json": {
              "version_major": 2,
              "version_minor": 0,
              "model_id": "6bd0f073a5ce4ee7a7e3749dc5bd37b6"
            }
          },
          "metadata": {}
        },
        {
          "output_type": "display_data",
          "data": {
            "text/plain": [
              "HTMLMath(value='\\tlogit_accuracy: 0.0000;\\tfactor_accuracy: 0.0000;', description='Validation --', layout=Layo…"
            ],
            "application/vnd.jupyter.widget-view+json": {
              "version_major": 2,
              "version_minor": 0,
              "model_id": "e6c18a6fd44742d68060b5c66e06fcea"
            }
          },
          "metadata": {}
        },
        {
          "output_type": "display_data",
          "data": {
            "text/plain": [
              "IntProgress(value=0, description='Batch 0/79, 0.0s passed', layout=Layout(width='67%'), max=79, style=Progress…"
            ],
            "application/vnd.jupyter.widget-view+json": {
              "version_major": 2,
              "version_minor": 0,
              "model_id": "dd2a439b74704b8cbe726acf6ba851bf"
            }
          },
          "metadata": {}
        }
      ],
      "source": [
        "# train_virg_drifted_metrics = pipeline_eval_loop(pp_virg, train_drifted_factored)\n",
        "train_virg_drifted_metrics = train_drifted_metrics\n",
        "# val_virg_drifted_metrics = pipeline_eval_loop(pp_virg, val_drifted_factored)\n",
        "val_virg_drifted_metrics = val_drifted_metrics\n",
        "train_virg_metrics, val_virg_metrics = pipeline_train_loop(\n",
        "    pp_virg,\n",
        "    train_drifted_factored,\n",
        "    val_dataset=val_drifted_factored,\n",
        "    optimizer=tf.keras.optimizers.Adam(),\n",
        "    step=\"cheet\",\n",
        "    epochs=train_epochs,\n",
        ")\n",
        "train_virg_metrics = [train_virg_drifted_metrics] + train_virg_metrics\n",
        "val_virg_metrics = [val_virg_drifted_metrics] + val_virg_metrics"
      ]
    },
    {
      "cell_type": "code",
      "execution_count": 14,
      "metadata": {
        "id": "BQEPUMb-23iZ",
        "colab": {
          "base_uri": "https://localhost:8080/",
          "height": 1000
        },
        "outputId": "78613cbd-c173-431b-ca10-a259f5f8245d"
      },
      "outputs": [
        {
          "output_type": "display_data",
          "data": {
            "text/plain": [
              "<Figure size 640x480 with 1 Axes>"
            ],
            "image/png": "[encoded data removed]"
          },
          "metadata": {}
        },
        {
          "output_type": "display_data",
          "data": {
            "text/plain": [
              "<Figure size 640x480 with 1 Axes>"
            ],
            "image/png": "[encoded data removed]"
          },
          "metadata": {}
        },
        {
          "output_type": "display_data",
          "data": {
            "text/plain": [
              "<Figure size 700x700 with 1 Axes>"
            ],
            "image/png": "[encoded data removed]"
          },
          "metadata": {}
        }
      ],
      "source": [
        "plot_pipeline_history(\n",
        "    train_virg_metrics,\n",
        "    title=f\"Train data, step = cheet, base = {base}, patience = {patience}\",\n",
        "    lognm=\"cheet_train_history_train_data\",\n",
        ")\n",
        "plt.savefig(os.path.join(logpath, \"cheet_train_history_train_data.png\"))\n",
        "plt.show()\n",
        "plot_pipeline_history(\n",
        "    val_virg_metrics,\n",
        "    title=f\"Validation data, step = cheet, base = {base}, patience = {patience}\",\n",
        "    lognm=\"cheet_train_history_val_data\",\n",
        ")\n",
        "plt.savefig(os.path.join(logpath, \"cheet_train_history_val_data.png\"))\n",
        "plt.show()\n",
        "\n",
        "plot_conf_matrix(\n",
        "    val_virg_metrics[-1][\"logit\"][\"confusion\"],\n",
        "    f\"Validation data, step = cheet, base = {base}, patience = {patience}\",\n",
        ")\n",
        "plt.savefig(os.path.join(logpath, f\"cheet_confusion_matrix_val_data.png\"))\n",
        "plt.show()\n"
      ]
    },
    {
      "cell_type": "code",
      "execution_count": 15,
      "metadata": {
        "id": "rwGATfuhSWlV",
        "colab": {
          "base_uri": "https://localhost:8080/",
          "height": 259,
          "referenced_widgets": [
            "87ffeff0b6224452963eb337e1693be2",
            "e6aa0c99c26c42faaba330ffca041843",
            "b46e65e4d92741b6b281911176040002",
            "98e0012b02a84a72bcf0f32b5b51d0ec",
            "f33f61ff8a8b44009137f1ec4e9c0e5d",
            "79461bbdc3684ed3ac5fa8547d5b944c",
            "cddbd854137843ff9efdf8e9fcb18fc7",
            "d2d2213c6b09437fafcb285dfbc94321",
            "905278f7a9eb4d4d8d23c9dfe16d1a98",
            "020dffc28bde400d912ef45edb7b4e6d",
            "9ce84f4acd4e4754aa1bf4a07fb233e9",
            "2849d4658b154eb0b78a8bb5d2f358b2",
            "b0486102a5aa4fc481af5a331eb757be",
            "1c8ec931c56c4bb79a0ed83733bd7f2b",
            "ca1624e9cc904db79df515df6fc9d450",
            "041808231bfe433fbd721f4d590f37b1",
            "726f6b8b7f36463f872414b8ed8a07b1",
            "e3cdcc2eae9d491f9aadd55df66c61b4",
            "a2990d0c88f14653816b674d617606ad",
            "850d8e4de2194fc59e42a57b529b5b5a",
            "10f94a37a03f4e098ea799de715ac804",
            "1a1d9338a39e47e6878367445c7fe2ad",
            "ad1c645c2a7f4f8d9774f11e7c5bef70",
            "dc279746291542f3ae3b40ac72f735ce"
          ]
        },
        "outputId": "9e90672f-a534-44ba-ea01-ce6ee0d6f2b2"
      },
      "outputs": [
        {
          "output_type": "display_data",
          "data": {
            "text/plain": [
              "HTMLMath(value='\\tlogit_accuracy: 0.0000;\\tfactor_accuracy: 0.0000;', description='Validation --', layout=Layo…"
            ],
            "application/vnd.jupyter.widget-view+json": {
              "version_major": 2,
              "version_minor": 0,
              "model_id": "87ffeff0b6224452963eb337e1693be2"
            }
          },
          "metadata": {}
        },
        {
          "output_type": "display_data",
          "data": {
            "text/plain": [
              "IntProgress(value=0, description='Batch 0/469, 0.0s passed', layout=Layout(width='67%'), max=469, style=Progre…"
            ],
            "application/vnd.jupyter.widget-view+json": {
              "version_major": 2,
              "version_minor": 0,
              "model_id": "98e0012b02a84a72bcf0f32b5b51d0ec"
            }
          },
          "metadata": {}
        },
        {
          "output_type": "display_data",
          "data": {
            "text/plain": [
              "HTMLMath(value='\\tlogit_accuracy: 0.0000;\\tfactor_accuracy: 0.0000;', description='Validation --', layout=Layo…"
            ],
            "application/vnd.jupyter.widget-view+json": {
              "version_major": 2,
              "version_minor": 0,
              "model_id": "cddbd854137843ff9efdf8e9fcb18fc7"
            }
          },
          "metadata": {}
        },
        {
          "output_type": "display_data",
          "data": {
            "text/plain": [
              "IntProgress(value=0, description='Batch 0/79, 0.0s passed', layout=Layout(width='67%'), max=79, style=Progress…"
            ],
            "application/vnd.jupyter.widget-view+json": {
              "version_major": 2,
              "version_minor": 0,
              "model_id": "020dffc28bde400d912ef45edb7b4e6d"
            }
          },
          "metadata": {}
        },
        {
          "output_type": "display_data",
          "data": {
            "text/plain": [
              "HTMLMath(value='\\tlogit_accuracy: 0.0000;\\tfactor_accuracy: 0.0000;', description='Validation --', layout=Layo…"
            ],
            "application/vnd.jupyter.widget-view+json": {
              "version_major": 2,
              "version_minor": 0,
              "model_id": "b0486102a5aa4fc481af5a331eb757be"
            }
          },
          "metadata": {}
        },
        {
          "output_type": "display_data",
          "data": {
            "text/plain": [
              "IntProgress(value=0, description='Batch 0/469, 0.0s passed', layout=Layout(width='67%'), max=469, style=Progre…"
            ],
            "application/vnd.jupyter.widget-view+json": {
              "version_major": 2,
              "version_minor": 0,
              "model_id": "041808231bfe433fbd721f4d590f37b1"
            }
          },
          "metadata": {}
        },
        {
          "output_type": "display_data",
          "data": {
            "text/plain": [
              "HTMLMath(value='\\tlogit_accuracy: 0.0000;\\tfactor_accuracy: 0.0000;', description='Validation --', layout=Layo…"
            ],
            "application/vnd.jupyter.widget-view+json": {
              "version_major": 2,
              "version_minor": 0,
              "model_id": "a2990d0c88f14653816b674d617606ad"
            }
          },
          "metadata": {}
        },
        {
          "output_type": "display_data",
          "data": {
            "text/plain": [
              "IntProgress(value=0, description='Batch 0/469, 0.0s passed', layout=Layout(width='67%'), max=469, style=Progre…"
            ],
            "application/vnd.jupyter.widget-view+json": {
              "version_major": 2,
              "version_minor": 0,
              "model_id": "1a1d9338a39e47e6878367445c7fe2ad"
            }
          },
          "metadata": {}
        }
      ],
      "source": [
        "posttrain_metrics = pipeline_eval_loop(pp, train_ref_factored)\n",
        "postval_metrics = pipeline_eval_loop(pp, val_ref_factored)\n",
        "posttrain_virg_metrics = pipeline_eval_loop(pp_virg, train_ref_factored)\n",
        "postval_virg_metrics = pipeline_eval_loop(pp_virg, train_ref_factored)"
      ]
    },
    {
      "cell_type": "code",
      "execution_count": 16,
      "metadata": {
        "colab": {
          "base_uri": "https://localhost:8080/",
          "height": 939
        },
        "id": "5AOdn1WaTeu0",
        "outputId": "f29d4135-b17b-49b8-94c5-7231e0704a6a"
      },
      "outputs": [
        {
          "output_type": "display_data",
          "data": {
            "text/plain": [
              "<Figure size 640x480 with 1 Axes>"
            ],
            "image/png": "[encoded data removed]"
          },
          "metadata": {}
        },
        {
          "output_type": "display_data",
          "data": {
            "text/plain": [
              "<Figure size 640x480 with 1 Axes>"
            ],
            "image/png": "[encoded data removed]"
          },
          "metadata": {}
        }
      ],
      "source": [
        "compare_train_metrics = [pretrain_final_metrics, posttrain_metrics]\n",
        "compare_train_virg_metrics = [pretrain_final_metrics, posttrain_virg_metrics]\n",
        "compare_val_metrics = [preval_final_metrics, postval_metrics]\n",
        "compare_val_virg_metrics = [preval_final_metrics, postval_virg_metrics]\n",
        "def prefix_metrics(metrics, prefix):\n",
        "    return [\n",
        "        {\n",
        "            prefix + k: {\n",
        "                m: M[k][m]\n",
        "                for m in M[k]\n",
        "            }\n",
        "            for k in M}\n",
        "        for M in metrics\n",
        "    ]\n",
        "compare_train_metrics = prefix_metrics(compare_train_metrics, f\"{alg}_\")\n",
        "compare_train_virg_metrics = prefix_metrics(compare_train_virg_metrics, \"cheet_\")\n",
        "compare_val_metrics = prefix_metrics(compare_val_metrics, f\"{alg}_\")\n",
        "compare_val_virg_metrics = prefix_metrics(compare_val_virg_metrics, \"cheet_\")\n",
        "# TODO add prefixes greedy_ and cheet_ to logit and factor\n",
        "plot_pipeline_history(\n",
        "    compare_train_metrics,\n",
        "    lognm=f\"{alg}_comparison_on_init_data_train_data\",\n",
        ")\n",
        "plot_pipeline_history(\n",
        "    compare_train_virg_metrics, title=\"Comparison on initial train data\",\n",
        "    lognm=\"cheet_comparison_on_init_data_train_data\",\n",
        ")\n",
        "plt.legend(loc=\"lower left\")\n",
        "plt.savefig(os.path.join(logp, f\"{alg}_n_cheet_comparison_on_init_data_train_data.png\"))\n",
        "plt.show()\n",
        "plot_pipeline_history(\n",
        "    compare_val_metrics,\n",
        "    lognm=f\"{alg}_comparison_on_init_data_val_data\",\n",
        ")\n",
        "plot_pipeline_history(\n",
        "    compare_val_virg_metrics, title=\"Comparison on initial validation data\",\n",
        "    lognm=\"cheet_comparison_on_init_data_val_data\",\n",
        ")\n",
        "plt.legend(loc=\"lower left\")\n",
        "plt.savefig(os.path.join(logp, f\"{alg}_n_cheet_comparison_on_init_data_val_data.png\"))\n",
        "plt.show()\n"
      ]
    },
    {
      "cell_type": "code",
      "source": [
        "logjs[\"finished\"] = datetime.now().isoformat()\n",
        "with open(os.path.join(logpath, \"log.json\"), \"w\") as logjsf:\n",
        "    json.dump(logjs, logjsf, default=float)\n",
        "ppr({\"finished\": logjs[\"finished\"]})\n",
        "# ppr(logjs)\n",
        "ppr(f\"log can be found at {os.path.join(logpath, 'log.json')}\")\n"
      ],
      "metadata": {
        "colab": {
          "base_uri": "https://localhost:8080/"
        },
        "id": "tuto7yZeGu2D",
        "outputId": "24de3568-26c8-41a5-f697-a4ce40eb5796"
      },
      "execution_count": 18,
      "outputs": [
        {
          "output_type": "stream",
          "name": "stdout",
          "text": [
            "{'finished': '2024-10-12T13:00:07.701016'}\n",
            "'log can be found at mnist_artifacts/pe1_te1_b2_p1_flip_greedy/log.json'\n"
          ]
        }
      ]
    },
    {
      "cell_type": "code",
      "source": [],
      "metadata": {
        "id": "K-ogjBkRMgU9"
      },
      "execution_count": 17,
      "outputs": []
    }
  ],
  "metadata": {
    "colab": {
      "provenance": [],
      "authorship_tag": "ABX9TyMeyxAe6CBiTyTk9u4InS2h",
      "include_colab_link": true
    },
    "kernelspec": {
      "display_name": "Python 3",
      "name": "python3"
    },
    "language_info": {
      "name": "python"
    },
    "widgets": {
      "application/vnd.jupyter.widget-state+json": {
        "0477ee933fc849ffa64a2db472e80746": {
          "model_module": "@jupyter-widgets/controls",
          "model_name": "HTMLMathModel",
          "model_module_version": "1.5.0",
          "state": {
            "_dom_classes": [],
            "_model_module": "@jupyter-widgets/controls",
            "_model_module_version": "1.5.0",
            "_model_name": "HTMLMathModel",
            "_view_count": null,
            "_view_module": "@jupyter-widgets/controls",
            "_view_module_version": "1.5.0",
            "_view_name": "HTMLMathView",
            "description": "Validation --",
            "description_tooltip": null,
            "layout": "IPY_MODEL_6ccd041f1ae34398a320a165b1cf2234",
            "placeholder": "HTMLM",
            "style": "IPY_MODEL_c2895a354cfa40c79bfc273b67093314",
            "value": "\tlogit_accuracy: 0.1335;\tfactor_accuracy: 0.5325;"
          }
        },
        "6ccd041f1ae34398a320a165b1cf2234": {
          "model_module": "@jupyter-widgets/base",
          "model_name": "LayoutModel",
          "model_module_version": "1.2.0",
          "state": {
            "_model_module": "@jupyter-widgets/base",
            "_model_module_version": "1.2.0",
            "_model_name": "LayoutModel",
            "_view_count": null,
            "_view_module": "@jupyter-widgets/base",
            "_view_module_version": "1.2.0",
            "_view_name": "LayoutView",
            "align_content": null,
            "align_items": null,
            "align_self": null,
            "border": null,
            "bottom": null,
            "display": null,
            "flex": null,
            "flex_flow": null,
            "grid_area": null,
            "grid_auto_columns": null,
            "grid_auto_flow": null,
            "grid_auto_rows": null,
            "grid_column": null,
            "grid_gap": null,
            "grid_row": null,
            "grid_template_areas": null,
            "grid_template_columns": null,
            "grid_template_rows": null,
            "height": null,
            "justify_content": null,
            "justify_items": null,
            "left": null,
            "margin": null,
            "max_height": null,
            "max_width": null,
            "min_height": null,
            "min_width": null,
            "object_fit": null,
            "object_position": null,
            "order": null,
            "overflow": null,
            "overflow_x": null,
            "overflow_y": null,
            "padding": null,
            "right": null,
            "top": null,
            "visibility": null,
            "width": "67%"
          }
        },
        "c2895a354cfa40c79bfc273b67093314": {
          "model_module": "@jupyter-widgets/controls",
          "model_name": "DescriptionStyleModel",
          "model_module_version": "1.5.0",
          "state": {
            "_model_module": "@jupyter-widgets/controls",
            "_model_module_version": "1.5.0",
            "_model_name": "DescriptionStyleModel",
            "_view_count": null,
            "_view_module": "@jupyter-widgets/base",
            "_view_module_version": "1.2.0",
            "_view_name": "StyleView",
            "description_width": "23%"
          }
        },
        "ad056d16f0b148e79ff44bb5aa5d35f0": {
          "model_module": "@jupyter-widgets/controls",
          "model_name": "IntProgressModel",
          "model_module_version": "1.5.0",
          "state": {
            "_dom_classes": [],
            "_model_module": "@jupyter-widgets/controls",
            "_model_module_version": "1.5.0",
            "_model_name": "IntProgressModel",
            "_view_count": null,
            "_view_module": "@jupyter-widgets/controls",
            "_view_module_version": "1.5.0",
            "_view_name": "ProgressView",
            "bar_style": "",
            "description": "Batch 469/469, 32.5s passed",
            "description_tooltip": null,
            "layout": "IPY_MODEL_fe99be7c9e7a4036890e3fe093faf97d",
            "max": 469,
            "min": 0,
            "orientation": "horizontal",
            "style": "IPY_MODEL_68ace99d2f4a4b63bb59e6224ac91c7c",
            "value": 469
          }
        },
        "fe99be7c9e7a4036890e3fe093faf97d": {
          "model_module": "@jupyter-widgets/base",
          "model_name": "LayoutModel",
          "model_module_version": "1.2.0",
          "state": {
            "_model_module": "@jupyter-widgets/base",
            "_model_module_version": "1.2.0",
            "_model_name": "LayoutModel",
            "_view_count": null,
            "_view_module": "@jupyter-widgets/base",
            "_view_module_version": "1.2.0",
            "_view_name": "LayoutView",
            "align_content": null,
            "align_items": null,
            "align_self": null,
            "border": null,
            "bottom": null,
            "display": null,
            "flex": null,
            "flex_flow": null,
            "grid_area": null,
            "grid_auto_columns": null,
            "grid_auto_flow": null,
            "grid_auto_rows": null,
            "grid_column": null,
            "grid_gap": null,
            "grid_row": null,
            "grid_template_areas": null,
            "grid_template_columns": null,
            "grid_template_rows": null,
            "height": null,
            "justify_content": null,
            "justify_items": null,
            "left": null,
            "margin": null,
            "max_height": null,
            "max_width": null,
            "min_height": null,
            "min_width": null,
            "object_fit": null,
            "object_position": null,
            "order": null,
            "overflow": null,
            "overflow_x": null,
            "overflow_y": null,
            "padding": null,
            "right": null,
            "top": null,
            "visibility": null,
            "width": "67%"
          }
        },
        "68ace99d2f4a4b63bb59e6224ac91c7c": {
          "model_module": "@jupyter-widgets/controls",
          "model_name": "ProgressStyleModel",
          "model_module_version": "1.5.0",
          "state": {
            "_model_module": "@jupyter-widgets/controls",
            "_model_module_version": "1.5.0",
            "_model_name": "ProgressStyleModel",
            "_view_count": null,
            "_view_module": "@jupyter-widgets/base",
            "_view_module_version": "1.2.0",
            "_view_name": "StyleView",
            "bar_color": null,
            "description_width": "23%"
          }
        },
        "8b83113421674a60aeccc937114449fd": {
          "model_module": "@jupyter-widgets/controls",
          "model_name": "HTMLMathModel",
          "model_module_version": "1.5.0",
          "state": {
            "_dom_classes": [],
            "_model_module": "@jupyter-widgets/controls",
            "_model_module_version": "1.5.0",
            "_model_name": "HTMLMathModel",
            "_view_count": null,
            "_view_module": "@jupyter-widgets/controls",
            "_view_module_version": "1.5.0",
            "_view_name": "HTMLMathView",
            "description": "Validation --",
            "description_tooltip": null,
            "layout": "IPY_MODEL_216e4d8ae48d438abf4157099bea8447",
            "placeholder": "HTMLM",
            "style": "IPY_MODEL_e104991fe9cb497da9c9e44107144b6e",
            "value": "\tlogit_accuracy: 0.1346;\tfactor_accuracy: 0.5292;"
          }
        },
        "216e4d8ae48d438abf4157099bea8447": {
          "model_module": "@jupyter-widgets/base",
          "model_name": "LayoutModel",
          "model_module_version": "1.2.0",
          "state": {
            "_model_module": "@jupyter-widgets/base",
            "_model_module_version": "1.2.0",
            "_model_name": "LayoutModel",
            "_view_count": null,
            "_view_module": "@jupyter-widgets/base",
            "_view_module_version": "1.2.0",
            "_view_name": "LayoutView",
            "align_content": null,
            "align_items": null,
            "align_self": null,
            "border": null,
            "bottom": null,
            "display": null,
            "flex": null,
            "flex_flow": null,
            "grid_area": null,
            "grid_auto_columns": null,
            "grid_auto_flow": null,
            "grid_auto_rows": null,
            "grid_column": null,
            "grid_gap": null,
            "grid_row": null,
            "grid_template_areas": null,
            "grid_template_columns": null,
            "grid_template_rows": null,
            "height": null,
            "justify_content": null,
            "justify_items": null,
            "left": null,
            "margin": null,
            "max_height": null,
            "max_width": null,
            "min_height": null,
            "min_width": null,
            "object_fit": null,
            "object_position": null,
            "order": null,
            "overflow": null,
            "overflow_x": null,
            "overflow_y": null,
            "padding": null,
            "right": null,
            "top": null,
            "visibility": null,
            "width": "67%"
          }
        },
        "e104991fe9cb497da9c9e44107144b6e": {
          "model_module": "@jupyter-widgets/controls",
          "model_name": "DescriptionStyleModel",
          "model_module_version": "1.5.0",
          "state": {
            "_model_module": "@jupyter-widgets/controls",
            "_model_module_version": "1.5.0",
            "_model_name": "DescriptionStyleModel",
            "_view_count": null,
            "_view_module": "@jupyter-widgets/base",
            "_view_module_version": "1.2.0",
            "_view_name": "StyleView",
            "description_width": "23%"
          }
        },
        "f155d1f701ea4c31a9a67de5ebc35c03": {
          "model_module": "@jupyter-widgets/controls",
          "model_name": "IntProgressModel",
          "model_module_version": "1.5.0",
          "state": {
            "_dom_classes": [],
            "_model_module": "@jupyter-widgets/controls",
            "_model_module_version": "1.5.0",
            "_model_name": "IntProgressModel",
            "_view_count": null,
            "_view_module": "@jupyter-widgets/controls",
            "_view_module_version": "1.5.0",
            "_view_name": "ProgressView",
            "bar_style": "",
            "description": "Batch 79/79, 3.2s passed",
            "description_tooltip": null,
            "layout": "IPY_MODEL_8974f966e5494eea9f0b0b33d355e50e",
            "max": 79,
            "min": 0,
            "orientation": "horizontal",
            "style": "IPY_MODEL_6e00230fd6b143938b55fb48572a3889",
            "value": 79
          }
        },
        "8974f966e5494eea9f0b0b33d355e50e": {
          "model_module": "@jupyter-widgets/base",
          "model_name": "LayoutModel",
          "model_module_version": "1.2.0",
          "state": {
            "_model_module": "@jupyter-widgets/base",
            "_model_module_version": "1.2.0",
            "_model_name": "LayoutModel",
            "_view_count": null,
            "_view_module": "@jupyter-widgets/base",
            "_view_module_version": "1.2.0",
            "_view_name": "LayoutView",
            "align_content": null,
            "align_items": null,
            "align_self": null,
            "border": null,
            "bottom": null,
            "display": null,
            "flex": null,
            "flex_flow": null,
            "grid_area": null,
            "grid_auto_columns": null,
            "grid_auto_flow": null,
            "grid_auto_rows": null,
            "grid_column": null,
            "grid_gap": null,
            "grid_row": null,
            "grid_template_areas": null,
            "grid_template_columns": null,
            "grid_template_rows": null,
            "height": null,
            "justify_content": null,
            "justify_items": null,
            "left": null,
            "margin": null,
            "max_height": null,
            "max_width": null,
            "min_height": null,
            "min_width": null,
            "object_fit": null,
            "object_position": null,
            "order": null,
            "overflow": null,
            "overflow_x": null,
            "overflow_y": null,
            "padding": null,
            "right": null,
            "top": null,
            "visibility": null,
            "width": "67%"
          }
        },
        "6e00230fd6b143938b55fb48572a3889": {
          "model_module": "@jupyter-widgets/controls",
          "model_name": "ProgressStyleModel",
          "model_module_version": "1.5.0",
          "state": {
            "_model_module": "@jupyter-widgets/controls",
            "_model_module_version": "1.5.0",
            "_model_name": "ProgressStyleModel",
            "_view_count": null,
            "_view_module": "@jupyter-widgets/base",
            "_view_module_version": "1.2.0",
            "_view_name": "StyleView",
            "bar_color": null,
            "description_width": "23%"
          }
        },
        "d487f7c7e63c4fa2af29d7d4e9049728": {
          "model_module": "@jupyter-widgets/controls",
          "model_name": "IntProgressModel",
          "model_module_version": "1.5.0",
          "state": {
            "_dom_classes": [],
            "_model_module": "@jupyter-widgets/controls",
            "_model_module_version": "1.5.0",
            "_model_name": "IntProgressModel",
            "_view_count": null,
            "_view_module": "@jupyter-widgets/controls",
            "_view_module_version": "1.5.0",
            "_view_name": "ProgressView",
            "bar_style": "",
            "description": "Epoch 1/1, 61.0s passed",
            "description_tooltip": null,
            "layout": "IPY_MODEL_cedf48374c0644ccbaa0ab9d30436e95",
            "max": 1,
            "min": 0,
            "orientation": "horizontal",
            "style": "IPY_MODEL_3a70a565ccdd4d74a8581382d30bc0ee",
            "value": 1
          }
        },
        "cedf48374c0644ccbaa0ab9d30436e95": {
          "model_module": "@jupyter-widgets/base",
          "model_name": "LayoutModel",
          "model_module_version": "1.2.0",
          "state": {
            "_model_module": "@jupyter-widgets/base",
            "_model_module_version": "1.2.0",
            "_model_name": "LayoutModel",
            "_view_count": null,
            "_view_module": "@jupyter-widgets/base",
            "_view_module_version": "1.2.0",
            "_view_name": "LayoutView",
            "align_content": null,
            "align_items": null,
            "align_self": null,
            "border": null,
            "bottom": null,
            "display": null,
            "flex": null,
            "flex_flow": null,
            "grid_area": null,
            "grid_auto_columns": null,
            "grid_auto_flow": null,
            "grid_auto_rows": null,
            "grid_column": null,
            "grid_gap": null,
            "grid_row": null,
            "grid_template_areas": null,
            "grid_template_columns": null,
            "grid_template_rows": null,
            "height": null,
            "justify_content": null,
            "justify_items": null,
            "left": null,
            "margin": null,
            "max_height": null,
            "max_width": null,
            "min_height": null,
            "min_width": null,
            "object_fit": null,
            "object_position": null,
            "order": null,
            "overflow": null,
            "overflow_x": null,
            "overflow_y": null,
            "padding": null,
            "right": null,
            "top": null,
            "visibility": null,
            "width": "67%"
          }
        },
        "3a70a565ccdd4d74a8581382d30bc0ee": {
          "model_module": "@jupyter-widgets/controls",
          "model_name": "ProgressStyleModel",
          "model_module_version": "1.5.0",
          "state": {
            "_model_module": "@jupyter-widgets/controls",
            "_model_module_version": "1.5.0",
            "_model_name": "ProgressStyleModel",
            "_view_count": null,
            "_view_module": "@jupyter-widgets/base",
            "_view_module_version": "1.2.0",
            "_view_name": "StyleView",
            "bar_color": null,
            "description_width": "23%"
          }
        },
        "0fcd612ed84a44ba889aa922a2528c2c": {
          "model_module": "@jupyter-widgets/controls",
          "model_name": "HTMLMathModel",
          "model_module_version": "1.5.0",
          "state": {
            "_dom_classes": [],
            "_model_module": "@jupyter-widgets/controls",
            "_model_module_version": "1.5.0",
            "_model_name": "HTMLMathModel",
            "_view_count": null,
            "_view_module": "@jupyter-widgets/controls",
            "_view_module_version": "1.5.0",
            "_view_name": "HTMLMathView",
            "description": "Epoch 1/1 train --",
            "description_tooltip": null,
            "layout": "IPY_MODEL_d001fc9a0c8e41eda715500cef27820d",
            "placeholder": "HTMLM",
            "style": "IPY_MODEL_18cac630f9da410aa853eb487ce7e4c6",
            "value": "\tlogit_accuracy: 0.7013;\tfactor_accuracy: 0.8436;"
          }
        },
        "d001fc9a0c8e41eda715500cef27820d": {
          "model_module": "@jupyter-widgets/base",
          "model_name": "LayoutModel",
          "model_module_version": "1.2.0",
          "state": {
            "_model_module": "@jupyter-widgets/base",
            "_model_module_version": "1.2.0",
            "_model_name": "LayoutModel",
            "_view_count": null,
            "_view_module": "@jupyter-widgets/base",
            "_view_module_version": "1.2.0",
            "_view_name": "LayoutView",
            "align_content": null,
            "align_items": null,
            "align_self": null,
            "border": null,
            "bottom": null,
            "display": null,
            "flex": null,
            "flex_flow": null,
            "grid_area": null,
            "grid_auto_columns": null,
            "grid_auto_flow": null,
            "grid_auto_rows": null,
            "grid_column": null,
            "grid_gap": null,
            "grid_row": null,
            "grid_template_areas": null,
            "grid_template_columns": null,
            "grid_template_rows": null,
            "height": null,
            "justify_content": null,
            "justify_items": null,
            "left": null,
            "margin": null,
            "max_height": null,
            "max_width": null,
            "min_height": null,
            "min_width": null,
            "object_fit": null,
            "object_position": null,
            "order": null,
            "overflow": null,
            "overflow_x": null,
            "overflow_y": null,
            "padding": null,
            "right": null,
            "top": null,
            "visibility": null,
            "width": "67%"
          }
        },
        "18cac630f9da410aa853eb487ce7e4c6": {
          "model_module": "@jupyter-widgets/controls",
          "model_name": "DescriptionStyleModel",
          "model_module_version": "1.5.0",
          "state": {
            "_model_module": "@jupyter-widgets/controls",
            "_model_module_version": "1.5.0",
            "_model_name": "DescriptionStyleModel",
            "_view_count": null,
            "_view_module": "@jupyter-widgets/base",
            "_view_module_version": "1.2.0",
            "_view_name": "StyleView",
            "description_width": "23%"
          }
        },
        "afdaca1eab964ec2889761e2a67173df": {
          "model_module": "@jupyter-widgets/controls",
          "model_name": "IntProgressModel",
          "model_module_version": "1.5.0",
          "state": {
            "_dom_classes": [],
            "_model_module": "@jupyter-widgets/controls",
            "_model_module_version": "1.5.0",
            "_model_name": "IntProgressModel",
            "_view_count": null,
            "_view_module": "@jupyter-widgets/controls",
            "_view_module_version": "1.5.0",
            "_view_name": "ProgressView",
            "bar_style": "",
            "description": "Batch 469/469, 57.8s passed",
            "description_tooltip": null,
            "layout": "IPY_MODEL_e9de8670d1de4db0806b7f0b30e83c1c",
            "max": 469,
            "min": 0,
            "orientation": "horizontal",
            "style": "IPY_MODEL_8800c24b2ae943f394d4de10d106a641",
            "value": 469
          }
        },
        "e9de8670d1de4db0806b7f0b30e83c1c": {
          "model_module": "@jupyter-widgets/base",
          "model_name": "LayoutModel",
          "model_module_version": "1.2.0",
          "state": {
            "_model_module": "@jupyter-widgets/base",
            "_model_module_version": "1.2.0",
            "_model_name": "LayoutModel",
            "_view_count": null,
            "_view_module": "@jupyter-widgets/base",
            "_view_module_version": "1.2.0",
            "_view_name": "LayoutView",
            "align_content": null,
            "align_items": null,
            "align_self": null,
            "border": null,
            "bottom": null,
            "display": null,
            "flex": null,
            "flex_flow": null,
            "grid_area": null,
            "grid_auto_columns": null,
            "grid_auto_flow": null,
            "grid_auto_rows": null,
            "grid_column": null,
            "grid_gap": null,
            "grid_row": null,
            "grid_template_areas": null,
            "grid_template_columns": null,
            "grid_template_rows": null,
            "height": null,
            "justify_content": null,
            "justify_items": null,
            "left": null,
            "margin": null,
            "max_height": null,
            "max_width": null,
            "min_height": null,
            "min_width": null,
            "object_fit": null,
            "object_position": null,
            "order": null,
            "overflow": null,
            "overflow_x": null,
            "overflow_y": null,
            "padding": null,
            "right": null,
            "top": null,
            "visibility": null,
            "width": "67%"
          }
        },
        "8800c24b2ae943f394d4de10d106a641": {
          "model_module": "@jupyter-widgets/controls",
          "model_name": "ProgressStyleModel",
          "model_module_version": "1.5.0",
          "state": {
            "_model_module": "@jupyter-widgets/controls",
            "_model_module_version": "1.5.0",
            "_model_name": "ProgressStyleModel",
            "_view_count": null,
            "_view_module": "@jupyter-widgets/base",
            "_view_module_version": "1.2.0",
            "_view_name": "StyleView",
            "bar_color": null,
            "description_width": "23%"
          }
        },
        "4f49784bd9a544169b54c92d96e4ec62": {
          "model_module": "@jupyter-widgets/controls",
          "model_name": "HTMLMathModel",
          "model_module_version": "1.5.0",
          "state": {
            "_dom_classes": [],
            "_model_module": "@jupyter-widgets/controls",
            "_model_module_version": "1.5.0",
            "_model_name": "HTMLMathModel",
            "_view_count": null,
            "_view_module": "@jupyter-widgets/controls",
            "_view_module_version": "1.5.0",
            "_view_name": "HTMLMathView",
            "description": "Validation --",
            "description_tooltip": null,
            "layout": "IPY_MODEL_f619abd2934c4c64bb7cc1f18d3741eb",
            "placeholder": "HTMLM",
            "style": "IPY_MODEL_3f29c9c9008244c7ac5a583b27a54ab8",
            "value": "\tlogit_accuracy: 0.8997;\tfactor_accuracy: 0.9465;"
          }
        },
        "f619abd2934c4c64bb7cc1f18d3741eb": {
          "model_module": "@jupyter-widgets/base",
          "model_name": "LayoutModel",
          "model_module_version": "1.2.0",
          "state": {
            "_model_module": "@jupyter-widgets/base",
            "_model_module_version": "1.2.0",
            "_model_name": "LayoutModel",
            "_view_count": null,
            "_view_module": "@jupyter-widgets/base",
            "_view_module_version": "1.2.0",
            "_view_name": "LayoutView",
            "align_content": null,
            "align_items": null,
            "align_self": null,
            "border": null,
            "bottom": null,
            "display": null,
            "flex": null,
            "flex_flow": null,
            "grid_area": null,
            "grid_auto_columns": null,
            "grid_auto_flow": null,
            "grid_auto_rows": null,
            "grid_column": null,
            "grid_gap": null,
            "grid_row": null,
            "grid_template_areas": null,
            "grid_template_columns": null,
            "grid_template_rows": null,
            "height": null,
            "justify_content": null,
            "justify_items": null,
            "left": null,
            "margin": null,
            "max_height": null,
            "max_width": null,
            "min_height": null,
            "min_width": null,
            "object_fit": null,
            "object_position": null,
            "order": null,
            "overflow": null,
            "overflow_x": null,
            "overflow_y": null,
            "padding": null,
            "right": null,
            "top": null,
            "visibility": null,
            "width": "67%"
          }
        },
        "3f29c9c9008244c7ac5a583b27a54ab8": {
          "model_module": "@jupyter-widgets/controls",
          "model_name": "DescriptionStyleModel",
          "model_module_version": "1.5.0",
          "state": {
            "_model_module": "@jupyter-widgets/controls",
            "_model_module_version": "1.5.0",
            "_model_name": "DescriptionStyleModel",
            "_view_count": null,
            "_view_module": "@jupyter-widgets/base",
            "_view_module_version": "1.2.0",
            "_view_name": "StyleView",
            "description_width": "23%"
          }
        },
        "7fe0b16842584f1688174fc90102326f": {
          "model_module": "@jupyter-widgets/controls",
          "model_name": "IntProgressModel",
          "model_module_version": "1.5.0",
          "state": {
            "_dom_classes": [],
            "_model_module": "@jupyter-widgets/controls",
            "_model_module_version": "1.5.0",
            "_model_name": "IntProgressModel",
            "_view_count": null,
            "_view_module": "@jupyter-widgets/controls",
            "_view_module_version": "1.5.0",
            "_view_name": "ProgressView",
            "bar_style": "",
            "description": "Batch 79/79, 3.1s passed",
            "description_tooltip": null,
            "layout": "IPY_MODEL_41ab1e8b843d45e4887497151d3dc0ce",
            "max": 79,
            "min": 0,
            "orientation": "horizontal",
            "style": "IPY_MODEL_cfb11a7c69a54f8cb22b00776e0ef0cb",
            "value": 79
          }
        },
        "41ab1e8b843d45e4887497151d3dc0ce": {
          "model_module": "@jupyter-widgets/base",
          "model_name": "LayoutModel",
          "model_module_version": "1.2.0",
          "state": {
            "_model_module": "@jupyter-widgets/base",
            "_model_module_version": "1.2.0",
            "_model_name": "LayoutModel",
            "_view_count": null,
            "_view_module": "@jupyter-widgets/base",
            "_view_module_version": "1.2.0",
            "_view_name": "LayoutView",
            "align_content": null,
            "align_items": null,
            "align_self": null,
            "border": null,
            "bottom": null,
            "display": null,
            "flex": null,
            "flex_flow": null,
            "grid_area": null,
            "grid_auto_columns": null,
            "grid_auto_flow": null,
            "grid_auto_rows": null,
            "grid_column": null,
            "grid_gap": null,
            "grid_row": null,
            "grid_template_areas": null,
            "grid_template_columns": null,
            "grid_template_rows": null,
            "height": null,
            "justify_content": null,
            "justify_items": null,
            "left": null,
            "margin": null,
            "max_height": null,
            "max_width": null,
            "min_height": null,
            "min_width": null,
            "object_fit": null,
            "object_position": null,
            "order": null,
            "overflow": null,
            "overflow_x": null,
            "overflow_y": null,
            "padding": null,
            "right": null,
            "top": null,
            "visibility": null,
            "width": "67%"
          }
        },
        "cfb11a7c69a54f8cb22b00776e0ef0cb": {
          "model_module": "@jupyter-widgets/controls",
          "model_name": "ProgressStyleModel",
          "model_module_version": "1.5.0",
          "state": {
            "_model_module": "@jupyter-widgets/controls",
            "_model_module_version": "1.5.0",
            "_model_name": "ProgressStyleModel",
            "_view_count": null,
            "_view_module": "@jupyter-widgets/base",
            "_view_module_version": "1.2.0",
            "_view_name": "StyleView",
            "bar_color": null,
            "description_width": "23%"
          }
        },
        "8274a78d947d4d8ca47265105f9962be": {
          "model_module": "@jupyter-widgets/controls",
          "model_name": "HTMLMathModel",
          "model_module_version": "1.5.0",
          "state": {
            "_dom_classes": [],
            "_model_module": "@jupyter-widgets/controls",
            "_model_module_version": "1.5.0",
            "_model_name": "HTMLMathModel",
            "_view_count": null,
            "_view_module": "@jupyter-widgets/controls",
            "_view_module_version": "1.5.0",
            "_view_name": "HTMLMathView",
            "description": "Validation --",
            "description_tooltip": null,
            "layout": "IPY_MODEL_ce2bed24c17b4a95b86977b479a8f863",
            "placeholder": "HTMLM",
            "style": "IPY_MODEL_2801428696ef47c69d788f8e83cc3a53",
            "value": "\tlogit_accuracy: 0.8908;\tfactor_accuracy: 0.9437;"
          }
        },
        "ce2bed24c17b4a95b86977b479a8f863": {
          "model_module": "@jupyter-widgets/base",
          "model_name": "LayoutModel",
          "model_module_version": "1.2.0",
          "state": {
            "_model_module": "@jupyter-widgets/base",
            "_model_module_version": "1.2.0",
            "_model_name": "LayoutModel",
            "_view_count": null,
            "_view_module": "@jupyter-widgets/base",
            "_view_module_version": "1.2.0",
            "_view_name": "LayoutView",
            "align_content": null,
            "align_items": null,
            "align_self": null,
            "border": null,
            "bottom": null,
            "display": null,
            "flex": null,
            "flex_flow": null,
            "grid_area": null,
            "grid_auto_columns": null,
            "grid_auto_flow": null,
            "grid_auto_rows": null,
            "grid_column": null,
            "grid_gap": null,
            "grid_row": null,
            "grid_template_areas": null,
            "grid_template_columns": null,
            "grid_template_rows": null,
            "height": null,
            "justify_content": null,
            "justify_items": null,
            "left": null,
            "margin": null,
            "max_height": null,
            "max_width": null,
            "min_height": null,
            "min_width": null,
            "object_fit": null,
            "object_position": null,
            "order": null,
            "overflow": null,
            "overflow_x": null,
            "overflow_y": null,
            "padding": null,
            "right": null,
            "top": null,
            "visibility": null,
            "width": "67%"
          }
        },
        "2801428696ef47c69d788f8e83cc3a53": {
          "model_module": "@jupyter-widgets/controls",
          "model_name": "DescriptionStyleModel",
          "model_module_version": "1.5.0",
          "state": {
            "_model_module": "@jupyter-widgets/controls",
            "_model_module_version": "1.5.0",
            "_model_name": "DescriptionStyleModel",
            "_view_count": null,
            "_view_module": "@jupyter-widgets/base",
            "_view_module_version": "1.2.0",
            "_view_name": "StyleView",
            "description_width": "23%"
          }
        },
        "08794f19453144e9b7b674796efcd273": {
          "model_module": "@jupyter-widgets/controls",
          "model_name": "IntProgressModel",
          "model_module_version": "1.5.0",
          "state": {
            "_dom_classes": [],
            "_model_module": "@jupyter-widgets/controls",
            "_model_module_version": "1.5.0",
            "_model_name": "IntProgressModel",
            "_view_count": null,
            "_view_module": "@jupyter-widgets/controls",
            "_view_module_version": "1.5.0",
            "_view_name": "ProgressView",
            "bar_style": "",
            "description": "Batch 469/469, 22.0s passed",
            "description_tooltip": null,
            "layout": "IPY_MODEL_40fc8cbf4aab482d92256e6059df6f89",
            "max": 469,
            "min": 0,
            "orientation": "horizontal",
            "style": "IPY_MODEL_f1e9ee130a3345b6b1a3a09372d9594e",
            "value": 469
          }
        },
        "40fc8cbf4aab482d92256e6059df6f89": {
          "model_module": "@jupyter-widgets/base",
          "model_name": "LayoutModel",
          "model_module_version": "1.2.0",
          "state": {
            "_model_module": "@jupyter-widgets/base",
            "_model_module_version": "1.2.0",
            "_model_name": "LayoutModel",
            "_view_count": null,
            "_view_module": "@jupyter-widgets/base",
            "_view_module_version": "1.2.0",
            "_view_name": "LayoutView",
            "align_content": null,
            "align_items": null,
            "align_self": null,
            "border": null,
            "bottom": null,
            "display": null,
            "flex": null,
            "flex_flow": null,
            "grid_area": null,
            "grid_auto_columns": null,
            "grid_auto_flow": null,
            "grid_auto_rows": null,
            "grid_column": null,
            "grid_gap": null,
            "grid_row": null,
            "grid_template_areas": null,
            "grid_template_columns": null,
            "grid_template_rows": null,
            "height": null,
            "justify_content": null,
            "justify_items": null,
            "left": null,
            "margin": null,
            "max_height": null,
            "max_width": null,
            "min_height": null,
            "min_width": null,
            "object_fit": null,
            "object_position": null,
            "order": null,
            "overflow": null,
            "overflow_x": null,
            "overflow_y": null,
            "padding": null,
            "right": null,
            "top": null,
            "visibility": null,
            "width": "67%"
          }
        },
        "f1e9ee130a3345b6b1a3a09372d9594e": {
          "model_module": "@jupyter-widgets/controls",
          "model_name": "ProgressStyleModel",
          "model_module_version": "1.5.0",
          "state": {
            "_model_module": "@jupyter-widgets/controls",
            "_model_module_version": "1.5.0",
            "_model_name": "ProgressStyleModel",
            "_view_count": null,
            "_view_module": "@jupyter-widgets/base",
            "_view_module_version": "1.2.0",
            "_view_name": "StyleView",
            "bar_color": null,
            "description_width": "23%"
          }
        },
        "8c7818ab78c74a28860203841459319e": {
          "model_module": "@jupyter-widgets/controls",
          "model_name": "HTMLMathModel",
          "model_module_version": "1.5.0",
          "state": {
            "_dom_classes": [],
            "_model_module": "@jupyter-widgets/controls",
            "_model_module_version": "1.5.0",
            "_model_name": "HTMLMathModel",
            "_view_count": null,
            "_view_module": "@jupyter-widgets/controls",
            "_view_module_version": "1.5.0",
            "_view_name": "HTMLMathView",
            "description": "Validation --",
            "description_tooltip": null,
            "layout": "IPY_MODEL_e7b2f1ae2955473e8809ec34c180895e",
            "placeholder": "HTMLM",
            "style": "IPY_MODEL_06b6f7a2c28a46f986e28fbb1b8dfa1f",
            "value": "\tlogit_accuracy: 0.8997;\tfactor_accuracy: 0.9465;"
          }
        },
        "e7b2f1ae2955473e8809ec34c180895e": {
          "model_module": "@jupyter-widgets/base",
          "model_name": "LayoutModel",
          "model_module_version": "1.2.0",
          "state": {
            "_model_module": "@jupyter-widgets/base",
            "_model_module_version": "1.2.0",
            "_model_name": "LayoutModel",
            "_view_count": null,
            "_view_module": "@jupyter-widgets/base",
            "_view_module_version": "1.2.0",
            "_view_name": "LayoutView",
            "align_content": null,
            "align_items": null,
            "align_self": null,
            "border": null,
            "bottom": null,
            "display": null,
            "flex": null,
            "flex_flow": null,
            "grid_area": null,
            "grid_auto_columns": null,
            "grid_auto_flow": null,
            "grid_auto_rows": null,
            "grid_column": null,
            "grid_gap": null,
            "grid_row": null,
            "grid_template_areas": null,
            "grid_template_columns": null,
            "grid_template_rows": null,
            "height": null,
            "justify_content": null,
            "justify_items": null,
            "left": null,
            "margin": null,
            "max_height": null,
            "max_width": null,
            "min_height": null,
            "min_width": null,
            "object_fit": null,
            "object_position": null,
            "order": null,
            "overflow": null,
            "overflow_x": null,
            "overflow_y": null,
            "padding": null,
            "right": null,
            "top": null,
            "visibility": null,
            "width": "67%"
          }
        },
        "06b6f7a2c28a46f986e28fbb1b8dfa1f": {
          "model_module": "@jupyter-widgets/controls",
          "model_name": "DescriptionStyleModel",
          "model_module_version": "1.5.0",
          "state": {
            "_model_module": "@jupyter-widgets/controls",
            "_model_module_version": "1.5.0",
            "_model_name": "DescriptionStyleModel",
            "_view_count": null,
            "_view_module": "@jupyter-widgets/base",
            "_view_module_version": "1.2.0",
            "_view_name": "StyleView",
            "description_width": "23%"
          }
        },
        "f779efdb6e8b45f0bd23b2fd4aa0ace7": {
          "model_module": "@jupyter-widgets/controls",
          "model_name": "IntProgressModel",
          "model_module_version": "1.5.0",
          "state": {
            "_dom_classes": [],
            "_model_module": "@jupyter-widgets/controls",
            "_model_module_version": "1.5.0",
            "_model_name": "IntProgressModel",
            "_view_count": null,
            "_view_module": "@jupyter-widgets/controls",
            "_view_module_version": "1.5.0",
            "_view_name": "ProgressView",
            "bar_style": "",
            "description": "Batch 79/79, 4.0s passed",
            "description_tooltip": null,
            "layout": "IPY_MODEL_469df119ba44476185d866a137cc30b3",
            "max": 79,
            "min": 0,
            "orientation": "horizontal",
            "style": "IPY_MODEL_92e2ed021a4c46e1bec1613a3298b3b6",
            "value": 79
          }
        },
        "469df119ba44476185d866a137cc30b3": {
          "model_module": "@jupyter-widgets/base",
          "model_name": "LayoutModel",
          "model_module_version": "1.2.0",
          "state": {
            "_model_module": "@jupyter-widgets/base",
            "_model_module_version": "1.2.0",
            "_model_name": "LayoutModel",
            "_view_count": null,
            "_view_module": "@jupyter-widgets/base",
            "_view_module_version": "1.2.0",
            "_view_name": "LayoutView",
            "align_content": null,
            "align_items": null,
            "align_self": null,
            "border": null,
            "bottom": null,
            "display": null,
            "flex": null,
            "flex_flow": null,
            "grid_area": null,
            "grid_auto_columns": null,
            "grid_auto_flow": null,
            "grid_auto_rows": null,
            "grid_column": null,
            "grid_gap": null,
            "grid_row": null,
            "grid_template_areas": null,
            "grid_template_columns": null,
            "grid_template_rows": null,
            "height": null,
            "justify_content": null,
            "justify_items": null,
            "left": null,
            "margin": null,
            "max_height": null,
            "max_width": null,
            "min_height": null,
            "min_width": null,
            "object_fit": null,
            "object_position": null,
            "order": null,
            "overflow": null,
            "overflow_x": null,
            "overflow_y": null,
            "padding": null,
            "right": null,
            "top": null,
            "visibility": null,
            "width": "67%"
          }
        },
        "92e2ed021a4c46e1bec1613a3298b3b6": {
          "model_module": "@jupyter-widgets/controls",
          "model_name": "ProgressStyleModel",
          "model_module_version": "1.5.0",
          "state": {
            "_model_module": "@jupyter-widgets/controls",
            "_model_module_version": "1.5.0",
            "_model_name": "ProgressStyleModel",
            "_view_count": null,
            "_view_module": "@jupyter-widgets/base",
            "_view_module_version": "1.2.0",
            "_view_name": "StyleView",
            "bar_color": null,
            "description_width": "23%"
          }
        },
        "4833d9bbd9e34d13a1175a82b85412ce": {
          "model_module": "@jupyter-widgets/controls",
          "model_name": "HTMLMathModel",
          "model_module_version": "1.5.0",
          "state": {
            "_dom_classes": [],
            "_model_module": "@jupyter-widgets/controls",
            "_model_module_version": "1.5.0",
            "_model_name": "HTMLMathModel",
            "_view_count": null,
            "_view_module": "@jupyter-widgets/controls",
            "_view_module_version": "1.5.0",
            "_view_name": "HTMLMathView",
            "description": "Validation --",
            "description_tooltip": null,
            "layout": "IPY_MODEL_5974e7c719a44c36ab9f004d813e009c",
            "placeholder": "HTMLM",
            "style": "IPY_MODEL_b53fd7e8b6fe4c1d90e7619a546f087d",
            "value": "\tlogit_accuracy: 0.5931;\tfactor_accuracy: 0.7302;"
          }
        },
        "5974e7c719a44c36ab9f004d813e009c": {
          "model_module": "@jupyter-widgets/base",
          "model_name": "LayoutModel",
          "model_module_version": "1.2.0",
          "state": {
            "_model_module": "@jupyter-widgets/base",
            "_model_module_version": "1.2.0",
            "_model_name": "LayoutModel",
            "_view_count": null,
            "_view_module": "@jupyter-widgets/base",
            "_view_module_version": "1.2.0",
            "_view_name": "LayoutView",
            "align_content": null,
            "align_items": null,
            "align_self": null,
            "border": null,
            "bottom": null,
            "display": null,
            "flex": null,
            "flex_flow": null,
            "grid_area": null,
            "grid_auto_columns": null,
            "grid_auto_flow": null,
            "grid_auto_rows": null,
            "grid_column": null,
            "grid_gap": null,
            "grid_row": null,
            "grid_template_areas": null,
            "grid_template_columns": null,
            "grid_template_rows": null,
            "height": null,
            "justify_content": null,
            "justify_items": null,
            "left": null,
            "margin": null,
            "max_height": null,
            "max_width": null,
            "min_height": null,
            "min_width": null,
            "object_fit": null,
            "object_position": null,
            "order": null,
            "overflow": null,
            "overflow_x": null,
            "overflow_y": null,
            "padding": null,
            "right": null,
            "top": null,
            "visibility": null,
            "width": "67%"
          }
        },
        "b53fd7e8b6fe4c1d90e7619a546f087d": {
          "model_module": "@jupyter-widgets/controls",
          "model_name": "DescriptionStyleModel",
          "model_module_version": "1.5.0",
          "state": {
            "_model_module": "@jupyter-widgets/controls",
            "_model_module_version": "1.5.0",
            "_model_name": "DescriptionStyleModel",
            "_view_count": null,
            "_view_module": "@jupyter-widgets/base",
            "_view_module_version": "1.2.0",
            "_view_name": "StyleView",
            "description_width": "23%"
          }
        },
        "d3e9e97531f04509bae726f8df8aa4ad": {
          "model_module": "@jupyter-widgets/controls",
          "model_name": "IntProgressModel",
          "model_module_version": "1.5.0",
          "state": {
            "_dom_classes": [],
            "_model_module": "@jupyter-widgets/controls",
            "_model_module_version": "1.5.0",
            "_model_name": "IntProgressModel",
            "_view_count": null,
            "_view_module": "@jupyter-widgets/controls",
            "_view_module_version": "1.5.0",
            "_view_name": "ProgressView",
            "bar_style": "",
            "description": "Batch 469/469, 19.4s passed",
            "description_tooltip": null,
            "layout": "IPY_MODEL_c130ba1131d7436a857c52c39a4c4793",
            "max": 469,
            "min": 0,
            "orientation": "horizontal",
            "style": "IPY_MODEL_91e5ec4e899449418d809abddea8997b",
            "value": 469
          }
        },
        "c130ba1131d7436a857c52c39a4c4793": {
          "model_module": "@jupyter-widgets/base",
          "model_name": "LayoutModel",
          "model_module_version": "1.2.0",
          "state": {
            "_model_module": "@jupyter-widgets/base",
            "_model_module_version": "1.2.0",
            "_model_name": "LayoutModel",
            "_view_count": null,
            "_view_module": "@jupyter-widgets/base",
            "_view_module_version": "1.2.0",
            "_view_name": "LayoutView",
            "align_content": null,
            "align_items": null,
            "align_self": null,
            "border": null,
            "bottom": null,
            "display": null,
            "flex": null,
            "flex_flow": null,
            "grid_area": null,
            "grid_auto_columns": null,
            "grid_auto_flow": null,
            "grid_auto_rows": null,
            "grid_column": null,
            "grid_gap": null,
            "grid_row": null,
            "grid_template_areas": null,
            "grid_template_columns": null,
            "grid_template_rows": null,
            "height": null,
            "justify_content": null,
            "justify_items": null,
            "left": null,
            "margin": null,
            "max_height": null,
            "max_width": null,
            "min_height": null,
            "min_width": null,
            "object_fit": null,
            "object_position": null,
            "order": null,
            "overflow": null,
            "overflow_x": null,
            "overflow_y": null,
            "padding": null,
            "right": null,
            "top": null,
            "visibility": null,
            "width": "67%"
          }
        },
        "91e5ec4e899449418d809abddea8997b": {
          "model_module": "@jupyter-widgets/controls",
          "model_name": "ProgressStyleModel",
          "model_module_version": "1.5.0",
          "state": {
            "_model_module": "@jupyter-widgets/controls",
            "_model_module_version": "1.5.0",
            "_model_name": "ProgressStyleModel",
            "_view_count": null,
            "_view_module": "@jupyter-widgets/base",
            "_view_module_version": "1.2.0",
            "_view_name": "StyleView",
            "bar_color": null,
            "description_width": "23%"
          }
        },
        "a3db6052df474ad1afbef1a6e50639b0": {
          "model_module": "@jupyter-widgets/controls",
          "model_name": "HTMLMathModel",
          "model_module_version": "1.5.0",
          "state": {
            "_dom_classes": [],
            "_model_module": "@jupyter-widgets/controls",
            "_model_module_version": "1.5.0",
            "_model_name": "HTMLMathModel",
            "_view_count": null,
            "_view_module": "@jupyter-widgets/controls",
            "_view_module_version": "1.5.0",
            "_view_name": "HTMLMathView",
            "description": "Validation --",
            "description_tooltip": null,
            "layout": "IPY_MODEL_ba9cf57632e840a28be2f24ffbc0c391",
            "placeholder": "HTMLM",
            "style": "IPY_MODEL_8027e38e83704455979fcce321f19c47",
            "value": "\tlogit_accuracy: 0.6120;\tfactor_accuracy: 0.7384;"
          }
        },
        "ba9cf57632e840a28be2f24ffbc0c391": {
          "model_module": "@jupyter-widgets/base",
          "model_name": "LayoutModel",
          "model_module_version": "1.2.0",
          "state": {
            "_model_module": "@jupyter-widgets/base",
            "_model_module_version": "1.2.0",
            "_model_name": "LayoutModel",
            "_view_count": null,
            "_view_module": "@jupyter-widgets/base",
            "_view_module_version": "1.2.0",
            "_view_name": "LayoutView",
            "align_content": null,
            "align_items": null,
            "align_self": null,
            "border": null,
            "bottom": null,
            "display": null,
            "flex": null,
            "flex_flow": null,
            "grid_area": null,
            "grid_auto_columns": null,
            "grid_auto_flow": null,
            "grid_auto_rows": null,
            "grid_column": null,
            "grid_gap": null,
            "grid_row": null,
            "grid_template_areas": null,
            "grid_template_columns": null,
            "grid_template_rows": null,
            "height": null,
            "justify_content": null,
            "justify_items": null,
            "left": null,
            "margin": null,
            "max_height": null,
            "max_width": null,
            "min_height": null,
            "min_width": null,
            "object_fit": null,
            "object_position": null,
            "order": null,
            "overflow": null,
            "overflow_x": null,
            "overflow_y": null,
            "padding": null,
            "right": null,
            "top": null,
            "visibility": null,
            "width": "67%"
          }
        },
        "8027e38e83704455979fcce321f19c47": {
          "model_module": "@jupyter-widgets/controls",
          "model_name": "DescriptionStyleModel",
          "model_module_version": "1.5.0",
          "state": {
            "_model_module": "@jupyter-widgets/controls",
            "_model_module_version": "1.5.0",
            "_model_name": "DescriptionStyleModel",
            "_view_count": null,
            "_view_module": "@jupyter-widgets/base",
            "_view_module_version": "1.2.0",
            "_view_name": "StyleView",
            "description_width": "23%"
          }
        },
        "c40196a2e1f9496bad9e103f19325ac7": {
          "model_module": "@jupyter-widgets/controls",
          "model_name": "IntProgressModel",
          "model_module_version": "1.5.0",
          "state": {
            "_dom_classes": [],
            "_model_module": "@jupyter-widgets/controls",
            "_model_module_version": "1.5.0",
            "_model_name": "IntProgressModel",
            "_view_count": null,
            "_view_module": "@jupyter-widgets/controls",
            "_view_module_version": "1.5.0",
            "_view_name": "ProgressView",
            "bar_style": "",
            "description": "Batch 79/79, 3.1s passed",
            "description_tooltip": null,
            "layout": "IPY_MODEL_503a4b8595d64389bf160c6d37ec8ab2",
            "max": 79,
            "min": 0,
            "orientation": "horizontal",
            "style": "IPY_MODEL_6bca62576ac94b60be24bb350a7ff804",
            "value": 79
          }
        },
        "503a4b8595d64389bf160c6d37ec8ab2": {
          "model_module": "@jupyter-widgets/base",
          "model_name": "LayoutModel",
          "model_module_version": "1.2.0",
          "state": {
            "_model_module": "@jupyter-widgets/base",
            "_model_module_version": "1.2.0",
            "_model_name": "LayoutModel",
            "_view_count": null,
            "_view_module": "@jupyter-widgets/base",
            "_view_module_version": "1.2.0",
            "_view_name": "LayoutView",
            "align_content": null,
            "align_items": null,
            "align_self": null,
            "border": null,
            "bottom": null,
            "display": null,
            "flex": null,
            "flex_flow": null,
            "grid_area": null,
            "grid_auto_columns": null,
            "grid_auto_flow": null,
            "grid_auto_rows": null,
            "grid_column": null,
            "grid_gap": null,
            "grid_row": null,
            "grid_template_areas": null,
            "grid_template_columns": null,
            "grid_template_rows": null,
            "height": null,
            "justify_content": null,
            "justify_items": null,
            "left": null,
            "margin": null,
            "max_height": null,
            "max_width": null,
            "min_height": null,
            "min_width": null,
            "object_fit": null,
            "object_position": null,
            "order": null,
            "overflow": null,
            "overflow_x": null,
            "overflow_y": null,
            "padding": null,
            "right": null,
            "top": null,
            "visibility": null,
            "width": "67%"
          }
        },
        "6bca62576ac94b60be24bb350a7ff804": {
          "model_module": "@jupyter-widgets/controls",
          "model_name": "ProgressStyleModel",
          "model_module_version": "1.5.0",
          "state": {
            "_model_module": "@jupyter-widgets/controls",
            "_model_module_version": "1.5.0",
            "_model_name": "ProgressStyleModel",
            "_view_count": null,
            "_view_module": "@jupyter-widgets/base",
            "_view_module_version": "1.2.0",
            "_view_name": "StyleView",
            "bar_color": null,
            "description_width": "23%"
          }
        },
        "1ae02826b40e4c7e9c5cfba6186402ff": {
          "model_module": "@jupyter-widgets/controls",
          "model_name": "IntProgressModel",
          "model_module_version": "1.5.0",
          "state": {
            "_dom_classes": [],
            "_model_module": "@jupyter-widgets/controls",
            "_model_module_version": "1.5.0",
            "_model_name": "IntProgressModel",
            "_view_count": null,
            "_view_module": "@jupyter-widgets/controls",
            "_view_module_version": "1.5.0",
            "_view_name": "ProgressView",
            "bar_style": "",
            "description": "Epoch 1/1, 67.8s passed",
            "description_tooltip": null,
            "layout": "IPY_MODEL_2f390e9d5761424582a93322b15334c2",
            "max": 1,
            "min": 0,
            "orientation": "horizontal",
            "style": "IPY_MODEL_35375425772746b5aadcf4bb4dbe7b82",
            "value": 1
          }
        },
        "2f390e9d5761424582a93322b15334c2": {
          "model_module": "@jupyter-widgets/base",
          "model_name": "LayoutModel",
          "model_module_version": "1.2.0",
          "state": {
            "_model_module": "@jupyter-widgets/base",
            "_model_module_version": "1.2.0",
            "_model_name": "LayoutModel",
            "_view_count": null,
            "_view_module": "@jupyter-widgets/base",
            "_view_module_version": "1.2.0",
            "_view_name": "LayoutView",
            "align_content": null,
            "align_items": null,
            "align_self": null,
            "border": null,
            "bottom": null,
            "display": null,
            "flex": null,
            "flex_flow": null,
            "grid_area": null,
            "grid_auto_columns": null,
            "grid_auto_flow": null,
            "grid_auto_rows": null,
            "grid_column": null,
            "grid_gap": null,
            "grid_row": null,
            "grid_template_areas": null,
            "grid_template_columns": null,
            "grid_template_rows": null,
            "height": null,
            "justify_content": null,
            "justify_items": null,
            "left": null,
            "margin": null,
            "max_height": null,
            "max_width": null,
            "min_height": null,
            "min_width": null,
            "object_fit": null,
            "object_position": null,
            "order": null,
            "overflow": null,
            "overflow_x": null,
            "overflow_y": null,
            "padding": null,
            "right": null,
            "top": null,
            "visibility": null,
            "width": "67%"
          }
        },
        "35375425772746b5aadcf4bb4dbe7b82": {
          "model_module": "@jupyter-widgets/controls",
          "model_name": "ProgressStyleModel",
          "model_module_version": "1.5.0",
          "state": {
            "_model_module": "@jupyter-widgets/controls",
            "_model_module_version": "1.5.0",
            "_model_name": "ProgressStyleModel",
            "_view_count": null,
            "_view_module": "@jupyter-widgets/base",
            "_view_module_version": "1.2.0",
            "_view_name": "StyleView",
            "bar_color": null,
            "description_width": "23%"
          }
        },
        "9f8fdb7251f7437f8d637c7bfda6fb22": {
          "model_module": "@jupyter-widgets/controls",
          "model_name": "HTMLMathModel",
          "model_module_version": "1.5.0",
          "state": {
            "_dom_classes": [],
            "_model_module": "@jupyter-widgets/controls",
            "_model_module_version": "1.5.0",
            "_model_name": "HTMLMathModel",
            "_view_count": null,
            "_view_module": "@jupyter-widgets/controls",
            "_view_module_version": "1.5.0",
            "_view_name": "HTMLMathView",
            "description": "Epoch 1/1 train --",
            "description_tooltip": null,
            "layout": "IPY_MODEL_e8743e59e12240bf84763bfb1c28c786",
            "placeholder": "HTMLM",
            "style": "IPY_MODEL_320183fca1894552bfd60f773702c05e",
            "value": "\tlogit_accuracy: 0.5436;\tfactor_accuracy: 0.8490;"
          }
        },
        "e8743e59e12240bf84763bfb1c28c786": {
          "model_module": "@jupyter-widgets/base",
          "model_name": "LayoutModel",
          "model_module_version": "1.2.0",
          "state": {
            "_model_module": "@jupyter-widgets/base",
            "_model_module_version": "1.2.0",
            "_model_name": "LayoutModel",
            "_view_count": null,
            "_view_module": "@jupyter-widgets/base",
            "_view_module_version": "1.2.0",
            "_view_name": "LayoutView",
            "align_content": null,
            "align_items": null,
            "align_self": null,
            "border": null,
            "bottom": null,
            "display": null,
            "flex": null,
            "flex_flow": null,
            "grid_area": null,
            "grid_auto_columns": null,
            "grid_auto_flow": null,
            "grid_auto_rows": null,
            "grid_column": null,
            "grid_gap": null,
            "grid_row": null,
            "grid_template_areas": null,
            "grid_template_columns": null,
            "grid_template_rows": null,
            "height": null,
            "justify_content": null,
            "justify_items": null,
            "left": null,
            "margin": null,
            "max_height": null,
            "max_width": null,
            "min_height": null,
            "min_width": null,
            "object_fit": null,
            "object_position": null,
            "order": null,
            "overflow": null,
            "overflow_x": null,
            "overflow_y": null,
            "padding": null,
            "right": null,
            "top": null,
            "visibility": null,
            "width": "67%"
          }
        },
        "320183fca1894552bfd60f773702c05e": {
          "model_module": "@jupyter-widgets/controls",
          "model_name": "DescriptionStyleModel",
          "model_module_version": "1.5.0",
          "state": {
            "_model_module": "@jupyter-widgets/controls",
            "_model_module_version": "1.5.0",
            "_model_name": "DescriptionStyleModel",
            "_view_count": null,
            "_view_module": "@jupyter-widgets/base",
            "_view_module_version": "1.2.0",
            "_view_name": "StyleView",
            "description_width": "23%"
          }
        },
        "2edabc5b87d84afdbfa914b8b00811c7": {
          "model_module": "@jupyter-widgets/controls",
          "model_name": "IntProgressModel",
          "model_module_version": "1.5.0",
          "state": {
            "_dom_classes": [],
            "_model_module": "@jupyter-widgets/controls",
            "_model_module_version": "1.5.0",
            "_model_name": "IntProgressModel",
            "_view_count": null,
            "_view_module": "@jupyter-widgets/controls",
            "_view_module_version": "1.5.0",
            "_view_name": "ProgressView",
            "bar_style": "",
            "description": "Batch 469/469, 62.6s passed",
            "description_tooltip": null,
            "layout": "IPY_MODEL_96d51e401c8d40e085e1e5218e27ba5f",
            "max": 469,
            "min": 0,
            "orientation": "horizontal",
            "style": "IPY_MODEL_3866b8b9fa6a4203a32a72ffea68264b",
            "value": 469
          }
        },
        "96d51e401c8d40e085e1e5218e27ba5f": {
          "model_module": "@jupyter-widgets/base",
          "model_name": "LayoutModel",
          "model_module_version": "1.2.0",
          "state": {
            "_model_module": "@jupyter-widgets/base",
            "_model_module_version": "1.2.0",
            "_model_name": "LayoutModel",
            "_view_count": null,
            "_view_module": "@jupyter-widgets/base",
            "_view_module_version": "1.2.0",
            "_view_name": "LayoutView",
            "align_content": null,
            "align_items": null,
            "align_self": null,
            "border": null,
            "bottom": null,
            "display": null,
            "flex": null,
            "flex_flow": null,
            "grid_area": null,
            "grid_auto_columns": null,
            "grid_auto_flow": null,
            "grid_auto_rows": null,
            "grid_column": null,
            "grid_gap": null,
            "grid_row": null,
            "grid_template_areas": null,
            "grid_template_columns": null,
            "grid_template_rows": null,
            "height": null,
            "justify_content": null,
            "justify_items": null,
            "left": null,
            "margin": null,
            "max_height": null,
            "max_width": null,
            "min_height": null,
            "min_width": null,
            "object_fit": null,
            "object_position": null,
            "order": null,
            "overflow": null,
            "overflow_x": null,
            "overflow_y": null,
            "padding": null,
            "right": null,
            "top": null,
            "visibility": null,
            "width": "67%"
          }
        },
        "3866b8b9fa6a4203a32a72ffea68264b": {
          "model_module": "@jupyter-widgets/controls",
          "model_name": "ProgressStyleModel",
          "model_module_version": "1.5.0",
          "state": {
            "_model_module": "@jupyter-widgets/controls",
            "_model_module_version": "1.5.0",
            "_model_name": "ProgressStyleModel",
            "_view_count": null,
            "_view_module": "@jupyter-widgets/base",
            "_view_module_version": "1.2.0",
            "_view_name": "StyleView",
            "bar_color": null,
            "description_width": "23%"
          }
        },
        "cbcf5d4e79d14d20a5c9747f3287f5e0": {
          "model_module": "@jupyter-widgets/controls",
          "model_name": "HTMLMathModel",
          "model_module_version": "1.5.0",
          "state": {
            "_dom_classes": [],
            "_model_module": "@jupyter-widgets/controls",
            "_model_module_version": "1.5.0",
            "_model_name": "HTMLMathModel",
            "_view_count": null,
            "_view_module": "@jupyter-widgets/controls",
            "_view_module_version": "1.5.0",
            "_view_name": "HTMLMathView",
            "description": "Validation --",
            "description_tooltip": null,
            "layout": "IPY_MODEL_b2f5a401410141d2b1580fcda32d7776",
            "placeholder": "HTMLM",
            "style": "IPY_MODEL_c5b399c3488d4a42b94101c1fb90cfcc",
            "value": "\tlogit_accuracy: 0.5159;\tfactor_accuracy: 0.8777;"
          }
        },
        "b2f5a401410141d2b1580fcda32d7776": {
          "model_module": "@jupyter-widgets/base",
          "model_name": "LayoutModel",
          "model_module_version": "1.2.0",
          "state": {
            "_model_module": "@jupyter-widgets/base",
            "_model_module_version": "1.2.0",
            "_model_name": "LayoutModel",
            "_view_count": null,
            "_view_module": "@jupyter-widgets/base",
            "_view_module_version": "1.2.0",
            "_view_name": "LayoutView",
            "align_content": null,
            "align_items": null,
            "align_self": null,
            "border": null,
            "bottom": null,
            "display": null,
            "flex": null,
            "flex_flow": null,
            "grid_area": null,
            "grid_auto_columns": null,
            "grid_auto_flow": null,
            "grid_auto_rows": null,
            "grid_column": null,
            "grid_gap": null,
            "grid_row": null,
            "grid_template_areas": null,
            "grid_template_columns": null,
            "grid_template_rows": null,
            "height": null,
            "justify_content": null,
            "justify_items": null,
            "left": null,
            "margin": null,
            "max_height": null,
            "max_width": null,
            "min_height": null,
            "min_width": null,
            "object_fit": null,
            "object_position": null,
            "order": null,
            "overflow": null,
            "overflow_x": null,
            "overflow_y": null,
            "padding": null,
            "right": null,
            "top": null,
            "visibility": null,
            "width": "67%"
          }
        },
        "c5b399c3488d4a42b94101c1fb90cfcc": {
          "model_module": "@jupyter-widgets/controls",
          "model_name": "DescriptionStyleModel",
          "model_module_version": "1.5.0",
          "state": {
            "_model_module": "@jupyter-widgets/controls",
            "_model_module_version": "1.5.0",
            "_model_name": "DescriptionStyleModel",
            "_view_count": null,
            "_view_module": "@jupyter-widgets/base",
            "_view_module_version": "1.2.0",
            "_view_name": "StyleView",
            "description_width": "23%"
          }
        },
        "d4752880deae4a028bdabfca7b71bacc": {
          "model_module": "@jupyter-widgets/controls",
          "model_name": "IntProgressModel",
          "model_module_version": "1.5.0",
          "state": {
            "_dom_classes": [],
            "_model_module": "@jupyter-widgets/controls",
            "_model_module_version": "1.5.0",
            "_model_name": "IntProgressModel",
            "_view_count": null,
            "_view_module": "@jupyter-widgets/controls",
            "_view_module_version": "1.5.0",
            "_view_name": "ProgressView",
            "bar_style": "",
            "description": "Batch 79/79, 3.0s passed",
            "description_tooltip": null,
            "layout": "IPY_MODEL_11716054507f48bd8fca2649b765a473",
            "max": 79,
            "min": 0,
            "orientation": "horizontal",
            "style": "IPY_MODEL_d082e385cb7542c083f0756ba827ab48",
            "value": 79
          }
        },
        "11716054507f48bd8fca2649b765a473": {
          "model_module": "@jupyter-widgets/base",
          "model_name": "LayoutModel",
          "model_module_version": "1.2.0",
          "state": {
            "_model_module": "@jupyter-widgets/base",
            "_model_module_version": "1.2.0",
            "_model_name": "LayoutModel",
            "_view_count": null,
            "_view_module": "@jupyter-widgets/base",
            "_view_module_version": "1.2.0",
            "_view_name": "LayoutView",
            "align_content": null,
            "align_items": null,
            "align_self": null,
            "border": null,
            "bottom": null,
            "display": null,
            "flex": null,
            "flex_flow": null,
            "grid_area": null,
            "grid_auto_columns": null,
            "grid_auto_flow": null,
            "grid_auto_rows": null,
            "grid_column": null,
            "grid_gap": null,
            "grid_row": null,
            "grid_template_areas": null,
            "grid_template_columns": null,
            "grid_template_rows": null,
            "height": null,
            "justify_content": null,
            "justify_items": null,
            "left": null,
            "margin": null,
            "max_height": null,
            "max_width": null,
            "min_height": null,
            "min_width": null,
            "object_fit": null,
            "object_position": null,
            "order": null,
            "overflow": null,
            "overflow_x": null,
            "overflow_y": null,
            "padding": null,
            "right": null,
            "top": null,
            "visibility": null,
            "width": "67%"
          }
        },
        "d082e385cb7542c083f0756ba827ab48": {
          "model_module": "@jupyter-widgets/controls",
          "model_name": "ProgressStyleModel",
          "model_module_version": "1.5.0",
          "state": {
            "_model_module": "@jupyter-widgets/controls",
            "_model_module_version": "1.5.0",
            "_model_name": "ProgressStyleModel",
            "_view_count": null,
            "_view_module": "@jupyter-widgets/base",
            "_view_module_version": "1.2.0",
            "_view_name": "StyleView",
            "bar_color": null,
            "description_width": "23%"
          }
        },
        "2c47cbbf536d4816bc6c6c47e2cca1ba": {
          "model_module": "@jupyter-widgets/controls",
          "model_name": "IntProgressModel",
          "model_module_version": "1.5.0",
          "state": {
            "_dom_classes": [],
            "_model_module": "@jupyter-widgets/controls",
            "_model_module_version": "1.5.0",
            "_model_name": "IntProgressModel",
            "_view_count": null,
            "_view_module": "@jupyter-widgets/controls",
            "_view_module_version": "1.5.0",
            "_view_name": "ProgressView",
            "bar_style": "",
            "description": "Epoch 1/1, 84.9s passed",
            "description_tooltip": null,
            "layout": "IPY_MODEL_ca85b82821de40b5b1f0c3bdf55e15dc",
            "max": 1,
            "min": 0,
            "orientation": "horizontal",
            "style": "IPY_MODEL_4ba2ea2158334dc889d374dd8c4e059e",
            "value": 1
          }
        },
        "ca85b82821de40b5b1f0c3bdf55e15dc": {
          "model_module": "@jupyter-widgets/base",
          "model_name": "LayoutModel",
          "model_module_version": "1.2.0",
          "state": {
            "_model_module": "@jupyter-widgets/base",
            "_model_module_version": "1.2.0",
            "_model_name": "LayoutModel",
            "_view_count": null,
            "_view_module": "@jupyter-widgets/base",
            "_view_module_version": "1.2.0",
            "_view_name": "LayoutView",
            "align_content": null,
            "align_items": null,
            "align_self": null,
            "border": null,
            "bottom": null,
            "display": null,
            "flex": null,
            "flex_flow": null,
            "grid_area": null,
            "grid_auto_columns": null,
            "grid_auto_flow": null,
            "grid_auto_rows": null,
            "grid_column": null,
            "grid_gap": null,
            "grid_row": null,
            "grid_template_areas": null,
            "grid_template_columns": null,
            "grid_template_rows": null,
            "height": null,
            "justify_content": null,
            "justify_items": null,
            "left": null,
            "margin": null,
            "max_height": null,
            "max_width": null,
            "min_height": null,
            "min_width": null,
            "object_fit": null,
            "object_position": null,
            "order": null,
            "overflow": null,
            "overflow_x": null,
            "overflow_y": null,
            "padding": null,
            "right": null,
            "top": null,
            "visibility": null,
            "width": "67%"
          }
        },
        "4ba2ea2158334dc889d374dd8c4e059e": {
          "model_module": "@jupyter-widgets/controls",
          "model_name": "ProgressStyleModel",
          "model_module_version": "1.5.0",
          "state": {
            "_model_module": "@jupyter-widgets/controls",
            "_model_module_version": "1.5.0",
            "_model_name": "ProgressStyleModel",
            "_view_count": null,
            "_view_module": "@jupyter-widgets/base",
            "_view_module_version": "1.2.0",
            "_view_name": "StyleView",
            "bar_color": null,
            "description_width": "23%"
          }
        },
        "9823f012db0a48de8b13a8ad3dfa4ad0": {
          "model_module": "@jupyter-widgets/controls",
          "model_name": "HTMLMathModel",
          "model_module_version": "1.5.0",
          "state": {
            "_dom_classes": [],
            "_model_module": "@jupyter-widgets/controls",
            "_model_module_version": "1.5.0",
            "_model_name": "HTMLMathModel",
            "_view_count": null,
            "_view_module": "@jupyter-widgets/controls",
            "_view_module_version": "1.5.0",
            "_view_name": "HTMLMathView",
            "description": "Epoch 1/1 train --",
            "description_tooltip": null,
            "layout": "IPY_MODEL_00d278a2dce24a2e97b4976ea328993a",
            "placeholder": "HTMLM",
            "style": "IPY_MODEL_b879c1820c6c4505a0ef1574d0d5a0bd",
            "value": "\tlogit_accuracy: 0.5753;\tfactor_accuracy: 0.7511;"
          }
        },
        "00d278a2dce24a2e97b4976ea328993a": {
          "model_module": "@jupyter-widgets/base",
          "model_name": "LayoutModel",
          "model_module_version": "1.2.0",
          "state": {
            "_model_module": "@jupyter-widgets/base",
            "_model_module_version": "1.2.0",
            "_model_name": "LayoutModel",
            "_view_count": null,
            "_view_module": "@jupyter-widgets/base",
            "_view_module_version": "1.2.0",
            "_view_name": "LayoutView",
            "align_content": null,
            "align_items": null,
            "align_self": null,
            "border": null,
            "bottom": null,
            "display": null,
            "flex": null,
            "flex_flow": null,
            "grid_area": null,
            "grid_auto_columns": null,
            "grid_auto_flow": null,
            "grid_auto_rows": null,
            "grid_column": null,
            "grid_gap": null,
            "grid_row": null,
            "grid_template_areas": null,
            "grid_template_columns": null,
            "grid_template_rows": null,
            "height": null,
            "justify_content": null,
            "justify_items": null,
            "left": null,
            "margin": null,
            "max_height": null,
            "max_width": null,
            "min_height": null,
            "min_width": null,
            "object_fit": null,
            "object_position": null,
            "order": null,
            "overflow": null,
            "overflow_x": null,
            "overflow_y": null,
            "padding": null,
            "right": null,
            "top": null,
            "visibility": null,
            "width": "67%"
          }
        },
        "b879c1820c6c4505a0ef1574d0d5a0bd": {
          "model_module": "@jupyter-widgets/controls",
          "model_name": "DescriptionStyleModel",
          "model_module_version": "1.5.0",
          "state": {
            "_model_module": "@jupyter-widgets/controls",
            "_model_module_version": "1.5.0",
            "_model_name": "DescriptionStyleModel",
            "_view_count": null,
            "_view_module": "@jupyter-widgets/base",
            "_view_module_version": "1.2.0",
            "_view_name": "StyleView",
            "description_width": "23%"
          }
        },
        "6bd0f073a5ce4ee7a7e3749dc5bd37b6": {
          "model_module": "@jupyter-widgets/controls",
          "model_name": "IntProgressModel",
          "model_module_version": "1.5.0",
          "state": {
            "_dom_classes": [],
            "_model_module": "@jupyter-widgets/controls",
            "_model_module_version": "1.5.0",
            "_model_name": "IntProgressModel",
            "_view_count": null,
            "_view_module": "@jupyter-widgets/controls",
            "_view_module_version": "1.5.0",
            "_view_name": "ProgressView",
            "bar_style": "",
            "description": "Batch 469/469, 60.5s passed",
            "description_tooltip": null,
            "layout": "IPY_MODEL_5644c1590c5c4130a011bc08b02e8d45",
            "max": 469,
            "min": 0,
            "orientation": "horizontal",
            "style": "IPY_MODEL_682a6afd253a402bb6f0f38694761f1a",
            "value": 469
          }
        },
        "5644c1590c5c4130a011bc08b02e8d45": {
          "model_module": "@jupyter-widgets/base",
          "model_name": "LayoutModel",
          "model_module_version": "1.2.0",
          "state": {
            "_model_module": "@jupyter-widgets/base",
            "_model_module_version": "1.2.0",
            "_model_name": "LayoutModel",
            "_view_count": null,
            "_view_module": "@jupyter-widgets/base",
            "_view_module_version": "1.2.0",
            "_view_name": "LayoutView",
            "align_content": null,
            "align_items": null,
            "align_self": null,
            "border": null,
            "bottom": null,
            "display": null,
            "flex": null,
            "flex_flow": null,
            "grid_area": null,
            "grid_auto_columns": null,
            "grid_auto_flow": null,
            "grid_auto_rows": null,
            "grid_column": null,
            "grid_gap": null,
            "grid_row": null,
            "grid_template_areas": null,
            "grid_template_columns": null,
            "grid_template_rows": null,
            "height": null,
            "justify_content": null,
            "justify_items": null,
            "left": null,
            "margin": null,
            "max_height": null,
            "max_width": null,
            "min_height": null,
            "min_width": null,
            "object_fit": null,
            "object_position": null,
            "order": null,
            "overflow": null,
            "overflow_x": null,
            "overflow_y": null,
            "padding": null,
            "right": null,
            "top": null,
            "visibility": null,
            "width": "67%"
          }
        },
        "682a6afd253a402bb6f0f38694761f1a": {
          "model_module": "@jupyter-widgets/controls",
          "model_name": "ProgressStyleModel",
          "model_module_version": "1.5.0",
          "state": {
            "_model_module": "@jupyter-widgets/controls",
            "_model_module_version": "1.5.0",
            "_model_name": "ProgressStyleModel",
            "_view_count": null,
            "_view_module": "@jupyter-widgets/base",
            "_view_module_version": "1.2.0",
            "_view_name": "StyleView",
            "bar_color": null,
            "description_width": "23%"
          }
        },
        "e6c18a6fd44742d68060b5c66e06fcea": {
          "model_module": "@jupyter-widgets/controls",
          "model_name": "HTMLMathModel",
          "model_module_version": "1.5.0",
          "state": {
            "_dom_classes": [],
            "_model_module": "@jupyter-widgets/controls",
            "_model_module_version": "1.5.0",
            "_model_name": "HTMLMathModel",
            "_view_count": null,
            "_view_module": "@jupyter-widgets/controls",
            "_view_module_version": "1.5.0",
            "_view_name": "HTMLMathView",
            "description": "Validation --",
            "description_tooltip": null,
            "layout": "IPY_MODEL_9025ab4139d34f418a60eb869755fb81",
            "placeholder": "HTMLM",
            "style": "IPY_MODEL_b773b7fd008f4ad9b6bbc04d313be037",
            "value": "\tlogit_accuracy: 0.7373;\tfactor_accuracy: 0.8265;"
          }
        },
        "9025ab4139d34f418a60eb869755fb81": {
          "model_module": "@jupyter-widgets/base",
          "model_name": "LayoutModel",
          "model_module_version": "1.2.0",
          "state": {
            "_model_module": "@jupyter-widgets/base",
            "_model_module_version": "1.2.0",
            "_model_name": "LayoutModel",
            "_view_count": null,
            "_view_module": "@jupyter-widgets/base",
            "_view_module_version": "1.2.0",
            "_view_name": "LayoutView",
            "align_content": null,
            "align_items": null,
            "align_self": null,
            "border": null,
            "bottom": null,
            "display": null,
            "flex": null,
            "flex_flow": null,
            "grid_area": null,
            "grid_auto_columns": null,
            "grid_auto_flow": null,
            "grid_auto_rows": null,
            "grid_column": null,
            "grid_gap": null,
            "grid_row": null,
            "grid_template_areas": null,
            "grid_template_columns": null,
            "grid_template_rows": null,
            "height": null,
            "justify_content": null,
            "justify_items": null,
            "left": null,
            "margin": null,
            "max_height": null,
            "max_width": null,
            "min_height": null,
            "min_width": null,
            "object_fit": null,
            "object_position": null,
            "order": null,
            "overflow": null,
            "overflow_x": null,
            "overflow_y": null,
            "padding": null,
            "right": null,
            "top": null,
            "visibility": null,
            "width": "67%"
          }
        },
        "b773b7fd008f4ad9b6bbc04d313be037": {
          "model_module": "@jupyter-widgets/controls",
          "model_name": "DescriptionStyleModel",
          "model_module_version": "1.5.0",
          "state": {
            "_model_module": "@jupyter-widgets/controls",
            "_model_module_version": "1.5.0",
            "_model_name": "DescriptionStyleModel",
            "_view_count": null,
            "_view_module": "@jupyter-widgets/base",
            "_view_module_version": "1.2.0",
            "_view_name": "StyleView",
            "description_width": "23%"
          }
        },
        "dd2a439b74704b8cbe726acf6ba851bf": {
          "model_module": "@jupyter-widgets/controls",
          "model_name": "IntProgressModel",
          "model_module_version": "1.5.0",
          "state": {
            "_dom_classes": [],
            "_model_module": "@jupyter-widgets/controls",
            "_model_module_version": "1.5.0",
            "_model_name": "IntProgressModel",
            "_view_count": null,
            "_view_module": "@jupyter-widgets/controls",
            "_view_module_version": "1.5.0",
            "_view_name": "ProgressView",
            "bar_style": "",
            "description": "Batch 79/79, 2.9s passed",
            "description_tooltip": null,
            "layout": "IPY_MODEL_f50e902f888b45d78b3141bdd930f5af",
            "max": 79,
            "min": 0,
            "orientation": "horizontal",
            "style": "IPY_MODEL_5da3cadf85d147e38ea0465c900604cc",
            "value": 79
          }
        },
        "f50e902f888b45d78b3141bdd930f5af": {
          "model_module": "@jupyter-widgets/base",
          "model_name": "LayoutModel",
          "model_module_version": "1.2.0",
          "state": {
            "_model_module": "@jupyter-widgets/base",
            "_model_module_version": "1.2.0",
            "_model_name": "LayoutModel",
            "_view_count": null,
            "_view_module": "@jupyter-widgets/base",
            "_view_module_version": "1.2.0",
            "_view_name": "LayoutView",
            "align_content": null,
            "align_items": null,
            "align_self": null,
            "border": null,
            "bottom": null,
            "display": null,
            "flex": null,
            "flex_flow": null,
            "grid_area": null,
            "grid_auto_columns": null,
            "grid_auto_flow": null,
            "grid_auto_rows": null,
            "grid_column": null,
            "grid_gap": null,
            "grid_row": null,
            "grid_template_areas": null,
            "grid_template_columns": null,
            "grid_template_rows": null,
            "height": null,
            "justify_content": null,
            "justify_items": null,
            "left": null,
            "margin": null,
            "max_height": null,
            "max_width": null,
            "min_height": null,
            "min_width": null,
            "object_fit": null,
            "object_position": null,
            "order": null,
            "overflow": null,
            "overflow_x": null,
            "overflow_y": null,
            "padding": null,
            "right": null,
            "top": null,
            "visibility": null,
            "width": "67%"
          }
        },
        "5da3cadf85d147e38ea0465c900604cc": {
          "model_module": "@jupyter-widgets/controls",
          "model_name": "ProgressStyleModel",
          "model_module_version": "1.5.0",
          "state": {
            "_model_module": "@jupyter-widgets/controls",
            "_model_module_version": "1.5.0",
            "_model_name": "ProgressStyleModel",
            "_view_count": null,
            "_view_module": "@jupyter-widgets/base",
            "_view_module_version": "1.2.0",
            "_view_name": "StyleView",
            "bar_color": null,
            "description_width": "23%"
          }
        },
        "87ffeff0b6224452963eb337e1693be2": {
          "model_module": "@jupyter-widgets/controls",
          "model_name": "HTMLMathModel",
          "model_module_version": "1.5.0",
          "state": {
            "_dom_classes": [],
            "_model_module": "@jupyter-widgets/controls",
            "_model_module_version": "1.5.0",
            "_model_name": "HTMLMathModel",
            "_view_count": null,
            "_view_module": "@jupyter-widgets/controls",
            "_view_module_version": "1.5.0",
            "_view_name": "HTMLMathView",
            "description": "Validation --",
            "description_tooltip": null,
            "layout": "IPY_MODEL_e6aa0c99c26c42faaba330ffca041843",
            "placeholder": "HTMLM",
            "style": "IPY_MODEL_b46e65e4d92741b6b281911176040002",
            "value": "\tlogit_accuracy: 0.7185;\tfactor_accuracy: 0.8687;"
          }
        },
        "e6aa0c99c26c42faaba330ffca041843": {
          "model_module": "@jupyter-widgets/base",
          "model_name": "LayoutModel",
          "model_module_version": "1.2.0",
          "state": {
            "_model_module": "@jupyter-widgets/base",
            "_model_module_version": "1.2.0",
            "_model_name": "LayoutModel",
            "_view_count": null,
            "_view_module": "@jupyter-widgets/base",
            "_view_module_version": "1.2.0",
            "_view_name": "LayoutView",
            "align_content": null,
            "align_items": null,
            "align_self": null,
            "border": null,
            "bottom": null,
            "display": null,
            "flex": null,
            "flex_flow": null,
            "grid_area": null,
            "grid_auto_columns": null,
            "grid_auto_flow": null,
            "grid_auto_rows": null,
            "grid_column": null,
            "grid_gap": null,
            "grid_row": null,
            "grid_template_areas": null,
            "grid_template_columns": null,
            "grid_template_rows": null,
            "height": null,
            "justify_content": null,
            "justify_items": null,
            "left": null,
            "margin": null,
            "max_height": null,
            "max_width": null,
            "min_height": null,
            "min_width": null,
            "object_fit": null,
            "object_position": null,
            "order": null,
            "overflow": null,
            "overflow_x": null,
            "overflow_y": null,
            "padding": null,
            "right": null,
            "top": null,
            "visibility": null,
            "width": "67%"
          }
        },
        "b46e65e4d92741b6b281911176040002": {
          "model_module": "@jupyter-widgets/controls",
          "model_name": "DescriptionStyleModel",
          "model_module_version": "1.5.0",
          "state": {
            "_model_module": "@jupyter-widgets/controls",
            "_model_module_version": "1.5.0",
            "_model_name": "DescriptionStyleModel",
            "_view_count": null,
            "_view_module": "@jupyter-widgets/base",
            "_view_module_version": "1.2.0",
            "_view_name": "StyleView",
            "description_width": "23%"
          }
        },
        "98e0012b02a84a72bcf0f32b5b51d0ec": {
          "model_module": "@jupyter-widgets/controls",
          "model_name": "IntProgressModel",
          "model_module_version": "1.5.0",
          "state": {
            "_dom_classes": [],
            "_model_module": "@jupyter-widgets/controls",
            "_model_module_version": "1.5.0",
            "_model_name": "IntProgressModel",
            "_view_count": null,
            "_view_module": "@jupyter-widgets/controls",
            "_view_module_version": "1.5.0",
            "_view_name": "ProgressView",
            "bar_style": "",
            "description": "Batch 469/469, 19.3s passed",
            "description_tooltip": null,
            "layout": "IPY_MODEL_f33f61ff8a8b44009137f1ec4e9c0e5d",
            "max": 469,
            "min": 0,
            "orientation": "horizontal",
            "style": "IPY_MODEL_79461bbdc3684ed3ac5fa8547d5b944c",
            "value": 469
          }
        },
        "f33f61ff8a8b44009137f1ec4e9c0e5d": {
          "model_module": "@jupyter-widgets/base",
          "model_name": "LayoutModel",
          "model_module_version": "1.2.0",
          "state": {
            "_model_module": "@jupyter-widgets/base",
            "_model_module_version": "1.2.0",
            "_model_name": "LayoutModel",
            "_view_count": null,
            "_view_module": "@jupyter-widgets/base",
            "_view_module_version": "1.2.0",
            "_view_name": "LayoutView",
            "align_content": null,
            "align_items": null,
            "align_self": null,
            "border": null,
            "bottom": null,
            "display": null,
            "flex": null,
            "flex_flow": null,
            "grid_area": null,
            "grid_auto_columns": null,
            "grid_auto_flow": null,
            "grid_auto_rows": null,
            "grid_column": null,
            "grid_gap": null,
            "grid_row": null,
            "grid_template_areas": null,
            "grid_template_columns": null,
            "grid_template_rows": null,
            "height": null,
            "justify_content": null,
            "justify_items": null,
            "left": null,
            "margin": null,
            "max_height": null,
            "max_width": null,
            "min_height": null,
            "min_width": null,
            "object_fit": null,
            "object_position": null,
            "order": null,
            "overflow": null,
            "overflow_x": null,
            "overflow_y": null,
            "padding": null,
            "right": null,
            "top": null,
            "visibility": null,
            "width": "67%"
          }
        },
        "79461bbdc3684ed3ac5fa8547d5b944c": {
          "model_module": "@jupyter-widgets/controls",
          "model_name": "ProgressStyleModel",
          "model_module_version": "1.5.0",
          "state": {
            "_model_module": "@jupyter-widgets/controls",
            "_model_module_version": "1.5.0",
            "_model_name": "ProgressStyleModel",
            "_view_count": null,
            "_view_module": "@jupyter-widgets/base",
            "_view_module_version": "1.2.0",
            "_view_name": "StyleView",
            "bar_color": null,
            "description_width": "23%"
          }
        },
        "cddbd854137843ff9efdf8e9fcb18fc7": {
          "model_module": "@jupyter-widgets/controls",
          "model_name": "HTMLMathModel",
          "model_module_version": "1.5.0",
          "state": {
            "_dom_classes": [],
            "_model_module": "@jupyter-widgets/controls",
            "_model_module_version": "1.5.0",
            "_model_name": "HTMLMathModel",
            "_view_count": null,
            "_view_module": "@jupyter-widgets/controls",
            "_view_module_version": "1.5.0",
            "_view_name": "HTMLMathView",
            "description": "Validation --",
            "description_tooltip": null,
            "layout": "IPY_MODEL_d2d2213c6b09437fafcb285dfbc94321",
            "placeholder": "HTMLM",
            "style": "IPY_MODEL_905278f7a9eb4d4d8d23c9dfe16d1a98",
            "value": "\tlogit_accuracy: 0.7217;\tfactor_accuracy: 0.8648;"
          }
        },
        "d2d2213c6b09437fafcb285dfbc94321": {
          "model_module": "@jupyter-widgets/base",
          "model_name": "LayoutModel",
          "model_module_version": "1.2.0",
          "state": {
            "_model_module": "@jupyter-widgets/base",
            "_model_module_version": "1.2.0",
            "_model_name": "LayoutModel",
            "_view_count": null,
            "_view_module": "@jupyter-widgets/base",
            "_view_module_version": "1.2.0",
            "_view_name": "LayoutView",
            "align_content": null,
            "align_items": null,
            "align_self": null,
            "border": null,
            "bottom": null,
            "display": null,
            "flex": null,
            "flex_flow": null,
            "grid_area": null,
            "grid_auto_columns": null,
            "grid_auto_flow": null,
            "grid_auto_rows": null,
            "grid_column": null,
            "grid_gap": null,
            "grid_row": null,
            "grid_template_areas": null,
            "grid_template_columns": null,
            "grid_template_rows": null,
            "height": null,
            "justify_content": null,
            "justify_items": null,
            "left": null,
            "margin": null,
            "max_height": null,
            "max_width": null,
            "min_height": null,
            "min_width": null,
            "object_fit": null,
            "object_position": null,
            "order": null,
            "overflow": null,
            "overflow_x": null,
            "overflow_y": null,
            "padding": null,
            "right": null,
            "top": null,
            "visibility": null,
            "width": "67%"
          }
        },
        "905278f7a9eb4d4d8d23c9dfe16d1a98": {
          "model_module": "@jupyter-widgets/controls",
          "model_name": "DescriptionStyleModel",
          "model_module_version": "1.5.0",
          "state": {
            "_model_module": "@jupyter-widgets/controls",
            "_model_module_version": "1.5.0",
            "_model_name": "DescriptionStyleModel",
            "_view_count": null,
            "_view_module": "@jupyter-widgets/base",
            "_view_module_version": "1.2.0",
            "_view_name": "StyleView",
            "description_width": "23%"
          }
        },
        "020dffc28bde400d912ef45edb7b4e6d": {
          "model_module": "@jupyter-widgets/controls",
          "model_name": "IntProgressModel",
          "model_module_version": "1.5.0",
          "state": {
            "_dom_classes": [],
            "_model_module": "@jupyter-widgets/controls",
            "_model_module_version": "1.5.0",
            "_model_name": "IntProgressModel",
            "_view_count": null,
            "_view_module": "@jupyter-widgets/controls",
            "_view_module_version": "1.5.0",
            "_view_name": "ProgressView",
            "bar_style": "",
            "description": "Batch 79/79, 3.3s passed",
            "description_tooltip": null,
            "layout": "IPY_MODEL_9ce84f4acd4e4754aa1bf4a07fb233e9",
            "max": 79,
            "min": 0,
            "orientation": "horizontal",
            "style": "IPY_MODEL_2849d4658b154eb0b78a8bb5d2f358b2",
            "value": 79
          }
        },
        "9ce84f4acd4e4754aa1bf4a07fb233e9": {
          "model_module": "@jupyter-widgets/base",
          "model_name": "LayoutModel",
          "model_module_version": "1.2.0",
          "state": {
            "_model_module": "@jupyter-widgets/base",
            "_model_module_version": "1.2.0",
            "_model_name": "LayoutModel",
            "_view_count": null,
            "_view_module": "@jupyter-widgets/base",
            "_view_module_version": "1.2.0",
            "_view_name": "LayoutView",
            "align_content": null,
            "align_items": null,
            "align_self": null,
            "border": null,
            "bottom": null,
            "display": null,
            "flex": null,
            "flex_flow": null,
            "grid_area": null,
            "grid_auto_columns": null,
            "grid_auto_flow": null,
            "grid_auto_rows": null,
            "grid_column": null,
            "grid_gap": null,
            "grid_row": null,
            "grid_template_areas": null,
            "grid_template_columns": null,
            "grid_template_rows": null,
            "height": null,
            "justify_content": null,
            "justify_items": null,
            "left": null,
            "margin": null,
            "max_height": null,
            "max_width": null,
            "min_height": null,
            "min_width": null,
            "object_fit": null,
            "object_position": null,
            "order": null,
            "overflow": null,
            "overflow_x": null,
            "overflow_y": null,
            "padding": null,
            "right": null,
            "top": null,
            "visibility": null,
            "width": "67%"
          }
        },
        "2849d4658b154eb0b78a8bb5d2f358b2": {
          "model_module": "@jupyter-widgets/controls",
          "model_name": "ProgressStyleModel",
          "model_module_version": "1.5.0",
          "state": {
            "_model_module": "@jupyter-widgets/controls",
            "_model_module_version": "1.5.0",
            "_model_name": "ProgressStyleModel",
            "_view_count": null,
            "_view_module": "@jupyter-widgets/base",
            "_view_module_version": "1.2.0",
            "_view_name": "StyleView",
            "bar_color": null,
            "description_width": "23%"
          }
        },
        "b0486102a5aa4fc481af5a331eb757be": {
          "model_module": "@jupyter-widgets/controls",
          "model_name": "HTMLMathModel",
          "model_module_version": "1.5.0",
          "state": {
            "_dom_classes": [],
            "_model_module": "@jupyter-widgets/controls",
            "_model_module_version": "1.5.0",
            "_model_name": "HTMLMathModel",
            "_view_count": null,
            "_view_module": "@jupyter-widgets/controls",
            "_view_module_version": "1.5.0",
            "_view_name": "HTMLMathView",
            "description": "Validation --",
            "description_tooltip": null,
            "layout": "IPY_MODEL_1c8ec931c56c4bb79a0ed83733bd7f2b",
            "placeholder": "HTMLM",
            "style": "IPY_MODEL_ca1624e9cc904db79df515df6fc9d450",
            "value": "\tlogit_accuracy: 0.7172;\tfactor_accuracy: 0.8180;"
          }
        },
        "1c8ec931c56c4bb79a0ed83733bd7f2b": {
          "model_module": "@jupyter-widgets/base",
          "model_name": "LayoutModel",
          "model_module_version": "1.2.0",
          "state": {
            "_model_module": "@jupyter-widgets/base",
            "_model_module_version": "1.2.0",
            "_model_name": "LayoutModel",
            "_view_count": null,
            "_view_module": "@jupyter-widgets/base",
            "_view_module_version": "1.2.0",
            "_view_name": "LayoutView",
            "align_content": null,
            "align_items": null,
            "align_self": null,
            "border": null,
            "bottom": null,
            "display": null,
            "flex": null,
            "flex_flow": null,
            "grid_area": null,
            "grid_auto_columns": null,
            "grid_auto_flow": null,
            "grid_auto_rows": null,
            "grid_column": null,
            "grid_gap": null,
            "grid_row": null,
            "grid_template_areas": null,
            "grid_template_columns": null,
            "grid_template_rows": null,
            "height": null,
            "justify_content": null,
            "justify_items": null,
            "left": null,
            "margin": null,
            "max_height": null,
            "max_width": null,
            "min_height": null,
            "min_width": null,
            "object_fit": null,
            "object_position": null,
            "order": null,
            "overflow": null,
            "overflow_x": null,
            "overflow_y": null,
            "padding": null,
            "right": null,
            "top": null,
            "visibility": null,
            "width": "67%"
          }
        },
        "ca1624e9cc904db79df515df6fc9d450": {
          "model_module": "@jupyter-widgets/controls",
          "model_name": "DescriptionStyleModel",
          "model_module_version": "1.5.0",
          "state": {
            "_model_module": "@jupyter-widgets/controls",
            "_model_module_version": "1.5.0",
            "_model_name": "DescriptionStyleModel",
            "_view_count": null,
            "_view_module": "@jupyter-widgets/base",
            "_view_module_version": "1.2.0",
            "_view_name": "StyleView",
            "description_width": "23%"
          }
        },
        "041808231bfe433fbd721f4d590f37b1": {
          "model_module": "@jupyter-widgets/controls",
          "model_name": "IntProgressModel",
          "model_module_version": "1.5.0",
          "state": {
            "_dom_classes": [],
            "_model_module": "@jupyter-widgets/controls",
            "_model_module_version": "1.5.0",
            "_model_name": "IntProgressModel",
            "_view_count": null,
            "_view_module": "@jupyter-widgets/controls",
            "_view_module_version": "1.5.0",
            "_view_name": "ProgressView",
            "bar_style": "",
            "description": "Batch 469/469, 19.0s passed",
            "description_tooltip": null,
            "layout": "IPY_MODEL_726f6b8b7f36463f872414b8ed8a07b1",
            "max": 469,
            "min": 0,
            "orientation": "horizontal",
            "style": "IPY_MODEL_e3cdcc2eae9d491f9aadd55df66c61b4",
            "value": 469
          }
        },
        "726f6b8b7f36463f872414b8ed8a07b1": {
          "model_module": "@jupyter-widgets/base",
          "model_name": "LayoutModel",
          "model_module_version": "1.2.0",
          "state": {
            "_model_module": "@jupyter-widgets/base",
            "_model_module_version": "1.2.0",
            "_model_name": "LayoutModel",
            "_view_count": null,
            "_view_module": "@jupyter-widgets/base",
            "_view_module_version": "1.2.0",
            "_view_name": "LayoutView",
            "align_content": null,
            "align_items": null,
            "align_self": null,
            "border": null,
            "bottom": null,
            "display": null,
            "flex": null,
            "flex_flow": null,
            "grid_area": null,
            "grid_auto_columns": null,
            "grid_auto_flow": null,
            "grid_auto_rows": null,
            "grid_column": null,
            "grid_gap": null,
            "grid_row": null,
            "grid_template_areas": null,
            "grid_template_columns": null,
            "grid_template_rows": null,
            "height": null,
            "justify_content": null,
            "justify_items": null,
            "left": null,
            "margin": null,
            "max_height": null,
            "max_width": null,
            "min_height": null,
            "min_width": null,
            "object_fit": null,
            "object_position": null,
            "order": null,
            "overflow": null,
            "overflow_x": null,
            "overflow_y": null,
            "padding": null,
            "right": null,
            "top": null,
            "visibility": null,
            "width": "67%"
          }
        },
        "e3cdcc2eae9d491f9aadd55df66c61b4": {
          "model_module": "@jupyter-widgets/controls",
          "model_name": "ProgressStyleModel",
          "model_module_version": "1.5.0",
          "state": {
            "_model_module": "@jupyter-widgets/controls",
            "_model_module_version": "1.5.0",
            "_model_name": "ProgressStyleModel",
            "_view_count": null,
            "_view_module": "@jupyter-widgets/base",
            "_view_module_version": "1.2.0",
            "_view_name": "StyleView",
            "bar_color": null,
            "description_width": "23%"
          }
        },
        "a2990d0c88f14653816b674d617606ad": {
          "model_module": "@jupyter-widgets/controls",
          "model_name": "HTMLMathModel",
          "model_module_version": "1.5.0",
          "state": {
            "_dom_classes": [],
            "_model_module": "@jupyter-widgets/controls",
            "_model_module_version": "1.5.0",
            "_model_name": "HTMLMathModel",
            "_view_count": null,
            "_view_module": "@jupyter-widgets/controls",
            "_view_module_version": "1.5.0",
            "_view_name": "HTMLMathView",
            "description": "Validation --",
            "description_tooltip": null,
            "layout": "IPY_MODEL_850d8e4de2194fc59e42a57b529b5b5a",
            "placeholder": "HTMLM",
            "style": "IPY_MODEL_10f94a37a03f4e098ea799de715ac804",
            "value": "\tlogit_accuracy: 0.7172;\tfactor_accuracy: 0.8180;"
          }
        },
        "850d8e4de2194fc59e42a57b529b5b5a": {
          "model_module": "@jupyter-widgets/base",
          "model_name": "LayoutModel",
          "model_module_version": "1.2.0",
          "state": {
            "_model_module": "@jupyter-widgets/base",
            "_model_module_version": "1.2.0",
            "_model_name": "LayoutModel",
            "_view_count": null,
            "_view_module": "@jupyter-widgets/base",
            "_view_module_version": "1.2.0",
            "_view_name": "LayoutView",
            "align_content": null,
            "align_items": null,
            "align_self": null,
            "border": null,
            "bottom": null,
            "display": null,
            "flex": null,
            "flex_flow": null,
            "grid_area": null,
            "grid_auto_columns": null,
            "grid_auto_flow": null,
            "grid_auto_rows": null,
            "grid_column": null,
            "grid_gap": null,
            "grid_row": null,
            "grid_template_areas": null,
            "grid_template_columns": null,
            "grid_template_rows": null,
            "height": null,
            "justify_content": null,
            "justify_items": null,
            "left": null,
            "margin": null,
            "max_height": null,
            "max_width": null,
            "min_height": null,
            "min_width": null,
            "object_fit": null,
            "object_position": null,
            "order": null,
            "overflow": null,
            "overflow_x": null,
            "overflow_y": null,
            "padding": null,
            "right": null,
            "top": null,
            "visibility": null,
            "width": "67%"
          }
        },
        "10f94a37a03f4e098ea799de715ac804": {
          "model_module": "@jupyter-widgets/controls",
          "model_name": "DescriptionStyleModel",
          "model_module_version": "1.5.0",
          "state": {
            "_model_module": "@jupyter-widgets/controls",
            "_model_module_version": "1.5.0",
            "_model_name": "DescriptionStyleModel",
            "_view_count": null,
            "_view_module": "@jupyter-widgets/base",
            "_view_module_version": "1.2.0",
            "_view_name": "StyleView",
            "description_width": "23%"
          }
        },
        "1a1d9338a39e47e6878367445c7fe2ad": {
          "model_module": "@jupyter-widgets/controls",
          "model_name": "IntProgressModel",
          "model_module_version": "1.5.0",
          "state": {
            "_dom_classes": [],
            "_model_module": "@jupyter-widgets/controls",
            "_model_module_version": "1.5.0",
            "_model_name": "IntProgressModel",
            "_view_count": null,
            "_view_module": "@jupyter-widgets/controls",
            "_view_module_version": "1.5.0",
            "_view_name": "ProgressView",
            "bar_style": "",
            "description": "Batch 469/469, 20.2s passed",
            "description_tooltip": null,
            "layout": "IPY_MODEL_ad1c645c2a7f4f8d9774f11e7c5bef70",
            "max": 469,
            "min": 0,
            "orientation": "horizontal",
            "style": "IPY_MODEL_dc279746291542f3ae3b40ac72f735ce",
            "value": 469
          }
        },
        "ad1c645c2a7f4f8d9774f11e7c5bef70": {
          "model_module": "@jupyter-widgets/base",
          "model_name": "LayoutModel",
          "model_module_version": "1.2.0",
          "state": {
            "_model_module": "@jupyter-widgets/base",
            "_model_module_version": "1.2.0",
            "_model_name": "LayoutModel",
            "_view_count": null,
            "_view_module": "@jupyter-widgets/base",
            "_view_module_version": "1.2.0",
            "_view_name": "LayoutView",
            "align_content": null,
            "align_items": null,
            "align_self": null,
            "border": null,
            "bottom": null,
            "display": null,
            "flex": null,
            "flex_flow": null,
            "grid_area": null,
            "grid_auto_columns": null,
            "grid_auto_flow": null,
            "grid_auto_rows": null,
            "grid_column": null,
            "grid_gap": null,
            "grid_row": null,
            "grid_template_areas": null,
            "grid_template_columns": null,
            "grid_template_rows": null,
            "height": null,
            "justify_content": null,
            "justify_items": null,
            "left": null,
            "margin": null,
            "max_height": null,
            "max_width": null,
            "min_height": null,
            "min_width": null,
            "object_fit": null,
            "object_position": null,
            "order": null,
            "overflow": null,
            "overflow_x": null,
            "overflow_y": null,
            "padding": null,
            "right": null,
            "top": null,
            "visibility": null,
            "width": "67%"
          }
        },
        "dc279746291542f3ae3b40ac72f735ce": {
          "model_module": "@jupyter-widgets/controls",
          "model_name": "ProgressStyleModel",
          "model_module_version": "1.5.0",
          "state": {
            "_model_module": "@jupyter-widgets/controls",
            "_model_module_version": "1.5.0",
            "_model_name": "ProgressStyleModel",
            "_view_count": null,
            "_view_module": "@jupyter-widgets/base",
            "_view_module_version": "1.2.0",
            "_view_name": "StyleView",
            "bar_color": null,
            "description_width": "23%"
          }
        }
      }
    }
  },
  "nbformat": 4,
  "nbformat_minor": 0
}