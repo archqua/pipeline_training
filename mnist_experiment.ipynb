{
  "nbformat": 4,
  "nbformat_minor": 0,
  "metadata": {
    "colab": {
      "provenance": [],
      "authorship_tag": "ABX9TyNMUuhW8wjSOdyZWNI5/mxP",
      "include_colab_link": true
    },
    "kernelspec": {
      "name": "python3",
      "display_name": "Python 3"
    },
    "language_info": {
      "name": "python"
    },
    "widgets": {
      "application/vnd.jupyter.widget-state+json": {
        "12a9f0e3de3948d4ad46e9f927b96ba0": {
          "model_module": "@jupyter-widgets/controls",
          "model_name": "IntProgressModel",
          "model_module_version": "1.5.0",
          "state": {
            "_dom_classes": [],
            "_model_module": "@jupyter-widgets/controls",
            "_model_module_version": "1.5.0",
            "_model_name": "IntProgressModel",
            "_view_count": null,
            "_view_module": "@jupyter-widgets/controls",
            "_view_module_version": "1.5.0",
            "_view_name": "ProgressView",
            "bar_style": "",
            "description": "5/5 after 434.4s",
            "description_tooltip": null,
            "layout": "IPY_MODEL_d2ea66f0f9e14219b22ab1a4438c4012",
            "max": 5,
            "min": 0,
            "orientation": "horizontal",
            "style": "IPY_MODEL_5ca4f192d1ac46acaa50562929a4b91d",
            "value": 5
          }
        },
        "d2ea66f0f9e14219b22ab1a4438c4012": {
          "model_module": "@jupyter-widgets/base",
          "model_name": "LayoutModel",
          "model_module_version": "1.2.0",
          "state": {
            "_model_module": "@jupyter-widgets/base",
            "_model_module_version": "1.2.0",
            "_model_name": "LayoutModel",
            "_view_count": null,
            "_view_module": "@jupyter-widgets/base",
            "_view_module_version": "1.2.0",
            "_view_name": "LayoutView",
            "align_content": null,
            "align_items": null,
            "align_self": null,
            "border": null,
            "bottom": null,
            "display": null,
            "flex": null,
            "flex_flow": null,
            "grid_area": null,
            "grid_auto_columns": null,
            "grid_auto_flow": null,
            "grid_auto_rows": null,
            "grid_column": null,
            "grid_gap": null,
            "grid_row": null,
            "grid_template_areas": null,
            "grid_template_columns": null,
            "grid_template_rows": null,
            "height": null,
            "justify_content": null,
            "justify_items": null,
            "left": null,
            "margin": null,
            "max_height": null,
            "max_width": null,
            "min_height": null,
            "min_width": null,
            "object_fit": null,
            "object_position": null,
            "order": null,
            "overflow": null,
            "overflow_x": null,
            "overflow_y": null,
            "padding": null,
            "right": null,
            "top": null,
            "visibility": null,
            "width": null
          }
        },
        "5ca4f192d1ac46acaa50562929a4b91d": {
          "model_module": "@jupyter-widgets/controls",
          "model_name": "ProgressStyleModel",
          "model_module_version": "1.5.0",
          "state": {
            "_model_module": "@jupyter-widgets/controls",
            "_model_module_version": "1.5.0",
            "_model_name": "ProgressStyleModel",
            "_view_count": null,
            "_view_module": "@jupyter-widgets/base",
            "_view_module_version": "1.2.0",
            "_view_name": "StyleView",
            "bar_color": null,
            "description_width": "100px"
          }
        },
        "6d260b1663f14a03b37bf6957a5c2c17": {
          "model_module": "@jupyter-widgets/controls",
          "model_name": "IntProgressModel",
          "model_module_version": "1.5.0",
          "state": {
            "_dom_classes": [],
            "_model_module": "@jupyter-widgets/controls",
            "_model_module_version": "1.5.0",
            "_model_name": "IntProgressModel",
            "_view_count": null,
            "_view_module": "@jupyter-widgets/controls",
            "_view_module_version": "1.5.0",
            "_view_name": "ProgressView",
            "bar_style": "",
            "description": "",
            "description_tooltip": null,
            "layout": "IPY_MODEL_e25d88d9d1d849688687592d253cf942",
            "max": 469,
            "min": 0,
            "orientation": "horizontal",
            "style": "IPY_MODEL_27a9d3d7d7ff4393b911520645de69c7",
            "value": 469
          }
        },
        "e25d88d9d1d849688687592d253cf942": {
          "model_module": "@jupyter-widgets/base",
          "model_name": "LayoutModel",
          "model_module_version": "1.2.0",
          "state": {
            "_model_module": "@jupyter-widgets/base",
            "_model_module_version": "1.2.0",
            "_model_name": "LayoutModel",
            "_view_count": null,
            "_view_module": "@jupyter-widgets/base",
            "_view_module_version": "1.2.0",
            "_view_name": "LayoutView",
            "align_content": null,
            "align_items": null,
            "align_self": null,
            "border": null,
            "bottom": null,
            "display": null,
            "flex": null,
            "flex_flow": null,
            "grid_area": null,
            "grid_auto_columns": null,
            "grid_auto_flow": null,
            "grid_auto_rows": null,
            "grid_column": null,
            "grid_gap": null,
            "grid_row": null,
            "grid_template_areas": null,
            "grid_template_columns": null,
            "grid_template_rows": null,
            "height": null,
            "justify_content": null,
            "justify_items": null,
            "left": null,
            "margin": null,
            "max_height": null,
            "max_width": null,
            "min_height": null,
            "min_width": null,
            "object_fit": null,
            "object_position": null,
            "order": null,
            "overflow": null,
            "overflow_x": null,
            "overflow_y": null,
            "padding": null,
            "right": null,
            "top": null,
            "visibility": null,
            "width": null
          }
        },
        "27a9d3d7d7ff4393b911520645de69c7": {
          "model_module": "@jupyter-widgets/controls",
          "model_name": "ProgressStyleModel",
          "model_module_version": "1.5.0",
          "state": {
            "_model_module": "@jupyter-widgets/controls",
            "_model_module_version": "1.5.0",
            "_model_name": "ProgressStyleModel",
            "_view_count": null,
            "_view_module": "@jupyter-widgets/base",
            "_view_module_version": "1.2.0",
            "_view_name": "StyleView",
            "bar_color": null,
            "description_width": ""
          }
        },
        "b65cee3e30d34401b7700ed4e7f2c280": {
          "model_module": "@jupyter-widgets/controls",
          "model_name": "HTMLMathModel",
          "model_module_version": "1.5.0",
          "state": {
            "_dom_classes": [],
            "_model_module": "@jupyter-widgets/controls",
            "_model_module_version": "1.5.0",
            "_model_name": "HTMLMathModel",
            "_view_count": null,
            "_view_module": "@jupyter-widgets/controls",
            "_view_module_version": "1.5.0",
            "_view_name": "HTMLMathView",
            "description": "Epoch 1/5 (train) --",
            "description_tooltip": null,
            "layout": "IPY_MODEL_7b10092583cd4e80b80f8a3b1e5928fb",
            "placeholder": "HTMLM",
            "style": "IPY_MODEL_cf17d390763a49d384ecf48a0d516161",
            "value": "\tlogit_accuracy: 0.5317\tfactor_accuracy: 0.7908"
          }
        },
        "7b10092583cd4e80b80f8a3b1e5928fb": {
          "model_module": "@jupyter-widgets/base",
          "model_name": "LayoutModel",
          "model_module_version": "1.2.0",
          "state": {
            "_model_module": "@jupyter-widgets/base",
            "_model_module_version": "1.2.0",
            "_model_name": "LayoutModel",
            "_view_count": null,
            "_view_module": "@jupyter-widgets/base",
            "_view_module_version": "1.2.0",
            "_view_name": "LayoutView",
            "align_content": null,
            "align_items": null,
            "align_self": null,
            "border": null,
            "bottom": null,
            "display": null,
            "flex": null,
            "flex_flow": null,
            "grid_area": null,
            "grid_auto_columns": null,
            "grid_auto_flow": null,
            "grid_auto_rows": null,
            "grid_column": null,
            "grid_gap": null,
            "grid_row": null,
            "grid_template_areas": null,
            "grid_template_columns": null,
            "grid_template_rows": null,
            "height": null,
            "justify_content": null,
            "justify_items": null,
            "left": null,
            "margin": null,
            "max_height": null,
            "max_width": null,
            "min_height": null,
            "min_width": null,
            "object_fit": null,
            "object_position": null,
            "order": null,
            "overflow": null,
            "overflow_x": null,
            "overflow_y": null,
            "padding": null,
            "right": null,
            "top": null,
            "visibility": null,
            "width": null
          }
        },
        "cf17d390763a49d384ecf48a0d516161": {
          "model_module": "@jupyter-widgets/controls",
          "model_name": "DescriptionStyleModel",
          "model_module_version": "1.5.0",
          "state": {
            "_model_module": "@jupyter-widgets/controls",
            "_model_module_version": "1.5.0",
            "_model_name": "DescriptionStyleModel",
            "_view_count": null,
            "_view_module": "@jupyter-widgets/base",
            "_view_module_version": "1.2.0",
            "_view_name": "StyleView",
            "description_width": "initial"
          }
        },
        "796e7d548a694a47ab81dcabcafc4a68": {
          "model_module": "@jupyter-widgets/controls",
          "model_name": "IntProgressModel",
          "model_module_version": "1.5.0",
          "state": {
            "_dom_classes": [],
            "_model_module": "@jupyter-widgets/controls",
            "_model_module_version": "1.5.0",
            "_model_name": "IntProgressModel",
            "_view_count": null,
            "_view_module": "@jupyter-widgets/controls",
            "_view_module_version": "1.5.0",
            "_view_name": "ProgressView",
            "bar_style": "",
            "description": "",
            "description_tooltip": null,
            "layout": "IPY_MODEL_bd882116390843f29527d36608a15627",
            "max": 469,
            "min": 0,
            "orientation": "horizontal",
            "style": "IPY_MODEL_0e68aeb6bebb46a5a06e167614f514dd",
            "value": 469
          }
        },
        "bd882116390843f29527d36608a15627": {
          "model_module": "@jupyter-widgets/base",
          "model_name": "LayoutModel",
          "model_module_version": "1.2.0",
          "state": {
            "_model_module": "@jupyter-widgets/base",
            "_model_module_version": "1.2.0",
            "_model_name": "LayoutModel",
            "_view_count": null,
            "_view_module": "@jupyter-widgets/base",
            "_view_module_version": "1.2.0",
            "_view_name": "LayoutView",
            "align_content": null,
            "align_items": null,
            "align_self": null,
            "border": null,
            "bottom": null,
            "display": null,
            "flex": null,
            "flex_flow": null,
            "grid_area": null,
            "grid_auto_columns": null,
            "grid_auto_flow": null,
            "grid_auto_rows": null,
            "grid_column": null,
            "grid_gap": null,
            "grid_row": null,
            "grid_template_areas": null,
            "grid_template_columns": null,
            "grid_template_rows": null,
            "height": null,
            "justify_content": null,
            "justify_items": null,
            "left": null,
            "margin": null,
            "max_height": null,
            "max_width": null,
            "min_height": null,
            "min_width": null,
            "object_fit": null,
            "object_position": null,
            "order": null,
            "overflow": null,
            "overflow_x": null,
            "overflow_y": null,
            "padding": null,
            "right": null,
            "top": null,
            "visibility": null,
            "width": null
          }
        },
        "0e68aeb6bebb46a5a06e167614f514dd": {
          "model_module": "@jupyter-widgets/controls",
          "model_name": "ProgressStyleModel",
          "model_module_version": "1.5.0",
          "state": {
            "_model_module": "@jupyter-widgets/controls",
            "_model_module_version": "1.5.0",
            "_model_name": "ProgressStyleModel",
            "_view_count": null,
            "_view_module": "@jupyter-widgets/base",
            "_view_module_version": "1.2.0",
            "_view_name": "StyleView",
            "bar_color": null,
            "description_width": ""
          }
        },
        "00af8bd06abb4e76bfb8ddc9fc0edec1": {
          "model_module": "@jupyter-widgets/controls",
          "model_name": "HTMLMathModel",
          "model_module_version": "1.5.0",
          "state": {
            "_dom_classes": [],
            "_model_module": "@jupyter-widgets/controls",
            "_model_module_version": "1.5.0",
            "_model_name": "HTMLMathModel",
            "_view_count": null,
            "_view_module": "@jupyter-widgets/controls",
            "_view_module_version": "1.5.0",
            "_view_name": "HTMLMathView",
            "description": "Epoch 2/5 (train) --",
            "description_tooltip": null,
            "layout": "IPY_MODEL_0a0ac093a0174b12ad50f4cf78afd182",
            "placeholder": "HTMLM",
            "style": "IPY_MODEL_bda03951c7bb419b899f7d34c51f8b76",
            "value": "\tlogit_accuracy: 0.5287\tfactor_accuracy: 0.8622"
          }
        },
        "0a0ac093a0174b12ad50f4cf78afd182": {
          "model_module": "@jupyter-widgets/base",
          "model_name": "LayoutModel",
          "model_module_version": "1.2.0",
          "state": {
            "_model_module": "@jupyter-widgets/base",
            "_model_module_version": "1.2.0",
            "_model_name": "LayoutModel",
            "_view_count": null,
            "_view_module": "@jupyter-widgets/base",
            "_view_module_version": "1.2.0",
            "_view_name": "LayoutView",
            "align_content": null,
            "align_items": null,
            "align_self": null,
            "border": null,
            "bottom": null,
            "display": null,
            "flex": null,
            "flex_flow": null,
            "grid_area": null,
            "grid_auto_columns": null,
            "grid_auto_flow": null,
            "grid_auto_rows": null,
            "grid_column": null,
            "grid_gap": null,
            "grid_row": null,
            "grid_template_areas": null,
            "grid_template_columns": null,
            "grid_template_rows": null,
            "height": null,
            "justify_content": null,
            "justify_items": null,
            "left": null,
            "margin": null,
            "max_height": null,
            "max_width": null,
            "min_height": null,
            "min_width": null,
            "object_fit": null,
            "object_position": null,
            "order": null,
            "overflow": null,
            "overflow_x": null,
            "overflow_y": null,
            "padding": null,
            "right": null,
            "top": null,
            "visibility": null,
            "width": null
          }
        },
        "bda03951c7bb419b899f7d34c51f8b76": {
          "model_module": "@jupyter-widgets/controls",
          "model_name": "DescriptionStyleModel",
          "model_module_version": "1.5.0",
          "state": {
            "_model_module": "@jupyter-widgets/controls",
            "_model_module_version": "1.5.0",
            "_model_name": "DescriptionStyleModel",
            "_view_count": null,
            "_view_module": "@jupyter-widgets/base",
            "_view_module_version": "1.2.0",
            "_view_name": "StyleView",
            "description_width": "initial"
          }
        },
        "aad3638df76241daadf4dc678aa54510": {
          "model_module": "@jupyter-widgets/controls",
          "model_name": "IntProgressModel",
          "model_module_version": "1.5.0",
          "state": {
            "_dom_classes": [],
            "_model_module": "@jupyter-widgets/controls",
            "_model_module_version": "1.5.0",
            "_model_name": "IntProgressModel",
            "_view_count": null,
            "_view_module": "@jupyter-widgets/controls",
            "_view_module_version": "1.5.0",
            "_view_name": "ProgressView",
            "bar_style": "",
            "description": "",
            "description_tooltip": null,
            "layout": "IPY_MODEL_4b84e685f224463b8f4a94bb4873e78b",
            "max": 469,
            "min": 0,
            "orientation": "horizontal",
            "style": "IPY_MODEL_b8a12feea73f4e91a3a4429a04a101b9",
            "value": 469
          }
        },
        "4b84e685f224463b8f4a94bb4873e78b": {
          "model_module": "@jupyter-widgets/base",
          "model_name": "LayoutModel",
          "model_module_version": "1.2.0",
          "state": {
            "_model_module": "@jupyter-widgets/base",
            "_model_module_version": "1.2.0",
            "_model_name": "LayoutModel",
            "_view_count": null,
            "_view_module": "@jupyter-widgets/base",
            "_view_module_version": "1.2.0",
            "_view_name": "LayoutView",
            "align_content": null,
            "align_items": null,
            "align_self": null,
            "border": null,
            "bottom": null,
            "display": null,
            "flex": null,
            "flex_flow": null,
            "grid_area": null,
            "grid_auto_columns": null,
            "grid_auto_flow": null,
            "grid_auto_rows": null,
            "grid_column": null,
            "grid_gap": null,
            "grid_row": null,
            "grid_template_areas": null,
            "grid_template_columns": null,
            "grid_template_rows": null,
            "height": null,
            "justify_content": null,
            "justify_items": null,
            "left": null,
            "margin": null,
            "max_height": null,
            "max_width": null,
            "min_height": null,
            "min_width": null,
            "object_fit": null,
            "object_position": null,
            "order": null,
            "overflow": null,
            "overflow_x": null,
            "overflow_y": null,
            "padding": null,
            "right": null,
            "top": null,
            "visibility": null,
            "width": null
          }
        },
        "b8a12feea73f4e91a3a4429a04a101b9": {
          "model_module": "@jupyter-widgets/controls",
          "model_name": "ProgressStyleModel",
          "model_module_version": "1.5.0",
          "state": {
            "_model_module": "@jupyter-widgets/controls",
            "_model_module_version": "1.5.0",
            "_model_name": "ProgressStyleModel",
            "_view_count": null,
            "_view_module": "@jupyter-widgets/base",
            "_view_module_version": "1.2.0",
            "_view_name": "StyleView",
            "bar_color": null,
            "description_width": ""
          }
        },
        "bf17ea9ab41046888b07a174ad5b497d": {
          "model_module": "@jupyter-widgets/controls",
          "model_name": "HTMLMathModel",
          "model_module_version": "1.5.0",
          "state": {
            "_dom_classes": [],
            "_model_module": "@jupyter-widgets/controls",
            "_model_module_version": "1.5.0",
            "_model_name": "HTMLMathModel",
            "_view_count": null,
            "_view_module": "@jupyter-widgets/controls",
            "_view_module_version": "1.5.0",
            "_view_name": "HTMLMathView",
            "description": "Epoch 3/5 (train) --",
            "description_tooltip": null,
            "layout": "IPY_MODEL_7f74fbedf3f443019f6fd8042eab136e",
            "placeholder": "HTMLM",
            "style": "IPY_MODEL_5f17f622f0c84fd0b1af497332b4ff50",
            "value": "\tlogit_accuracy: 0.5237\tfactor_accuracy: 0.8814"
          }
        },
        "7f74fbedf3f443019f6fd8042eab136e": {
          "model_module": "@jupyter-widgets/base",
          "model_name": "LayoutModel",
          "model_module_version": "1.2.0",
          "state": {
            "_model_module": "@jupyter-widgets/base",
            "_model_module_version": "1.2.0",
            "_model_name": "LayoutModel",
            "_view_count": null,
            "_view_module": "@jupyter-widgets/base",
            "_view_module_version": "1.2.0",
            "_view_name": "LayoutView",
            "align_content": null,
            "align_items": null,
            "align_self": null,
            "border": null,
            "bottom": null,
            "display": null,
            "flex": null,
            "flex_flow": null,
            "grid_area": null,
            "grid_auto_columns": null,
            "grid_auto_flow": null,
            "grid_auto_rows": null,
            "grid_column": null,
            "grid_gap": null,
            "grid_row": null,
            "grid_template_areas": null,
            "grid_template_columns": null,
            "grid_template_rows": null,
            "height": null,
            "justify_content": null,
            "justify_items": null,
            "left": null,
            "margin": null,
            "max_height": null,
            "max_width": null,
            "min_height": null,
            "min_width": null,
            "object_fit": null,
            "object_position": null,
            "order": null,
            "overflow": null,
            "overflow_x": null,
            "overflow_y": null,
            "padding": null,
            "right": null,
            "top": null,
            "visibility": null,
            "width": null
          }
        },
        "5f17f622f0c84fd0b1af497332b4ff50": {
          "model_module": "@jupyter-widgets/controls",
          "model_name": "DescriptionStyleModel",
          "model_module_version": "1.5.0",
          "state": {
            "_model_module": "@jupyter-widgets/controls",
            "_model_module_version": "1.5.0",
            "_model_name": "DescriptionStyleModel",
            "_view_count": null,
            "_view_module": "@jupyter-widgets/base",
            "_view_module_version": "1.2.0",
            "_view_name": "StyleView",
            "description_width": "initial"
          }
        },
        "ac076043c2d04c1d9148fcdbb2344031": {
          "model_module": "@jupyter-widgets/controls",
          "model_name": "IntProgressModel",
          "model_module_version": "1.5.0",
          "state": {
            "_dom_classes": [],
            "_model_module": "@jupyter-widgets/controls",
            "_model_module_version": "1.5.0",
            "_model_name": "IntProgressModel",
            "_view_count": null,
            "_view_module": "@jupyter-widgets/controls",
            "_view_module_version": "1.5.0",
            "_view_name": "ProgressView",
            "bar_style": "",
            "description": "",
            "description_tooltip": null,
            "layout": "IPY_MODEL_ceeb4115861f4cb1ac2014ea86d4631f",
            "max": 469,
            "min": 0,
            "orientation": "horizontal",
            "style": "IPY_MODEL_2486304d377b4e7ab58459903c2bfdba",
            "value": 469
          }
        },
        "ceeb4115861f4cb1ac2014ea86d4631f": {
          "model_module": "@jupyter-widgets/base",
          "model_name": "LayoutModel",
          "model_module_version": "1.2.0",
          "state": {
            "_model_module": "@jupyter-widgets/base",
            "_model_module_version": "1.2.0",
            "_model_name": "LayoutModel",
            "_view_count": null,
            "_view_module": "@jupyter-widgets/base",
            "_view_module_version": "1.2.0",
            "_view_name": "LayoutView",
            "align_content": null,
            "align_items": null,
            "align_self": null,
            "border": null,
            "bottom": null,
            "display": null,
            "flex": null,
            "flex_flow": null,
            "grid_area": null,
            "grid_auto_columns": null,
            "grid_auto_flow": null,
            "grid_auto_rows": null,
            "grid_column": null,
            "grid_gap": null,
            "grid_row": null,
            "grid_template_areas": null,
            "grid_template_columns": null,
            "grid_template_rows": null,
            "height": null,
            "justify_content": null,
            "justify_items": null,
            "left": null,
            "margin": null,
            "max_height": null,
            "max_width": null,
            "min_height": null,
            "min_width": null,
            "object_fit": null,
            "object_position": null,
            "order": null,
            "overflow": null,
            "overflow_x": null,
            "overflow_y": null,
            "padding": null,
            "right": null,
            "top": null,
            "visibility": null,
            "width": null
          }
        },
        "2486304d377b4e7ab58459903c2bfdba": {
          "model_module": "@jupyter-widgets/controls",
          "model_name": "ProgressStyleModel",
          "model_module_version": "1.5.0",
          "state": {
            "_model_module": "@jupyter-widgets/controls",
            "_model_module_version": "1.5.0",
            "_model_name": "ProgressStyleModel",
            "_view_count": null,
            "_view_module": "@jupyter-widgets/base",
            "_view_module_version": "1.2.0",
            "_view_name": "StyleView",
            "bar_color": null,
            "description_width": ""
          }
        },
        "efdf295df54842a8820f15b554ad32c5": {
          "model_module": "@jupyter-widgets/controls",
          "model_name": "HTMLMathModel",
          "model_module_version": "1.5.0",
          "state": {
            "_dom_classes": [],
            "_model_module": "@jupyter-widgets/controls",
            "_model_module_version": "1.5.0",
            "_model_name": "HTMLMathModel",
            "_view_count": null,
            "_view_module": "@jupyter-widgets/controls",
            "_view_module_version": "1.5.0",
            "_view_name": "HTMLMathView",
            "description": "Epoch 4/5 (train) --",
            "description_tooltip": null,
            "layout": "IPY_MODEL_2b04ec1837ea43f387688aea59fbc6e9",
            "placeholder": "HTMLM",
            "style": "IPY_MODEL_ae39a940ad0b4d7c91032a3b7434bb6a",
            "value": "\tlogit_accuracy: 0.5275\tfactor_accuracy: 0.8972"
          }
        },
        "2b04ec1837ea43f387688aea59fbc6e9": {
          "model_module": "@jupyter-widgets/base",
          "model_name": "LayoutModel",
          "model_module_version": "1.2.0",
          "state": {
            "_model_module": "@jupyter-widgets/base",
            "_model_module_version": "1.2.0",
            "_model_name": "LayoutModel",
            "_view_count": null,
            "_view_module": "@jupyter-widgets/base",
            "_view_module_version": "1.2.0",
            "_view_name": "LayoutView",
            "align_content": null,
            "align_items": null,
            "align_self": null,
            "border": null,
            "bottom": null,
            "display": null,
            "flex": null,
            "flex_flow": null,
            "grid_area": null,
            "grid_auto_columns": null,
            "grid_auto_flow": null,
            "grid_auto_rows": null,
            "grid_column": null,
            "grid_gap": null,
            "grid_row": null,
            "grid_template_areas": null,
            "grid_template_columns": null,
            "grid_template_rows": null,
            "height": null,
            "justify_content": null,
            "justify_items": null,
            "left": null,
            "margin": null,
            "max_height": null,
            "max_width": null,
            "min_height": null,
            "min_width": null,
            "object_fit": null,
            "object_position": null,
            "order": null,
            "overflow": null,
            "overflow_x": null,
            "overflow_y": null,
            "padding": null,
            "right": null,
            "top": null,
            "visibility": null,
            "width": null
          }
        },
        "ae39a940ad0b4d7c91032a3b7434bb6a": {
          "model_module": "@jupyter-widgets/controls",
          "model_name": "DescriptionStyleModel",
          "model_module_version": "1.5.0",
          "state": {
            "_model_module": "@jupyter-widgets/controls",
            "_model_module_version": "1.5.0",
            "_model_name": "DescriptionStyleModel",
            "_view_count": null,
            "_view_module": "@jupyter-widgets/base",
            "_view_module_version": "1.2.0",
            "_view_name": "StyleView",
            "description_width": "initial"
          }
        },
        "58839a3263224b7cbacccd0562a90d25": {
          "model_module": "@jupyter-widgets/controls",
          "model_name": "IntProgressModel",
          "model_module_version": "1.5.0",
          "state": {
            "_dom_classes": [],
            "_model_module": "@jupyter-widgets/controls",
            "_model_module_version": "1.5.0",
            "_model_name": "IntProgressModel",
            "_view_count": null,
            "_view_module": "@jupyter-widgets/controls",
            "_view_module_version": "1.5.0",
            "_view_name": "ProgressView",
            "bar_style": "",
            "description": "",
            "description_tooltip": null,
            "layout": "IPY_MODEL_c6dd2bfaf8424a38a4dc7bd34c4fa597",
            "max": 469,
            "min": 0,
            "orientation": "horizontal",
            "style": "IPY_MODEL_02f82f93a6064b7789a487710fed962a",
            "value": 469
          }
        },
        "c6dd2bfaf8424a38a4dc7bd34c4fa597": {
          "model_module": "@jupyter-widgets/base",
          "model_name": "LayoutModel",
          "model_module_version": "1.2.0",
          "state": {
            "_model_module": "@jupyter-widgets/base",
            "_model_module_version": "1.2.0",
            "_model_name": "LayoutModel",
            "_view_count": null,
            "_view_module": "@jupyter-widgets/base",
            "_view_module_version": "1.2.0",
            "_view_name": "LayoutView",
            "align_content": null,
            "align_items": null,
            "align_self": null,
            "border": null,
            "bottom": null,
            "display": null,
            "flex": null,
            "flex_flow": null,
            "grid_area": null,
            "grid_auto_columns": null,
            "grid_auto_flow": null,
            "grid_auto_rows": null,
            "grid_column": null,
            "grid_gap": null,
            "grid_row": null,
            "grid_template_areas": null,
            "grid_template_columns": null,
            "grid_template_rows": null,
            "height": null,
            "justify_content": null,
            "justify_items": null,
            "left": null,
            "margin": null,
            "max_height": null,
            "max_width": null,
            "min_height": null,
            "min_width": null,
            "object_fit": null,
            "object_position": null,
            "order": null,
            "overflow": null,
            "overflow_x": null,
            "overflow_y": null,
            "padding": null,
            "right": null,
            "top": null,
            "visibility": null,
            "width": null
          }
        },
        "02f82f93a6064b7789a487710fed962a": {
          "model_module": "@jupyter-widgets/controls",
          "model_name": "ProgressStyleModel",
          "model_module_version": "1.5.0",
          "state": {
            "_model_module": "@jupyter-widgets/controls",
            "_model_module_version": "1.5.0",
            "_model_name": "ProgressStyleModel",
            "_view_count": null,
            "_view_module": "@jupyter-widgets/base",
            "_view_module_version": "1.2.0",
            "_view_name": "StyleView",
            "bar_color": null,
            "description_width": ""
          }
        },
        "76b00289a3d74b4da8b4b428ebd915c7": {
          "model_module": "@jupyter-widgets/controls",
          "model_name": "HTMLMathModel",
          "model_module_version": "1.5.0",
          "state": {
            "_dom_classes": [],
            "_model_module": "@jupyter-widgets/controls",
            "_model_module_version": "1.5.0",
            "_model_name": "HTMLMathModel",
            "_view_count": null,
            "_view_module": "@jupyter-widgets/controls",
            "_view_module_version": "1.5.0",
            "_view_name": "HTMLMathView",
            "description": "Epoch 5/5 (train) --",
            "description_tooltip": null,
            "layout": "IPY_MODEL_dadfde55c99d44b48514417a7d2b43f2",
            "placeholder": "HTMLM",
            "style": "IPY_MODEL_074f654f998f4bc5a25406c0b981ec62",
            "value": "\tlogit_accuracy: 0.5275\tfactor_accuracy: 0.9030"
          }
        },
        "dadfde55c99d44b48514417a7d2b43f2": {
          "model_module": "@jupyter-widgets/base",
          "model_name": "LayoutModel",
          "model_module_version": "1.2.0",
          "state": {
            "_model_module": "@jupyter-widgets/base",
            "_model_module_version": "1.2.0",
            "_model_name": "LayoutModel",
            "_view_count": null,
            "_view_module": "@jupyter-widgets/base",
            "_view_module_version": "1.2.0",
            "_view_name": "LayoutView",
            "align_content": null,
            "align_items": null,
            "align_self": null,
            "border": null,
            "bottom": null,
            "display": null,
            "flex": null,
            "flex_flow": null,
            "grid_area": null,
            "grid_auto_columns": null,
            "grid_auto_flow": null,
            "grid_auto_rows": null,
            "grid_column": null,
            "grid_gap": null,
            "grid_row": null,
            "grid_template_areas": null,
            "grid_template_columns": null,
            "grid_template_rows": null,
            "height": null,
            "justify_content": null,
            "justify_items": null,
            "left": null,
            "margin": null,
            "max_height": null,
            "max_width": null,
            "min_height": null,
            "min_width": null,
            "object_fit": null,
            "object_position": null,
            "order": null,
            "overflow": null,
            "overflow_x": null,
            "overflow_y": null,
            "padding": null,
            "right": null,
            "top": null,
            "visibility": null,
            "width": null
          }
        },
        "074f654f998f4bc5a25406c0b981ec62": {
          "model_module": "@jupyter-widgets/controls",
          "model_name": "DescriptionStyleModel",
          "model_module_version": "1.5.0",
          "state": {
            "_model_module": "@jupyter-widgets/controls",
            "_model_module_version": "1.5.0",
            "_model_name": "DescriptionStyleModel",
            "_view_count": null,
            "_view_module": "@jupyter-widgets/base",
            "_view_module_version": "1.2.0",
            "_view_name": "StyleView",
            "description_width": "initial"
          }
        }
      }
    }
  },
  "cells": [
    {
      "cell_type": "markdown",
      "metadata": {
        "id": "view-in-github",
        "colab_type": "text"
      },
      "source": [
        "<a href=\"https://colab.research.google.com/github/archqua/pipeline_training/blob/master/mnist_experiment.ipynb\" target=\"_parent\"><img src=\"https://colab.research.google.com/assets/colab-badge.svg\" alt=\"Open In Colab\"/></a>"
      ]
    },
    {
      "cell_type": "code",
      "source": [],
      "metadata": {
        "id": "OZMhanU3jiaM"
      },
      "execution_count": null,
      "outputs": []
    },
    {
      "cell_type": "code",
      "source": [
        "parameters = dict(\n",
        "    seed  = 12309,\n",
        "    batch = 128,\n",
        "    metrics = [\"accuracy\",],\n",
        "    drift = \"flip\",\n",
        "    alg = \"greedy\",\n",
        ")\n",
        "for p in parameters:\n",
        "    if p not in locals():\n",
        "        v = parameters[p]\n",
        "        if isinstance(v, str):\n",
        "            exec(f\"{p} = '{v}'\")\n",
        "        else:\n",
        "            exec(f\"{p} = {v}\")\n"
      ],
      "metadata": {
        "id": "5gUZQMp_P7QE"
      },
      "execution_count": 1,
      "outputs": []
    },
    {
      "cell_type": "code",
      "execution_count": 2,
      "metadata": {
        "id": "qorioEycH-oF"
      },
      "outputs": [],
      "source": [
        "import tensorflow as tf\n",
        "from tensorflow.keras import datasets, layers, models\n",
        "\n",
        "tf.random.set_seed(seed)\n"
      ]
    },
    {
      "cell_type": "code",
      "source": [
        "def printeval(evvals, evkeys=[\"loss\"] + metrics):\n",
        "    for k, v in zip(evkeys, evvals):\n",
        "        print(f\"{k}:\\t{v:.4f}\")\n",
        "\n",
        "def flipaug(img, lbl):\n",
        "    return tf.image.random_flip_left_right(img), lbl\n",
        "\n",
        "\n",
        "def drifted(dataset, seed=seed, drift=drift):\n",
        "    drift = drift.lower()\n",
        "    if drift == \"flip\":\n",
        "        return dataset.map(flipaug)\n",
        "    else:\n",
        "        raise ValueError(f\"Drift {drift} is unknown\")\n"
      ],
      "metadata": {
        "id": "y1-z_Du2YLW9"
      },
      "execution_count": 3,
      "outputs": []
    },
    {
      "cell_type": "code",
      "source": [
        "mnist = datasets.mnist\n",
        "\n",
        "Xy_train, Xy_val = mnist.load_data()\n",
        "def mapimg(img, label):\n",
        "    return tf.image.convert_image_dtype(img, dtype=tf.float32), label\n",
        "\n",
        "train_ref = (\n",
        "    tf.data.Dataset.from_tensor_slices(Xy_train)\n",
        "    .shuffle(Xy_train[0].shape[0])\n",
        "    .batch(batch)\n",
        "    .map(mapimg)\n",
        ")\n",
        "val_ref = (\n",
        "    tf.data.Dataset.from_tensor_slices(Xy_val)\n",
        "    .shuffle(Xy_val[0].shape[0])\n",
        "    .batch(batch)\n",
        "    .map(mapimg)\n",
        ")\n",
        "train_drifted = drifted(train_ref)\n",
        "val_drifted = drifted(val_ref)\n"
      ],
      "metadata": {
        "id": "-pi_Y9rlJURe"
      },
      "execution_count": 4,
      "outputs": []
    },
    {
      "cell_type": "code",
      "source": [
        "def greedy_loss_fn(\n",
        "    model,\n",
        "    loss=tf.keras.losses.SparseCategoricalCrossentropy(from_logits=True),\n",
        "    patience=None,\n",
        "    factoring_layer=\"factor\",\n",
        "):\n",
        "    factoring_layer = model.get_layer(factoring_layer)\n",
        "    def wrapped(trg, logits):\n",
        "        inferred_lbls, miss_mask, diff_mask = factoring_layer.greedy_lblprop(\n",
        "            tf.stop_gradient(logits), trg, patience=patience,\n",
        "        )\n",
        "        match_mask = ~miss_mask\n",
        "        return loss(\n",
        "            tf.boolean_mask(inferred_lbls, match_mask),\n",
        "            tf.boolean_mask(logits, match_mask),\n",
        "        )\n",
        "    return wrapped\n",
        "\n",
        "class Factor(layers.Layer):\n",
        "    def __init__(self, base=2, patience=1, name=None):\n",
        "        super().__init__(name=name)\n",
        "        self.base = tf.constant(base, dtype=tf.int32, shape=())\n",
        "        self.patience = patience\n",
        "\n",
        "    def call(self, logits):\n",
        "        return self.factor(tf.argmax(logits, axis=-1))\n",
        "\n",
        "    def factor(self, labels):\n",
        "        return tf.cast(tf.keras.ops.mod(labels, self.base), tf.int32)\n",
        "\n",
        "    def refactor(self, logits, miss_mask, ninf=-1.0e+06):\n",
        "        am = tf.argmax(logits, axis=-1, output_type=tf.int32)\n",
        "        mask = am[:, tf.newaxis] == tf.range(logits.shape[-1], dtype=tf.int32)[tf.newaxis, :]\n",
        "        mask &= miss_mask[:, tf.newaxis]\n",
        "        logits = tf.where(mask, ninf, logits)\n",
        "        return self(logits), logits\n",
        "\n",
        "    def greedy_lblprop(self, logits, trg, patience=None):\n",
        "        # this line is entirely to satisfy tf static checker\n",
        "        trg = tf.cast(trg, tf.int32)\n",
        "        if patience is None:\n",
        "            patience = self.patience\n",
        "        assert patience >= 0, f\"for greedy label propagation specify patience >= 0, not {patience}\"\n",
        "        guess = self(logits)\n",
        "        first_miss_mask = guess != trg\n",
        "        miss_mask = first_miss_mask\n",
        "        # this implementation is suboptimal\n",
        "        # because it recomputes good values\n",
        "        for d in range(patience):\n",
        "            guess, logits = self.refactor(logits, miss_mask)\n",
        "            miss_mask = guess != trg\n",
        "        diff_mask = first_miss_mask ^ miss_mask\n",
        "        # we could smooth over miss_mask, not simply argmax\n",
        "        return tf.argmax(logits, axis=-1, output_type=tf.int32), miss_mask, diff_mask\n",
        "\n",
        "# input\n",
        "inp = tf.keras.Input((28, 28, 1), name=\"img\")\n",
        "# cnn\n",
        "cnn = tf.keras.Sequential([\n",
        "    layers.InputLayer((28, 28, 1), name=\"inp\"),\n",
        "    layers.Conv2D(2, (5, 5), activation='relu', name=\"conv1\"),\n",
        "    layers.MaxPooling2D((2, 2), name=\"pool1\"),\n",
        "    layers.Conv2D(4, (5, 5), activation='relu', name=\"conv2\"),\n",
        "    layers.MaxPooling2D((2, 2), name=\"pool2\"),\n",
        "    layers.Conv2D(10, (4, 4), activation='relu', name=\"conv3\"),\n",
        "    layers.Flatten(name=\"flatten\"),\n",
        "    layers.Dense(10, name=\"logit\"),\n",
        "], name=\"logit\")\n",
        "# outputs\n",
        "logit = cnn(inp)\n",
        "factor = Factor(base=2, name=\"factor\")(logit)\n",
        "\n",
        "pp = tf.keras.Model(inp, [factor, logit], name=\"Pipeline\")\n",
        "pp.summary()\n",
        "\n"
      ],
      "metadata": {
        "colab": {
          "base_uri": "https://localhost:8080/",
          "height": 225
        },
        "id": "oK9qdgVSLLLK",
        "outputId": "b7df09f1-c493-40c6-c524-b42bce64c830"
      },
      "execution_count": 5,
      "outputs": [
        {
          "output_type": "display_data",
          "data": {
            "text/plain": [
              "\u001b[1mModel: \"Pipeline\"\u001b[0m\n"
            ],
            "text/html": [
              "<pre style=\"white-space:pre;overflow-x:auto;line-height:normal;font-family:Menlo,'DejaVu Sans Mono',consolas,'Courier New',monospace\"><span style=\"font-weight: bold\">Model: \"Pipeline\"</span>\n",
              "</pre>\n"
            ]
          },
          "metadata": {}
        },
        {
          "output_type": "display_data",
          "data": {
            "text/plain": [
              "┏━━━━━━━━━━━━━━━━━━━━━━━━━━━━━━━━━━━━━━┳━━━━━━━━━━━━━━━━━━━━━━━━━━━━━┳━━━━━━━━━━━━━━━━━┓\n",
              "┃\u001b[1m \u001b[0m\u001b[1mLayer (type)                        \u001b[0m\u001b[1m \u001b[0m┃\u001b[1m \u001b[0m\u001b[1mOutput Shape               \u001b[0m\u001b[1m \u001b[0m┃\u001b[1m \u001b[0m\u001b[1m        Param #\u001b[0m\u001b[1m \u001b[0m┃\n",
              "┡━━━━━━━━━━━━━━━━━━━━━━━━━━━━━━━━━━━━━━╇━━━━━━━━━━━━━━━━━━━━━━━━━━━━━╇━━━━━━━━━━━━━━━━━┩\n",
              "│ img (\u001b[38;5;33mInputLayer\u001b[0m)                     │ (\u001b[38;5;45mNone\u001b[0m, \u001b[38;5;34m28\u001b[0m, \u001b[38;5;34m28\u001b[0m, \u001b[38;5;34m1\u001b[0m)           │               \u001b[38;5;34m0\u001b[0m │\n",
              "├──────────────────────────────────────┼─────────────────────────────┼─────────────────┤\n",
              "│ logit (\u001b[38;5;33mSequential\u001b[0m)                   │ (\u001b[38;5;45mNone\u001b[0m, \u001b[38;5;34m10\u001b[0m)                  │           \u001b[38;5;34m1,016\u001b[0m │\n",
              "├──────────────────────────────────────┼─────────────────────────────┼─────────────────┤\n",
              "│ factor (\u001b[38;5;33mFactor\u001b[0m)                      │ (\u001b[38;5;45mNone\u001b[0m)                      │               \u001b[38;5;34m0\u001b[0m │\n",
              "└──────────────────────────────────────┴─────────────────────────────┴─────────────────┘\n"
            ],
            "text/html": [
              "<pre style=\"white-space:pre;overflow-x:auto;line-height:normal;font-family:Menlo,'DejaVu Sans Mono',consolas,'Courier New',monospace\">┏━━━━━━━━━━━━━━━━━━━━━━━━━━━━━━━━━━━━━━┳━━━━━━━━━━━━━━━━━━━━━━━━━━━━━┳━━━━━━━━━━━━━━━━━┓\n",
              "┃<span style=\"font-weight: bold\"> Layer (type)                         </span>┃<span style=\"font-weight: bold\"> Output Shape                </span>┃<span style=\"font-weight: bold\">         Param # </span>┃\n",
              "┡━━━━━━━━━━━━━━━━━━━━━━━━━━━━━━━━━━━━━━╇━━━━━━━━━━━━━━━━━━━━━━━━━━━━━╇━━━━━━━━━━━━━━━━━┩\n",
              "│ img (<span style=\"color: #0087ff; text-decoration-color: #0087ff\">InputLayer</span>)                     │ (<span style=\"color: #00d7ff; text-decoration-color: #00d7ff\">None</span>, <span style=\"color: #00af00; text-decoration-color: #00af00\">28</span>, <span style=\"color: #00af00; text-decoration-color: #00af00\">28</span>, <span style=\"color: #00af00; text-decoration-color: #00af00\">1</span>)           │               <span style=\"color: #00af00; text-decoration-color: #00af00\">0</span> │\n",
              "├──────────────────────────────────────┼─────────────────────────────┼─────────────────┤\n",
              "│ logit (<span style=\"color: #0087ff; text-decoration-color: #0087ff\">Sequential</span>)                   │ (<span style=\"color: #00d7ff; text-decoration-color: #00d7ff\">None</span>, <span style=\"color: #00af00; text-decoration-color: #00af00\">10</span>)                  │           <span style=\"color: #00af00; text-decoration-color: #00af00\">1,016</span> │\n",
              "├──────────────────────────────────────┼─────────────────────────────┼─────────────────┤\n",
              "│ factor (<span style=\"color: #0087ff; text-decoration-color: #0087ff\">Factor</span>)                      │ (<span style=\"color: #00d7ff; text-decoration-color: #00d7ff\">None</span>)                      │               <span style=\"color: #00af00; text-decoration-color: #00af00\">0</span> │\n",
              "└──────────────────────────────────────┴─────────────────────────────┴─────────────────┘\n",
              "</pre>\n"
            ]
          },
          "metadata": {}
        },
        {
          "output_type": "display_data",
          "data": {
            "text/plain": [
              "\u001b[1m Total params: \u001b[0m\u001b[38;5;34m1,016\u001b[0m (3.97 KB)\n"
            ],
            "text/html": [
              "<pre style=\"white-space:pre;overflow-x:auto;line-height:normal;font-family:Menlo,'DejaVu Sans Mono',consolas,'Courier New',monospace\"><span style=\"font-weight: bold\"> Total params: </span><span style=\"color: #00af00; text-decoration-color: #00af00\">1,016</span> (3.97 KB)\n",
              "</pre>\n"
            ]
          },
          "metadata": {}
        },
        {
          "output_type": "display_data",
          "data": {
            "text/plain": [
              "\u001b[1m Trainable params: \u001b[0m\u001b[38;5;34m1,016\u001b[0m (3.97 KB)\n"
            ],
            "text/html": [
              "<pre style=\"white-space:pre;overflow-x:auto;line-height:normal;font-family:Menlo,'DejaVu Sans Mono',consolas,'Courier New',monospace\"><span style=\"font-weight: bold\"> Trainable params: </span><span style=\"color: #00af00; text-decoration-color: #00af00\">1,016</span> (3.97 KB)\n",
              "</pre>\n"
            ]
          },
          "metadata": {}
        },
        {
          "output_type": "display_data",
          "data": {
            "text/plain": [
              "\u001b[1m Non-trainable params: \u001b[0m\u001b[38;5;34m0\u001b[0m (0.00 B)\n"
            ],
            "text/html": [
              "<pre style=\"white-space:pre;overflow-x:auto;line-height:normal;font-family:Menlo,'DejaVu Sans Mono',consolas,'Courier New',monospace\"><span style=\"font-weight: bold\"> Non-trainable params: </span><span style=\"color: #00af00; text-decoration-color: #00af00\">0</span> (0.00 B)\n",
              "</pre>\n"
            ]
          },
          "metadata": {}
        }
      ]
    },
    {
      "cell_type": "code",
      "source": [
        "def factor_labels(model, factoring_layer=\"factor\", duplicate=True):\n",
        "    factoring_layer = model.get_layer(factoring_layer)\n",
        "    # @tf.function\n",
        "    def wrapped(img, lbl):\n",
        "        if duplicate:\n",
        "            return img, factoring_layer.factor(lbl), lbl\n",
        "        return img, factoring_layer.factor(lbl)\n",
        "    return wrapped\n",
        "\n",
        "train_drifted_factored = train_drifted.map(factor_labels(pp))\n",
        "val_drifted_factored = val_drifted.map(factor_labels(pp))\n"
      ],
      "metadata": {
        "id": "1dK7zkxrJa6_"
      },
      "execution_count": 6,
      "outputs": []
    },
    {
      "cell_type": "code",
      "source": [
        "pp.get_layer(\"logit\").compile(\n",
        "    optimizer=\"adam\",\n",
        "    loss=tf.keras.losses.SparseCategoricalCrossentropy(from_logits=True),\n",
        "    metrics=metrics,\n",
        ")\n",
        "pp.get_layer(\"logit\").fit(\n",
        "    train_ref, epochs=1,\n",
        "    validation_data=val_ref,\n",
        ")\n",
        "printeval(pp.get_layer(\"logit\").evaluate(val_ref))\n"
      ],
      "metadata": {
        "colab": {
          "base_uri": "https://localhost:8080/"
        },
        "id": "Ty-S48ohuumj",
        "outputId": "275731f0-a269-46de-ebde-3c3ff07c52ce"
      },
      "execution_count": 7,
      "outputs": [
        {
          "output_type": "stream",
          "name": "stdout",
          "text": [
            "\u001b[1m469/469\u001b[0m \u001b[32m━━━━━━━━━━━━━━━━━━━━\u001b[0m\u001b[37m\u001b[0m \u001b[1m31s\u001b[0m 57ms/step - accuracy: 0.4529 - loss: 1.5859 - val_accuracy: 0.8418 - val_loss: 0.4952\n",
            "\u001b[1m79/79\u001b[0m \u001b[32m━━━━━━━━━━━━━━━━━━━━\u001b[0m\u001b[37m\u001b[0m \u001b[1m1s\u001b[0m 15ms/step - accuracy: 0.8416 - loss: 0.4910\n",
            "loss:\t0.4952\n",
            "accuracy:\t0.8418\n"
          ]
        }
      ]
    },
    {
      "cell_type": "code",
      "source": [
        "printeval(pp.get_layer(\"logit\").evaluate(val_drifted))"
      ],
      "metadata": {
        "colab": {
          "base_uri": "https://localhost:8080/"
        },
        "id": "vu4Cew8dv3Zw",
        "outputId": "bde477a4-aa8a-4c2d-f7a1-20845e21c352"
      },
      "execution_count": 8,
      "outputs": [
        {
          "output_type": "stream",
          "name": "stdout",
          "text": [
            "\u001b[1m79/79\u001b[0m \u001b[32m━━━━━━━━━━━━━━━━━━━━\u001b[0m\u001b[37m\u001b[0m \u001b[1m1s\u001b[0m 15ms/step - accuracy: 0.5749 - loss: 2.2798\n",
            "loss:\t2.3525\n",
            "accuracy:\t0.5637\n"
          ]
        }
      ]
    },
    {
      "cell_type": "code",
      "source": [
        "from types import NoneType\n",
        "import ipywidgets as widgets\n",
        "from IPython.display import display\n",
        "import time\n",
        "\n",
        "def pipeline_train_loop(\n",
        "    pipeline,\n",
        "    train_dataset,\n",
        "    optimizer,\n",
        "    loss=tf.keras.losses.SparseCategoricalCrossentropy(from_logits=True),\n",
        "    metrics=metrics,\n",
        "    epochs=1,\n",
        "    val_dataset=None,\n",
        "    early_stopping_rounds=None,\n",
        "    use_tqdm=True,\n",
        "):\n",
        "    Metrics = {\"logit\": [], \"factor\": []}\n",
        "    for m in metrics:\n",
        "        for k in Metrics:\n",
        "            Metrics[k].append(tf.keras.metrics.get(m.capitalize()))\n",
        "    def smetrics() -> str:\n",
        "        res = \"\"\n",
        "        for k in Metrics:\n",
        "            for M in Metrics[k]:\n",
        "                res += f\"\\t{k}_{M.name}: {M.result():.4f}\"\n",
        "        return res\n",
        "    total_progress = widgets.IntProgress(\n",
        "        value=0, min=0, max=epochs,\n",
        "        description=f\"0/{epochs} after 0.0s\",\n",
        "        style={\"description_width\": \"100px\"},\n",
        "    )\n",
        "    display(total_progress)\n",
        "    start_time = time.time()\n",
        "    passed = 0.0\n",
        "    def sdesc(ep):\n",
        "        return f\"{ep}/{epochs} after {passed:.1f}s\"\n",
        "    for e in range(epochs):\n",
        "        try:\n",
        "            dsl = len(train_dataset)\n",
        "        except:\n",
        "            dsl = NoneType\n",
        "        epoch_progress = widgets.IntProgress(\n",
        "            value=0, min=0, max=dsl,\n",
        "        )\n",
        "        display(epoch_progress)\n",
        "        for k in Metrics:\n",
        "            for M in Metrics[k]:\n",
        "                M.reset_state()\n",
        "        metrics_html = widgets.HTMLMath(\n",
        "            value = smetrics(),\n",
        "            placeholder=\"HTMLM\",\n",
        "            description=f\"Epoch {e+1}/{epochs} (train) --\",\n",
        "            style = {\"description_width\": \"initial\"},\n",
        "            # layout={\"width\": \"1000px\"},\n",
        "        )\n",
        "        display(metrics_html)\n",
        "        for data in train_dataset:\n",
        "            # training step begin\n",
        "            img, trg, lbl = data\n",
        "            with tf.GradientTape() as tape:\n",
        "                factors, logits = pipeline(img, training=True)\n",
        "\n",
        "                loss_value = greedy_loss_fn(pipeline)(trg, logits)\n",
        "                for M in Metrics[\"logit\"]:\n",
        "                    M.update_state(lbl, tf.argmax(logits, axis=-1))\n",
        "                for M in Metrics[\"factor\"]:\n",
        "                    M.update_state(trg, factors)\n",
        "\n",
        "            grads = tape.gradient(loss_value, pipeline.trainable_weights)\n",
        "\n",
        "            optimizer.apply_gradients(zip(grads, pipeline.trainable_weights))\n",
        "\n",
        "            # training step end\n",
        "            metrics_html.value = smetrics()\n",
        "            passed = time.time() - start_time\n",
        "            total_progress.description = sdesc(e)\n",
        "            epoch_progress.value += 1\n",
        "        if val_dataset is not None:\n",
        "            for k in Metrics:\n",
        "                for M in Metrics[k]:\n",
        "                    M.reset_state()\n",
        "            for data in val_dataset:\n",
        "                # training step begin\n",
        "                img, trg, lbl = data\n",
        "                factors, logits = pipeline(img, training=True)\n",
        "                for M in Metrics[\"logit\"]:\n",
        "                    M.update_state(lbl, tf.argmax(logits, axis=-1))\n",
        "                for M in Metrics[\"factor\"]:\n",
        "                    M.update_state(trg, factors)\n",
        "            print(f\"Validation: {smetrics()}\")\n",
        "\n",
        "\n",
        "        passed = time.time() - start_time\n",
        "        total_progress.description = sdesc(epochs)\n",
        "        total_progress.value += 1\n",
        "\n",
        "def pipeline_eval_loop(\n",
        "    pipeline,\n",
        "    val_dataset,\n",
        "    loss,\n",
        "    metrics,\n",
        "    use_tqdm=True,\n",
        "):\n",
        "    pass\n"
      ],
      "metadata": {
        "id": "v65Td8UtxyuJ"
      },
      "execution_count": 9,
      "outputs": []
    },
    {
      "cell_type": "code",
      "source": [
        "pipeline_train_loop(\n",
        "    pp,\n",
        "    train_drifted_factored,\n",
        "    val_dataset=val_drifted_factored,\n",
        "    optimizer=tf.keras.optimizers.Adam(),\n",
        "    epochs=5,\n",
        ")"
      ],
      "metadata": {
        "colab": {
          "base_uri": "https://localhost:8080/",
          "height": 444,
          "referenced_widgets": [
            "12a9f0e3de3948d4ad46e9f927b96ba0",
            "d2ea66f0f9e14219b22ab1a4438c4012",
            "5ca4f192d1ac46acaa50562929a4b91d",
            "6d260b1663f14a03b37bf6957a5c2c17",
            "e25d88d9d1d849688687592d253cf942",
            "27a9d3d7d7ff4393b911520645de69c7",
            "b65cee3e30d34401b7700ed4e7f2c280",
            "7b10092583cd4e80b80f8a3b1e5928fb",
            "cf17d390763a49d384ecf48a0d516161",
            "796e7d548a694a47ab81dcabcafc4a68",
            "bd882116390843f29527d36608a15627",
            "0e68aeb6bebb46a5a06e167614f514dd",
            "00af8bd06abb4e76bfb8ddc9fc0edec1",
            "0a0ac093a0174b12ad50f4cf78afd182",
            "bda03951c7bb419b899f7d34c51f8b76",
            "aad3638df76241daadf4dc678aa54510",
            "4b84e685f224463b8f4a94bb4873e78b",
            "b8a12feea73f4e91a3a4429a04a101b9",
            "bf17ea9ab41046888b07a174ad5b497d",
            "7f74fbedf3f443019f6fd8042eab136e",
            "5f17f622f0c84fd0b1af497332b4ff50",
            "ac076043c2d04c1d9148fcdbb2344031",
            "ceeb4115861f4cb1ac2014ea86d4631f",
            "2486304d377b4e7ab58459903c2bfdba",
            "efdf295df54842a8820f15b554ad32c5",
            "2b04ec1837ea43f387688aea59fbc6e9",
            "ae39a940ad0b4d7c91032a3b7434bb6a",
            "58839a3263224b7cbacccd0562a90d25",
            "c6dd2bfaf8424a38a4dc7bd34c4fa597",
            "02f82f93a6064b7789a487710fed962a",
            "76b00289a3d74b4da8b4b428ebd915c7",
            "dadfde55c99d44b48514417a7d2b43f2",
            "074f654f998f4bc5a25406c0b981ec62"
          ]
        },
        "id": "FtHUtr08oFpd",
        "outputId": "e94e0a2c-7901-450a-c216-e58f3b88e30d"
      },
      "execution_count": 10,
      "outputs": [
        {
          "output_type": "display_data",
          "data": {
            "text/plain": [
              "IntProgress(value=0, description='0/5 after 0.0s', max=5, style=ProgressStyle(description_width='100px'))"
            ],
            "application/vnd.jupyter.widget-view+json": {
              "version_major": 2,
              "version_minor": 0,
              "model_id": "12a9f0e3de3948d4ad46e9f927b96ba0"
            }
          },
          "metadata": {}
        },
        {
          "output_type": "display_data",
          "data": {
            "text/plain": [
              "IntProgress(value=0, max=469)"
            ],
            "application/vnd.jupyter.widget-view+json": {
              "version_major": 2,
              "version_minor": 0,
              "model_id": "6d260b1663f14a03b37bf6957a5c2c17"
            }
          },
          "metadata": {}
        },
        {
          "output_type": "display_data",
          "data": {
            "text/plain": [
              "HTMLMath(value='\\tlogit_accuracy: 0.0000\\tfactor_accuracy: 0.0000', description='Epoch 1/5 (train) --', placeh…"
            ],
            "application/vnd.jupyter.widget-view+json": {
              "version_major": 2,
              "version_minor": 0,
              "model_id": "b65cee3e30d34401b7700ed4e7f2c280"
            }
          },
          "metadata": {}
        },
        {
          "output_type": "stream",
          "name": "stdout",
          "text": [
            "Validation: \tlogit_accuracy: 0.5312\tfactor_accuracy: 0.8219\n"
          ]
        },
        {
          "output_type": "display_data",
          "data": {
            "text/plain": [
              "IntProgress(value=0, max=469)"
            ],
            "application/vnd.jupyter.widget-view+json": {
              "version_major": 2,
              "version_minor": 0,
              "model_id": "796e7d548a694a47ab81dcabcafc4a68"
            }
          },
          "metadata": {}
        },
        {
          "output_type": "display_data",
          "data": {
            "text/plain": [
              "HTMLMath(value='\\tlogit_accuracy: 0.0000\\tfactor_accuracy: 0.0000', description='Epoch 2/5 (train) --', placeh…"
            ],
            "application/vnd.jupyter.widget-view+json": {
              "version_major": 2,
              "version_minor": 0,
              "model_id": "00af8bd06abb4e76bfb8ddc9fc0edec1"
            }
          },
          "metadata": {}
        },
        {
          "output_type": "stream",
          "name": "stdout",
          "text": [
            "Validation: \tlogit_accuracy: 0.5264\tfactor_accuracy: 0.8715\n"
          ]
        },
        {
          "output_type": "display_data",
          "data": {
            "text/plain": [
              "IntProgress(value=0, max=469)"
            ],
            "application/vnd.jupyter.widget-view+json": {
              "version_major": 2,
              "version_minor": 0,
              "model_id": "aad3638df76241daadf4dc678aa54510"
            }
          },
          "metadata": {}
        },
        {
          "output_type": "display_data",
          "data": {
            "text/plain": [
              "HTMLMath(value='\\tlogit_accuracy: 0.0000\\tfactor_accuracy: 0.0000', description='Epoch 3/5 (train) --', placeh…"
            ],
            "application/vnd.jupyter.widget-view+json": {
              "version_major": 2,
              "version_minor": 0,
              "model_id": "bf17ea9ab41046888b07a174ad5b497d"
            }
          },
          "metadata": {}
        },
        {
          "output_type": "stream",
          "name": "stdout",
          "text": [
            "Validation: \tlogit_accuracy: 0.5150\tfactor_accuracy: 0.8807\n"
          ]
        },
        {
          "output_type": "display_data",
          "data": {
            "text/plain": [
              "IntProgress(value=0, max=469)"
            ],
            "application/vnd.jupyter.widget-view+json": {
              "version_major": 2,
              "version_minor": 0,
              "model_id": "ac076043c2d04c1d9148fcdbb2344031"
            }
          },
          "metadata": {}
        },
        {
          "output_type": "display_data",
          "data": {
            "text/plain": [
              "HTMLMath(value='\\tlogit_accuracy: 0.0000\\tfactor_accuracy: 0.0000', description='Epoch 4/5 (train) --', placeh…"
            ],
            "application/vnd.jupyter.widget-view+json": {
              "version_major": 2,
              "version_minor": 0,
              "model_id": "efdf295df54842a8820f15b554ad32c5"
            }
          },
          "metadata": {}
        },
        {
          "output_type": "stream",
          "name": "stdout",
          "text": [
            "Validation: \tlogit_accuracy: 0.5145\tfactor_accuracy: 0.8860\n"
          ]
        },
        {
          "output_type": "display_data",
          "data": {
            "text/plain": [
              "IntProgress(value=0, max=469)"
            ],
            "application/vnd.jupyter.widget-view+json": {
              "version_major": 2,
              "version_minor": 0,
              "model_id": "58839a3263224b7cbacccd0562a90d25"
            }
          },
          "metadata": {}
        },
        {
          "output_type": "display_data",
          "data": {
            "text/plain": [
              "HTMLMath(value='\\tlogit_accuracy: 0.0000\\tfactor_accuracy: 0.0000', description='Epoch 5/5 (train) --', placeh…"
            ],
            "application/vnd.jupyter.widget-view+json": {
              "version_major": 2,
              "version_minor": 0,
              "model_id": "76b00289a3d74b4da8b4b428ebd915c7"
            }
          },
          "metadata": {}
        },
        {
          "output_type": "stream",
          "name": "stdout",
          "text": [
            "Validation: \tlogit_accuracy: 0.5347\tfactor_accuracy: 0.9008\n"
          ]
        }
      ]
    },
    {
      "cell_type": "code",
      "source": [
        "# logits = tf.convert_to_tensor([\n",
        "#     list(range(10)),  # odd, even\n",
        "#     [-i for i in range(10)],  # even, odd\n",
        "#     [0, 100, 0, 99, 0, 98, 0, 97, 0, 96],  # odd, odd\n",
        "#     [100, 0, 99, 0, 98, 0, 97, 0, 96, 0],  # even, even\n",
        "# ], dtype=tf.float32)\n",
        "# # test 1\n",
        "# expected_new_labels = tf.convert_to_tensor([8, 0, 3, 0], dtype=tf.int32)\n",
        "# expected_miss_mask = tf.convert_to_tensor([False, False, True, False])\n",
        "# expected_diff_mask = tf.convert_to_tensor([True, False, False, False])\n",
        "# actual_new_labels, actual_miss_mask, actual_diff_mask =greedy_lblprop(\n",
        "#     pp, logits, tf.convert_to_tensor([0, 0, 0, 0], dtype=tf.int32), _logits=True,\n",
        "# )\n",
        "# assert all(expected_new_labels == actual_new_labels)\n",
        "# assert all(expected_miss_mask == actual_miss_mask)\n",
        "# assert all(expected_diff_mask == actual_diff_mask)\n",
        "# # test 2\n",
        "# expected_new_labels = tf.convert_to_tensor([9, 1, 1, 2], dtype=tf.int32)\n",
        "# expected_miss_mask = tf.convert_to_tensor([False, False, False, True])\n",
        "# expected_diff_mask = tf.convert_to_tensor([False, True, False, False])\n",
        "# actual_new_labels, actual_miss_mask, actual_diff_mask =greedy_lblprop(\n",
        "#     pp, logits, tf.convert_to_tensor([1, 1, 1, 1], dtype=tf.int32), _logits=True,\n",
        "# )\n",
        "# assert all(expected_new_labels == actual_new_labels)\n",
        "# assert all(expected_miss_mask == actual_miss_mask)\n",
        "# assert all(expected_diff_mask == actual_diff_mask)\n"
      ],
      "metadata": {
        "id": "_lpVPqMvnOVD"
      },
      "execution_count": 12,
      "outputs": []
    },
    {
      "cell_type": "code",
      "source": [],
      "metadata": {
        "id": "yB5Pf-lLwXnq"
      },
      "execution_count": 12,
      "outputs": []
    },
    {
      "cell_type": "code",
      "source": [],
      "metadata": {
        "id": "xR4NcWDtRawP"
      },
      "execution_count": 12,
      "outputs": []
    }
  ]
}