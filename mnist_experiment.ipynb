{
  "nbformat": 4,
  "nbformat_minor": 0,
  "metadata": {
    "colab": {
      "provenance": [],
      "authorship_tag": "ABX9TyNF/L/2Qjla39Kjwq1l3PVP",
      "include_colab_link": true
    },
    "kernelspec": {
      "name": "python3",
      "display_name": "Python 3"
    },
    "language_info": {
      "name": "python"
    }
  },
  "cells": [
    {
      "cell_type": "markdown",
      "metadata": {
        "id": "view-in-github",
        "colab_type": "text"
      },
      "source": [
        "<a href=\"https://colab.research.google.com/github/archqua/pipeline_training/blob/master/mnist_experiment.ipynb\" target=\"_parent\"><img src=\"https://colab.research.google.com/assets/colab-badge.svg\" alt=\"Open In Colab\"/></a>"
      ]
    },
    {
      "cell_type": "code",
      "source": [
        "parameters = dict(\n",
        "    seed  = 12309,\n",
        "    batch = 32,\n",
        "    metrics = [\"accuracy\",],\n",
        "    drift = \"flip\",\n",
        "    alg = \"greedy\",\n",
        ")\n",
        "for p in parameters:\n",
        "    if p not in locals():\n",
        "        v = parameters[p]\n",
        "        if isinstance(v, str):\n",
        "            exec(f\"{p} = '{v}'\")\n",
        "        else:\n",
        "            exec(f\"{p} = {v}\")\n"
      ],
      "metadata": {
        "id": "5gUZQMp_P7QE"
      },
      "execution_count": null,
      "outputs": []
    },
    {
      "cell_type": "code",
      "execution_count": null,
      "metadata": {
        "id": "qorioEycH-oF"
      },
      "outputs": [],
      "source": [
        "import tensorflow as tf\n",
        "from tensorflow.keras import datasets, layers, models\n",
        "\n",
        "tf.random.set_seed(seed)\n"
      ]
    },
    {
      "cell_type": "code",
      "source": [
        "def rotaug(img, lbl):\n",
        "    return tf.image.random_flip_left_right(img), lbl\n",
        "\n",
        "\n",
        "def drifted(dataset, seed=seed, drift=drift):\n",
        "    drift = drift.lower()\n",
        "    if drift == \"flip\":\n",
        "        return dataset.map(rotaug)\n",
        "    else:\n",
        "        raise ValueError(f\"Drift {drift} is unknown\")\n"
      ],
      "metadata": {
        "id": "y1-z_Du2YLW9"
      },
      "execution_count": null,
      "outputs": []
    },
    {
      "cell_type": "code",
      "source": [
        "class Pipeline(tf.keras.Model):\n",
        "    def __init__(self, base=2):\n",
        "        super().__init__()\n",
        "        self.cnn = models.Sequential([\n",
        "            layers.Conv2D(2, (5, 5), activation='relu', input_shape=(28, 28, 1), name=\"conv1\"),\n",
        "            layers.MaxPooling2D((2, 2), name=\"pool1\"),\n",
        "            layers.Conv2D(4, (5, 5), activation='relu', input_shape=(12, 12, 4), name=\"conv2\"),\n",
        "            layers.MaxPooling2D((2, 2), name=\"pool2\"),\n",
        "            layers.Conv2D(10, (4, 4), activation='relu', input_shape=(4, 4, 8), name=\"conv3\"),\n",
        "            layers.Flatten(name=\"flatten\"),\n",
        "            layers.Dense(10, input_shape=(16,), name=\"fc\"),\n",
        "        ], name=\"CNN\")\n",
        "        self.base = base\n",
        "\n",
        "    def call(self, *args, **kwargs):\n",
        "        return self.cnn(*args, **kwargs)\n",
        "    # def forward(self, *args, **kwargs):\n",
        "    #     return self.cnn.forward(*args, **kwargs)\n",
        "\n",
        "    def factor(self, logits):\n",
        "        return tf.argmax(logits, axis=-1, output_type=tf.int32) % self.base\n",
        "\n",
        "    def refactor(self, logits, miss_mask, ninf=-999999):\n",
        "        am = tf.argmax(logits, axis=-1, output_type=tf.int32)\n",
        "        mask = am[:, tf.newaxis] == tf.range(logits.shape[-1], dtype=tf.int32)[tf.newaxis, :]\n",
        "        mask &= miss_mask[:, tf.newaxis]\n",
        "        logits = tf.where(mask, ninf, logits)\n",
        "        return self.factor(logits), logits\n",
        "\n",
        "pp = Pipeline()\n",
        "pp.summary()"
      ],
      "metadata": {
        "colab": {
          "base_uri": "https://localhost:8080/",
          "height": 250
        },
        "id": "oK9qdgVSLLLK",
        "outputId": "17c2d718-7c04-4433-be70-3604765bae7d"
      },
      "execution_count": null,
      "outputs": [
        {
          "output_type": "stream",
          "name": "stderr",
          "text": [
            "/usr/local/lib/python3.10/dist-packages/keras/src/layers/convolutional/base_conv.py:107: UserWarning: Do not pass an `input_shape`/`input_dim` argument to a layer. When using Sequential models, prefer using an `Input(shape)` object as the first layer in the model instead.\n",
            "  super().__init__(activity_regularizer=activity_regularizer, **kwargs)\n",
            "/usr/local/lib/python3.10/dist-packages/keras/src/layers/core/dense.py:87: UserWarning: Do not pass an `input_shape`/`input_dim` argument to a layer. When using Sequential models, prefer using an `Input(shape)` object as the first layer in the model instead.\n",
            "  super().__init__(activity_regularizer=activity_regularizer, **kwargs)\n"
          ]
        },
        {
          "output_type": "display_data",
          "data": {
            "text/plain": [
              "\u001b[1mModel: \"pipeline\"\u001b[0m\n"
            ],
            "text/html": [
              "<pre style=\"white-space:pre;overflow-x:auto;line-height:normal;font-family:Menlo,'DejaVu Sans Mono',consolas,'Courier New',monospace\"><span style=\"font-weight: bold\">Model: \"pipeline\"</span>\n",
              "</pre>\n"
            ]
          },
          "metadata": {}
        },
        {
          "output_type": "display_data",
          "data": {
            "text/plain": [
              "┏━━━━━━━━━━━━━━━━━━━━━━━━━━━━━━━━━━━━━━┳━━━━━━━━━━━━━━━━━━━━━━━━━━━━━┳━━━━━━━━━━━━━━━━━┓\n",
              "┃\u001b[1m \u001b[0m\u001b[1mLayer (type)                        \u001b[0m\u001b[1m \u001b[0m┃\u001b[1m \u001b[0m\u001b[1mOutput Shape               \u001b[0m\u001b[1m \u001b[0m┃\u001b[1m \u001b[0m\u001b[1m        Param #\u001b[0m\u001b[1m \u001b[0m┃\n",
              "┡━━━━━━━━━━━━━━━━━━━━━━━━━━━━━━━━━━━━━━╇━━━━━━━━━━━━━━━━━━━━━━━━━━━━━╇━━━━━━━━━━━━━━━━━┩\n",
              "│ CNN (\u001b[38;5;33mSequential\u001b[0m)                     │ (\u001b[38;5;45mNone\u001b[0m, \u001b[38;5;34m10\u001b[0m)                  │           \u001b[38;5;34m1,016\u001b[0m │\n",
              "└──────────────────────────────────────┴─────────────────────────────┴─────────────────┘\n"
            ],
            "text/html": [
              "<pre style=\"white-space:pre;overflow-x:auto;line-height:normal;font-family:Menlo,'DejaVu Sans Mono',consolas,'Courier New',monospace\">┏━━━━━━━━━━━━━━━━━━━━━━━━━━━━━━━━━━━━━━┳━━━━━━━━━━━━━━━━━━━━━━━━━━━━━┳━━━━━━━━━━━━━━━━━┓\n",
              "┃<span style=\"font-weight: bold\"> Layer (type)                         </span>┃<span style=\"font-weight: bold\"> Output Shape                </span>┃<span style=\"font-weight: bold\">         Param # </span>┃\n",
              "┡━━━━━━━━━━━━━━━━━━━━━━━━━━━━━━━━━━━━━━╇━━━━━━━━━━━━━━━━━━━━━━━━━━━━━╇━━━━━━━━━━━━━━━━━┩\n",
              "│ CNN (<span style=\"color: #0087ff; text-decoration-color: #0087ff\">Sequential</span>)                     │ (<span style=\"color: #00d7ff; text-decoration-color: #00d7ff\">None</span>, <span style=\"color: #00af00; text-decoration-color: #00af00\">10</span>)                  │           <span style=\"color: #00af00; text-decoration-color: #00af00\">1,016</span> │\n",
              "└──────────────────────────────────────┴─────────────────────────────┴─────────────────┘\n",
              "</pre>\n"
            ]
          },
          "metadata": {}
        },
        {
          "output_type": "display_data",
          "data": {
            "text/plain": [
              "\u001b[1m Total params: \u001b[0m\u001b[38;5;34m1,016\u001b[0m (3.97 KB)\n"
            ],
            "text/html": [
              "<pre style=\"white-space:pre;overflow-x:auto;line-height:normal;font-family:Menlo,'DejaVu Sans Mono',consolas,'Courier New',monospace\"><span style=\"font-weight: bold\"> Total params: </span><span style=\"color: #00af00; text-decoration-color: #00af00\">1,016</span> (3.97 KB)\n",
              "</pre>\n"
            ]
          },
          "metadata": {}
        },
        {
          "output_type": "display_data",
          "data": {
            "text/plain": [
              "\u001b[1m Trainable params: \u001b[0m\u001b[38;5;34m1,016\u001b[0m (3.97 KB)\n"
            ],
            "text/html": [
              "<pre style=\"white-space:pre;overflow-x:auto;line-height:normal;font-family:Menlo,'DejaVu Sans Mono',consolas,'Courier New',monospace\"><span style=\"font-weight: bold\"> Trainable params: </span><span style=\"color: #00af00; text-decoration-color: #00af00\">1,016</span> (3.97 KB)\n",
              "</pre>\n"
            ]
          },
          "metadata": {}
        },
        {
          "output_type": "display_data",
          "data": {
            "text/plain": [
              "\u001b[1m Non-trainable params: \u001b[0m\u001b[38;5;34m0\u001b[0m (0.00 B)\n"
            ],
            "text/html": [
              "<pre style=\"white-space:pre;overflow-x:auto;line-height:normal;font-family:Menlo,'DejaVu Sans Mono',consolas,'Courier New',monospace\"><span style=\"font-weight: bold\"> Non-trainable params: </span><span style=\"color: #00af00; text-decoration-color: #00af00\">0</span> (0.00 B)\n",
              "</pre>\n"
            ]
          },
          "metadata": {}
        }
      ]
    },
    {
      "cell_type": "code",
      "source": [
        "mnist = datasets.mnist\n",
        "\n",
        "Xy_train, Xy_val = mnist.load_data()\n",
        "def mapimg(img, label):\n",
        "    return tf.image.convert_image_dtype(img, dtype=tf.float32), label\n",
        "\n",
        "train_ref = (\n",
        "    tf.data.Dataset.from_tensor_slices(Xy_train)\n",
        "    .shuffle(Xy_train[0].shape[0])\n",
        "    .batch(batch)\n",
        "    .map(mapimg)\n",
        ")\n",
        "val_ref = (\n",
        "    tf.data.Dataset.from_tensor_slices(Xy_val)\n",
        "    .shuffle(Xy_val[0].shape[0])\n",
        "    .batch(batch)\n",
        "    .map(mapimg)\n",
        ")"
      ],
      "metadata": {
        "id": "bzjg9ijuIWGs"
      },
      "execution_count": null,
      "outputs": []
    },
    {
      "cell_type": "code",
      "source": [
        "pp.compile(\n",
        "    optimizer='adam',\n",
        "    loss=tf.keras.losses.SparseCategoricalCrossentropy(from_logits=True),\n",
        "    metrics=metrics,\n",
        ")\n",
        "\n",
        "history = pp.fit(\n",
        "    train_ref, epochs=1,\n",
        "    validation_data=val_ref,\n",
        ")\n"
      ],
      "metadata": {
        "colab": {
          "base_uri": "https://localhost:8080/"
        },
        "id": "m-VGzKtTI01S",
        "outputId": "33021073-29f7-42b0-dfe6-55e3cba0dd09"
      },
      "execution_count": null,
      "outputs": [
        {
          "output_type": "stream",
          "name": "stdout",
          "text": [
            "\u001b[1m1875/1875\u001b[0m \u001b[32m━━━━━━━━━━━━━━━━━━━━\u001b[0m\u001b[37m\u001b[0m \u001b[1m35s\u001b[0m 17ms/step - accuracy: 0.6873 - loss: 0.9363 - val_accuracy: 0.9250 - val_loss: 0.2463\n"
          ]
        }
      ]
    },
    {
      "cell_type": "code",
      "source": [
        "evkeys = [\"loss\"] + metrics\n",
        "evvals = pp.evaluate(val_ref)\n",
        "for k, v in zip(evkeys, evvals):\n",
        "    print(f\"{k}:\\t{v:.2f}\")"
      ],
      "metadata": {
        "colab": {
          "base_uri": "https://localhost:8080/"
        },
        "id": "FRcgiixZK814",
        "outputId": "8dc52a50-b267-42f0-f291-70269e71269a"
      },
      "execution_count": null,
      "outputs": [
        {
          "output_type": "stream",
          "name": "stdout",
          "text": [
            "\u001b[1m313/313\u001b[0m \u001b[32m━━━━━━━━━━━━━━━━━━━━\u001b[0m\u001b[37m\u001b[0m \u001b[1m2s\u001b[0m 5ms/step - accuracy: 0.9230 - loss: 0.2445\n",
            "loss:\t0.25\n",
            "accuracy:\t0.93\n"
          ]
        }
      ]
    },
    {
      "cell_type": "code",
      "source": [
        "train_drifted = drifted(train_ref)\n",
        "val_drifted = drifted(val_ref)\n"
      ],
      "metadata": {
        "id": "SC1gQrWRLGY0"
      },
      "execution_count": null,
      "outputs": []
    },
    {
      "cell_type": "code",
      "source": [
        "evvals = pp.evaluate(val_drifted)\n",
        "for k, v in zip(evkeys, evvals):\n",
        "    print(f\"{k}:\\t{v:.2f}\")"
      ],
      "metadata": {
        "colab": {
          "base_uri": "https://localhost:8080/"
        },
        "id": "Z_E6N80ebBCX",
        "outputId": "49ae6a00-c9b9-49de-ab73-dcac487cc83e"
      },
      "execution_count": null,
      "outputs": [
        {
          "output_type": "stream",
          "name": "stdout",
          "text": [
            "\u001b[1m313/313\u001b[0m \u001b[32m━━━━━━━━━━━━━━━━━━━━\u001b[0m\u001b[37m\u001b[0m \u001b[1m3s\u001b[0m 9ms/step - accuracy: 0.6250 - loss: 2.2281\n",
            "loss:\t2.21\n",
            "accuracy:\t0.63\n"
          ]
        }
      ]
    },
    {
      "cell_type": "code",
      "source": [
        "def greedy_lblprop(model, X, trg, depth=2, _logits=False):\n",
        "    assert depth > 1, f\"for greedy label propagation specify depth > 1, not {depth}\"\n",
        "    if _logits:\n",
        "        logits = X\n",
        "    else:\n",
        "        logits = model(X)\n",
        "    guess = model.factor(logits)\n",
        "    first_miss_mask = guess != trg\n",
        "    miss_mask = first_miss_mask\n",
        "    # this implementation is suboptimal\n",
        "    # because it recomputes good values\n",
        "    for d in range(depth-1):\n",
        "        guess, logits = model.refactor(logits, miss_mask)\n",
        "        miss_mask = guess != trg\n",
        "    diff_mask = first_miss_mask ^ miss_mask\n",
        "    # we could smooth over miss_mask, not simply argmax\n",
        "    return tf.argmax(logits, axis=-1, output_type=tf.int32), miss_mask, diff_mask\n"
      ],
      "metadata": {
        "id": "mozE9TpTcTww"
      },
      "execution_count": null,
      "outputs": []
    },
    {
      "cell_type": "code",
      "source": [
        "logits = tf.convert_to_tensor([\n",
        "    list(range(10)),  # odd, even\n",
        "    [-i for i in range(10)],  # even, odd\n",
        "    [0, 100, 0, 99, 0, 98, 0, 97, 0, 96],  # odd, odd\n",
        "    [100, 0, 99, 0, 98, 0, 97, 0, 96, 0],  # even, even\n",
        "], dtype=tf.float32)\n",
        "# test 1\n",
        "expected_new_labels = tf.convert_to_tensor([8, 0, 3, 0], dtype=tf.int32)\n",
        "expected_miss_mask = tf.convert_to_tensor([False, False, True, False])\n",
        "expected_diff_mask = tf.convert_to_tensor([True, False, False, False])\n",
        "actual_new_labels, actual_miss_mask, actual_diff_mask =greedy_lblprop(\n",
        "    pp, logits, tf.convert_to_tensor([0, 0, 0, 0], dtype=tf.int32), _logits=True,\n",
        ")\n",
        "assert all(expected_new_labels == actual_new_labels)\n",
        "assert all(expected_miss_mask == actual_miss_mask)\n",
        "assert all(expected_diff_mask == actual_diff_mask)\n",
        "# test 2\n",
        "expected_new_labels = tf.convert_to_tensor([9, 1, 1, 2], dtype=tf.int32)\n",
        "expected_miss_mask = tf.convert_to_tensor([False, False, False, True])\n",
        "expected_diff_mask = tf.convert_to_tensor([False, True, False, False])\n",
        "actual_new_labels, actual_miss_mask, actual_diff_mask =greedy_lblprop(\n",
        "    pp, logits, tf.convert_to_tensor([1, 1, 1, 1], dtype=tf.int32), _logits=True,\n",
        ")\n",
        "assert all(expected_new_labels == actual_new_labels)\n",
        "assert all(expected_miss_mask == actual_miss_mask)\n",
        "assert all(expected_diff_mask == actual_diff_mask)\n"
      ],
      "metadata": {
        "id": "_lpVPqMvnOVD"
      },
      "execution_count": null,
      "outputs": []
    },
    {
      "cell_type": "code",
      "source": [],
      "metadata": {
        "id": "yB5Pf-lLwXnq"
      },
      "execution_count": null,
      "outputs": []
    }
  ]
}